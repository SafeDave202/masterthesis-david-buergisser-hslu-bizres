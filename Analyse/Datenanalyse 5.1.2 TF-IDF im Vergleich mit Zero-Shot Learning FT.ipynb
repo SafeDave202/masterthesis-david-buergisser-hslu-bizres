{
 "cells": [
  {
   "cell_type": "markdown",
   "metadata": {},
   "source": [
    "# Data Combiner\n",
    "\n",
    "Here we try to bring together all the data into one clean dataframe"
   ]
  },
  {
   "cell_type": "code",
   "execution_count": 2,
   "metadata": {},
   "outputs": [],
   "source": [
    "# !pip install pandas_profiling\n",
    "# !pip install ipywidgets"
   ]
  },
  {
   "cell_type": "code",
   "execution_count": 3,
   "metadata": {},
   "outputs": [],
   "source": [
    "import pandas as pd\n",
    "import os\n",
    "import plotly.express as px\n",
    "import numpy as np"
   ]
  },
  {
   "cell_type": "code",
   "execution_count": 4,
   "metadata": {},
   "outputs": [],
   "source": [
    "from pandas_profiling import ProfileReport\n",
    "from statistics import mean\n",
    "from scipy.stats import f_oneway\n"
   ]
  },
  {
   "cell_type": "code",
   "execution_count": 5,
   "metadata": {},
   "outputs": [],
   "source": [
    "result = pd.read_csv(r\"G:\\Meine Ablage\\HSLU\\Master\\Master Thesis\\Coding Area\\Data\\result.csv\", index_col=0)\n",
    "result_normal = result[result[\"Report Type\"]==\"Normal Report\"]"
   ]
  },
  {
   "attachments": {},
   "cell_type": "markdown",
   "metadata": {},
   "source": [
    "### 5.1.1\tTF-IDF im Vergleich mit Zero-Shot Learning Fulltext"
   ]
  },
  {
   "cell_type": "code",
   "execution_count": 6,
   "metadata": {},
   "outputs": [
    {
     "data": {
      "text/html": [
       "<div>\n",
       "<style scoped>\n",
       "    .dataframe tbody tr th:only-of-type {\n",
       "        vertical-align: middle;\n",
       "    }\n",
       "\n",
       "    .dataframe tbody tr th {\n",
       "        vertical-align: top;\n",
       "    }\n",
       "\n",
       "    .dataframe thead th {\n",
       "        text-align: right;\n",
       "    }\n",
       "</style>\n",
       "<table border=\"1\" class=\"dataframe\">\n",
       "  <thead>\n",
       "    <tr style=\"text-align: right;\">\n",
       "      <th></th>\n",
       "      <th>Company</th>\n",
       "      <th>TF-IDF</th>\n",
       "      <th>Top N Words</th>\n",
       "      <th>Label</th>\n",
       "      <th>Report Type</th>\n",
       "    </tr>\n",
       "  </thead>\n",
       "  <tbody>\n",
       "    <tr>\n",
       "      <th>0</th>\n",
       "      <td>child_cocoa_school</td>\n",
       "      <td>[('child', 0.3676919823097556), ('report', 0.2...</td>\n",
       "      <td>[('child', 391), ('cocoa', 146), ('school', 14...</td>\n",
       "      <td>sustainability</td>\n",
       "      <td>Normal Report</td>\n",
       "    </tr>\n",
       "    <tr>\n",
       "      <th>1</th>\n",
       "      <td>child_cocoa_school</td>\n",
       "      <td>[('child', 0.3676919823097556), ('report', 0.2...</td>\n",
       "      <td>[('child', 391), ('cocoa', 146), ('school', 14...</td>\n",
       "      <td>human rights</td>\n",
       "      <td>Normal Report</td>\n",
       "    </tr>\n",
       "    <tr>\n",
       "      <th>2</th>\n",
       "      <td>child_cocoa_school</td>\n",
       "      <td>[('child', 0.3676919823097556), ('report', 0.2...</td>\n",
       "      <td>[('child', 391), ('cocoa', 146), ('school', 14...</td>\n",
       "      <td>fraud</td>\n",
       "      <td>Normal Report</td>\n",
       "    </tr>\n",
       "    <tr>\n",
       "      <th>3</th>\n",
       "      <td>child_cocoa_school</td>\n",
       "      <td>[('child', 0.3676919823097556), ('report', 0.2...</td>\n",
       "      <td>[('child', 391), ('cocoa', 146), ('school', 14...</td>\n",
       "      <td>social issues</td>\n",
       "      <td>Normal Report</td>\n",
       "    </tr>\n",
       "    <tr>\n",
       "      <th>4</th>\n",
       "      <td>child_cocoa_school</td>\n",
       "      <td>[('child', 0.3676919823097556), ('report', 0.2...</td>\n",
       "      <td>[('child', 391), ('cocoa', 146), ('school', 14...</td>\n",
       "      <td>labour law</td>\n",
       "      <td>Normal Report</td>\n",
       "    </tr>\n",
       "  </tbody>\n",
       "</table>\n",
       "</div>"
      ],
      "text/plain": [
       "              Company                                             TF-IDF  \\\n",
       "0  child_cocoa_school  [('child', 0.3676919823097556), ('report', 0.2...   \n",
       "1  child_cocoa_school  [('child', 0.3676919823097556), ('report', 0.2...   \n",
       "2  child_cocoa_school  [('child', 0.3676919823097556), ('report', 0.2...   \n",
       "3  child_cocoa_school  [('child', 0.3676919823097556), ('report', 0.2...   \n",
       "4  child_cocoa_school  [('child', 0.3676919823097556), ('report', 0.2...   \n",
       "\n",
       "                                         Top N Words           Label  \\\n",
       "0  [('child', 391), ('cocoa', 146), ('school', 14...  sustainability   \n",
       "1  [('child', 391), ('cocoa', 146), ('school', 14...    human rights   \n",
       "2  [('child', 391), ('cocoa', 146), ('school', 14...           fraud   \n",
       "3  [('child', 391), ('cocoa', 146), ('school', 14...   social issues   \n",
       "4  [('child', 391), ('cocoa', 146), ('school', 14...      labour law   \n",
       "\n",
       "     Report Type  \n",
       "0  Normal Report  \n",
       "1  Normal Report  \n",
       "2  Normal Report  \n",
       "3  Normal Report  \n",
       "4  Normal Report  "
      ]
     },
     "execution_count": 6,
     "metadata": {},
     "output_type": "execute_result"
    }
   ],
   "source": [
    "tf_idf_sustainability_result = result[[\"Company\", \"TF-IDF\", \"Top N Words\", \"Label\", \"Report Type\"]]\n",
    "tf_idf_sustainability_sust = tf_idf_sustainability_result[tf_idf_sustainability_result[\"Label\"]==\"sustainability\"]\n",
    "tf_idf_sustainability_sust = tf_idf_sustainability_result[tf_idf_sustainability_result[\"Report Type\"]==\"Normal Report\"]\n",
    "\n",
    "tf_idf_sustainability_sust.head()\n"
   ]
  },
  {
   "cell_type": "code",
   "execution_count": 7,
   "metadata": {},
   "outputs": [
    {
     "data": {
      "text/html": [
       "<div>\n",
       "<style scoped>\n",
       "    .dataframe tbody tr th:only-of-type {\n",
       "        vertical-align: middle;\n",
       "    }\n",
       "\n",
       "    .dataframe tbody tr th {\n",
       "        vertical-align: top;\n",
       "    }\n",
       "\n",
       "    .dataframe thead th {\n",
       "        text-align: right;\n",
       "    }\n",
       "</style>\n",
       "<table border=\"1\" class=\"dataframe\">\n",
       "  <thead>\n",
       "    <tr style=\"text-align: right;\">\n",
       "      <th></th>\n",
       "      <th>Company</th>\n",
       "      <th>Label</th>\n",
       "      <th>Fulltext Cosine Similarity Wiki Summary</th>\n",
       "      <th>Fulltext Cosine Similarity Human Rights</th>\n",
       "      <th>Zero Shot Fulltext</th>\n",
       "      <th>PDF Name</th>\n",
       "      <th>TF-IDF</th>\n",
       "      <th>Top N Words</th>\n",
       "      <th>Report Type</th>\n",
       "      <th>Sentence Cosine Similarity Wiki Summarized</th>\n",
       "      <th>Sentence Cosine Similarity Wiki Summarized Mean</th>\n",
       "      <th>Sentence Cosine Similarity Wiki Summarized Mean Threshold 0</th>\n",
       "      <th>Sentence by Sentence Cosine Similarity human rights</th>\n",
       "      <th>Sentence by Sentence Cosine Similarity human rights mean</th>\n",
       "      <th>Sentence by Sentence Cosine Similarity human rights Mean Threshold 0</th>\n",
       "      <th>Zero Shot Learning Sentence Raw</th>\n",
       "      <th>Classified Text</th>\n",
       "      <th>Zero Shot Learning Sentence Mean</th>\n",
       "      <th>Zero Shot Learning Sentence Mean Threshold</th>\n",
       "    </tr>\n",
       "  </thead>\n",
       "  <tbody>\n",
       "    <tr>\n",
       "      <th>0</th>\n",
       "      <td>child_cocoa_school</td>\n",
       "      <td>sustainability</td>\n",
       "      <td>0.54579</td>\n",
       "      <td>0.54579</td>\n",
       "      <td>0.242261</td>\n",
       "      <td>nestle-tackling-child-labor-report-2019-en</td>\n",
       "      <td>[('child', 0.3676919823097556), ('report', 0.2...</td>\n",
       "      <td>[('child', 391), ('cocoa', 146), ('school', 14...</td>\n",
       "      <td>Normal Report</td>\n",
       "      <td>[tensor([[0.0519]]), tensor([[0.0648]]), tenso...</td>\n",
       "      <td>0.065</td>\n",
       "      <td>0.110</td>\n",
       "      <td>[tensor([[0.0519]]), tensor([[0.0648]]), tenso...</td>\n",
       "      <td>0.065</td>\n",
       "      <td>0.110</td>\n",
       "      <td>[0.7845346331596375, 0.8715912103652954, 0.683...</td>\n",
       "      <td>['Tackling Child Labor Report Continuing our c...</td>\n",
       "      <td>0.501</td>\n",
       "      <td>0.501</td>\n",
       "    </tr>\n",
       "    <tr>\n",
       "      <th>5</th>\n",
       "      <td>feed_cargill_nutrition</td>\n",
       "      <td>sustainability</td>\n",
       "      <td>0.61154</td>\n",
       "      <td>0.61154</td>\n",
       "      <td>0.275510</td>\n",
       "      <td>cargill-aqua-nutrition-sustainability-report</td>\n",
       "      <td>[('sustainable', 0.32667451009307846), ('healt...</td>\n",
       "      <td>[('feed', 245), ('cargill', 212), ('nutrition'...</td>\n",
       "      <td>Normal Report</td>\n",
       "      <td>[tensor([[0.2215]]), tensor([[0.2944]]), tenso...</td>\n",
       "      <td>0.162</td>\n",
       "      <td>0.182</td>\n",
       "      <td>[tensor([[0.2215]]), tensor([[0.2944]]), tenso...</td>\n",
       "      <td>0.162</td>\n",
       "      <td>0.182</td>\n",
       "      <td>[0.9700250029563904, 0.9714118838310242, 0.795...</td>\n",
       "      <td>['Cargill Aqua Nutrition Sustainability Report...</td>\n",
       "      <td>0.655</td>\n",
       "      <td>0.655</td>\n",
       "    </tr>\n",
       "  </tbody>\n",
       "</table>\n",
       "</div>"
      ],
      "text/plain": [
       "                  Company           Label  \\\n",
       "0      child_cocoa_school  sustainability   \n",
       "5  feed_cargill_nutrition  sustainability   \n",
       "\n",
       "   Fulltext Cosine Similarity Wiki Summary  \\\n",
       "0                                  0.54579   \n",
       "5                                  0.61154   \n",
       "\n",
       "   Fulltext Cosine Similarity Human Rights  Zero Shot Fulltext  \\\n",
       "0                                  0.54579            0.242261   \n",
       "5                                  0.61154            0.275510   \n",
       "\n",
       "                                       PDF Name  \\\n",
       "0    nestle-tackling-child-labor-report-2019-en   \n",
       "5  cargill-aqua-nutrition-sustainability-report   \n",
       "\n",
       "                                              TF-IDF  \\\n",
       "0  [('child', 0.3676919823097556), ('report', 0.2...   \n",
       "5  [('sustainable', 0.32667451009307846), ('healt...   \n",
       "\n",
       "                                         Top N Words    Report Type  \\\n",
       "0  [('child', 391), ('cocoa', 146), ('school', 14...  Normal Report   \n",
       "5  [('feed', 245), ('cargill', 212), ('nutrition'...  Normal Report   \n",
       "\n",
       "          Sentence Cosine Similarity Wiki Summarized  \\\n",
       "0  [tensor([[0.0519]]), tensor([[0.0648]]), tenso...   \n",
       "5  [tensor([[0.2215]]), tensor([[0.2944]]), tenso...   \n",
       "\n",
       "   Sentence Cosine Similarity Wiki Summarized Mean  \\\n",
       "0                                            0.065   \n",
       "5                                            0.162   \n",
       "\n",
       "   Sentence Cosine Similarity Wiki Summarized Mean Threshold 0  \\\n",
       "0                                              0.110             \n",
       "5                                              0.182             \n",
       "\n",
       "  Sentence by Sentence Cosine Similarity human rights  \\\n",
       "0  [tensor([[0.0519]]), tensor([[0.0648]]), tenso...    \n",
       "5  [tensor([[0.2215]]), tensor([[0.2944]]), tenso...    \n",
       "\n",
       "   Sentence by Sentence Cosine Similarity human rights mean  \\\n",
       "0                                              0.065          \n",
       "5                                              0.162          \n",
       "\n",
       "   Sentence by Sentence Cosine Similarity human rights Mean Threshold 0  \\\n",
       "0                                              0.110                      \n",
       "5                                              0.182                      \n",
       "\n",
       "                     Zero Shot Learning Sentence Raw  \\\n",
       "0  [0.7845346331596375, 0.8715912103652954, 0.683...   \n",
       "5  [0.9700250029563904, 0.9714118838310242, 0.795...   \n",
       "\n",
       "                                     Classified Text  \\\n",
       "0  ['Tackling Child Labor Report Continuing our c...   \n",
       "5  ['Cargill Aqua Nutrition Sustainability Report...   \n",
       "\n",
       "   Zero Shot Learning Sentence Mean  \\\n",
       "0                             0.501   \n",
       "5                             0.655   \n",
       "\n",
       "   Zero Shot Learning Sentence Mean Threshold  \n",
       "0                                       0.501  \n",
       "5                                       0.655  "
      ]
     },
     "execution_count": 7,
     "metadata": {},
     "output_type": "execute_result"
    }
   ],
   "source": [
    "tf_idf_sustainability = result[result[\"Label\"]==\"sustainability\"]\n",
    "tf_idf_sustainability[0:2]"
   ]
  },
  {
   "cell_type": "code",
   "execution_count": null,
   "metadata": {},
   "outputs": [],
   "source": []
  },
  {
   "cell_type": "code",
   "execution_count": 8,
   "metadata": {},
   "outputs": [
    {
     "name": "stderr",
     "output_type": "stream",
     "text": [
      "C:\\Users\\daveb\\AppData\\Local\\Temp/ipykernel_21036/2232887772.py:6: FutureWarning: The frame.append method is deprecated and will be removed from pandas in a future version. Use pandas.concat instead.\n",
      "  tf_idf_sustainability_2 = tf_idf_sustainability_2.append(row, ignore_index=True)\n",
      "C:\\Users\\daveb\\AppData\\Local\\Temp/ipykernel_21036/2232887772.py:6: FutureWarning: The frame.append method is deprecated and will be removed from pandas in a future version. Use pandas.concat instead.\n",
      "  tf_idf_sustainability_2 = tf_idf_sustainability_2.append(row, ignore_index=True)\n",
      "C:\\Users\\daveb\\AppData\\Local\\Temp/ipykernel_21036/2232887772.py:6: FutureWarning: The frame.append method is deprecated and will be removed from pandas in a future version. Use pandas.concat instead.\n",
      "  tf_idf_sustainability_2 = tf_idf_sustainability_2.append(row, ignore_index=True)\n",
      "C:\\Users\\daveb\\AppData\\Local\\Temp/ipykernel_21036/2232887772.py:6: FutureWarning: The frame.append method is deprecated and will be removed from pandas in a future version. Use pandas.concat instead.\n",
      "  tf_idf_sustainability_2 = tf_idf_sustainability_2.append(row, ignore_index=True)\n",
      "C:\\Users\\daveb\\AppData\\Local\\Temp/ipykernel_21036/2232887772.py:6: FutureWarning: The frame.append method is deprecated and will be removed from pandas in a future version. Use pandas.concat instead.\n",
      "  tf_idf_sustainability_2 = tf_idf_sustainability_2.append(row, ignore_index=True)\n",
      "C:\\Users\\daveb\\AppData\\Local\\Temp/ipykernel_21036/2232887772.py:6: FutureWarning: The frame.append method is deprecated and will be removed from pandas in a future version. Use pandas.concat instead.\n",
      "  tf_idf_sustainability_2 = tf_idf_sustainability_2.append(row, ignore_index=True)\n",
      "C:\\Users\\daveb\\AppData\\Local\\Temp/ipykernel_21036/2232887772.py:6: FutureWarning: The frame.append method is deprecated and will be removed from pandas in a future version. Use pandas.concat instead.\n",
      "  tf_idf_sustainability_2 = tf_idf_sustainability_2.append(row, ignore_index=True)\n",
      "C:\\Users\\daveb\\AppData\\Local\\Temp/ipykernel_21036/2232887772.py:6: FutureWarning: The frame.append method is deprecated and will be removed from pandas in a future version. Use pandas.concat instead.\n",
      "  tf_idf_sustainability_2 = tf_idf_sustainability_2.append(row, ignore_index=True)\n",
      "C:\\Users\\daveb\\AppData\\Local\\Temp/ipykernel_21036/2232887772.py:6: FutureWarning: The frame.append method is deprecated and will be removed from pandas in a future version. Use pandas.concat instead.\n",
      "  tf_idf_sustainability_2 = tf_idf_sustainability_2.append(row, ignore_index=True)\n",
      "C:\\Users\\daveb\\AppData\\Local\\Temp/ipykernel_21036/2232887772.py:6: FutureWarning: The frame.append method is deprecated and will be removed from pandas in a future version. Use pandas.concat instead.\n",
      "  tf_idf_sustainability_2 = tf_idf_sustainability_2.append(row, ignore_index=True)\n",
      "C:\\Users\\daveb\\AppData\\Local\\Temp/ipykernel_21036/2232887772.py:6: FutureWarning: The frame.append method is deprecated and will be removed from pandas in a future version. Use pandas.concat instead.\n",
      "  tf_idf_sustainability_2 = tf_idf_sustainability_2.append(row, ignore_index=True)\n",
      "C:\\Users\\daveb\\AppData\\Local\\Temp/ipykernel_21036/2232887772.py:6: FutureWarning: The frame.append method is deprecated and will be removed from pandas in a future version. Use pandas.concat instead.\n",
      "  tf_idf_sustainability_2 = tf_idf_sustainability_2.append(row, ignore_index=True)\n",
      "C:\\Users\\daveb\\AppData\\Local\\Temp/ipykernel_21036/2232887772.py:6: FutureWarning: The frame.append method is deprecated and will be removed from pandas in a future version. Use pandas.concat instead.\n",
      "  tf_idf_sustainability_2 = tf_idf_sustainability_2.append(row, ignore_index=True)\n",
      "C:\\Users\\daveb\\AppData\\Local\\Temp/ipykernel_21036/2232887772.py:6: FutureWarning: The frame.append method is deprecated and will be removed from pandas in a future version. Use pandas.concat instead.\n",
      "  tf_idf_sustainability_2 = tf_idf_sustainability_2.append(row, ignore_index=True)\n",
      "C:\\Users\\daveb\\AppData\\Local\\Temp/ipykernel_21036/2232887772.py:6: FutureWarning: The frame.append method is deprecated and will be removed from pandas in a future version. Use pandas.concat instead.\n",
      "  tf_idf_sustainability_2 = tf_idf_sustainability_2.append(row, ignore_index=True)\n",
      "C:\\Users\\daveb\\AppData\\Local\\Temp/ipykernel_21036/2232887772.py:6: FutureWarning: The frame.append method is deprecated and will be removed from pandas in a future version. Use pandas.concat instead.\n",
      "  tf_idf_sustainability_2 = tf_idf_sustainability_2.append(row, ignore_index=True)\n",
      "C:\\Users\\daveb\\AppData\\Local\\Temp/ipykernel_21036/2232887772.py:6: FutureWarning: The frame.append method is deprecated and will be removed from pandas in a future version. Use pandas.concat instead.\n",
      "  tf_idf_sustainability_2 = tf_idf_sustainability_2.append(row, ignore_index=True)\n",
      "C:\\Users\\daveb\\AppData\\Local\\Temp/ipykernel_21036/2232887772.py:6: FutureWarning: The frame.append method is deprecated and will be removed from pandas in a future version. Use pandas.concat instead.\n",
      "  tf_idf_sustainability_2 = tf_idf_sustainability_2.append(row, ignore_index=True)\n",
      "C:\\Users\\daveb\\AppData\\Local\\Temp/ipykernel_21036/2232887772.py:6: FutureWarning: The frame.append method is deprecated and will be removed from pandas in a future version. Use pandas.concat instead.\n",
      "  tf_idf_sustainability_2 = tf_idf_sustainability_2.append(row, ignore_index=True)\n",
      "C:\\Users\\daveb\\AppData\\Local\\Temp/ipykernel_21036/2232887772.py:6: FutureWarning: The frame.append method is deprecated and will be removed from pandas in a future version. Use pandas.concat instead.\n",
      "  tf_idf_sustainability_2 = tf_idf_sustainability_2.append(row, ignore_index=True)\n",
      "C:\\Users\\daveb\\AppData\\Local\\Temp/ipykernel_21036/2232887772.py:6: FutureWarning: The frame.append method is deprecated and will be removed from pandas in a future version. Use pandas.concat instead.\n",
      "  tf_idf_sustainability_2 = tf_idf_sustainability_2.append(row, ignore_index=True)\n",
      "C:\\Users\\daveb\\AppData\\Local\\Temp/ipykernel_21036/2232887772.py:6: FutureWarning: The frame.append method is deprecated and will be removed from pandas in a future version. Use pandas.concat instead.\n",
      "  tf_idf_sustainability_2 = tf_idf_sustainability_2.append(row, ignore_index=True)\n",
      "C:\\Users\\daveb\\AppData\\Local\\Temp/ipykernel_21036/2232887772.py:6: FutureWarning: The frame.append method is deprecated and will be removed from pandas in a future version. Use pandas.concat instead.\n",
      "  tf_idf_sustainability_2 = tf_idf_sustainability_2.append(row, ignore_index=True)\n",
      "C:\\Users\\daveb\\AppData\\Local\\Temp/ipykernel_21036/2232887772.py:6: FutureWarning: The frame.append method is deprecated and will be removed from pandas in a future version. Use pandas.concat instead.\n",
      "  tf_idf_sustainability_2 = tf_idf_sustainability_2.append(row, ignore_index=True)\n",
      "C:\\Users\\daveb\\AppData\\Local\\Temp/ipykernel_21036/2232887772.py:6: FutureWarning: The frame.append method is deprecated and will be removed from pandas in a future version. Use pandas.concat instead.\n",
      "  tf_idf_sustainability_2 = tf_idf_sustainability_2.append(row, ignore_index=True)\n",
      "C:\\Users\\daveb\\AppData\\Local\\Temp/ipykernel_21036/2232887772.py:6: FutureWarning: The frame.append method is deprecated and will be removed from pandas in a future version. Use pandas.concat instead.\n",
      "  tf_idf_sustainability_2 = tf_idf_sustainability_2.append(row, ignore_index=True)\n",
      "C:\\Users\\daveb\\AppData\\Local\\Temp/ipykernel_21036/2232887772.py:6: FutureWarning: The frame.append method is deprecated and will be removed from pandas in a future version. Use pandas.concat instead.\n",
      "  tf_idf_sustainability_2 = tf_idf_sustainability_2.append(row, ignore_index=True)\n",
      "C:\\Users\\daveb\\AppData\\Local\\Temp/ipykernel_21036/2232887772.py:6: FutureWarning: The frame.append method is deprecated and will be removed from pandas in a future version. Use pandas.concat instead.\n",
      "  tf_idf_sustainability_2 = tf_idf_sustainability_2.append(row, ignore_index=True)\n",
      "C:\\Users\\daveb\\AppData\\Local\\Temp/ipykernel_21036/2232887772.py:6: FutureWarning: The frame.append method is deprecated and will be removed from pandas in a future version. Use pandas.concat instead.\n",
      "  tf_idf_sustainability_2 = tf_idf_sustainability_2.append(row, ignore_index=True)\n",
      "C:\\Users\\daveb\\AppData\\Local\\Temp/ipykernel_21036/2232887772.py:6: FutureWarning: The frame.append method is deprecated and will be removed from pandas in a future version. Use pandas.concat instead.\n",
      "  tf_idf_sustainability_2 = tf_idf_sustainability_2.append(row, ignore_index=True)\n",
      "C:\\Users\\daveb\\AppData\\Local\\Temp/ipykernel_21036/2232887772.py:6: FutureWarning: The frame.append method is deprecated and will be removed from pandas in a future version. Use pandas.concat instead.\n",
      "  tf_idf_sustainability_2 = tf_idf_sustainability_2.append(row, ignore_index=True)\n",
      "C:\\Users\\daveb\\AppData\\Local\\Temp/ipykernel_21036/2232887772.py:6: FutureWarning: The frame.append method is deprecated and will be removed from pandas in a future version. Use pandas.concat instead.\n",
      "  tf_idf_sustainability_2 = tf_idf_sustainability_2.append(row, ignore_index=True)\n",
      "C:\\Users\\daveb\\AppData\\Local\\Temp/ipykernel_21036/2232887772.py:6: FutureWarning: The frame.append method is deprecated and will be removed from pandas in a future version. Use pandas.concat instead.\n",
      "  tf_idf_sustainability_2 = tf_idf_sustainability_2.append(row, ignore_index=True)\n",
      "C:\\Users\\daveb\\AppData\\Local\\Temp/ipykernel_21036/2232887772.py:6: FutureWarning: The frame.append method is deprecated and will be removed from pandas in a future version. Use pandas.concat instead.\n",
      "  tf_idf_sustainability_2 = tf_idf_sustainability_2.append(row, ignore_index=True)\n",
      "C:\\Users\\daveb\\AppData\\Local\\Temp/ipykernel_21036/2232887772.py:6: FutureWarning: The frame.append method is deprecated and will be removed from pandas in a future version. Use pandas.concat instead.\n",
      "  tf_idf_sustainability_2 = tf_idf_sustainability_2.append(row, ignore_index=True)\n",
      "C:\\Users\\daveb\\AppData\\Local\\Temp/ipykernel_21036/2232887772.py:6: FutureWarning: The frame.append method is deprecated and will be removed from pandas in a future version. Use pandas.concat instead.\n",
      "  tf_idf_sustainability_2 = tf_idf_sustainability_2.append(row, ignore_index=True)\n",
      "C:\\Users\\daveb\\AppData\\Local\\Temp/ipykernel_21036/2232887772.py:6: FutureWarning: The frame.append method is deprecated and will be removed from pandas in a future version. Use pandas.concat instead.\n",
      "  tf_idf_sustainability_2 = tf_idf_sustainability_2.append(row, ignore_index=True)\n",
      "C:\\Users\\daveb\\AppData\\Local\\Temp/ipykernel_21036/2232887772.py:6: FutureWarning: The frame.append method is deprecated and will be removed from pandas in a future version. Use pandas.concat instead.\n",
      "  tf_idf_sustainability_2 = tf_idf_sustainability_2.append(row, ignore_index=True)\n",
      "C:\\Users\\daveb\\AppData\\Local\\Temp/ipykernel_21036/2232887772.py:6: FutureWarning: The frame.append method is deprecated and will be removed from pandas in a future version. Use pandas.concat instead.\n",
      "  tf_idf_sustainability_2 = tf_idf_sustainability_2.append(row, ignore_index=True)\n",
      "C:\\Users\\daveb\\AppData\\Local\\Temp/ipykernel_21036/2232887772.py:6: FutureWarning: The frame.append method is deprecated and will be removed from pandas in a future version. Use pandas.concat instead.\n",
      "  tf_idf_sustainability_2 = tf_idf_sustainability_2.append(row, ignore_index=True)\n",
      "C:\\Users\\daveb\\AppData\\Local\\Temp/ipykernel_21036/2232887772.py:6: FutureWarning: The frame.append method is deprecated and will be removed from pandas in a future version. Use pandas.concat instead.\n",
      "  tf_idf_sustainability_2 = tf_idf_sustainability_2.append(row, ignore_index=True)\n",
      "C:\\Users\\daveb\\AppData\\Local\\Temp/ipykernel_21036/2232887772.py:6: FutureWarning: The frame.append method is deprecated and will be removed from pandas in a future version. Use pandas.concat instead.\n",
      "  tf_idf_sustainability_2 = tf_idf_sustainability_2.append(row, ignore_index=True)\n",
      "C:\\Users\\daveb\\AppData\\Local\\Temp/ipykernel_21036/2232887772.py:6: FutureWarning: The frame.append method is deprecated and will be removed from pandas in a future version. Use pandas.concat instead.\n",
      "  tf_idf_sustainability_2 = tf_idf_sustainability_2.append(row, ignore_index=True)\n",
      "C:\\Users\\daveb\\AppData\\Local\\Temp/ipykernel_21036/2232887772.py:6: FutureWarning: The frame.append method is deprecated and will be removed from pandas in a future version. Use pandas.concat instead.\n",
      "  tf_idf_sustainability_2 = tf_idf_sustainability_2.append(row, ignore_index=True)\n",
      "C:\\Users\\daveb\\AppData\\Local\\Temp/ipykernel_21036/2232887772.py:6: FutureWarning: The frame.append method is deprecated and will be removed from pandas in a future version. Use pandas.concat instead.\n",
      "  tf_idf_sustainability_2 = tf_idf_sustainability_2.append(row, ignore_index=True)\n",
      "C:\\Users\\daveb\\AppData\\Local\\Temp/ipykernel_21036/2232887772.py:6: FutureWarning: The frame.append method is deprecated and will be removed from pandas in a future version. Use pandas.concat instead.\n",
      "  tf_idf_sustainability_2 = tf_idf_sustainability_2.append(row, ignore_index=True)\n",
      "C:\\Users\\daveb\\AppData\\Local\\Temp/ipykernel_21036/2232887772.py:6: FutureWarning: The frame.append method is deprecated and will be removed from pandas in a future version. Use pandas.concat instead.\n",
      "  tf_idf_sustainability_2 = tf_idf_sustainability_2.append(row, ignore_index=True)\n",
      "C:\\Users\\daveb\\AppData\\Local\\Temp/ipykernel_21036/2232887772.py:6: FutureWarning: The frame.append method is deprecated and will be removed from pandas in a future version. Use pandas.concat instead.\n",
      "  tf_idf_sustainability_2 = tf_idf_sustainability_2.append(row, ignore_index=True)\n",
      "C:\\Users\\daveb\\AppData\\Local\\Temp/ipykernel_21036/2232887772.py:6: FutureWarning: The frame.append method is deprecated and will be removed from pandas in a future version. Use pandas.concat instead.\n",
      "  tf_idf_sustainability_2 = tf_idf_sustainability_2.append(row, ignore_index=True)\n",
      "C:\\Users\\daveb\\AppData\\Local\\Temp/ipykernel_21036/2232887772.py:6: FutureWarning: The frame.append method is deprecated and will be removed from pandas in a future version. Use pandas.concat instead.\n",
      "  tf_idf_sustainability_2 = tf_idf_sustainability_2.append(row, ignore_index=True)\n",
      "C:\\Users\\daveb\\AppData\\Local\\Temp/ipykernel_21036/2232887772.py:6: FutureWarning: The frame.append method is deprecated and will be removed from pandas in a future version. Use pandas.concat instead.\n",
      "  tf_idf_sustainability_2 = tf_idf_sustainability_2.append(row, ignore_index=True)\n",
      "C:\\Users\\daveb\\AppData\\Local\\Temp/ipykernel_21036/2232887772.py:6: FutureWarning: The frame.append method is deprecated and will be removed from pandas in a future version. Use pandas.concat instead.\n",
      "  tf_idf_sustainability_2 = tf_idf_sustainability_2.append(row, ignore_index=True)\n",
      "C:\\Users\\daveb\\AppData\\Local\\Temp/ipykernel_21036/2232887772.py:6: FutureWarning: The frame.append method is deprecated and will be removed from pandas in a future version. Use pandas.concat instead.\n",
      "  tf_idf_sustainability_2 = tf_idf_sustainability_2.append(row, ignore_index=True)\n"
     ]
    }
   ],
   "source": [
    "tf_idf_sustainability_2 = pd.DataFrame()\n",
    "\n",
    "\n",
    "for index, row in tf_idf_sustainability.iterrows():\n",
    "    if \"sustainability\" in row[\"TF-IDF\"]:\n",
    "        tf_idf_sustainability_2 = tf_idf_sustainability_2.append(row, ignore_index=True)\n",
    "    else:\n",
    "        continue"
   ]
  },
  {
   "cell_type": "code",
   "execution_count": 9,
   "metadata": {},
   "outputs": [],
   "source": [
    "tf_idf_sustainability_ls = tf_idf_sustainability_2[\"TF-IDF\"].tolist()"
   ]
  },
  {
   "cell_type": "code",
   "execution_count": 10,
   "metadata": {},
   "outputs": [
    {
     "data": {
      "text/plain": [
       "53"
      ]
     },
     "execution_count": 10,
     "metadata": {},
     "output_type": "execute_result"
    }
   ],
   "source": [
    "len(tf_idf_sustainability_ls)"
   ]
  },
  {
   "cell_type": "code",
   "execution_count": null,
   "metadata": {},
   "outputs": [],
   "source": []
  },
  {
   "cell_type": "code",
   "execution_count": 11,
   "metadata": {},
   "outputs": [],
   "source": [
    "update = []\n",
    "for element in tf_idf_sustainability_ls:\n",
    "    element = element[1:-2]\n",
    "    update.append(element)\n"
   ]
  },
  {
   "cell_type": "code",
   "execution_count": null,
   "metadata": {},
   "outputs": [],
   "source": []
  },
  {
   "cell_type": "code",
   "execution_count": 12,
   "metadata": {},
   "outputs": [],
   "source": [
    "ls = []\n",
    "for element in update:\n",
    "    element = list(element.split(\"), (\"))\n",
    "    element[0] = element[0][1:]\n",
    "    ls.append(element)\n"
   ]
  },
  {
   "cell_type": "code",
   "execution_count": 13,
   "metadata": {},
   "outputs": [
    {
     "data": {
      "text/plain": [
       "[[\"'sustainable', 0.32667451009307846\",\n",
       "  \"'healthy', 0.23949191303103995\",\n",
       "  \"'seafood', 0.22822275289709093\",\n",
       "  \"'industry', 0.2051750036986\",\n",
       "  \"'sustainability', 0.2051750036986\",\n",
       "  \"'future', 0.18627148791303105\",\n",
       "  \"'world', 0.15966127535402663\",\n",
       "  \"'cargill', 0.1541293229421234\",\n",
       "  \"'value', 0.14050739524686248\",\n",
       "  \"'report', 0.1358472371977451\",\n",
       "  \"'feed', 0.1341134394335906\",\n",
       "  \"'aquaculture', 0.13066980403723139\",\n",
       "  \"'this', 0.12943403190117636\",\n",
       "  \"'challenge', 0.12823437731162501\",\n",
       "  \"'chain', 0.12789105695098946\",\n",
       "  \"'generation', 0.12376764745132478\",\n",
       "  \"'global', 0.12288417365093711\",\n",
       "  \"'nutrition', 0.11586622772791548\",\n",
       "  \"'through', 0.11411137644854547\",\n",
       "  \"'stewardship', 0.1025875018493\",\n",
       "  \"'aqua', 0.0993139094810704\",\n",
       "  \"'farmer', 0.09924957964926509\",\n",
       "  \"'story', 0.0928257355884936\",\n",
       "  \"'with', 0.09245287992941169\",\n",
       "  \"'leader', 0.08743228264842909\",\n",
       "  \"'health', 0.08526070463399298\",\n",
       "  \"'case', 0.0832487955349115\",\n",
       "  \"'people', 0.0832487955349115\",\n",
       "  \"'material', 0.08192278243395808\",\n",
       "  \"'from', 0.07762699268442577\",\n",
       "  \"'progress', 0.07694062638697502\",\n",
       "  \"'cargills', 0.07025369762343124\",\n",
       "  \"'development', 0.07025369762343124\",\n",
       "  \"'animal', 0.06846682586912729\",\n",
       "  \"'production', 0.06846682586912729\",\n",
       "  \"'ocean', 0.06846682586912729\",\n",
       "  \"'will', 0.06846682586912729\",\n",
       "  \"'safe', 0.06695158703993957\",\n",
       "  \"'letter', 0.06695158703993957\",\n",
       "  \"'ranking', 0.06695158703993957\"],\n",
       " [\"'report', 0.3802482966427357\",\n",
       "  \"'sustainability', 0.3769449458085887\",\n",
       "  \"'business', 0.23419855527456918\",\n",
       "  \"'approach', 0.22783465565059483\",\n",
       "  \"'document', 0.22783465565059483\",\n",
       "  \"'publish', 0.1886745171282905\",\n",
       "  \"'complementary', 0.1886745171282905\",\n",
       "  \"'tomorrow', 0.1886745171282905\",\n",
       "  \"'accompanying', 0.1886745171282905\",\n",
       "  \"'online', 0.15954291871982262\",\n",
       "  \"'welcome', 0.15954291871982262\",\n",
       "  \"'separate', 0.15374637599711657\",\n",
       "  \"'topic', 0.14884546895647136\",\n",
       "  \"'databook', 0.14460011017508917\",\n",
       "  \"'building', 0.14460011017508917\",\n",
       "  \"'highlight', 0.1408554383425433\",\n",
       "  \"'full', 0.1408554383425433\",\n",
       "  \"'today', 0.1408554383425433\",\n",
       "  \"'detail', 0.1408554383425433\",\n",
       "  \"'focus', 0.13170917252051592\",\n",
       "  \"'about', 0.12916437758332114\",\n",
       "  \"'sustainable', 0.12916437758332114\",\n",
       "  \"'www', 0.12916437758332114\",\n",
       "  \"'provides', 0.12916437758332114\",\n",
       "  \"'further', 0.1268082654798707\",\n",
       "  \"'there', 0.12256290669848852\",\n",
       "  \"'also', 0.12063547026921316\",\n",
       "  \"'available', 0.11546851176662132\",\n",
       "  \"'these', 0.11391732782529741\",\n",
       "  \"'material', 0.11102506534025307\",\n",
       "  \"'which', 0.09954738098042112\",\n",
       "  \"'with', 0.09113202008761447\",\n",
       "  \"'this', 0.08830411585161346\",\n",
       "  \"'place', 0.0\",\n",
       "  \"'police', 0.0\",\n",
       "  \"'pleasure', 0.0\",\n",
       "  \"'pledged', 0.0\",\n",
       "  \"'plenary', 0.0\",\n",
       "  \"'plentiful', 0.0\",\n",
       "  \"'plus', 0.0\"],\n",
       " [\"'sustainability', 0.4021426231565484\",\n",
       "  \"'report', 0.37704384668946805\",\n",
       "  \"'group', 0.21722777579817537\",\n",
       "  \"'coop', 0.21421259693395855\",\n",
       "  \"'figure', 0.20898164337549327\",\n",
       "  \"'groups', 0.1520205154900572\",\n",
       "  \"'coops', 0.14938579533849772\",\n",
       "  \"'progress', 0.1430101336728565\",\n",
       "  \"'also', 0.13336874554081696\",\n",
       "  \"'strategy', 0.12780372627268216\",\n",
       "  \"'society', 0.11940153100753363\",\n",
       "  \"'employee', 0.09862674269669948\",\n",
       "  \"'this', 0.08438412282549079\",\n",
       "  \"'cited', 0.0823599676982261\",\n",
       "  \"'cor', 0.0823599676982261\",\n",
       "  \"'summarized', 0.0823599676982261\",\n",
       "  \"'accountability', 0.0823599676982261\",\n",
       "  \"'constitutes', 0.0823599676982261\",\n",
       "  \"'text', 0.0823599676982261\",\n",
       "  \"'mention', 0.0823599676982261\",\n",
       "  \"'structured', 0.0823599676982261\",\n",
       "  \"'wholly', 0.0823599676982261\",\n",
       "  \"'predecessor', 0.0823599676982261\",\n",
       "  \"'impor', 0.07886547014359634\",\n",
       "  \"'ngos', 0.07886547014359634\",\n",
       "  \"'consum', 0.07886547014359634\",\n",
       "  \"'tance', 0.07886547014359634\",\n",
       "  \"'like', 0.07886547014359634\",\n",
       "  \"'found', 0.07886547014359634\",\n",
       "  \"'seventh', 0.07886547014359634\",\n",
       "  \"'pillar', 0.07886547014359634\",\n",
       "  \"'underscore', 0.07886547014359634\",\n",
       "  \"'porate', 0.07886547014359634\",\n",
       "  \"'usually', 0.07886547014359634\",\n",
       "  \"'section', 0.0760102577450286\",\n",
       "  \"'proposed', 0.0760102577450286\",\n",
       "  \"'cooperation', 0.0760102577450286\",\n",
       "  \"'general', 0.07359621005900628\",\n",
       "  \"'ecology', 0.07359621005900628\",\n",
       "  \"'about', 0.07359621005900628\"],\n",
       " [\"'report', 0.618606000884525\",\n",
       "  \"'annual', 0.27749902979507224\",\n",
       "  \"'sustainability', 0.2489922252536119\",\n",
       "  \"'reporting', 0.2293898984547372\",\n",
       "  \"'swiss', 0.2278581079943481\",\n",
       "  \"'german', 0.22073943494949477\",\n",
       "  \"'post', 0.19012539001558532\",\n",
       "  \"'financial', 0.14080526328937001\",\n",
       "  \"'document', 0.123721200176905\",\n",
       "  \"'online', 0.1189117490309799\",\n",
       "  \"'languages', 0.1189117490309799\",\n",
       "  \"'english', 0.1189117490309799\",\n",
       "  \"'italian', 0.1189117490309799\",\n",
       "  \"'authoritative', 0.1189117490309799\",\n",
       "  \"'here', 0.11036971747474739\",\n",
       "  \"'version', 0.11036971747474739\",\n",
       "  \"'consist', 0.11036971747474739\",\n",
       "  \"'everyone', 0.11036971747474739\",\n",
       "  \"'french', 0.11036971747474739\",\n",
       "  \"'global', 0.10430904963451999\",\n",
       "  \"'guideline', 0.09960803043760483\",\n",
       "  \"'structure', 0.0957670180782875\",\n",
       "  \"'statement', 0.0957670180782875\",\n",
       "  \"'available', 0.09251948840146047\",\n",
       "  \"'governance', 0.09251948840146047\",\n",
       "  \"'about', 0.09251948840146047\",\n",
       "  \"'accordance', 0.08722498652205499\",\n",
       "  \"'initiative', 0.08299740841787062\",\n",
       "  \"'postfinance', 0.08116431868182758\",\n",
       "  \"'figure', 0.0794780395887046\",\n",
       "  \"'right', 0.07791678900500057\",\n",
       "  \"'corporate', 0.07510365084160017\",\n",
       "  \"'group', 0.07148323989067172\",\n",
       "  \"'management', 0.06408025556936256\",\n",
       "  \"'this', 0.06050095144514026\",\n",
       "  \"'with', 0.052402457155463836\",\n",
       "  \"'www', 0.05109891305130992\",\n",
       "  \"'population', 0.0\",\n",
       "  \"'politique', 0.0\",\n",
       "  \"'policy', 0.0\"],\n",
       " [\"'sustainability', 0.3103237966868885\",\n",
       "  \"'topics', 0.2703784222725506\",\n",
       "  \"'message', 0.2703784222725506\",\n",
       "  \"'figure', 0.2703784222725506\",\n",
       "  \"'governance', 0.24886144016442183\",\n",
       "  \"'corporation', 0.24886144016442183\",\n",
       "  \"'stakeholder', 0.24886144016442183\",\n",
       "  \"'material', 0.24886144016442183\",\n",
       "  \"'good', 0.24886144016442183\",\n",
       "  \"'importance', 0.24886144016442183\",\n",
       "  \"'chain', 0.23217157221313703\",\n",
       "  \"'value', 0.23217157221313703\",\n",
       "  \"'from', 0.21853495717477986\",\n",
       "  \"'management', 0.207005363441215\",\n",
       "  \"'goals', 0.18032810711536626\",\n",
       "  \"'development', 0.17319944798101602\",\n",
       "  \"'sustainable', 0.1666914920770091\",\n",
       "  \"'contribution', 0.15516189834344424\",\n",
       "  \"'piping', 0.0\",\n",
       "  \"'pipe', 0.0\",\n",
       "  \"'pipeline', 0.0\",\n",
       "  \"'planning', 0.0\",\n",
       "  \"'physical', 0.0\",\n",
       "  \"'philosophy', 0.0\",\n",
       "  \"'phase', 0.0\",\n",
       "  \"'perspective', 0.0\",\n",
       "  \"'personalized', 0.0\",\n",
       "  \"'personal', 0.0\",\n",
       "  \"'place', 0.0\",\n",
       "  \"'about', 0.0\",\n",
       "  \"'plastic', 0.0\",\n",
       "  \"'please', 0.0\",\n",
       "  \"'potable', 0.0\",\n",
       "  \"'possible', 0.0\",\n",
       "  \"'possibility', 0.0\",\n",
       "  \"'positive', 0.0\",\n",
       "  \"'positioning', 0.0\",\n",
       "  \"'positioned', 0.0\",\n",
       "  \"'position', 0.0\",\n",
       "  \"'portfolio', 0.0\"],\n",
       " [\"'signed', 0.30268293833429327\",\n",
       "  \"'programme', 0.25507059142425414\",\n",
       "  \"'sustainability', 0.22156694689588805\",\n",
       "  \"'established', 0.21989285723955201\",\n",
       "  \"'introduced', 0.2034200624351648\",\n",
       "  \"'launched', 0.19499966272803215\",\n",
       "  \"'first', 0.18469392638409474\",\n",
       "  \"'sustainable', 0.15268138536140696\",\n",
       "  \"'have', 0.14556203885023902\",\n",
       "  \"'swiss', 0.1447356339623266\",\n",
       "  \"'tcfd', 0.1424838658527348\",\n",
       "  \"'coal', 0.1424838658527348\",\n",
       "  \"'principles', 0.1326788168269039\",\n",
       "  \"'report', 0.1319469183686709\",\n",
       "  \"'published', 0.12525354414457615\",\n",
       "  \"'investment', 0.11133712281177871\",\n",
       "  \"'employee', 0.09980047782248441\",\n",
       "  \"'emission', 0.09980047782248441\",\n",
       "  \"'group', 0.0979338726268262\",\n",
       "  \"'shifted', 0.0925836269414926\",\n",
       "  \"'renamed', 0.0925836269414926\",\n",
       "  \"'milestone', 0.0925836269414926\",\n",
       "  \"'carbonneutral', 0.0925836269414926\",\n",
       "  \"'original', 0.0925836269414926\",\n",
       "  \"'autonomous', 0.0925836269414926\",\n",
       "  \"'business', 0.08862677875835522\",\n",
       "  \"'acceleratingsustainableprogress', 0.08634158159113592\",\n",
       "  \"'gradual', 0.08634158159113592\",\n",
       "  \"'produced', 0.08634158159113592\",\n",
       "  \"'indices', 0.08634158159113592\",\n",
       "  \"'partnerships', 0.08634158159113592\",\n",
       "  \"'jones', 0.08191277993393001\",\n",
       "  \"'msci', 0.08191277993393001\",\n",
       "  \"'phaseout', 0.08191277993393001\",\n",
       "  \"'subsovereigns', 0.08191277993393001\",\n",
       "  \"'publicsector', 0.08191277993393001\",\n",
       "  \"'worktm', 0.08191277993393001\",\n",
       "  \"'follow', 0.07847753448595088\",\n",
       "  \"'received', 0.07847753448595088\",\n",
       "  \"'nations', 0.07847753448595088\"],\n",
       " [\"'business', 0.3246253406102398\",\n",
       "  \"'firmenich', 0.18741792932415535\",\n",
       "  \"'about', 0.16947531887654468\",\n",
       "  \"'year', 0.16697997664292574\",\n",
       "  \"'sustainability', 0.14990209940776808\",\n",
       "  \"'first', 0.13610701298194652\",\n",
       "  \"'with', 0.12628847825636982\",\n",
       "  \"'statement', 0.12291246469284292\",\n",
       "  \"'responsible', 0.12270792907808217\",\n",
       "  \"'leadership', 0.11940251814061367\",\n",
       "  \"'health', 0.11342251081828877\",\n",
       "  \"'from', 0.11295725259071741\",\n",
       "  \"'safety', 0.11082956285284107\",\n",
       "  \"'billion', 0.10953489686976596\",\n",
       "  \"'highlight', 0.10953489686976596\",\n",
       "  \"'performance', 0.10820844687007994\",\n",
       "  \"'ingredient', 0.10623585677141559\",\n",
       "  \"'sustainable', 0.1041798621194311\",\n",
       "  \"'spotlight', 0.10151337111935203\",\n",
       "  \"'world', 0.10044998761221224\",\n",
       "  \"'renewable', 0.0987466610128392\",\n",
       "  \"'glance', 0.09853450736903512\",\n",
       "  \"'product', 0.09415295493141371\",\n",
       "  \"'report', 0.09319090133843269\",\n",
       "  \"'positive', 0.09301021116754637\",\n",
       "  \"'growth', 0.09301021116754637\",\n",
       "  \"'successfully', 0.09128476626503401\",\n",
       "  \"'over', 0.08675542555864153\",\n",
       "  \"'future', 0.0803599900897698\",\n",
       "  \"'industry', 0.0803599900897698\",\n",
       "  \"'resilience', 0.07889125198836933\",\n",
       "  \"'legacy', 0.07889125198836933\",\n",
       "  \"'taste', 0.07613502833951402\",\n",
       "  \"'chairman', 0.07613502833951402\",\n",
       "  \"'enhance', 0.07613502833951402\",\n",
       "  \"'purpose', 0.0716415108843682\",\n",
       "  \"'reach', 0.0716415108843682\",\n",
       "  \"'strategic', 0.0716415108843682\",\n",
       "  \"'firmenichperformance', 0.07116576487859883\",\n",
       "  \"'right', 0.06975765837565978\"],\n",
       " [\"'sustainability', 0.43553259491101437\",\n",
       "  \"'tenant', 0.23184333240210794\",\n",
       "  \"'issue', 0.17732668985069314\",\n",
       "  \"'with', 0.1661123285631501\",\n",
       "  \"'reduction', 0.1491935443972938\",\n",
       "  \"'focus', 0.14308524896968913\",\n",
       "  \"'have', 0.14222219996093297\",\n",
       "  \"'this', 0.134314942011188\",\n",
       "  \"'business', 0.13392133555132382\",\n",
       "  \"'report', 0.1335260695900477\",\n",
       "  \"'analysis', 0.1334470738758523\",\n",
       "  \"'year', 0.13210547726913413\",\n",
       "  \"'measure', 0.12737779958454248\",\n",
       "  \"'employee', 0.11986282904237217\",\n",
       "  \"'survey', 0.11821779323379542\",\n",
       "  \"'network', 0.10656681742663843\",\n",
       "  \"'priority', 0.10220374926406366\",\n",
       "  \"'target', 0.09851482769482953\",\n",
       "  \"'various', 0.09851482769482953\",\n",
       "  \"'able', 0.09531933848275165\",\n",
       "  \"'coronavirus', 0.08952542503038244\",\n",
       "  \"'that', 0.08807031817942276\",\n",
       "  \"'been', 0.08561630645883726\",\n",
       "  \"'during', 0.08561630645883726\",\n",
       "  \"'planning', 0.08525345394131074\",\n",
       "  \"'strategy', 0.08525345394131074\",\n",
       "  \"'effort', 0.08176299941125093\",\n",
       "  \"'heating', 0.08027634259749765\",\n",
       "  \"'cooling', 0.07881186215586362\",\n",
       "  \"'further', 0.07198349969712962\",\n",
       "  \"'equal', 0.07127471524157404\",\n",
       "  \"'portfolio', 0.07015883422855432\",\n",
       "  \"'property', 0.06889243186852391\",\n",
       "  \"'work', 0.0684930451670698\",\n",
       "  \"'photovoltaic', 0.06714406877278684\",\n",
       "  \"'path', 0.06714406877278684\",\n",
       "  \"'development', 0.06554190791168249\",\n",
       "  \"'rental', 0.06394009045598306\",\n",
       "  \"'performance', 0.06290421895402488\",\n",
       "  \"'plan', 0.061322249558438194\"],\n",
       " [\"'product', 0.31751591293455544\",\n",
       "  \"'group', 0.3135605256515246\",\n",
       "  \"'calida', 0.2929388189377793\",\n",
       "  \"'brand', 0.2416596624279546\",\n",
       "  \"'with', 0.18521761587849067\",\n",
       "  \"'lafuma', 0.1745164333539993\",\n",
       "  \"'social', 0.16577293059126774\",\n",
       "  \"'made', 0.14552812676167126\",\n",
       "  \"'corporate', 0.14209108336394377\",\n",
       "  \"'this', 0.13229829705606477\",\n",
       "  \"'responsibility', 0.13025015975028179\",\n",
       "  \"'outdoor', 0.12793746834421127\",\n",
       "  \"'report', 0.11840923613661981\",\n",
       "  \"'millet', 0.11840923613661981\",\n",
       "  \"'sustainable', 0.11372219408374334\",\n",
       "  \"'sustainability', 0.10583863764485181\",\n",
       "  \"'mobilier', 0.09972367620228531\",\n",
       "  \"'material', 0.09972367620228531\",\n",
       "  \"'from', 0.09260880793924534\",\n",
       "  \"'environmental', 0.09260880793924534\",\n",
       "  \"'have', 0.08725821667699965\",\n",
       "  \"'oxbow', 0.08725821667699965\",\n",
       "  \"'strategy', 0.08529164556280751\",\n",
       "  \"'first', 0.08529164556280751\",\n",
       "  \"'france', 0.07937897823363886\",\n",
       "  \"'as', 0.0710763713023396\",\n",
       "  \"'that', 0.0710763713023396\",\n",
       "  \"'eider', 0.0710763713023396\",\n",
       "  \"'comfort', 0.0710763713023396\",\n",
       "  \"'combine', 0.0710763713023396\",\n",
       "  \"'design', 0.06614914852803239\",\n",
       "  \"'management', 0.06614914852803239\",\n",
       "  \"'functional', 0.06241672140964964\",\n",
       "  \"'aubade', 0.062327297626428316\",\n",
       "  \"'more', 0.05686109704187167\",\n",
       "  \"'range', 0.05686109704187167\",\n",
       "  \"'sport', 0.05686109704187167\",\n",
       "  \"'every', 0.05686109704187167\",\n",
       "  \"'innovative', 0.05686109704187167\",\n",
       "  \"'which', 0.05686109704187167\"],\n",
       " [\"'company', 0.27779172405805136\",\n",
       "  \"'compression', 0.2604188573839525\",\n",
       "  \"'burckhardt', 0.2597586172989287\",\n",
       "  \"'with', 0.2311587788115769\",\n",
       "  \"'report', 0.2083437930435385\",\n",
       "  \"'year', 0.19749522542167827\",\n",
       "  \"'risk', 0.19098181028991032\",\n",
       "  \"'management', 0.1477475778231159\",\n",
       "  \"'process', 0.13889586202902568\",\n",
       "  \"'sustainability', 0.134523915798082\",\n",
       "  \"'this', 0.12554859479395775\",\n",
       "  \"'employee', 0.12153387927539747\",\n",
       "  \"'longterm', 0.10952719905249192\",\n",
       "  \"'system', 0.10417189652176925\",\n",
       "  \"'supplier', 0.09947464017207708\",\n",
       "  \"'investor', 0.09947464017207708\",\n",
       "  \"'executive', 0.09234223613944743\",\n",
       "  \"'survey', 0.09234223613944743\",\n",
       "  \"'the', 0.09187055946856094\",\n",
       "  \"'annual', 0.08680991376814105\",\n",
       "  \"'compressor', 0.08680991376814105\",\n",
       "  \"'evaluated', 0.07957971213766167\",\n",
       "  \"'between', 0.07387378891155795\",\n",
       "  \"'rating', 0.07387378891155795\",\n",
       "  \"'project', 0.07387378891155795\",\n",
       "  \"'customer', 0.06944793101451284\",\n",
       "  \"'various', 0.06944793101451284\",\n",
       "  \"'value', 0.06944793101451284\",\n",
       "  \"'stakeholder', 0.06583174180722609\",\n",
       "  \"'part', 0.06583174180722609\",\n",
       "  \"'five', 0.06571631943149514\",\n",
       "  \"'dialog', 0.06571631943149514\",\n",
       "  \"'using', 0.06571631943149514\",\n",
       "  \"'business', 0.06312024264732495\",\n",
       "  \"'board', 0.05968478410324625\",\n",
       "  \"'financial', 0.05968478410324625\",\n",
       "  \"'very', 0.05968478410324625\",\n",
       "  \"'economic', 0.05968478410324625\",\n",
       "  \"'period', 0.05968478410324625\",\n",
       "  \"'compres', 0.05968478410324625\"],\n",
       " [\"'group', 0.186535150842534\",\n",
       "  \"'partners', 0.185370948607066\",\n",
       "  \"'firm', 0.17819483480894963\",\n",
       "  \"'that', 0.17522854451099792\",\n",
       "  \"'herein', 0.1682196433591815\",\n",
       "  \"'employee', 0.15475358495939853\",\n",
       "  \"'investment', 0.13626235661280203\",\n",
       "  \"'company', 0.1349388097529785\",\n",
       "  \"'portfolio', 0.1329266889450171\",\n",
       "  \"'business', 0.13142140838324842\",\n",
       "  \"'information', 0.13102338593784826\",\n",
       "  \"'this', 0.12159210246809886\",\n",
       "  \"'chairman', 0.1201204351003979\",\n",
       "  \"'approach', 0.1173730579959692\",\n",
       "  \"'private', 0.11327631539628388\",\n",
       "  \"'from', 0.10951784031937371\",\n",
       "  \"'progress', 0.10563575219637228\",\n",
       "  \"'change', 0.10337418574115413\",\n",
       "  \"'stakeholder', 0.09304868226151197\",\n",
       "  \"'note', 0.09217096017505334\",\n",
       "  \"'asset', 0.08925013645306393\",\n",
       "  \"'will', 0.08925013645306393\",\n",
       "  \"'made', 0.0890094008702009\",\n",
       "  \"'performance', 0.08843061997679916\",\n",
       "  \"'have', 0.08843061997679916\",\n",
       "  \"'initiative', 0.08810380086377634\",\n",
       "  \"'sustainability', 0.08595968640562651\",\n",
       "  \"'fund', 0.0858003107859985\",\n",
       "  \"'contained', 0.08410982167959075\",\n",
       "  \"'assumption', 0.08410982167959075\",\n",
       "  \"'topic', 0.08305730377001176\",\n",
       "  \"'with', 0.08247972812077511\",\n",
       "  \"'enable', 0.08073674231750887\",\n",
       "  \"'climate', 0.07975601336701027\",\n",
       "  \"'responsible', 0.07887069054974104\",\n",
       "  \"'which', 0.07887069054974104\",\n",
       "  \"'investor', 0.07866361186349832\",\n",
       "  \"'cell', 0.07840046254159062\",\n",
       "  \"'management', 0.07811242237227613\",\n",
       "  \"'other', 0.07551754359752258\"],\n",
       " [\"'sustainability', 0.3001918240749906\",\n",
       "  \"'impact', 0.19941002762848242\",\n",
       "  \"'product', 0.18515891578352733\",\n",
       "  \"'carbon', 0.1810643633533197\",\n",
       "  \"'company', 0.1750009763032268\",\n",
       "  \"'logitech', 0.1715280191151604\",\n",
       "  \"'that', 0.16260390470728658\",\n",
       "  \"'report', 0.16256597179563317\",\n",
       "  \"'social', 0.16034008969370955\",\n",
       "  \"'world', 0.13287307246117616\",\n",
       "  \"'this', 0.1304070975774765\",\n",
       "  \"'environment', 0.11903073157512471\",\n",
       "  \"'people', 0.11567026733834712\",\n",
       "  \"'change', 0.11223806278559668\",\n",
       "  \"'supplier', 0.10794672373156776\",\n",
       "  \"'climate', 0.10616284482649802\",\n",
       "  \"'labeled', 0.10294567896656769\",\n",
       "  \"'introduction', 0.09543474512042421\",\n",
       "  \"'society', 0.09445338326512179\",\n",
       "  \"'have', 0.09350222200047019\",\n",
       "  \"'about', 0.09168344437068279\",\n",
       "  \"'want', 0.09104332835958469\",\n",
       "  \"'action', 0.09081267405400377\",\n",
       "  \"'more', 0.0875004881516134\",\n",
       "  \"'packaging', 0.08419548370026377\",\n",
       "  \"'they', 0.08277055142622479\",\n",
       "  \"'will', 0.08143203330239755\",\n",
       "  \"'diversity', 0.08143203330239755\",\n",
       "  \"'planet', 0.08081808937740083\",\n",
       "  \"'design', 0.08017004484685478\",\n",
       "  \"'responsible', 0.07784381244295131\",\n",
       "  \"'environmental', 0.07475803825937147\",\n",
       "  \"'were', 0.07475803825937147\",\n",
       "  \"'their', 0.07381837358954231\",\n",
       "  \"'development', 0.07291707345967785\",\n",
       "  \"'since', 0.07129777814682979\",\n",
       "  \"'reduction', 0.06988398141947848\",\n",
       "  \"'future', 0.06988398141947848\",\n",
       "  \"'drive', 0.06857501010220489\",\n",
       "  \"'inclusion', 0.06857501010220489\"],\n",
       " [\"'report', 0.46212006491198265\",\n",
       "  \"'this', 0.3997850437219411\",\n",
       "  \"'standards', 0.24172487439381785\",\n",
       "  \"'sustainability', 0.20093705323338332\",\n",
       "  \"'richemont', 0.1950170563179488\",\n",
       "  \"'been', 0.15775944103794076\",\n",
       "  \"'covered', 0.13104881514249273\",\n",
       "  \"'between', 0.13104881514249273\",\n",
       "  \"'with', 0.1306392065985433\",\n",
       "  \"'accounting', 0.12898315978764693\",\n",
       "  \"'financial', 0.12226117909473506\",\n",
       "  \"'international', 0.11602625209456392\",\n",
       "  \"'which', 0.10952209210156473\",\n",
       "  \"'also', 0.10652796296402106\",\n",
       "  \"'inquiry', 0.08296506317034766\",\n",
       "  \"'pursuant', 0.08296506317034766\",\n",
       "  \"'compagnie', 0.07857124514646883\",\n",
       "  \"'subsidiary', 0.07857124514646883\",\n",
       "  \"'financière', 0.07857124514646883\",\n",
       "  \"'accounted', 0.07857124514646883\",\n",
       "  \"'ifrs', 0.07857124514646883\",\n",
       "  \"'exception', 0.07545378164638325\",\n",
       "  \"'contact', 0.07545378164638325\",\n",
       "  \"'aligns', 0.07545378164638325\",\n",
       "  \"'unless', 0.07545378164638325\",\n",
       "  \"'consists', 0.07545378164638325\",\n",
       "  \"'otherwise', 0.07545378164638325\",\n",
       "  \"'undertaken', 0.07545378164638325\",\n",
       "  \"'compiled', 0.07545378164638325\",\n",
       "  \"'calendar', 0.07303568909521076\",\n",
       "  \"'requires', 0.07303568909521076\",\n",
       "  \"'illustrate', 0.07303568909521076\",\n",
       "  \"'please', 0.07303568909521076\",\n",
       "  \"'figures', 0.07303568909521076\",\n",
       "  \"'verified', 0.07303568909521076\",\n",
       "  \"'associates', 0.07303568909521076\",\n",
       "  \"'ernst', 0.07303568909521076\",\n",
       "  \"'july', 0.07105996362250443\",\n",
       "  \"'background', 0.07105996362250443\",\n",
       "  \"'control', 0.07105996362250443\"],\n",
       " [\"'responsible', 0.21772455788898842\",\n",
       "  \"'report', 0.19669617719816213\",\n",
       "  \"'baer', 0.18423723767505087\",\n",
       "  \"'julius', 0.1820151949251867\",\n",
       "  \"'with', 0.17995889911026197\",\n",
       "  \"'sustainability', 0.1611540109523948\",\n",
       "  \"'their', 0.16038969606749523\",\n",
       "  \"'have', 0.13365808005624602\",\n",
       "  \"'overview', 0.13036701462201886\",\n",
       "  \"'financial', 0.12934508561794167\",\n",
       "  \"'employee', 0.12550359280708698\",\n",
       "  \"'insight', 0.12523594142852343\",\n",
       "  \"'wealth', 0.11895601537598506\",\n",
       "  \"'investment', 0.11789713765723994\",\n",
       "  \"'this', 0.1159951212789722\",\n",
       "  \"'also', 0.11230332907987547\",\n",
       "  \"'more', 0.10948668161182867\",\n",
       "  \"'client', 0.10241394293645587\",\n",
       "  \"'strategy', 0.10173137222142999\",\n",
       "  \"'during', 0.09777526096651415\",\n",
       "  \"'matter', 0.09777526096651415\",\n",
       "  \"'commitment', 0.09777526096651415\",\n",
       "  \"'only', 0.09392695607139259\",\n",
       "  \"'investor', 0.09223747541328825\",\n",
       "  \"'make', 0.0892170115319888\",\n",
       "  \"'been', 0.08785478146339465\",\n",
       "  \"'credibility', 0.08783070239397632\",\n",
       "  \"'board', 0.08113310206418815\",\n",
       "  \"'primarily', 0.07807708636562748\",\n",
       "  \"'resource', 0.07760705137076498\",\n",
       "  \"'year', 0.07760705137076498\",\n",
       "  \"'group', 0.07604283660087358\",\n",
       "  \"'from', 0.07530215568425218\",\n",
       "  \"'very', 0.07493712333935829\",\n",
       "  \"'metric', 0.07493712333935829\",\n",
       "  \"'what', 0.07237158674261057\",\n",
       "  \"'come', 0.07237158674261057\",\n",
       "  \"'highest', 0.07237158674261057\",\n",
       "  \"'disclosure', 0.07194473896541502\",\n",
       "  \"'that', 0.0713328920614698\"],\n",
       " [\"'sustainable', 0.29336413811467654\",\n",
       "  \"'sustainability', 0.2777612074978311\",\n",
       "  \"'asset', 0.22133433176628217\",\n",
       "  \"'investment', 0.21475143876914723\",\n",
       "  \"'nance', 0.1823668720698147\",\n",
       "  \"'billion', 0.14905436226777172\",\n",
       "  \"'disclosure', 0.14235592953522955\",\n",
       "  \"'company', 0.14084912021490684\",\n",
       "  \"'provider', 0.12971889682069662\",\n",
       "  \"'million', 0.12622896269200642\",\n",
       "  \"'core', 0.11962781626914926\",\n",
       "  \"'strategies', 0.11667912154490027\",\n",
       "  \"'selection', 0.11667912154490027\",\n",
       "  \"'leader', 0.11570085181578743\",\n",
       "  \"'nancial', 0.11267651608488354\",\n",
       "  \"'impact', 0.10493531974788824\",\n",
       "  \"'goals', 0.09936968325861502\",\n",
       "  \"'standards', 0.09936968325861502\",\n",
       "  \"'choice', 0.09745947462093946\",\n",
       "  \"'ciaries', 0.0959201681616207\",\n",
       "  \"'beneﬁ', 0.0959201681616207\",\n",
       "  \"'integration', 0.09407531992419582\",\n",
       "  \"'climate', 0.0916762931608364\",\n",
       "  \"'from', 0.09092441221479898\",\n",
       "  \"'through', 0.09019258383656746\",\n",
       "  \"'emission', 0.08624503861701212\",\n",
       "  \"'increase', 0.08415264179467094\",\n",
       "  \"'practice', 0.08224243315699539\",\n",
       "  \"'full', 0.07977065493694928\",\n",
       "  \"'where', 0.07965667736428696\",\n",
       "  \"'community', 0.07965667736428696\",\n",
       "  \"'client', 0.07463008363239883\",\n",
       "  \"'that', 0.07463008363239883\",\n",
       "  \"'activity', 0.07459586463951678\",\n",
       "  \"'development', 0.07395948529194223\",\n",
       "  \"'green', 0.07309460596570459\",\n",
       "  \"'aligned', 0.07309460596570459\",\n",
       "  \"'philanthropy', 0.07177668976148956\",\n",
       "  \"'utility', 0.07177668976148956\",\n",
       "  \"'donation', 0.07177668976148956\"],\n",
       " [\"'report', 0.364633224777469\",\n",
       "  \"'online', 0.2858917184198256\",\n",
       "  \"'sustainability', 0.19313448790698412\",\n",
       "  \"'text', 0.19158904342113978\",\n",
       "  \"'download', 0.19158904342113978\",\n",
       "  \"'icon', 0.19158904342113978\",\n",
       "  \"'contents', 0.19158904342113978\",\n",
       "  \"'links', 0.19158904342113978\",\n",
       "  \"'click', 0.17736182408152018\",\n",
       "  \"'here', 0.16726745131552628\",\n",
       "  \"'show', 0.15943764750433861\",\n",
       "  \"'aligns', 0.15943764750433861\",\n",
       "  \"'specific', 0.15943764750433861\",\n",
       "  \"'planet', 0.1530402319759067\",\n",
       "  \"'read', 0.14763129421678187\",\n",
       "  \"'indicators', 0.14763129421678187\",\n",
       "  \"'protecting', 0.14763129421678187\",\n",
       "  \"'wellbeing', 0.1429458592099128\",\n",
       "  \"'enabling', 0.1388130126362871\",\n",
       "  \"'index', 0.1388130126362871\",\n",
       "  \"'integrated', 0.1388130126362871\",\n",
       "  \"'contribution', 0.13511605539872515\",\n",
       "  \"'interconnected', 0.13511605539872515\",\n",
       "  \"'better', 0.13511605539872515\",\n",
       "  \"'supporting', 0.13511605539872515\",\n",
       "  \"'where', 0.13511605539872515\",\n",
       "  \"'world', 0.13177175078099468\",\n",
       "  \"'more', 0.13177175078099468\",\n",
       "  \"'safer', 0.13177175078099468\",\n",
       "  \"'community', 0.1287186398702932\",\n",
       "  \"'standards', 0.12330970211116839\",\n",
       "  \"'annual', 0.12330970211116839\",\n",
       "  \"'engagement', 0.12088883605910554\",\n",
       "  \"'www', 0.11649703155501052\",\n",
       "  \"'reporting', 0.11079446329311166\",\n",
       "  \"'corporate', 0.10589040676706352\",\n",
       "  \"'this', 0.102964659481924\",\n",
       "  \"'with', 0.09541669365438839\",\n",
       "  \"'philanthropic', 0.0\",\n",
       "  \"'piloted', 0.0\"],\n",
       " [\"'water', 0.3319770279723843\",\n",
       "  \"'novartis', 0.2513728687398752\",\n",
       "  \"'section', 0.2282342067310142\",\n",
       "  \"'data', 0.2206722023608885\",\n",
       "  \"'health', 0.20494955117623676\",\n",
       "  \"'energy', 0.19841402748629308\",\n",
       "  \"'sustainability', 0.19438101903325639\",\n",
       "  \"'environmental', 0.17818260078048503\",\n",
       "  \"'safety', 0.1639596409409894\",\n",
       "  \"'occupational', 0.1576230016863489\",\n",
       "  \"'emission', 0.14523994973791812\",\n",
       "  \"'this', 0.13338908599919877\",\n",
       "  \"'report', 0.1241968419422047\",\n",
       "  \"'with', 0.12038560310468917\",\n",
       "  \"'target', 0.11017465321429418\",\n",
       "  \"'scope', 0.11017465321429418\",\n",
       "  \"'neutral', 0.10374282124137009\",\n",
       "  \"'consumption', 0.10374282124137009\",\n",
       "  \"'reporting', 0.09920701374314654\",\n",
       "  \"'operation', 0.08334730834139802\",\n",
       "  \"'company', 0.08299425699309608\",\n",
       "  \"'will', 0.08299425699309608\",\n",
       "  \"'sdgs', 0.08164136662248025\",\n",
       "  \"'supplement', 0.08099209126385683\",\n",
       "  \"'progress', 0.0744830004848053\",\n",
       "  \"'life', 0.0744830004848053\",\n",
       "  \"'management', 0.07096962396697411\",\n",
       "  \"'reduction', 0.07096962396697411\",\n",
       "  \"'value', 0.06940405888249701\",\n",
       "  \"'direct', 0.06940405888249701\",\n",
       "  \"'against', 0.06940405888249701\",\n",
       "  \"'packaging', 0.06940405888249701\",\n",
       "  \"'have', 0.06872606005302738\",\n",
       "  \"'information', 0.06546452571521383\",\n",
       "  \"'cover', 0.06546452571521383\",\n",
       "  \"'chain', 0.06546452571521383\",\n",
       "  \"'waste', 0.06479367301108546\",\n",
       "  \"'quality', 0.062245692744822056\",\n",
       "  \"'change', 0.062245692744822056\",\n",
       "  \"'climate', 0.062245692744822056\"],\n",
       " [\"'highlights', 0.2321307996900813\",\n",
       "  \"'sasb', 0.22696772064734477\",\n",
       "  \"'modernization', 0.22696772064734477\",\n",
       "  \"'reporting', 0.22460227659684173\",\n",
       "  \"'introduction', 0.174098099767561\",\n",
       "  \"'appendix', 0.174098099767561\",\n",
       "  \"'society', 0.174098099767561\",\n",
       "  \"'roadmap', 0.17119644109323276\",\n",
       "  \"'paving', 0.17119644109323276\",\n",
       "  \"'environment', 0.1658477927726848\",\n",
       "  \"'ecofriendly', 0.16503416035734397\",\n",
       "  \"'perspective', 0.15748220806904417\",\n",
       "  \"'walk', 0.1513118137648965\",\n",
       "  \"'metric', 0.1513118137648965\",\n",
       "  \"'governance', 0.14698529215106984\",\n",
       "  \"'moving', 0.14609481971596158\",\n",
       "  \"'latest', 0.14609481971596158\",\n",
       "  \"'external', 0.12514438427233163\",\n",
       "  \"'page', 0.11811714747008968\",\n",
       "  \"'escalator', 0.11811714747008968\",\n",
       "  \"'areas', 0.11606539984504065\",\n",
       "  \"'schindler', 0.11542516153912077\",\n",
       "  \"'way', 0.11413096072882183\",\n",
       "  \"'global', 0.10733956788388059\",\n",
       "  \"'sustainability', 0.10733956788388059\",\n",
       "  \"'with', 0.10301324289349006\",\n",
       "  \"'boards', 0.09424633340048558\",\n",
       "  \"'fitted', 0.09424633340048558\",\n",
       "  \"'upgrad', 0.09424633340048558\",\n",
       "  \"'contents', 0.09424633340048558\",\n",
       "  \"'sectorspecific', 0.09424633340048558\",\n",
       "  \"'disclosing', 0.09424633340048558\",\n",
       "  \"'intruss', 0.08738516010426182\",\n",
       "  \"'priorities', 0.08738516010426182\",\n",
       "  \"'assurer', 0.08738516010426182\",\n",
       "  \"'robotic', 0.08738516010426182\",\n",
       "  \"'truss', 0.08738516010426182\",\n",
       "  \"'conversation', 0.08738516010426182\",\n",
       "  \"'scene', 0.08251708017867199\",\n",
       "  \"'forwardlooking', 0.08251708017867199\"],\n",
       " [\"'swiss', 0.40592008772845906\",\n",
       "  \"'life', 0.401893032163775\",\n",
       "  \"'sustainability', 0.3122300546813825\",\n",
       "  \"'customer', 0.19285095741950486\",\n",
       "  \"'report', 0.16247209936170914\",\n",
       "  \"'corporate', 0.1607191441821077\",\n",
       "  \"'business', 0.14596349474665263\",\n",
       "  \"'with', 0.12823333559540998\",\n",
       "  \"'topic', 0.12746690745477507\",\n",
       "  \"'group', 0.11468560301522708\",\n",
       "  \"'responsible', 0.10425963910475188\",\n",
       "  \"'matrix', 0.10240814220432293\",\n",
       "  \"'management', 0.09592597971693453\",\n",
       "  \"'development', 0.0945262202849807\",\n",
       "  \"'annual', 0.09402832727979699\",\n",
       "  \"'sustainable', 0.0925313658566863\",\n",
       "  \"'employee', 0.08906512709931882\",\n",
       "  \"'materiality', 0.08603221837085448\",\n",
       "  \"'this', 0.08153708275939436\",\n",
       "  \"'profitability', 0.0786811077606839\",\n",
       "  \"'financial', 0.07819472932856392\",\n",
       "  \"'that', 0.07422093924943236\",\n",
       "  \"'product', 0.07373713077804599\",\n",
       "  \"'protection', 0.07204651290922069\",\n",
       "  \"'people', 0.07171870606455882\",\n",
       "  \"'from', 0.0704309601804992\",\n",
       "  \"'centricity', 0.06922334807390813\",\n",
       "  \"'service', 0.06908329721524523\",\n",
       "  \"'point', 0.0661786295160419\",\n",
       "  \"'specialist', 0.06583380570277904\",\n",
       "  \"'risk', 0.06540017731046355\",\n",
       "  \"'investment', 0.06142612208600404\",\n",
       "  \"'environment', 0.059765588387132355\",\n",
       "  \"'responsibility', 0.059765588387132355\",\n",
       "  \"'company', 0.05937675139954589\",\n",
       "  \"'growth', 0.05851893840247025\",\n",
       "  \"'relevance', 0.05851893840247025\",\n",
       "  \"'governance', 0.05815847855871592\",\n",
       "  \"'real', 0.05734280150761354\",\n",
       "  \"'estate', 0.05734280150761354\"],\n",
       " [\"'global', 0.32780503405359307\",\n",
       "  \"'with', 0.23414645289542368\",\n",
       "  \"'our', 0.23414645289542368\",\n",
       "  \"'training', 0.18731716231633894\",\n",
       "  \"'zero', 0.1404878717372542\",\n",
       "  \"'and', 0.1404878717372542\",\n",
       "  \"'customer', 0.1404878717372542\",\n",
       "  \"'qshe', 0.1404878717372542\",\n",
       "  \"'sustainability', 0.1404878717372542\",\n",
       "  \"'fostering', 0.1404878717372542\",\n",
       "  \"'unit', 0.1404878717372542\",\n",
       "  \"'the', 0.1404878717372542\",\n",
       "  \"'activity', 0.1404878717372542\",\n",
       "  \"'all', 0.1404878717372542\",\n",
       "  \"'will', 0.1404878717372542\",\n",
       "  \"'unsafe', 0.09365858115816947\",\n",
       "  \"'dangerous', 0.09365858115816947\",\n",
       "  \"'on', 0.09365858115816947\",\n",
       "  \"'solution', 0.09365858115816947\",\n",
       "  \"'staff', 0.09365858115816947\",\n",
       "  \"'quality', 0.09365858115816947\",\n",
       "  \"'safety', 0.09365858115816947\",\n",
       "  \"'ensuring', 0.09365858115816947\",\n",
       "  \"'program', 0.09365858115816947\",\n",
       "  \"'environment', 0.09365858115816947\",\n",
       "  \"'harm', 0.09365858115816947\",\n",
       "  \"'communicated', 0.09365858115816947\",\n",
       "  \"'overland', 0.09365858115816947\",\n",
       "  \"'sustainable', 0.09365858115816947\",\n",
       "  \"'engagement', 0.09365858115816947\",\n",
       "  \"'goods', 0.09365858115816947\",\n",
       "  \"'target', 0.09365858115816947\",\n",
       "  \"'developing', 0.09365858115816947\",\n",
       "  \"'security', 0.09365858115816947\",\n",
       "  \"'report', 0.09365858115816947\",\n",
       "  \"'business', 0.09365858115816947\",\n",
       "  \"'goal', 0.09365858115816947\",\n",
       "  \"'through', 0.09365858115816947\",\n",
       "  \"'to', 0.09365858115816947\",\n",
       "  \"'audit', 0.09365858115816947\"],\n",
       " [\"'group', 0.2094656043348213\",\n",
       "  \"'report', 0.17520279623193302\",\n",
       "  \"'segment', 0.1627194757941113\",\n",
       "  \"'sustainability', 0.15335924484407767\",\n",
       "  \"'value', 0.15116645681836544\",\n",
       "  \"'economic', 0.14425136252983242\",\n",
       "  \"'with', 0.14418461407771782\",\n",
       "  \"'fastening', 0.13886924761363373\",\n",
       "  \"'success', 0.13215852591977315\",\n",
       "  \"'goal', 0.12855616330032923\",\n",
       "  \"'sdg', 0.12343933121211888\",\n",
       "  \"'which', 0.11444434339433482\",\n",
       "  \"'education', 0.11260041516284701\",\n",
       "  \"'customer', 0.11131312037600227\",\n",
       "  \"'market', 0.10800941481060403\",\n",
       "  \"'stakeholder', 0.10583006151443206\",\n",
       "  \"'that', 0.10543448083030339\",\n",
       "  \"'we', 0.09911933982057144\",\n",
       "  \"'emission', 0.09717843652609205\",\n",
       "  \"'year', 0.09442739552295688\",\n",
       "  \"'global', 0.09306332570930093\",\n",
       "  \"'matrix', 0.09257949840908918\",\n",
       "  \"'material', 0.09193145963221981\",\n",
       "  \"'added', 0.08904131172437826\",\n",
       "  \"'materiality', 0.08810568394651543\",\n",
       "  \"'topic', 0.08638083246763738\",\n",
       "  \"'business', 0.08476021167130514\",\n",
       "  \"'corporate', 0.08476021167130514\",\n",
       "  \"'switzerland', 0.0843475139575735\",\n",
       "  \"'reduction', 0.0843475139575735\",\n",
       "  \"'this', 0.08257748654247644\",\n",
       "  \"'story', 0.08195604033442985\",\n",
       "  \"'technology', 0.08135973789705565\",\n",
       "  \"'location', 0.08135973789705565\",\n",
       "  \"'more', 0.08044002717819233\",\n",
       "  \"'solution', 0.0771495820075743\",\n",
       "  \"'engineered', 0.0771495820075743\",\n",
       "  \"'have', 0.07709281986044446\",\n",
       "  \"'distribution', 0.07632112433518137\",\n",
       "  \"'these', 0.07558322840918272\"],\n",
       " [\"'coop', 0.27077008004515846\",\n",
       "  \"'sustainability', 0.2508658672548931\",\n",
       "  \"'group', 0.21758398512383892\",\n",
       "  \"'product', 0.20760231375960864\",\n",
       "  \"'sustainable', 0.20723702077578127\",\n",
       "  \"'year', 0.17300192813300716\",\n",
       "  \"'target', 0.16861944958785113\",\n",
       "  \"'progress', 0.14993500438193957\",\n",
       "  \"'sale', 0.1472107144263978\",\n",
       "  \"'with', 0.14373470906214147\",\n",
       "  \"'strategy', 0.1421901544677076\",\n",
       "  \"'report', 0.12860790904343244\",\n",
       "  \"'billion', 0.12690221683339906\",\n",
       "  \"'chairman', 0.10575184736116587\",\n",
       "  \"'executive', 0.10575184736116587\",\n",
       "  \"'from', 0.10182915757929323\",\n",
       "  \"'this', 0.09814047628426519\",\n",
       "  \"'social', 0.0944752149350256\",\n",
       "  \"'which', 0.09137097708659896\",\n",
       "  \"'throughout', 0.0909471641333325\",\n",
       "  \"'business', 0.08986578584480585\",\n",
       "  \"'committee', 0.08618112066638524\",\n",
       "  \"'franc', 0.0846014778889327\",\n",
       "  \"'goals', 0.0846014778889327\",\n",
       "  \"'three', 0.08228697960999452\",\n",
       "  \"'retail', 0.07892723130987282\",\n",
       "  \"'organic', 0.07892723130987282\",\n",
       "  \"'area', 0.07702781643840503\",\n",
       "  \"'environment', 0.07614248090549913\",\n",
       "  \"'development', 0.07362679508665655\",\n",
       "  \"'focus', 0.07362679508665655\",\n",
       "  \"'people', 0.07362679508665655\",\n",
       "  \"'production', 0.0736053572131989\",\n",
       "  \"'commitment', 0.07137643743855183\",\n",
       "  \"'global', 0.06894489653310819\",\n",
       "  \"'been', 0.06582958368799562\",\n",
       "  \"'wholesale', 0.06577269275822735\",\n",
       "  \"'range', 0.06577269275822735\",\n",
       "  \"'millionen', 0.06345110841669953\",\n",
       "  \"'philipp', 0.06345110841669953\"],\n",
       " [\"'with', 0.2845081450918615\",\n",
       "  \"'responsible', 0.26104313280822444\",\n",
       "  \"'company', 0.25614689959613174\",\n",
       "  \"'sustainability', 0.18880913659926293\",\n",
       "  \"'investment', 0.1694033498717091\",\n",
       "  \"'report', 0.16198550836287173\",\n",
       "  \"'invest', 0.1584904734907077\",\n",
       "  \"'investing', 0.15114495208005144\",\n",
       "  \"'this', 0.14776367212116231\",\n",
       "  \"'we', 0.13052156640411222\",\n",
       "  \"'world', 0.12807344979806587\",\n",
       "  \"'carbon', 0.12640308562945193\",\n",
       "  \"'client', 0.12640308562945193\",\n",
       "  \"'that', 0.12447231347768942\",\n",
       "  \"'fund', 0.12119859737524706\",\n",
       "  \"'change', 0.12119859737524706\",\n",
       "  \"'climate', 0.11822164596744542\",\n",
       "  \"'emission', 0.11586949516033092\",\n",
       "  \"'their', 0.11558143394356875\",\n",
       "  \"'coutts', 0.1129355665811394\",\n",
       "  \"'future', 0.11187562834638191\",\n",
       "  \"'investor', 0.10533590469120994\",\n",
       "  \"'have', 0.10255265931751674\",\n",
       "  \"'action', 0.09851803830620452\",\n",
       "  \"'were', 0.08866623447558407\",\n",
       "  \"'help', 0.08866623447558407\",\n",
       "  \"'work', 0.08866623447558407\",\n",
       "  \"'them', 0.08525553071730091\",\n",
       "  \"'from', 0.0844828390325132\",\n",
       "  \"'which', 0.08390672125978643\",\n",
       "  \"'score', 0.08046160335934541\",\n",
       "  \"'our', 0.07672997764557082\",\n",
       "  \"'they', 0.07458375223092127\",\n",
       "  \"'sustainable', 0.07458375223092127\",\n",
       "  \"'what', 0.07373513328384695\",\n",
       "  \"'ensure', 0.06896708859372462\",\n",
       "  \"'target', 0.06896708859372462\",\n",
       "  \"'business', 0.06896262681434315\",\n",
       "  \"'management', 0.06526078320205611\",\n",
       "  \"'when', 0.06320154281472597\"],\n",
       " [\"'sustainability', 0.4744953517043155\",\n",
       "  \"'contents', 0.431221931272117\",\n",
       "  \"'comfort', 0.3751507968190049\",\n",
       "  \"'message', 0.3751507968190049\",\n",
       "  \"'president', 0.3298814904329311\",\n",
       "  \"'health', 0.2862801513379281\",\n",
       "  \"'from', 0.24910695097185956\",\n",
       "  \"'report', 0.23365181508017346\",\n",
       "  \"'pandemic', 0.0\",\n",
       "  \"'prepared', 0.0\",\n",
       "  \"'prechild', 0.0\",\n",
       "  \"'precise', 0.0\",\n",
       "  \"'precisely', 0.0\",\n",
       "  \"'prefecture', 0.0\",\n",
       "  \"'preferred', 0.0\",\n",
       "  \"'pregnancy', 0.0\",\n",
       "  \"'pregnant', 0.0\",\n",
       "  \"'prematernity', 0.0\",\n",
       "  \"'premise', 0.0\",\n",
       "  \"'preparation', 0.0\",\n",
       "  \"'prepare', 0.0\",\n",
       "  \"'preparing', 0.0\",\n",
       "  \"'pre', 0.0\",\n",
       "  \"'prepreg', 0.0\",\n",
       "  \"'preregistration', 0.0\",\n",
       "  \"'present', 0.0\",\n",
       "  \"'presentation', 0.0\",\n",
       "  \"'presented', 0.0\",\n",
       "  \"'presenting', 0.0\",\n",
       "  \"'preservation', 0.0\",\n",
       "  \"'preserve', 0.0\",\n",
       "  \"'palace', 0.0\",\n",
       "  \"'presiding', 0.0\",\n",
       "  \"'palette', 0.0\",\n",
       "  \"'praised', 0.0\",\n",
       "  \"'pressure', 0.0\",\n",
       "  \"'positive', 0.0\",\n",
       "  \"'polyethylene', 0.0\",\n",
       "  \"'polymer', 0.0\",\n",
       "  \"'polymers', 0.0\"],\n",
       " [\"'sustainability', 0.23578037637581098\",\n",
       "  \"'will', 0.23304963246842175\",\n",
       "  \"'carbon', 0.1993650512331047\",\n",
       "  \"'that', 0.19417207466243255\",\n",
       "  \"'world', 0.19232013865377787\",\n",
       "  \"'water', 0.18050864429999056\",\n",
       "  \"'waste', 0.15910603819835425\",\n",
       "  \"'technology', 0.14444125196986868\",\n",
       "  \"'microsoft', 0.13331058362619544\",\n",
       "  \"'climate', 0.12839715494027149\",\n",
       "  \"'this', 0.12200487588280615\",\n",
       "  \"'change', 0.11788813936891297\",\n",
       "  \"'must', 0.11711067042616083\",\n",
       "  \"'environmental', 0.10780269188917589\",\n",
       "  \"'more', 0.09961822134511908\",\n",
       "  \"'enabling', 0.0983754212671513\",\n",
       "  \"'condition', 0.09701297848861011\",\n",
       "  \"'innovation', 0.0958959338928212\",\n",
       "  \"'need', 0.09284515018059435\",\n",
       "  \"'commitment', 0.09056233090641375\",\n",
       "  \"'solution', 0.08943220115195574\",\n",
       "  \"'from', 0.0891192134005421\",\n",
       "  \"'policy', 0.08545153190508797\",\n",
       "  \"'report', 0.0852437299615343\",\n",
       "  \"'overview', 0.08133658392187076\",\n",
       "  \"'ecosystems', 0.08133658392187076\",\n",
       "  \"'progress', 0.0809449531848834\",\n",
       "  \"'challenge', 0.07908946233337591\",\n",
       "  \"'partner', 0.07908946233337591\",\n",
       "  \"'risk', 0.07785649284667018\",\n",
       "  \"'negative', 0.07737154613149229\",\n",
       "  \"'customer', 0.07737154613149229\",\n",
       "  \"'positive', 0.07577220441025272\",\n",
       "  \"'impact', 0.07463022388315751\",\n",
       "  \"'work', 0.07463022388315751\",\n",
       "  \"'focus', 0.07427612014447547\",\n",
       "  \"'outlook', 0.07067562737021052\",\n",
       "  \"'ecosystem', 0.06770010286505576\",\n",
       "  \"'appendix', 0.067027805957913\",\n",
       "  \"'investment', 0.06689396127087925\"],\n",
       " [\"'sustainability', 0.3704261172360179\",\n",
       "  \"'investment', 0.19164463286066602\",\n",
       "  \"'drive', 0.1830619912606518\",\n",
       "  \"'that', 0.17851319921064468\",\n",
       "  \"'sustainable', 0.1637944588262044\",\n",
       "  \"'business', 0.15667296061636946\",\n",
       "  \"'with', 0.15582654747117913\",\n",
       "  \"'ubps', 0.15352487242673754\",\n",
       "  \"'environment', 0.1505676981287025\",\n",
       "  \"'management', 0.13956806584248865\",\n",
       "  \"'report', 0.1276675128091855\",\n",
       "  \"'client', 0.11902050626002263\",\n",
       "  \"'governance', 0.11634776673581557\",\n",
       "  \"'responsible', 0.10911703980957937\",\n",
       "  \"'communities', 0.1068224731475246\",\n",
       "  \"'clients', 0.1068224731475246\",\n",
       "  \"'strategy', 0.1046760493818665\",\n",
       "  \"'environmental', 0.10414294297751979\",\n",
       "  \"'community', 0.1006840951933585\",\n",
       "  \"'towards', 0.1006840951933585\",\n",
       "  \"'people', 0.09970097493768965\",\n",
       "  \"'social', 0.09692448057844126\",\n",
       "  \"'stakeholder', 0.09366775426478516\",\n",
       "  \"'executive', 0.0915309956303259\",\n",
       "  \"'corporate', 0.09079511807051548\",\n",
       "  \"'priority', 0.09046887734961943\",\n",
       "  \"'financial', 0.08606433337582976\",\n",
       "  \"'tcfd', 0.08576589597125509\",\n",
       "  \"'foreword', 0.08545797851801969\",\n",
       "  \"'topic', 0.08237789606729333\",\n",
       "  \"'wealth', 0.08041677986632839\",\n",
       "  \"'commitment', 0.0793018477459974\",\n",
       "  \"'home', 0.07833648030818473\",\n",
       "  \"'development', 0.07616252467449285\",\n",
       "  \"'ungc', 0.07528384906435125\",\n",
       "  \"'responsibility', 0.07322479650426073\",\n",
       "  \"'impact', 0.07274469320638624\",\n",
       "  \"'through', 0.07218446517084087\",\n",
       "  \"'their', 0.07121498209834974\",\n",
       "  \"'employee', 0.07049053132977547\"],\n",
       " [\"'change', 0.3556788586744909\",\n",
       "  \"'investment', 0.262695398019403\",\n",
       "  \"'about', 0.20596576471758718\",\n",
       "  \"'investing', 0.20175944649793429\",\n",
       "  \"'sustainability', 0.1964854734676909\",\n",
       "  \"'fact', 0.17209149878002156\",\n",
       "  \"'contributing', 0.15284735998701685\",\n",
       "  \"'officer', 0.14665213104763686\",\n",
       "  \"'chief', 0.1415902604344358\",\n",
       "  \"'time', 0.1415902604344358\",\n",
       "  \"'sustainable', 0.1389405049295031\",\n",
       "  \"'one', 0.1373105098117248\",\n",
       "  \"'responsible', 0.13360322119401213\",\n",
       "  \"'bank', 0.12586111641232975\",\n",
       "  \"'principles', 0.12476185535906115\",\n",
       "  \"'from', 0.10816385346162743\",\n",
       "  \"'figure', 0.10680927146613904\",\n",
       "  \"'strategy', 0.10196862452224745\",\n",
       "  \"'impact', 0.09882223222571539\",\n",
       "  \"'governance', 0.09690675390904638\",\n",
       "  \"'report', 0.0896226236963861\",\n",
       "  \"'acknowl', 0.08604574939001078\",\n",
       "  \"'had', 0.08604574939001078\",\n",
       "  \"'dear', 0.08604574939001078\",\n",
       "  \"'six', 0.08604574939001078\",\n",
       "  \"'poors', 0.08604574939001078\",\n",
       "  \"'listed', 0.08604574939001078\",\n",
       "  \"'lives', 0.08604574939001078\",\n",
       "  \"'edging', 0.08604574939001078\",\n",
       "  \"'renewal', 0.08604574939001078\",\n",
       "  \"'worldwide', 0.08604574939001078\",\n",
       "  \"'impossible', 0.08604574939001078\",\n",
       "  \"'come', 0.08604574939001078\",\n",
       "  \"'the', 0.08217963169340252\",\n",
       "  \"'highlights', 0.08041719961372025\",\n",
       "  \"'swiss', 0.08041719961372025\",\n",
       "  \"'tortola', 0.08041719961372025\",\n",
       "  \"'index', 0.08041719961372025\",\n",
       "  \"'signatory', 0.08041719961372025\",\n",
       "  \"'zurich', 0.08041719961372025\"],\n",
       " [\"'report', 0.5665654507976725\",\n",
       "  \"'assurance', 0.3632428248954172\",\n",
       "  \"'independent', 0.3082346124655481\",\n",
       "  \"'integrated', 0.2190064993693316\",\n",
       "  \"'available', 0.21564185546467216\",\n",
       "  \"'auditor', 0.195335435732025\",\n",
       "  \"'information', 0.1693250411163522\",\n",
       "  \"'sustainability', 0.15794868528747436\",\n",
       "  \"'kpmg', 0.13594723800887332\",\n",
       "  \"'standard', 0.10892652456622133\",\n",
       "  \"'section', 0.09707486393615515\",\n",
       "  \"'this', 0.0902467114459619\",\n",
       "  \"'pertinent', 0.08983119542002027\",\n",
       "  \"'engagements', 0.08579770486300518\",\n",
       "  \"'isae', 0.08579770486300518\",\n",
       "  \"'financial', 0.08525900790665607\",\n",
       "  \"'realization', 0.08293589776924354\",\n",
       "  \"'dated', 0.08293589776924354\",\n",
       "  \"'with', 0.0814879555305038\",\n",
       "  \"'management', 0.0807848568026595\",\n",
       "  \"'english', 0.07736894527183671\",\n",
       "  \"'fullyear', 0.07736894527183671\",\n",
       "  \"'auditors', 0.0760406001184668\",\n",
       "  \"'wirtschaftsprüfungsgesellschaft', 0.0760406001184668\",\n",
       "  \"'opinion', 0.0760406001184668\",\n",
       "  \"'created', 0.07382081008207095\",\n",
       "  \"'audited', 0.07200710956145173\",\n",
       "  \"'reference', 0.07200710956145173\",\n",
       "  \"'concept', 0.07121085977545782\",\n",
       "  \"'february', 0.06797361900443666\",\n",
       "  \"'additionally', 0.06797361900443666\",\n",
       "  \"'present', 0.06553518694205408\",\n",
       "  \"'content', 0.065111811910675\",\n",
       "  \"'selected', 0.06431556212468109\",\n",
       "  \"'possible', 0.06225000481691335\",\n",
       "  \"'shana', 0.06225000481691335\",\n",
       "  \"'designed', 0.06225000481691335\",\n",
       "  \"'provided', 0.06164692249310963\",\n",
       "  \"'accordance', 0.06107832135365993\",\n",
       "  \"'audit', 0.06080576151694477\"],\n",
       " [\"'this', 0.2973935488094806\",\n",
       "  \"'train', 0.2561165415752554\",\n",
       "  \"'system', 0.2164830101716554\",\n",
       "  \"'that', 0.19062358248893188\",\n",
       "  \"'more', 0.18942263390019848\",\n",
       "  \"'will', 0.166391955633583\",\n",
       "  \"'want', 0.13895663957838814\",\n",
       "  \"'year', 0.1386599630279858\",\n",
       "  \"'stadler', 0.13697920957090554\",\n",
       "  \"'vehicle', 0.12852796513040007\",\n",
       "  \"'capacity', 0.1230627788424971\",\n",
       "  \"'report', 0.12146401088095934\",\n",
       "  \"'cent', 0.12043885678940724\",\n",
       "  \"'sustainability', 0.11482091398817616\",\n",
       "  \"'with', 0.10725113109680917\",\n",
       "  \"'further', 0.10421747968379111\",\n",
       "  \"'development', 0.10002642797307675\",\n",
       "  \"'possible', 0.10002642797307675\",\n",
       "  \"'into', 0.09319368636107614\",\n",
       "  \"'order', 0.09319368636107614\",\n",
       "  \"'railway', 0.09319368636107614\",\n",
       "  \"'measure', 0.09032914259205543\",\n",
       "  \"'reader', 0.08939104811014137\",\n",
       "  \"'increase', 0.08773784755161168\",\n",
       "  \"'than', 0.08773784755161168\",\n",
       "  \"'these', 0.0853721805250851\",\n",
       "  \"'billion', 0.08204185256166473\",\n",
       "  \"'foreword', 0.08204185256166473\",\n",
       "  \"'population', 0.08204185256166473\",\n",
       "  \"'expand', 0.08204185256166473\",\n",
       "  \"'which', 0.07930534926934048\",\n",
       "  \"'course', 0.07682751533767071\",\n",
       "  \"'flirt', 0.07278296116717428\",\n",
       "  \"'demand', 0.07278296116717428\",\n",
       "  \"'information', 0.07278296116717428\",\n",
       "  \"'tram', 0.07278296116717428\",\n",
       "  \"'growth', 0.07278296116717428\",\n",
       "  \"'strategy', 0.07278296116717428\",\n",
       "  \"'about', 0.07278296116717428\",\n",
       "  \"'control', 0.06947831978919407\"],\n",
       " [\"'the', 0.34038500543717065\",\n",
       "  \"'property', 0.2471620899589954\",\n",
       "  \"'energy', 0.20596840829916285\",\n",
       "  \"'with', 0.19183326649241572\",\n",
       "  \"'allreal', 0.17719330620141913\",\n",
       "  \"'building', 0.16581323600667347\",\n",
       "  \"'that', 0.16385878519831726\",\n",
       "  \"'year', 0.1218925013495689\",\n",
       "  \"'construction', 0.1174510421713937\",\n",
       "  \"'consumption', 0.11181142164811697\",\n",
       "  \"'were', 0.11127646536648847\",\n",
       "  \"'this', 0.1110011125536988\",\n",
       "  \"'project', 0.10363327250417091\",\n",
       "  \"'portfolio', 0.10363327250417091\",\n",
       "  \"'environment', 0.1031079029911332\",\n",
       "  \"'society', 0.09842118012789987\",\n",
       "  \"'economy', 0.09842118012789987\",\n",
       "  \"'report', 0.09830040431416846\",\n",
       "  \"'from', 0.09721476995538683\",\n",
       "  \"'their', 0.0967243876705595\",\n",
       "  \"'compliance', 0.09658543190182389\",\n",
       "  \"'value', 0.09415698665104588\",\n",
       "  \"'index', 0.09373445726466655\",\n",
       "  \"'employee', 0.09315200480927534\",\n",
       "  \"'total', 0.09104438075439965\",\n",
       "  \"'editorial', 0.09062121147590518\",\n",
       "  \"'site', 0.0882721749853555\",\n",
       "  \"'appendix', 0.08609015090210992\",\n",
       "  \"'sustainability', 0.08341469118793882\",\n",
       "  \"'space', 0.08290661800333674\",\n",
       "  \"'working', 0.08238736331966513\",\n",
       "  \"'which', 0.07928650896692771\",\n",
       "  \"'company', 0.07872530255682275\",\n",
       "  \"'effect', 0.07599773316972533\",\n",
       "  \"'revaluation', 0.07599773316972533\",\n",
       "  \"'we', 0.07599773316972533\",\n",
       "  \"'more', 0.07599773316972533\",\n",
       "  \"'work', 0.07571808518859448\",\n",
       "  \"'safety', 0.07571808518859448\",\n",
       "  \"'during', 0.07571808518859448\"],\n",
       " [\"'ecovadis', 0.21080741848202392\",\n",
       "  \"'that', 0.19744177450300215\",\n",
       "  \"'social', 0.18876825751909462\",\n",
       "  \"'environmental', 0.17688452034549304\",\n",
       "  \"'itself', 0.13649764899151215\",\n",
       "  \"'world', 0.13634973231797673\",\n",
       "  \"'this', 0.13453405076769148\",\n",
       "  \"'assessment', 0.1290021850354465\",\n",
       "  \"'report', 0.1258638642168778\",\n",
       "  \"'will', 0.1252190440994499\",\n",
       "  \"'sustainability', 0.12036319983032756\",\n",
       "  \"'around', 0.11386931365309967\",\n",
       "  \"'equal', 0.10936677621269954\",\n",
       "  \"'procurement', 0.10555993504926135\",\n",
       "  \"'criterion', 0.10226229923848255\",\n",
       "  \"'company', 0.10017523527955992\",\n",
       "  \"'supplier', 0.09935357831040173\",\n",
       "  \"'corporate', 0.09675163877658487\",\n",
       "  \"'have', 0.0962969407087855\",\n",
       "  \"'human', 0.09439789816265835\",\n",
       "  \"'with', 0.09394397951619378\",\n",
       "  \"'irresponsible', 0.09099843266100811\",\n",
       "  \"'dear', 0.09099843266100811\",\n",
       "  \"'injustice', 0.09099843266100811\",\n",
       "  \"'causing', 0.09099843266100811\",\n",
       "  \"'fundamentally', 0.09099843266100811\",\n",
       "  \"'globalisation', 0.09099843266100811\",\n",
       "  \"'right', 0.09027239987274566\",\n",
       "  \"'people', 0.08844226017274652\",\n",
       "  \"'girsberger', 0.08682430474316284\",\n",
       "  \"'business', 0.08673844087428706\",\n",
       "  \"'which', 0.08514462436196775\",\n",
       "  \"'nor', 0.08432296739280958\",\n",
       "  \"'profitability', 0.08432296739280958\",\n",
       "  \"'investment', 0.08432296739280958\",\n",
       "  \"'product', 0.08364746388166822\",\n",
       "  \"'been', 0.08364746388166822\",\n",
       "  \"'political', 0.07958664940999824\",\n",
       "  \"'gender', 0.07958664940999824\",\n",
       "  \"'year', 0.07618246102047166\"],\n",
       " [\"'orior', 0.30372277599408426\",\n",
       "  \"'sustainability', 0.29895109957064986\",\n",
       "  \"'with', 0.1988984255582334\",\n",
       "  \"'food', 0.1555212236927582\",\n",
       "  \"'report', 0.14561844905900356\",\n",
       "  \"'this', 0.12812189981599278\",\n",
       "  \"'were', 0.11907616654407219\",\n",
       "  \"'have', 0.11548558738732857\",\n",
       "  \"'about', 0.11410921129582535\",\n",
       "  \"'group', 0.11223751344905837\",\n",
       "  \"'which', 0.11023228908549461\",\n",
       "  \"'also', 0.10742969838463963\",\n",
       "  \"'very', 0.10487703753140687\",\n",
       "  \"'competence', 0.10368081579517213\",\n",
       "  \"'centre', 0.10069882690008282\",\n",
       "  \"'responsibility', 0.09886235986121182\",\n",
       "  \"'able', 0.09465471595141689\",\n",
       "  \"'will', 0.09465471595141689\",\n",
       "  \"'statement', 0.09462977424905135\",\n",
       "  \"'company', 0.09261479620094504\",\n",
       "  \"'product', 0.09165083996377463\",\n",
       "  \"'switzerland', 0.091271953877502\",\n",
       "  \"'achieve', 0.091271953877502\",\n",
       "  \"'groups', 0.08495843123126035\",\n",
       "  \"'year', 0.08426329730550791\",\n",
       "  \"'employee', 0.08219685841807141\",\n",
       "  \"'shareholder', 0.08184508085492116\",\n",
       "  \"'million', 0.08184508085492116\",\n",
       "  \"'their', 0.08024154567763221\",\n",
       "  \"'development', 0.08024154567763221\",\n",
       "  \"'area', 0.07938411102938146\",\n",
       "  \"'home', 0.07570381939924108\",\n",
       "  \"'such', 0.07183523647922711\",\n",
       "  \"'strategic', 0.07134652505329458\",\n",
       "  \"'strategy', 0.07091150362084357\",\n",
       "  \"'reporting', 0.07091150362084357\",\n",
       "  \"'site', 0.06918915605049335\",\n",
       "  \"'measure', 0.06686795473136017\",\n",
       "  \"'corporate', 0.06652315656799929\",\n",
       "  \"'specific', 0.06652315656799929\"],\n",
       " [\"'sustainability', 0.291110846629216\",\n",
       "  \"'board', 0.17349877712913803\",\n",
       "  \"'with', 0.1679439620969948\",\n",
       "  \"'strategy', 0.1600641218183208\",\n",
       "  \"'credit', 0.14464140610679482\",\n",
       "  \"'financial', 0.14103711977927902\",\n",
       "  \"'suisse', 0.13773295939623237\",\n",
       "  \"'year', 0.13522615141540817\",\n",
       "  \"'that', 0.13239621177599573\",\n",
       "  \"'iris', 0.13109248676500043\",\n",
       "  \"'bohnet', 0.13109248676500043\",\n",
       "  \"'report', 0.12582366913353968\",\n",
       "  \"'have', 0.12146298002356613\",\n",
       "  \"'deliver', 0.12102308323745752\",\n",
       "  \"'this', 0.11352115834359164\",\n",
       "  \"'effort', 0.1131851127901622\",\n",
       "  \"'society', 0.10701121500972428\",\n",
       "  \"'delighted', 0.10542734160485928\",\n",
       "  \"'client', 0.10248009424621511\",\n",
       "  \"'directors', 0.10072317253372187\",\n",
       "  \"'lydie', 0.09831936507375032\",\n",
       "  \"'hudson', 0.09831936507375032\",\n",
       "  \"'solutions', 0.09508627404925803\",\n",
       "  \"'more', 0.09470446175081926\",\n",
       "  \"'sustainable', 0.08818479214139138\",\n",
       "  \"'research', 0.08794831304386999\",\n",
       "  \"'economic', 0.08348260650291808\",\n",
       "  \"'business', 0.08347295962524277\",\n",
       "  \"'creation', 0.07906022240404942\",\n",
       "  \"'market', 0.07650566039032151\",\n",
       "  \"'across', 0.07650566039032151\",\n",
       "  \"'play', 0.0755423794002914\",\n",
       "  \"'accounting', 0.07401703279656645\",\n",
       "  \"'tcfd', 0.07401703279656645\",\n",
       "  \"'climaterelated', 0.07261384994247451\",\n",
       "  \"'leader', 0.07131470553694352\",\n",
       "  \"'bank', 0.07113960969703147\",\n",
       "  \"'governance', 0.0705478337131131\",\n",
       "  \"'download', 0.07028489440323951\",\n",
       "  \"'ours', 0.07028489440323951\"],\n",
       " [\"'page', 0.2282994471628792\",\n",
       "  \"'safety', 0.16540567840068718\",\n",
       "  \"'million', 0.16012346334476937\",\n",
       "  \"'during', 0.15805346342045484\",\n",
       "  \"'read', 0.15052823073852606\",\n",
       "  \"'report', 0.1450913609109983\",\n",
       "  \"'more', 0.13840357381758725\",\n",
       "  \"'this', 0.13786248997193032\",\n",
       "  \"'change', 0.13665583657796893\",\n",
       "  \"'business', 0.12960410585146548\",\n",
       "  \"'have', 0.12720866117571317\",\n",
       "  \"'year', 0.12666036183385182\",\n",
       "  \"'performance', 0.12396222712290605\",\n",
       "  \"'support', 0.12293047154924265\",\n",
       "  \"'community', 0.11700146578177903\",\n",
       "  \"'that', 0.11630369465394276\",\n",
       "  \"'water', 0.10735645299155469\",\n",
       "  \"'which', 0.09814243925619899\",\n",
       "  \"'with', 0.09786557877415283\",\n",
       "  \"'people', 0.09515926035659407\",\n",
       "  \"'need', 0.09408014421157877\",\n",
       "  \"'total', 0.09246064678646683\",\n",
       "  \"'governancestakeholder', 0.09163124697150417\",\n",
       "  \"'glancewhere', 0.09163124697150417\",\n",
       "  \"'dashboardchairs', 0.09163124697150417\",\n",
       "  \"'operateperformance', 0.09163124697150417\",\n",
       "  \"'reviewpurpose', 0.09163124697150417\",\n",
       "  \"'sustainabilitysustainability', 0.09163124697150417\",\n",
       "  \"'briefcontentsat', 0.09163124697150417\",\n",
       "  \"'engagementabout', 0.09163124697150417\",\n",
       "  \"'introductionceo', 0.09163124697150417\",\n",
       "  \"'glencore', 0.0915044841208963\",\n",
       "  \"'target', 0.09070159324744745\",\n",
       "  \"'life', 0.08920281181223373\",\n",
       "  \"'case', 0.08780747967803046\",\n",
       "  \"'lowcarbon', 0.08257697948114226\",\n",
       "  \"'fund', 0.08257697948114226\",\n",
       "  \"'sustainability', 0.08098030286937191\",\n",
       "  \"'emission', 0.0803809843415662\",\n",
       "  \"'priority', 0.07851085392339571\"],\n",
       " [\"'sustainability', 0.407547654540379\",\n",
       "  \"'report', 0.17494917129192838\",\n",
       "  \"'governance', 0.17272557441339023\",\n",
       "  \"'allianz', 0.16212152735327984\",\n",
       "  \"'risk', 0.14180034214445822\",\n",
       "  \"'were', 0.14145008979137716\",\n",
       "  \"'performance', 0.13921707182764123\",\n",
       "  \"'this', 0.13439581469848852\",\n",
       "  \"'business', 0.13394566022730436\",\n",
       "  \"'strategy', 0.13219411547787863\",\n",
       "  \"'world', 0.13185601235185554\",\n",
       "  \"'climate', 0.13010310223164537\",\n",
       "  \"'customer', 0.12757508980296595\",\n",
       "  \"'data', 0.1248286552240771\",\n",
       "  \"'target', 0.1156698510431438\",\n",
       "  \"'management', 0.11384021445268969\",\n",
       "  \"'from', 0.10759022656733022\",\n",
       "  \"'message', 0.095833728317419\",\n",
       "  \"'entity', 0.09514920645148359\",\n",
       "  \"'employee', 0.09343347269366245\",\n",
       "  \"'global', 0.09147755063420515\",\n",
       "  \"'that', 0.08930950342771303\",\n",
       "  \"'impact', 0.08235463774747034\",\n",
       "  \"'purpose', 0.08092688774054374\",\n",
       "  \"'metrics', 0.07866970134216866\",\n",
       "  \"'societal', 0.07789919833448312\",\n",
       "  \"'society', 0.0767417275297531\",\n",
       "  \"'integration', 0.07643886530577754\",\n",
       "  \"'information', 0.07540718927020121\",\n",
       "  \"'with', 0.07421948695376984\",\n",
       "  \"'change', 0.07379388470144964\",\n",
       "  \"'need', 0.07344511503166772\",\n",
       "  \"'interbrand', 0.0734191269235494\",\n",
       "  \"'precisely', 0.0734191269235494\",\n",
       "  \"'icon', 0.0734191269235494\",\n",
       "  \"'rounding', 0.0734191269235494\",\n",
       "  \"'have', 0.07172681771155348\",\n",
       "  \"'sustainable', 0.07036677767033826\",\n",
       "  \"'other', 0.06933934894521963\",\n",
       "  \"'hand', 0.06920204593339245\"],\n",
       " [\"'report', 0.23186456455798393\",\n",
       "  \"'sustainability', 0.2291529572414281\",\n",
       "  \"'reporting', 0.20424187942973468\",\n",
       "  \"'nations', 0.17300124936159283\",\n",
       "  \"'been', 0.150790861462966\",\n",
       "  \"'core', 0.14664683272663212\",\n",
       "  \"'included', 0.14664683272663212\",\n",
       "  \"'united', 0.14286363089684562\",\n",
       "  \"'sustainable', 0.14286363089684562\",\n",
       "  \"'takeda', 0.13259138673823595\",\n",
       "  \"'value', 0.13035538909501704\",\n",
       "  \"'azsa', 0.11038412224462933\",\n",
       "  \"'sdgs', 0.11038412224462933\",\n",
       "  \"'ltd', 0.11038412224462933\",\n",
       "  \"'rddriven', 0.11038412224462933\",\n",
       "  \"'indexes', 0.11038412224462933\",\n",
       "  \"'this', 0.10602363448840925\",\n",
       "  \"'global', 0.10449788521385814\",\n",
       "  \"'consolidated', 0.10156943391317001\",\n",
       "  \"'mitigating', 0.10156943391317001\",\n",
       "  \"'striving', 0.10156943391317001\",\n",
       "  \"'purposeled', 0.10156943391317001\",\n",
       "  \"'aligns', 0.10156943391317001\",\n",
       "  \"'solve', 0.10156943391317001\",\n",
       "  \"'societal', 0.10156943391317001\",\n",
       "  \"'kpmg', 0.10156943391317001\",\n",
       "  \"'biggest', 0.10156943391317001\",\n",
       "  \"'assured', 0.10156943391317001\",\n",
       "  \"'with', 0.09758184889082437\",\n",
       "  \"'compact', 0.09531531301225572\",\n",
       "  \"'collective', 0.09531531301225572\",\n",
       "  \"'thrive', 0.09531531301225572\",\n",
       "  \"'april', 0.09531531301225572\",\n",
       "  \"'option', 0.09531531301225572\",\n",
       "  \"'inclusive', 0.09531531301225572\",\n",
       "  \"'subsidiary', 0.09531531301225572\",\n",
       "  \"'march', 0.0904642399638566\",\n",
       "  \"'guideline', 0.0904642399638566\",\n",
       "  \"'healthy', 0.0904642399638566\",\n",
       "  \"'selected', 0.0904642399638566\"],\n",
       " [\"'care', 0.2322999171985206\",\n",
       "  \"'sustainability', 0.19492484824880163\",\n",
       "  \"'product', 0.18350689514149268\",\n",
       "  \"'corporate', 0.1751645517393602\",\n",
       "  \"'management', 0.1556697554519353\",\n",
       "  \"'braun', 0.15428898827818885\",\n",
       "  \"'with', 0.1440531554950592\",\n",
       "  \"'company', 0.1383731159572758\",\n",
       "  \"'development', 0.1381604530042987\",\n",
       "  \"'area', 0.13539868670669006\",\n",
       "  \"'health', 0.12834259142834814\",\n",
       "  \"'therapy', 0.11851818769267869\",\n",
       "  \"'service', 0.11828662042957021\",\n",
       "  \"'medical', 0.11690499869594505\",\n",
       "  \"'reporting', 0.11628671202918603\",\n",
       "  \"'innovation', 0.11226265437783302\",\n",
       "  \"'division', 0.11141800837104623\",\n",
       "  \"'customer', 0.10933924730163627\",\n",
       "  \"'value', 0.10829158236044535\",\n",
       "  \"'percent', 0.10478206504744846\",\n",
       "  \"'goal', 0.10388055762465924\",\n",
       "  \"'business', 0.10154901503001755\",\n",
       "  \"'hospital', 0.10009402956534869\",\n",
       "  \"'well', 0.0965825763902593\",\n",
       "  \"'patient', 0.09398417505406621\",\n",
       "  \"'strategy', 0.0905152284406515\",\n",
       "  \"'surgery', 0.088888640769509\",\n",
       "  \"'strategic', 0.08419699078337477\",\n",
       "  \"'future', 0.08280063430069914\",\n",
       "  \"'group', 0.08079598926362384\",\n",
       "  \"'research', 0.07758448152055844\",\n",
       "  \"'every', 0.07758448152055844\",\n",
       "  \"'make', 0.07732704265020916\",\n",
       "  \"'also', 0.07542676955478451\",\n",
       "  \"'from', 0.07542676955478451\",\n",
       "  \"'year', 0.07519357880585928\",\n",
       "  \"'outpatient', 0.07407386730792419\",\n",
       "  \"'production', 0.07308139512367148\",\n",
       "  \"'will', 0.07289283153442418\",\n",
       "  \"'world', 0.07289283153442418\"],\n",
       " [\"'decree', 0.26627636024649376\",\n",
       "  \"'report', 0.2591608878484726\",\n",
       "  \"'autogrill', 0.20816184306439003\",\n",
       "  \"'disclosure', 0.20567267777216425\",\n",
       "  \"'cover', 0.1982644391882396\",\n",
       "  \"'area', 0.19131480093166395\",\n",
       "  \"'required', 0.18638811616388035\",\n",
       "  \"'nonfinancial', 0.16736337695811043\",\n",
       "  \"'corporate', 0.16736337695811043\",\n",
       "  \"'management', 0.1583200633132945\",\n",
       "  \"'product', 0.15305184074533115\",\n",
       "  \"'group', 0.15117434964583806\",\n",
       "  \"'quality', 0.14596884921900719\",\n",
       "  \"'model', 0.1438718322828313\",\n",
       "  \"'annual', 0.14007240946540006\",\n",
       "  \"'document', 0.13313818012324688\",\n",
       "  \"'consolidated', 0.12552253271858282\",\n",
       "  \"'directors', 0.12552253271858282\",\n",
       "  \"'risk', 0.11478888055899837\",\n",
       "  \"'that', 0.11199973026268269\",\n",
       "  \"'with', 0.10405522839941396\",\n",
       "  \"'provide', 0.09591455485522088\",\n",
       "  \"'section', 0.09319405808194017\",\n",
       "  \"'identified', 0.09319405808194017\",\n",
       "  \"'experience', 0.09083745658544483\",\n",
       "  \"'legislative', 0.09083745658544483\",\n",
       "  \"'initiative', 0.08689935321795414\",\n",
       "  \"'planet', 0.08521729098566927\",\n",
       "  \"'performance', 0.08368168847905522\",\n",
       "  \"'policy', 0.08204875180728081\",\n",
       "  \"'relation', 0.08096119170577451\",\n",
       "  \"'community', 0.08096119170577451\",\n",
       "  \"'this', 0.07974358511156451\",\n",
       "  \"'waste', 0.07974358511156451\",\n",
       "  \"'value', 0.07974358511156451\",\n",
       "  \"'sustainability', 0.07974358511156451\",\n",
       "  \"'customer', 0.07753466895938396\",\n",
       "  \"'where', 0.07753466895938396\",\n",
       "  \"'statement', 0.07557172606634877\",\n",
       "  \"'service', 0.07466648684178846\"],\n",
       " [\"'that', 0.3308234378070227\",\n",
       "  \"'this', 0.2582437843147247\",\n",
       "  \"'sustainability', 0.2393268180739487\",\n",
       "  \"'sustainable', 0.19152935873038157\",\n",
       "  \"'transition', 0.18876864352976902\",\n",
       "  \"'economy', 0.17617321958880994\",\n",
       "  \"'client', 0.1517438296915124\",\n",
       "  \"'model', 0.15044135569325096\",\n",
       "  \"'from', 0.14727804189166074\",\n",
       "  \"'report', 0.1416765145344423\",\n",
       "  \"'managing', 0.13636186938245173\",\n",
       "  \"'with', 0.13231090655485642\",\n",
       "  \"'believe', 0.12584576235317935\",\n",
       "  \"'will', 0.11045853141874556\",\n",
       "  \"'circular', 0.1011975103817445\",\n",
       "  \"'investment', 0.0992331799161423\",\n",
       "  \"'pandemic', 0.0978740108826722\",\n",
       "  \"'must', 0.09520814366919458\",\n",
       "  \"'odier', 0.09502988621418598\",\n",
       "  \"'approach', 0.0909079129216345\",\n",
       "  \"'most', 0.0909079129216345\",\n",
       "  \"'capital', 0.0871828836128312\",\n",
       "  \"'covid', 0.0809580083053956\",\n",
       "  \"'through', 0.0809580083053956\",\n",
       "  \"'clean', 0.07988933432720219\",\n",
       "  \"'every', 0.07988933432720219\",\n",
       "  \"'already', 0.07988933432720219\",\n",
       "  \"'lean', 0.07988933432720219\",\n",
       "  \"'lombard', 0.07835318291213661\",\n",
       "  \"'change', 0.0758719148457562\",\n",
       "  \"'partners', 0.07522067784662548\",\n",
       "  \"'return', 0.07522067784662548\",\n",
       "  \"'inclusive', 0.07522067784662548\",\n",
       "  \"'solution', 0.07363902094583037\",\n",
       "  \"'clic', 0.07140610775189594\",\n",
       "  \"'future', 0.06818093469122587\",\n",
       "  \"'word', 0.062927670629854\",\n",
       "  \"'underscored', 0.062927670629854\",\n",
       "  \"'colleague', 0.06292288117658967\",\n",
       "  \"'ensure', 0.06292288117658967\"],\n",
       " [\"'with', 0.30572900395388825\",\n",
       "  \"'sustainability', 0.25860448227560395\",\n",
       "  \"'will', 0.19702694558580217\",\n",
       "  \"'business', 0.17240298818373595\",\n",
       "  \"'care', 0.15928564659581548\",\n",
       "  \"'this', 0.15852305046774479\",\n",
       "  \"'strategy', 0.1423030267296363\",\n",
       "  \"'overall', 0.1423030267296363\",\n",
       "  \"'value', 0.13587490771698776\",\n",
       "  \"'understand', 0.11453416875732868\",\n",
       "  \"'climate', 0.10619043106387697\",\n",
       "  \"'strong', 0.10619043106387697\",\n",
       "  \"'footprint', 0.10619043106387697\",\n",
       "  \"'culture', 0.10321242217987589\",\n",
       "  \"'plan', 0.10321242217987589\",\n",
       "  \"'route', 0.10321242217987589\",\n",
       "  \"'aspect', 0.09851347279290108\",\n",
       "  \"'took', 0.09658962498939792\",\n",
       "  \"'first', 0.09486868448642419\",\n",
       "  \"'relevant', 0.09331190443702066\",\n",
       "  \"'stakeholder', 0.09331190443702066\",\n",
       "  \"'basis', 0.09331190443702066\",\n",
       "  \"'part', 0.0918906756024231\",\n",
       "  \"'based', 0.08824588729594622\",\n",
       "  \"'community', 0.0871917262154483\",\n",
       "  \"'which', 0.0871917262154483\",\n",
       "  \"'employee', 0.08620149409186798\",\n",
       "  \"'their', 0.084384753738662\",\n",
       "  \"'swiss', 0.08354693790897141\",\n",
       "  \"'beverage', 0.08275000777682777\",\n",
       "  \"'social', 0.08275000777682777\",\n",
       "  \"'reduction', 0.08199015785956788\",\n",
       "  \"'also', 0.08126409043137534\",\n",
       "  \"'year', 0.07926152523387239\",\n",
       "  \"'health', 0.07926152523387239\",\n",
       "  \"'that', 0.07926152523387239\",\n",
       "  \"'switzerland', 0.07747788282034318\",\n",
       "  \"'sciencebased', 0.060578482973903315\",\n",
       "  \"'custom', 0.060578482973903315\",\n",
       "  \"'scientific', 0.060578482973903315\"],\n",
       " [\"'progress', 0.39499298766701596\",\n",
       "  \"'sustainable', 0.32978470207843524\",\n",
       "  \"'introduce', 0.28673291088876274\",\n",
       "  \"'accelerate', 0.28673291088876274\",\n",
       "  \"'sustainability', 0.2588731145592137\",\n",
       "  \"'report', 0.2545470342097651\",\n",
       "  \"'reports', 0.2541287680944724\",\n",
       "  \"'describe', 0.24687785383285082\",\n",
       "  \"'accelerating', 0.24687785383285082\",\n",
       "  \"'enhanced', 0.2350565671916546\",\n",
       "  \"'taken', 0.2177595896139351\",\n",
       "  \"'website', 0.17394110840762925\",\n",
       "  \"'action', 0.1725368896490986\",\n",
       "  \"'strategy', 0.16730507656347104\",\n",
       "  \"'group', 0.14504264755654106\",\n",
       "  \"'have', 0.1435251664386346\",\n",
       "  \"'this', 0.14205511445015295\",\n",
       "  \"'photography', 0.0\",\n",
       "  \"'phoenix', 0.0\",\n",
       "  \"'photographs', 0.0\",\n",
       "  \"'philosophy', 0.0\",\n",
       "  \"'philippe', 0.0\",\n",
       "  \"'phenomenon', 0.0\",\n",
       "  \"'phasing', 0.0\",\n",
       "  \"'phaseout', 0.0\",\n",
       "  \"'phased', 0.0\",\n",
       "  \"'__en', 0.0\",\n",
       "  \"'phase', 0.0\",\n",
       "  \"'physically', 0.0\",\n",
       "  \"'picture', 0.0\",\n",
       "  \"'piece', 0.0\",\n",
       "  \"'pillar', 0.0\",\n",
       "  \"'pilots', 0.0\",\n",
       "  \"'pioneer', 0.0\",\n",
       "  \"'pioneering', 0.0\",\n",
       "  \"'pipeline', 0.0\",\n",
       "  \"'pku', 0.0\",\n",
       "  \"'place', 0.0\",\n",
       "  \"'placed', 0.0\",\n",
       "  \"'physical', 0.0\"],\n",
       " [\"'report', 0.38373940287653246\",\n",
       "  \"'commitment', 0.3804009851320161\",\n",
       "  \"'visit', 0.2718949004868146\",\n",
       "  \"'group', 0.23933520363960523\",\n",
       "  \"'delivering', 0.21993925196682934\",\n",
       "  \"'planet', 0.21264914732952234\",\n",
       "  \"'website', 0.20076396796420362\",\n",
       "  \"'access', 0.20076396796420362\",\n",
       "  \"'www', 0.19578125115330863\",\n",
       "  \"'building', 0.19578125115330863\",\n",
       "  \"'better', 0.18337350216899387\",\n",
       "  \"'further', 0.17986878281216276\",\n",
       "  \"'time', 0.16798360344684404\",\n",
       "  \"'society', 0.1654266526701726\",\n",
       "  \"'information', 0.16069349880953707\",\n",
       "  \"'about', 0.16069349880953707\",\n",
       "  \"'responsible', 0.1505931376516343\",\n",
       "  \"'people', 0.14880831944421832\",\n",
       "  \"'approach', 0.13390748474267156\",\n",
       "  \"'environment', 0.13141785364900857\",\n",
       "  \"'investment', 0.13022052211858948\",\n",
       "  \"'sustainability', 0.12680032837733868\",\n",
       "  \"'this', 0.12680032837733868\",\n",
       "  \"'insurance', 0.11516018618885834\",\n",
       "  \"'zurich', 0.10177055966558278\",\n",
       "  \"'political', 0.0\",\n",
       "  \"'position', 0.0\",\n",
       "  \"'positioned', 0.0\",\n",
       "  \"'pollution', 0.0\",\n",
       "  \"'pool', 0.0\",\n",
       "  \"'poor', 0.0\",\n",
       "  \"'politically', 0.0\",\n",
       "  \"'population', 0.0\",\n",
       "  \"'posed', 0.0\",\n",
       "  \"'poors', 0.0\",\n",
       "  \"'pops', 0.0\",\n",
       "  \"'pose', 0.0\",\n",
       "  \"'portfolio', 0.0\",\n",
       "  \"'portfoliolevel', 0.0\",\n",
       "  \"'portion', 0.0\"],\n",
       " [\"'sustainability', 0.38082702759318354\",\n",
       "  \"'report', 0.19081330347407618\",\n",
       "  \"'environmental', 0.19081330347407618\",\n",
       "  \"'with', 0.17173197312666857\",\n",
       "  \"'google', 0.17127898140533304\",\n",
       "  \"'more', 0.16529315820232038\",\n",
       "  \"'data', 0.16529315820232038\",\n",
       "  \"'about', 0.15924707206031266\",\n",
       "  \"'carbonfree', 0.1391677434122621\",\n",
       "  \"'technology', 0.13843528041010333\",\n",
       "  \"'were', 0.13356931243185335\",\n",
       "  \"'major', 0.12293873234922231\",\n",
       "  \"'people', 0.11536273367508612\",\n",
       "  \"'company', 0.11536273367508612\",\n",
       "  \"'performance', 0.10917269204313018\",\n",
       "  \"'energy', 0.1040966926155653\",\n",
       "  \"'center', 0.10393908641522634\",\n",
       "  \"'business', 0.09940553100875862\",\n",
       "  \"'working', 0.09835098587937784\",\n",
       "  \"'efficient', 0.09835098587937784\",\n",
       "  \"'help', 0.09835098587937784\",\n",
       "  \"'year', 0.09540665173703809\",\n",
       "  \"'weve', 0.0922901869400689\",\n",
       "  \"'water', 0.09182953233462243\",\n",
       "  \"'highlight', 0.0878831602138116\",\n",
       "  \"'transition', 0.0878831602138116\",\n",
       "  \"'everyone', 0.0878831602138116\",\n",
       "  \"'economy', 0.0878831602138116\",\n",
       "  \"'circular', 0.0878831602138116\",\n",
       "  \"'benefit', 0.0878831602138116\",\n",
       "  \"'place', 0.0878831602138116\",\n",
       "  \"'empower', 0.0878831602138116\",\n",
       "  \"'strategy', 0.0878831602138116\",\n",
       "  \"'community', 0.0878831602138116\",\n",
       "  \"'average', 0.08733815363450416\",\n",
       "  \"'carbon', 0.08563949070266652\",\n",
       "  \"'first', 0.08315126913218109\",\n",
       "  \"'information', 0.08315126913218109\",\n",
       "  \"'target', 0.07962353603015633\",\n",
       "  \"'operate', 0.07962353603015633\"],\n",
       " [\"'report', 0.32062744692569023\",\n",
       "  \"'fair', 0.2910101850206166\",\n",
       "  \"'highlight', 0.24727415974774022\",\n",
       "  \"'about', 0.2286780208735367\",\n",
       "  \"'climate', 0.21432573290609247\",\n",
       "  \"'positive', 0.21153563843925743\",\n",
       "  \"'vision', 0.18545561981080516\",\n",
       "  \"'this', 0.1809342285937905\",\n",
       "  \"'sustainability', 0.17481002299852388\",\n",
       "  \"'equal', 0.16298129657995314\",\n",
       "  \"'performance', 0.14898321893705357\",\n",
       "  \"'chain', 0.1483520915302051\",\n",
       "  \"'approach', 0.13720681252412203\",\n",
       "  \"'circular', 0.12814166627496515\",\n",
       "  \"'leading', 0.11592729066580275\",\n",
       "  \"'data', 0.11525971383118011\",\n",
       "  \"'supply', 0.11473248929327001\",\n",
       "  \"'reporting', 0.1117374142027902\",\n",
       "  \"'group', 0.1022907414890193\",\n",
       "  \"'fashion', 0.10094440851190138\",\n",
       "  \"'sustainable', 0.09888420941980995\",\n",
       "  \"'change', 0.09217998429914488\",\n",
       "  \"'management', 0.08823897079411568\",\n",
       "  \"'strategy', 0.08294046997785906\",\n",
       "  \"'happen', 0.07535823284066638\",\n",
       "  \"'contents', 0.07535823284066638\",\n",
       "  \"'wont', 0.07535823284066638\",\n",
       "  \"'transparently', 0.07535823284066638\",\n",
       "  \"'democratise', 0.07535823284066638\",\n",
       "  \"'overnight', 0.07535823284066638\",\n",
       "  \"'immersive', 0.07535823284066638\",\n",
       "  \"'dive', 0.07535823284066638\",\n",
       "  \"'from', 0.07266383981786945\",\n",
       "  \"'speed', 0.07097602073428813\",\n",
       "  \"'hmgroup', 0.07097602073428813\",\n",
       "  \"'microfibres', 0.07097602073428813\",\n",
       "  \"'openly', 0.07097602073428813\",\n",
       "  \"'encouraging', 0.07097602073428813\",\n",
       "  \"'always', 0.07097602073428813\",\n",
       "  \"'buildings', 0.07097602073428813\"],\n",
       " [\"'implenia', 0.27825317366864444\",\n",
       "  \"'sind', 0.18594640783679064\",\n",
       "  \"'sich', 0.17526307969106933\",\n",
       "  \"'umwelt', 0.16408079055284844\",\n",
       "  \"'oder', 0.15445190227762123\",\n",
       "  \"'auch', 0.14878685169624342\",\n",
       "  \"'unternehmen', 0.13953937169006198\",\n",
       "  \"'über', 0.12441566191336124\",\n",
       "  \"'nachhaltigkeit', 0.11503917476102118\",\n",
       "  \"'einer', 0.11207443880799135\",\n",
       "  \"'divisionen', 0.10651621976684451\",\n",
       "  \"'nach', 0.10611407763084861\",\n",
       "  \"'ziele', 0.10352657314654641\",\n",
       "  \"'globalen', 0.10160216023098528\",\n",
       "  \"'eine', 0.09454735327836646\",\n",
       "  \"'werden', 0.094505809777918\",\n",
       "  \"'gruppe', 0.0893427849770893\",\n",
       "  \"'durch', 0.08663032562975816\",\n",
       "  \"'funktionen', 0.07902390240187745\",\n",
       "  \"'einen', 0.0767466544295341\",\n",
       "  \"'eines', 0.0752920531974883\",\n",
       "  \"'jahr', 0.07235737476417772\",\n",
       "  \"'daher', 0.071099932253448\",\n",
       "  \"'diese', 0.07083672679496786\",\n",
       "  \"'dazu', 0.07083672679496786\",\n",
       "  \"'noch', 0.07083672679496786\",\n",
       "  \"'sustainability', 0.06827174489119403\",\n",
       "  \"'bauindustrie', 0.06773477348732353\",\n",
       "  \"'nachhaltigkeitsziele', 0.06773477348732353\",\n",
       "  \"'emissionen', 0.06588054654780226\",\n",
       "  \"'sowie', 0.06586711513060302\",\n",
       "  \"'unter', 0.06431766645704687\",\n",
       "  \"'conduct', 0.0639097318601067\",\n",
       "  \"'code', 0.0639097318601067\",\n",
       "  \"'langfristige', 0.0639097318601067\",\n",
       "  \"'nachhaltiges', 0.06380919632610774\",\n",
       "  \"'unternehmens', 0.06198213594559688\",\n",
       "  \"'mitarbeitenden', 0.0617807609110485\",\n",
       "  \"'fünf', 0.060942799074384005\",\n",
       "  \"'extern', 0.060942799074384005\"],\n",
       " [\"'what', 0.2376266874138067\",\n",
       "  \"'sustainability', 0.22347220532512008\",\n",
       "  \"'report', 0.20446019177444671\",\n",
       "  \"'mission', 0.17822001556035502\",\n",
       "  \"'sustainably', 0.17822001556035502\",\n",
       "  \"'people', 0.17038349314537224\",\n",
       "  \"'delivering', 0.15599438883955755\",\n",
       "  \"'initiative', 0.15599438883955755\",\n",
       "  \"'partner', 0.15599438883955755\",\n",
       "  \"'sustainable', 0.14606618384847572\",\n",
       "  \"'working', 0.14022505572378918\",\n",
       "  \"'lyreco', 0.13554564826183685\",\n",
       "  \"'workplace', 0.12799341068828168\",\n",
       "  \"'our', 0.11999793446895449\",\n",
       "  \"'result', 0.11881334370690334\",\n",
       "  \"'matter', 0.11881334370690334\",\n",
       "  \"'need', 0.11881334370690334\",\n",
       "  \"'pefeu', 0.11881334370690334\",\n",
       "  \"'market', 0.11881334370690334\",\n",
       "  \"'pef', 0.11881334370690334\",\n",
       "  \"'being', 0.11881334370690334\",\n",
       "  \"'most', 0.11881334370690334\",\n",
       "  \"'editorial', 0.11881334370690334\",\n",
       "  \"'focus', 0.1039962592263717\",\n",
       "  \"'great', 0.1039962592263717\",\n",
       "  \"'label', 0.1039962592263717\",\n",
       "  \"'glance', 0.1039962592263717\",\n",
       "  \"'your', 0.1039962592263717\",\n",
       "  \"'circular', 0.09348337048252613\",\n",
       "  \"'global', 0.09348337048252613\",\n",
       "  \"'responsible', 0.09348337048252613\",\n",
       "  \"'economy', 0.09348337048252613\",\n",
       "  \"'will', 0.08532894045885445\",\n",
       "  \"'been', 0.08532894045885445\",\n",
       "  \"'this', 0.08532894045885445\",\n",
       "  \"'commitment', 0.08532894045885445\",\n",
       "  \"'employee', 0.08532894045885445\",\n",
       "  \"'more', 0.08477400998945082\",\n",
       "  \"'year', 0.07303309192423786\",\n",
       "  \"'product', 0.0681533972581489\"],\n",
       " [\"'sustainability', 0.28873832161946933\",\n",
       "  \"'success', 0.19092100061065098\",\n",
       "  \"'report', 0.18866971428198578\",\n",
       "  \"'group', 0.18620340867021415\",\n",
       "  \"'materiality', 0.15643036382653147\",\n",
       "  \"'matrix', 0.15643036382653147\",\n",
       "  \"'socioeconomic', 0.1492563189634473\",\n",
       "  \"'global', 0.14436916080973466\",\n",
       "  \"'year', 0.13853377333837422\",\n",
       "  \"'value', 0.12915619472936288\",\n",
       "  \"'today', 0.12832323614719152\",\n",
       "  \"'takeaways', 0.12832323614719152\",\n",
       "  \"'this', 0.12627730769214687\",\n",
       "  \"'together', 0.11768699204041058\",\n",
       "  \"'updated', 0.11768699204041058\",\n",
       "  \"'compact', 0.1159165813608197\",\n",
       "  \"'will', 0.1159165813608197\",\n",
       "  \"'emissions', 0.10428690921768764\",\n",
       "  \"'statement', 0.10428690921768764\",\n",
       "  \"'roadmap', 0.0995042126422982\",\n",
       "  \"'education', 0.0995042126422982\",\n",
       "  \"'sustainable', 0.0995042126422982\",\n",
       "  \"'content', 0.0995042126422982\",\n",
       "  \"'emission', 0.0995042126422982\",\n",
       "  \"'with', 0.09813173127398206\",\n",
       "  \"'compliance', 0.09638262960693825\",\n",
       "  \"'occupational', 0.09546050030532549\",\n",
       "  \"'health', 0.09546050030532549\",\n",
       "  \"'safety', 0.09195767735096676\",\n",
       "  \"'economic', 0.09195767735096676\",\n",
       "  \"'following', 0.08886796853551726\",\n",
       "  \"'system', 0.08886796853551726\",\n",
       "  \"'focus', 0.08886796853551726\",\n",
       "  \"'reduction', 0.08886796853551726\",\n",
       "  \"'during', 0.08610412981957526\",\n",
       "  \"'performance', 0.08360393358076708\",\n",
       "  \"'progress', 0.08360393358076708\",\n",
       "  \"'basis', 0.08132143324418581\",\n",
       "  \"'training', 0.08132143324418581\",\n",
       "  \"'area', 0.07727772090721313\"],\n",
       " [\"'sustainability', 0.26860465263193606\",\n",
       "  \"'that', 0.253983269960612\",\n",
       "  \"'report', 0.23488236669419751\",\n",
       "  \"'people', 0.2082139157054514\",\n",
       "  \"'more', 0.19372854654722094\",\n",
       "  \"'this', 0.18226884574524432\",\n",
       "  \"'strategy', 0.15721702732587767\",\n",
       "  \"'have', 0.1496098794031477\",\n",
       "  \"'planet', 0.14414809548838942\",\n",
       "  \"'business', 0.1423241964117364\",\n",
       "  \"'swarovski', 0.1306244743230374\",\n",
       "  \"'been', 0.126991634980306\",\n",
       "  \"'from', 0.12170562791168894\",\n",
       "  \"'were', 0.1149979058507265\",\n",
       "  \"'well', 0.1149979058507265\",\n",
       "  \"'contents', 0.11211518537985844\",\n",
       "  \"'introduction', 0.11211518537985844\",\n",
       "  \"'those', 0.11002819399071838\",\n",
       "  \"'your', 0.10313757208705165\",\n",
       "  \"'weve', 0.09686427327361047\",\n",
       "  \"'need', 0.09686427327361047\",\n",
       "  \"'challenge', 0.09686427327361047\",\n",
       "  \"'global', 0.09199832468058121\",\n",
       "  \"'crystal', 0.08505198713133559\",\n",
       "  \"'year', 0.08466108998687065\",\n",
       "  \"'read', 0.07735317906528874\",\n",
       "  \"'equality', 0.07264820495520785\",\n",
       "  \"'journey', 0.07264820495520785\",\n",
       "  \"'every', 0.07264820495520785\",\n",
       "  \"'into', 0.07264820495520785\",\n",
       "  \"'collective', 0.07264820495520785\",\n",
       "  \"'towards', 0.07264820495520785\",\n",
       "  \"'much', 0.07264820495520785\",\n",
       "  \"'community', 0.0689987435104359\",\n",
       "  \"'commitment', 0.0689987435104359\",\n",
       "  \"'will', 0.0689987435104359\",\n",
       "  \"'many', 0.0689987435104359\",\n",
       "  \"'index', 0.0689987435104359\",\n",
       "  \"'world', 0.0689987435104359\",\n",
       "  \"'circular', 0.0689987435104359\"],\n",
       " [\"'performance', 0.25703375969085324\",\n",
       "  \"'sustainability', 0.22274623963895035\",\n",
       "  \"'summary', 0.22031748973321813\",\n",
       "  \"'technology', 0.21164544162973442\",\n",
       "  \"'report', 0.1693536651071861\",\n",
       "  \"'service', 0.15873408122230082\",\n",
       "  \"'statement', 0.15873408122230082\",\n",
       "  \"'assurance', 0.15873408122230082\",\n",
       "  \"'customer', 0.15104953703101143\",\n",
       "  \"'reporting', 0.12815578644668163\",\n",
       "  \"'operate', 0.1208286408076144\",\n",
       "  \"'contents', 0.11617405631706836\",\n",
       "  \"'community', 0.11223866120445444\",\n",
       "  \"'efficiency', 0.10882966689768947\",\n",
       "  \"'governance', 0.10882966689768947\",\n",
       "  \"'while', 0.10582272081486721\",\n",
       "  \"'challenge', 0.10582272081486721\",\n",
       "  \"'progress', 0.09847833139548835\",\n",
       "  \"'issue', 0.09847833139548835\",\n",
       "  \"'supplier', 0.0927815803838333\",\n",
       "  \"'energy', 0.08958622359648366\",\n",
       "  \"'with', 0.08958622359648366\",\n",
       "  \"'global', 0.08812699589328725\",\n",
       "  \"'product', 0.08812699589328725\",\n",
       "  \"'that', 0.08812699589328725\",\n",
       "  \"'indicator', 0.08674668489772049\",\n",
       "  \"'employee', 0.08078260647390839\",\n",
       "  \"'business', 0.07974043995279936\",\n",
       "  \"'this', 0.07777566039108613\",\n",
       "  \"'from', 0.07777566039108613\",\n",
       "  \"'numerical', 0.07211055837042471\",\n",
       "  \"'striving', 0.07211055837042471\",\n",
       "  \"'warranty', 0.07211055837042471\",\n",
       "  \"'implied', 0.07211055837042471\",\n",
       "  \"'constituting', 0.07211055837042471\",\n",
       "  \"'assur', 0.07211055837042471\",\n",
       "  \"'construed', 0.07211055837042471\",\n",
       "  \"'valuecreating', 0.06693489061932417\",\n",
       "  \"'initia', 0.06693489061932417\",\n",
       "  \"'indica', 0.06693489061932417\"],\n",
       " [\"'global', 0.3195048252113468\",\n",
       "  \"'our', 0.22821773229381917\",\n",
       "  \"'with', 0.22821773229381917\",\n",
       "  \"'safety', 0.18257418583505533\",\n",
       "  \"'training', 0.18257418583505533\",\n",
       "  \"'customer', 0.18257418583505533\",\n",
       "  \"'all', 0.18257418583505533\",\n",
       "  \"'health', 0.1369306393762915\",\n",
       "  \"'qshe', 0.1369306393762915\",\n",
       "  \"'fostering', 0.1369306393762915\",\n",
       "  \"'sustainability', 0.1369306393762915\",\n",
       "  \"'the', 0.1369306393762915\",\n",
       "  \"'business', 0.1369306393762915\",\n",
       "  \"'zero', 0.1369306393762915\",\n",
       "  \"'and', 0.1369306393762915\",\n",
       "  \"'unsafe', 0.09128709291752767\",\n",
       "  \"'unit', 0.09128709291752767\",\n",
       "  \"'solution', 0.09128709291752767\",\n",
       "  \"'waste', 0.09128709291752767\",\n",
       "  \"'dangerous', 0.09128709291752767\",\n",
       "  \"'site', 0.09128709291752767\",\n",
       "  \"'developing', 0.09128709291752767\",\n",
       "  \"'security', 0.09128709291752767\",\n",
       "  \"'risk', 0.09128709291752767\",\n",
       "  \"'report', 0.09128709291752767\",\n",
       "  \"'focus', 0.09128709291752767\",\n",
       "  \"'continuity', 0.09128709291752767\",\n",
       "  \"'activity', 0.09128709291752767\",\n",
       "  \"'goods', 0.09128709291752767\",\n",
       "  \"'quality', 0.09128709291752767\",\n",
       "  \"'harm', 0.09128709291752767\",\n",
       "  \"'will', 0.09128709291752767\",\n",
       "  \"'across', 0.09128709291752767\",\n",
       "  \"'logistics', 0.09128709291752767\",\n",
       "  \"'staff', 0.09128709291752767\",\n",
       "  \"'environment', 0.09128709291752767\",\n",
       "  \"'sustainable', 0.09128709291752767\",\n",
       "  \"'through', 0.09128709291752767\",\n",
       "  \"'to', 0.09128709291752767\",\n",
       "  \"'audit', 0.09128709291752767\"],\n",
       " [\"'materiality', 0.42224056664953413\",\n",
       "  \"'sustainability', 0.2371702185590328\",\n",
       "  \"'stakeholder', 0.19266199369869286\",\n",
       "  \"'topic', 0.19266199369869286\",\n",
       "  \"'customer', 0.18490778776494257\",\n",
       "  \"'report', 0.17117885944537117\",\n",
       "  \"'assessment', 0.15412959495895429\",\n",
       "  \"'business', 0.15408982313745215\",\n",
       "  \"'with', 0.15109060911209646\",\n",
       "  \"'engagement', 0.1436525030319662\",\n",
       "  \"'inclusion', 0.12667216999486025\",\n",
       "  \"'this', 0.12327185850996171\",\n",
       "  \"'material', 0.11840877940411876\",\n",
       "  \"'performance', 0.11840877940411876\",\n",
       "  \"'colleague', 0.11559719621921571\",\n",
       "  \"'monitor', 0.11559719621921571\",\n",
       "  \"'success', 0.10773937727397465\",\n",
       "  \"'interest', 0.10164437938244264\",\n",
       "  \"'approach', 0.10164437938244264\",\n",
       "  \"'employee', 0.09666440349833011\",\n",
       "  \"'group', 0.08880658455308907\",\n",
       "  \"'environment', 0.08880658455308907\",\n",
       "  \"'risk', 0.08444811332990683\",\n",
       "  \"'interested', 0.08444811332990683\",\n",
       "  \"'aspect', 0.08444811332990683\",\n",
       "  \"'axis', 0.08444811332990683\",\n",
       "  \"'following', 0.07706479747947714\",\n",
       "  \"'interview', 0.07706479747947714\",\n",
       "  \"'diversity', 0.07706479747947714\",\n",
       "  \"'right', 0.07706479747947714\",\n",
       "  \"'responsible', 0.0718262515159831\",\n",
       "  \"'charitable', 0.0718262515159831\",\n",
       "  \"'safety', 0.0718262515159831\",\n",
       "  \"'include', 0.06776291958829508\",\n",
       "  \"'dialogue', 0.06776291958829508\",\n",
       "  \"'opportunity', 0.06776291958829508\",\n",
       "  \"'health', 0.06776291958829508\",\n",
       "  \"'focus', 0.06776291958829508\",\n",
       "  \"'community', 0.06776291958829508\",\n",
       "  \"'customers', 0.06776291958829508\"],\n",
       " [\"'tomorrow', 0.3931491974529891\",\n",
       "  \"'world', 0.3356722508136705\",\n",
       "  \"'that', 0.3089721036136419\",\n",
       "  \"'build', 0.21961756448703218\",\n",
       "  \"'building', 0.21732593637453415\",\n",
       "  \"'works', 0.20156817318413772\",\n",
       "  \"'technology', 0.19196066318615135\",\n",
       "  \"'rise', 0.15986283127066792\",\n",
       "  \"'installation', 0.1496473763749564\",\n",
       "  \"'equipped', 0.14559330067404505\",\n",
       "  \"'precision', 0.14201735247602987\",\n",
       "  \"'consumption', 0.14201735247602987\",\n",
       "  \"'transmission', 0.14201735247602987\",\n",
       "  \"'lower', 0.13881855781083113\",\n",
       "  \"'enables', 0.13881855781083113\",\n",
       "  \"'utility', 0.13328318984511908\",\n",
       "  \"'compared', 0.13328318984511908\",\n",
       "  \"'invest', 0.1308530557033529\",\n",
       "  \"'engine', 0.1286031029151196\",\n",
       "  \"'flight', 0.1265084469819051\",\n",
       "  \"'fuel', 0.1227084352653618\",\n",
       "  \"'target', 0.11777428435099431\",\n",
       "  \"'today', 0.11488062259550952\",\n",
       "  \"'emission', 0.11223891638528226\",\n",
       "  \"'transition', 0.10866296818726708\",\n",
       "  \"'sustainable', 0.1075588294552828\",\n",
       "  \"'report', 0.10350475375437145\",\n",
       "  \"'healthcare', 0.10257051176658352\",\n",
       "  \"'future', 0.09909695985099265\",\n",
       "  \"'commitment', 0.09673001089115751\",\n",
       "  \"'health', 0.09453432169013025\",\n",
       "  \"'power', 0.09383634913567272\",\n",
       "  \"'work', 0.09315406269314233\",\n",
       "  \"'sustainability', 0.09315406269314233\",\n",
       "  \"'than', 0.09248677277794061\",\n",
       "  \"'energy', 0.09056863169635734\",\n",
       "  \"'have', 0.08995526802794357\",\n",
       "  \"'global', 0.08876450878367931\",\n",
       "  \"'through', 0.08761869472743027\",\n",
       "  \"'program', 0.0806198883456882\"],\n",
       " [\"'customer', 0.35805248981954274\",\n",
       "  \"'product', 0.2598331954919434\",\n",
       "  \"'with', 0.2592151181046376\",\n",
       "  \"'bucher', 0.24606575779177464\",\n",
       "  \"'employee', 0.1886460186448356\",\n",
       "  \"'division', 0.15746811278718226\",\n",
       "  \"'sustainability', 0.1444719999386094\",\n",
       "  \"'their', 0.14112061938139647\",\n",
       "  \"'industries', 0.13902562447432126\",\n",
       "  \"'safety', 0.1323237462376571\",\n",
       "  \"'our', 0.13140528750925978\",\n",
       "  \"'service', 0.12064812156962855\",\n",
       "  \"'company', 0.11883841632117596\",\n",
       "  \"'the', 0.10379002644547725\",\n",
       "  \"'this', 0.09892954081722098\",\n",
       "  \"'solution', 0.09846265084309688\",\n",
       "  \"'need', 0.09593165858069415\",\n",
       "  \"'that', 0.09574174140128484\",\n",
       "  \"'also', 0.09436004039130116\",\n",
       "  \"'customers', 0.09291061851510253\",\n",
       "  \"'development', 0.0925433299012401\",\n",
       "  \"'report', 0.0917717062524117\",\n",
       "  \"'group', 0.08616443877628925\",\n",
       "  \"'impact', 0.08562124756554283\",\n",
       "  \"'employees', 0.08285006877423585\",\n",
       "  \"'strategy', 0.08205220903591406\",\n",
       "  \"'management', 0.08186525337417395\",\n",
       "  \"'topic', 0.07873405639359113\",\n",
       "  \"'environmental', 0.07873405639359113\",\n",
       "  \"'machine', 0.07848953883874975\",\n",
       "  \"'health', 0.07783749778685713\",\n",
       "  \"'we', 0.0774255154292521\",\n",
       "  \"'stakeholder', 0.07394562289751427\",\n",
       "  \"'which', 0.07384698813232266\",\n",
       "  \"'efficiency', 0.07384698813232266\",\n",
       "  \"'production', 0.07118717684710778\",\n",
       "  \"'focus', 0.07005374800817142\",\n",
       "  \"'vehicle', 0.06974437768052695\",\n",
       "  \"'more', 0.06684660918066147\",\n",
       "  \"'from', 0.0660287871732999\"]]"
      ]
     },
     "execution_count": 13,
     "metadata": {},
     "output_type": "execute_result"
    }
   ],
   "source": [
    "ls"
   ]
  },
  {
   "cell_type": "code",
   "execution_count": 14,
   "metadata": {},
   "outputs": [],
   "source": [
    "numbers = []\n",
    "for element in ls:\n",
    "    for tuple in element:\n",
    "        if tuple[1:15] == \"sustainability\":\n",
    "            numbers.append(tuple[18:25])\n"
   ]
  },
  {
   "cell_type": "code",
   "execution_count": 15,
   "metadata": {},
   "outputs": [
    {
     "data": {
      "text/plain": [
       "54"
      ]
     },
     "execution_count": 15,
     "metadata": {},
     "output_type": "execute_result"
    }
   ],
   "source": [
    "len(numbers)"
   ]
  },
  {
   "cell_type": "code",
   "execution_count": 16,
   "metadata": {},
   "outputs": [],
   "source": [
    "float_numbers = []\n",
    "for number in numbers:\n",
    "    try:\n",
    "        number = float(number)\n",
    "        float_numbers.append(number)\n",
    "    except:\n",
    "        continue\n",
    "\n"
   ]
  },
  {
   "cell_type": "code",
   "execution_count": 17,
   "metadata": {},
   "outputs": [
    {
     "data": {
      "text/plain": [
       "53"
      ]
     },
     "execution_count": 17,
     "metadata": {},
     "output_type": "execute_result"
    }
   ],
   "source": [
    "len(float_numbers)"
   ]
  },
  {
   "cell_type": "code",
   "execution_count": 18,
   "metadata": {},
   "outputs": [],
   "source": [
    "tf_idf_sustainability_2[\"sustainability tf-idf\"] = float_numbers"
   ]
  },
  {
   "cell_type": "code",
   "execution_count": 19,
   "metadata": {},
   "outputs": [
    {
     "data": {
      "text/plain": [
       "53"
      ]
     },
     "execution_count": 19,
     "metadata": {},
     "output_type": "execute_result"
    }
   ],
   "source": [
    "len(tf_idf_sustainability_2)"
   ]
  },
  {
   "cell_type": "code",
   "execution_count": 32,
   "metadata": {},
   "outputs": [
    {
     "data": {
      "application/vnd.plotly.v1+json": {
       "config": {
        "plotlyServerURL": "https://plot.ly"
       },
       "data": [
        {
         "alignmentgroup": "True",
         "boxpoints": "all",
         "customdata": [
          [
           "feed_cargill_nutrition"
          ],
          [
           "community_glencore_report"
          ],
          [
           "coop_sustainability_product"
          ],
          [
           "swiss_post_report"
          ],
          [
           "gf_sustainability_report"
          ],
          [
           "swiss_sustainability_risk"
          ],
          [
           "sustainability_report_business"
          ],
          [
           "property_sustainability_tenant"
          ],
          [
           "product_calida_material"
          ],
          [
           "cid_burckhardt_compression"
          ],
          [
           "investment_group_partners"
          ],
          [
           "sustainability_report_logitech"
          ],
          [
           "year_richemont_group"
          ],
          [
           "sustainability_risk_report"
          ],
          [
           "cid_client_risk"
          ],
          [
           "sustainability_employee_business"
          ],
          [
           "novartis_water_energy"
          ],
          [
           "schindler_report_product"
          ],
          [
           "swiss_life_sustainability"
          ],
          [
           "global_training_qshe"
          ],
          [
           "sfs_group_employee"
          ],
          [
           "coop_target_group"
          ],
          [
           "investment_sustainability_report"
          ],
          [
           "chemical_mitsubishi_employee"
          ],
          [
           "water_carbon_waste"
          ],
          [
           "ubp_sustainability_investment"
          ],
          [
           "sustainability_bank_report"
          ],
          [
           "financial_sap_management"
          ],
          [
           "stadler_employee_sustainability"
          ],
          [
           "allreal_report_employee"
          ],
          [
           "girsberger_product_employee"
          ],
          [
           "orior_sustainability_product"
          ],
          [
           "credit_risk_suisse"
          ],
          [
           "glencore_water_report"
          ],
          [
           "sustainability_allianz_risk"
          ],
          [
           "takeda_patient_business"
          ],
          [
           "braun_employee_management"
          ],
          [
           "group_autogrill_management"
          ],
          [
           "lombard_odier_sustainability"
          ],
          [
           "water_employee_management"
          ],
          [
           "swiss_risk_sustainability"
          ],
          [
           "zurich_commitment_insurance"
          ],
          [
           "energy_emission_google"
          ],
          [
           "group_sustainability_supplier"
          ],
          [
           "implenia_die_der"
          ],
          [
           "lyreco_sustainability_product"
          ],
          [
           "group_sfs_employee"
          ],
          [
           "people_sustainability_report"
          ],
          [
           "abb_sustainability_performance"
          ],
          [
           "global_safety_training"
          ],
          [
           "dental_report_production"
          ],
          [
           "ge_business_energy"
          ],
          [
           "bucher_industries_employee"
          ]
         ],
         "hovertemplate": "Sentence by Sentence Cosine Similarity human rights Mean Threshold 0=%{y}<br>Company=%{customdata[0]}<extra></extra>",
         "legendgroup": "",
         "marker": {
          "color": "#636efa"
         },
         "name": "",
         "notched": false,
         "offsetgroup": "",
         "orientation": "v",
         "showlegend": false,
         "type": "box",
         "x0": " ",
         "xaxis": "x",
         "y": [
          0.182,
          0.172,
          0.171,
          0.17,
          0.254,
          0.221,
          0.194,
          0.182,
          0.183,
          0.145,
          0.199,
          0.204,
          0.185,
          0.24,
          0.219,
          0.206,
          0.191,
          0.178,
          0.214,
          0.221,
          0.193,
          0.188,
          0.212,
          0.173,
          0.242,
          0.223,
          0.245,
          0.132,
          0.154,
          0.142,
          0.17,
          0.183,
          0.225,
          0.188,
          0.242,
          0.187,
          0.163,
          0.173,
          0.212,
          0.157,
          0.229,
          0.212,
          0.207,
          0.193,
          0.124,
          0.221,
          0.195,
          0.217,
          0.188,
          0.266,
          0.164,
          0.168,
          0.187
         ],
         "y0": " ",
         "yaxis": "y"
        }
       ],
       "layout": {
        "boxmode": "group",
        "legend": {
         "tracegroupgap": 0
        },
        "margin": {
         "t": 60
        },
        "template": {
         "data": {
          "bar": [
           {
            "error_x": {
             "color": "#2a3f5f"
            },
            "error_y": {
             "color": "#2a3f5f"
            },
            "marker": {
             "line": {
              "color": "#E5ECF6",
              "width": 0.5
             },
             "pattern": {
              "fillmode": "overlay",
              "size": 10,
              "solidity": 0.2
             }
            },
            "type": "bar"
           }
          ],
          "barpolar": [
           {
            "marker": {
             "line": {
              "color": "#E5ECF6",
              "width": 0.5
             },
             "pattern": {
              "fillmode": "overlay",
              "size": 10,
              "solidity": 0.2
             }
            },
            "type": "barpolar"
           }
          ],
          "carpet": [
           {
            "aaxis": {
             "endlinecolor": "#2a3f5f",
             "gridcolor": "white",
             "linecolor": "white",
             "minorgridcolor": "white",
             "startlinecolor": "#2a3f5f"
            },
            "baxis": {
             "endlinecolor": "#2a3f5f",
             "gridcolor": "white",
             "linecolor": "white",
             "minorgridcolor": "white",
             "startlinecolor": "#2a3f5f"
            },
            "type": "carpet"
           }
          ],
          "choropleth": [
           {
            "colorbar": {
             "outlinewidth": 0,
             "ticks": ""
            },
            "type": "choropleth"
           }
          ],
          "contour": [
           {
            "colorbar": {
             "outlinewidth": 0,
             "ticks": ""
            },
            "colorscale": [
             [
              0,
              "#0d0887"
             ],
             [
              0.1111111111111111,
              "#46039f"
             ],
             [
              0.2222222222222222,
              "#7201a8"
             ],
             [
              0.3333333333333333,
              "#9c179e"
             ],
             [
              0.4444444444444444,
              "#bd3786"
             ],
             [
              0.5555555555555556,
              "#d8576b"
             ],
             [
              0.6666666666666666,
              "#ed7953"
             ],
             [
              0.7777777777777778,
              "#fb9f3a"
             ],
             [
              0.8888888888888888,
              "#fdca26"
             ],
             [
              1,
              "#f0f921"
             ]
            ],
            "type": "contour"
           }
          ],
          "contourcarpet": [
           {
            "colorbar": {
             "outlinewidth": 0,
             "ticks": ""
            },
            "type": "contourcarpet"
           }
          ],
          "heatmap": [
           {
            "colorbar": {
             "outlinewidth": 0,
             "ticks": ""
            },
            "colorscale": [
             [
              0,
              "#0d0887"
             ],
             [
              0.1111111111111111,
              "#46039f"
             ],
             [
              0.2222222222222222,
              "#7201a8"
             ],
             [
              0.3333333333333333,
              "#9c179e"
             ],
             [
              0.4444444444444444,
              "#bd3786"
             ],
             [
              0.5555555555555556,
              "#d8576b"
             ],
             [
              0.6666666666666666,
              "#ed7953"
             ],
             [
              0.7777777777777778,
              "#fb9f3a"
             ],
             [
              0.8888888888888888,
              "#fdca26"
             ],
             [
              1,
              "#f0f921"
             ]
            ],
            "type": "heatmap"
           }
          ],
          "heatmapgl": [
           {
            "colorbar": {
             "outlinewidth": 0,
             "ticks": ""
            },
            "colorscale": [
             [
              0,
              "#0d0887"
             ],
             [
              0.1111111111111111,
              "#46039f"
             ],
             [
              0.2222222222222222,
              "#7201a8"
             ],
             [
              0.3333333333333333,
              "#9c179e"
             ],
             [
              0.4444444444444444,
              "#bd3786"
             ],
             [
              0.5555555555555556,
              "#d8576b"
             ],
             [
              0.6666666666666666,
              "#ed7953"
             ],
             [
              0.7777777777777778,
              "#fb9f3a"
             ],
             [
              0.8888888888888888,
              "#fdca26"
             ],
             [
              1,
              "#f0f921"
             ]
            ],
            "type": "heatmapgl"
           }
          ],
          "histogram": [
           {
            "marker": {
             "pattern": {
              "fillmode": "overlay",
              "size": 10,
              "solidity": 0.2
             }
            },
            "type": "histogram"
           }
          ],
          "histogram2d": [
           {
            "colorbar": {
             "outlinewidth": 0,
             "ticks": ""
            },
            "colorscale": [
             [
              0,
              "#0d0887"
             ],
             [
              0.1111111111111111,
              "#46039f"
             ],
             [
              0.2222222222222222,
              "#7201a8"
             ],
             [
              0.3333333333333333,
              "#9c179e"
             ],
             [
              0.4444444444444444,
              "#bd3786"
             ],
             [
              0.5555555555555556,
              "#d8576b"
             ],
             [
              0.6666666666666666,
              "#ed7953"
             ],
             [
              0.7777777777777778,
              "#fb9f3a"
             ],
             [
              0.8888888888888888,
              "#fdca26"
             ],
             [
              1,
              "#f0f921"
             ]
            ],
            "type": "histogram2d"
           }
          ],
          "histogram2dcontour": [
           {
            "colorbar": {
             "outlinewidth": 0,
             "ticks": ""
            },
            "colorscale": [
             [
              0,
              "#0d0887"
             ],
             [
              0.1111111111111111,
              "#46039f"
             ],
             [
              0.2222222222222222,
              "#7201a8"
             ],
             [
              0.3333333333333333,
              "#9c179e"
             ],
             [
              0.4444444444444444,
              "#bd3786"
             ],
             [
              0.5555555555555556,
              "#d8576b"
             ],
             [
              0.6666666666666666,
              "#ed7953"
             ],
             [
              0.7777777777777778,
              "#fb9f3a"
             ],
             [
              0.8888888888888888,
              "#fdca26"
             ],
             [
              1,
              "#f0f921"
             ]
            ],
            "type": "histogram2dcontour"
           }
          ],
          "mesh3d": [
           {
            "colorbar": {
             "outlinewidth": 0,
             "ticks": ""
            },
            "type": "mesh3d"
           }
          ],
          "parcoords": [
           {
            "line": {
             "colorbar": {
              "outlinewidth": 0,
              "ticks": ""
             }
            },
            "type": "parcoords"
           }
          ],
          "pie": [
           {
            "automargin": true,
            "type": "pie"
           }
          ],
          "scatter": [
           {
            "fillpattern": {
             "fillmode": "overlay",
             "size": 10,
             "solidity": 0.2
            },
            "type": "scatter"
           }
          ],
          "scatter3d": [
           {
            "line": {
             "colorbar": {
              "outlinewidth": 0,
              "ticks": ""
             }
            },
            "marker": {
             "colorbar": {
              "outlinewidth": 0,
              "ticks": ""
             }
            },
            "type": "scatter3d"
           }
          ],
          "scattercarpet": [
           {
            "marker": {
             "colorbar": {
              "outlinewidth": 0,
              "ticks": ""
             }
            },
            "type": "scattercarpet"
           }
          ],
          "scattergeo": [
           {
            "marker": {
             "colorbar": {
              "outlinewidth": 0,
              "ticks": ""
             }
            },
            "type": "scattergeo"
           }
          ],
          "scattergl": [
           {
            "marker": {
             "colorbar": {
              "outlinewidth": 0,
              "ticks": ""
             }
            },
            "type": "scattergl"
           }
          ],
          "scattermapbox": [
           {
            "marker": {
             "colorbar": {
              "outlinewidth": 0,
              "ticks": ""
             }
            },
            "type": "scattermapbox"
           }
          ],
          "scatterpolar": [
           {
            "marker": {
             "colorbar": {
              "outlinewidth": 0,
              "ticks": ""
             }
            },
            "type": "scatterpolar"
           }
          ],
          "scatterpolargl": [
           {
            "marker": {
             "colorbar": {
              "outlinewidth": 0,
              "ticks": ""
             }
            },
            "type": "scatterpolargl"
           }
          ],
          "scatterternary": [
           {
            "marker": {
             "colorbar": {
              "outlinewidth": 0,
              "ticks": ""
             }
            },
            "type": "scatterternary"
           }
          ],
          "surface": [
           {
            "colorbar": {
             "outlinewidth": 0,
             "ticks": ""
            },
            "colorscale": [
             [
              0,
              "#0d0887"
             ],
             [
              0.1111111111111111,
              "#46039f"
             ],
             [
              0.2222222222222222,
              "#7201a8"
             ],
             [
              0.3333333333333333,
              "#9c179e"
             ],
             [
              0.4444444444444444,
              "#bd3786"
             ],
             [
              0.5555555555555556,
              "#d8576b"
             ],
             [
              0.6666666666666666,
              "#ed7953"
             ],
             [
              0.7777777777777778,
              "#fb9f3a"
             ],
             [
              0.8888888888888888,
              "#fdca26"
             ],
             [
              1,
              "#f0f921"
             ]
            ],
            "type": "surface"
           }
          ],
          "table": [
           {
            "cells": {
             "fill": {
              "color": "#EBF0F8"
             },
             "line": {
              "color": "white"
             }
            },
            "header": {
             "fill": {
              "color": "#C8D4E3"
             },
             "line": {
              "color": "white"
             }
            },
            "type": "table"
           }
          ]
         },
         "layout": {
          "annotationdefaults": {
           "arrowcolor": "#2a3f5f",
           "arrowhead": 0,
           "arrowwidth": 1
          },
          "autotypenumbers": "strict",
          "coloraxis": {
           "colorbar": {
            "outlinewidth": 0,
            "ticks": ""
           }
          },
          "colorscale": {
           "diverging": [
            [
             0,
             "#8e0152"
            ],
            [
             0.1,
             "#c51b7d"
            ],
            [
             0.2,
             "#de77ae"
            ],
            [
             0.3,
             "#f1b6da"
            ],
            [
             0.4,
             "#fde0ef"
            ],
            [
             0.5,
             "#f7f7f7"
            ],
            [
             0.6,
             "#e6f5d0"
            ],
            [
             0.7,
             "#b8e186"
            ],
            [
             0.8,
             "#7fbc41"
            ],
            [
             0.9,
             "#4d9221"
            ],
            [
             1,
             "#276419"
            ]
           ],
           "sequential": [
            [
             0,
             "#0d0887"
            ],
            [
             0.1111111111111111,
             "#46039f"
            ],
            [
             0.2222222222222222,
             "#7201a8"
            ],
            [
             0.3333333333333333,
             "#9c179e"
            ],
            [
             0.4444444444444444,
             "#bd3786"
            ],
            [
             0.5555555555555556,
             "#d8576b"
            ],
            [
             0.6666666666666666,
             "#ed7953"
            ],
            [
             0.7777777777777778,
             "#fb9f3a"
            ],
            [
             0.8888888888888888,
             "#fdca26"
            ],
            [
             1,
             "#f0f921"
            ]
           ],
           "sequentialminus": [
            [
             0,
             "#0d0887"
            ],
            [
             0.1111111111111111,
             "#46039f"
            ],
            [
             0.2222222222222222,
             "#7201a8"
            ],
            [
             0.3333333333333333,
             "#9c179e"
            ],
            [
             0.4444444444444444,
             "#bd3786"
            ],
            [
             0.5555555555555556,
             "#d8576b"
            ],
            [
             0.6666666666666666,
             "#ed7953"
            ],
            [
             0.7777777777777778,
             "#fb9f3a"
            ],
            [
             0.8888888888888888,
             "#fdca26"
            ],
            [
             1,
             "#f0f921"
            ]
           ]
          },
          "colorway": [
           "#636efa",
           "#EF553B",
           "#00cc96",
           "#ab63fa",
           "#FFA15A",
           "#19d3f3",
           "#FF6692",
           "#B6E880",
           "#FF97FF",
           "#FECB52"
          ],
          "font": {
           "color": "#2a3f5f"
          },
          "geo": {
           "bgcolor": "white",
           "lakecolor": "white",
           "landcolor": "#E5ECF6",
           "showlakes": true,
           "showland": true,
           "subunitcolor": "white"
          },
          "hoverlabel": {
           "align": "left"
          },
          "hovermode": "closest",
          "mapbox": {
           "style": "light"
          },
          "paper_bgcolor": "white",
          "plot_bgcolor": "#E5ECF6",
          "polar": {
           "angularaxis": {
            "gridcolor": "white",
            "linecolor": "white",
            "ticks": ""
           },
           "bgcolor": "#E5ECF6",
           "radialaxis": {
            "gridcolor": "white",
            "linecolor": "white",
            "ticks": ""
           }
          },
          "scene": {
           "xaxis": {
            "backgroundcolor": "#E5ECF6",
            "gridcolor": "white",
            "gridwidth": 2,
            "linecolor": "white",
            "showbackground": true,
            "ticks": "",
            "zerolinecolor": "white"
           },
           "yaxis": {
            "backgroundcolor": "#E5ECF6",
            "gridcolor": "white",
            "gridwidth": 2,
            "linecolor": "white",
            "showbackground": true,
            "ticks": "",
            "zerolinecolor": "white"
           },
           "zaxis": {
            "backgroundcolor": "#E5ECF6",
            "gridcolor": "white",
            "gridwidth": 2,
            "linecolor": "white",
            "showbackground": true,
            "ticks": "",
            "zerolinecolor": "white"
           }
          },
          "shapedefaults": {
           "line": {
            "color": "#2a3f5f"
           }
          },
          "ternary": {
           "aaxis": {
            "gridcolor": "white",
            "linecolor": "white",
            "ticks": ""
           },
           "baxis": {
            "gridcolor": "white",
            "linecolor": "white",
            "ticks": ""
           },
           "bgcolor": "#E5ECF6",
           "caxis": {
            "gridcolor": "white",
            "linecolor": "white",
            "ticks": ""
           }
          },
          "title": {
           "x": 0.05
          },
          "xaxis": {
           "automargin": true,
           "gridcolor": "white",
           "linecolor": "white",
           "ticks": "",
           "title": {
            "standoff": 15
           },
           "zerolinecolor": "white",
           "zerolinewidth": 2
          },
          "yaxis": {
           "automargin": true,
           "gridcolor": "white",
           "linecolor": "white",
           "ticks": "",
           "title": {
            "standoff": 15
           },
           "zerolinecolor": "white",
           "zerolinewidth": 2
          }
         }
        },
        "width": 600,
        "xaxis": {
         "anchor": "y",
         "domain": [
          0,
          1
         ]
        },
        "yaxis": {
         "anchor": "x",
         "domain": [
          0,
          1
         ],
         "title": {
          "text": "Sentence by Sentence Cosine Similarity human rights Mean Threshold 0"
         }
        }
       }
      }
     },
     "metadata": {},
     "output_type": "display_data"
    }
   ],
   "source": [
    "fig = px.box(tf_idf_sustainability_2, y=\"Sentence by Sentence Cosine Similarity human rights Mean Threshold 0\", points=\"all\", width=600, hover_data=[\"Company\"])\n",
    "fig.show()"
   ]
  },
  {
   "cell_type": "code",
   "execution_count": 21,
   "metadata": {},
   "outputs": [
    {
     "data": {
      "text/html": [
       "<div>\n",
       "<style scoped>\n",
       "    .dataframe tbody tr th:only-of-type {\n",
       "        vertical-align: middle;\n",
       "    }\n",
       "\n",
       "    .dataframe tbody tr th {\n",
       "        vertical-align: top;\n",
       "    }\n",
       "\n",
       "    .dataframe thead th {\n",
       "        text-align: right;\n",
       "    }\n",
       "</style>\n",
       "<table border=\"1\" class=\"dataframe\">\n",
       "  <thead>\n",
       "    <tr style=\"text-align: right;\">\n",
       "      <th></th>\n",
       "      <th>Company</th>\n",
       "      <th>Label</th>\n",
       "      <th>Fulltext Cosine Similarity Wiki Summary</th>\n",
       "      <th>Fulltext Cosine Similarity Human Rights</th>\n",
       "      <th>Zero Shot Fulltext</th>\n",
       "      <th>PDF Name</th>\n",
       "      <th>TF-IDF</th>\n",
       "      <th>Top N Words</th>\n",
       "      <th>Report Type</th>\n",
       "      <th>Sentence Cosine Similarity Wiki Summarized</th>\n",
       "      <th>Sentence Cosine Similarity Wiki Summarized Mean</th>\n",
       "      <th>Sentence Cosine Similarity Wiki Summarized Mean Threshold 0</th>\n",
       "      <th>Sentence by Sentence Cosine Similarity human rights</th>\n",
       "      <th>Sentence by Sentence Cosine Similarity human rights mean</th>\n",
       "      <th>Sentence by Sentence Cosine Similarity human rights Mean Threshold 0</th>\n",
       "      <th>Zero Shot Learning Sentence Raw</th>\n",
       "      <th>Classified Text</th>\n",
       "      <th>Zero Shot Learning Sentence Mean</th>\n",
       "      <th>Zero Shot Learning Sentence Mean Threshold</th>\n",
       "      <th>sustainability tf-idf</th>\n",
       "    </tr>\n",
       "  </thead>\n",
       "  <tbody>\n",
       "    <tr>\n",
       "      <th>0</th>\n",
       "      <td>feed_cargill_nutrition</td>\n",
       "      <td>sustainability</td>\n",
       "      <td>0.61154</td>\n",
       "      <td>0.61154</td>\n",
       "      <td>0.27551</td>\n",
       "      <td>cargill-aqua-nutrition-sustainability-report</td>\n",
       "      <td>[('sustainable', 0.32667451009307846), ('healt...</td>\n",
       "      <td>[('feed', 245), ('cargill', 212), ('nutrition'...</td>\n",
       "      <td>Normal Report</td>\n",
       "      <td>[tensor([[0.2215]]), tensor([[0.2944]]), tenso...</td>\n",
       "      <td>0.162</td>\n",
       "      <td>0.182</td>\n",
       "      <td>[tensor([[0.2215]]), tensor([[0.2944]]), tenso...</td>\n",
       "      <td>0.162</td>\n",
       "      <td>0.182</td>\n",
       "      <td>[0.9700250029563904, 0.9714118838310242, 0.795...</td>\n",
       "      <td>['Cargill Aqua Nutrition Sustainability Report...</td>\n",
       "      <td>0.655</td>\n",
       "      <td>0.655</td>\n",
       "      <td>0.20517</td>\n",
       "    </tr>\n",
       "  </tbody>\n",
       "</table>\n",
       "</div>"
      ],
      "text/plain": [
       "                  Company           Label  \\\n",
       "0  feed_cargill_nutrition  sustainability   \n",
       "\n",
       "   Fulltext Cosine Similarity Wiki Summary  \\\n",
       "0                                  0.61154   \n",
       "\n",
       "   Fulltext Cosine Similarity Human Rights  Zero Shot Fulltext  \\\n",
       "0                                  0.61154             0.27551   \n",
       "\n",
       "                                       PDF Name  \\\n",
       "0  cargill-aqua-nutrition-sustainability-report   \n",
       "\n",
       "                                              TF-IDF  \\\n",
       "0  [('sustainable', 0.32667451009307846), ('healt...   \n",
       "\n",
       "                                         Top N Words    Report Type  \\\n",
       "0  [('feed', 245), ('cargill', 212), ('nutrition'...  Normal Report   \n",
       "\n",
       "          Sentence Cosine Similarity Wiki Summarized  \\\n",
       "0  [tensor([[0.2215]]), tensor([[0.2944]]), tenso...   \n",
       "\n",
       "   Sentence Cosine Similarity Wiki Summarized Mean  \\\n",
       "0                                            0.162   \n",
       "\n",
       "   Sentence Cosine Similarity Wiki Summarized Mean Threshold 0  \\\n",
       "0                                              0.182             \n",
       "\n",
       "  Sentence by Sentence Cosine Similarity human rights  \\\n",
       "0  [tensor([[0.2215]]), tensor([[0.2944]]), tenso...    \n",
       "\n",
       "   Sentence by Sentence Cosine Similarity human rights mean  \\\n",
       "0                                              0.162          \n",
       "\n",
       "   Sentence by Sentence Cosine Similarity human rights Mean Threshold 0  \\\n",
       "0                                              0.182                      \n",
       "\n",
       "                     Zero Shot Learning Sentence Raw  \\\n",
       "0  [0.9700250029563904, 0.9714118838310242, 0.795...   \n",
       "\n",
       "                                     Classified Text  \\\n",
       "0  ['Cargill Aqua Nutrition Sustainability Report...   \n",
       "\n",
       "   Zero Shot Learning Sentence Mean  \\\n",
       "0                             0.655   \n",
       "\n",
       "   Zero Shot Learning Sentence Mean Threshold  sustainability tf-idf  \n",
       "0                                       0.655                0.20517  "
      ]
     },
     "execution_count": 21,
     "metadata": {},
     "output_type": "execute_result"
    }
   ],
   "source": [
    "tf_idf_sustainability_2[0:1]"
   ]
  },
  {
   "cell_type": "code",
   "execution_count": 22,
   "metadata": {},
   "outputs": [],
   "source": [
    "tf_idf_sustainability_2_2 = tf_idf_sustainability_2[tf_idf_sustainability_2[\"Zero Shot Fulltext\"] < 0.6]"
   ]
  },
  {
   "cell_type": "code",
   "execution_count": 34,
   "metadata": {},
   "outputs": [
    {
     "data": {
      "application/vnd.plotly.v1+json": {
       "config": {
        "plotlyServerURL": "https://plot.ly"
       },
       "data": [
        {
         "alignmentgroup": "True",
         "boxpoints": "all",
         "hovertemplate": "Sentence by Sentence Cosine Similarity human rights Mean Threshold 0=%{y}<extra></extra>",
         "legendgroup": "",
         "marker": {
          "color": "#636efa"
         },
         "name": "",
         "notched": false,
         "offsetgroup": "",
         "orientation": "v",
         "showlegend": false,
         "type": "box",
         "x0": " ",
         "xaxis": "x",
         "y": [
          0.182,
          0.172,
          0.171,
          0.17,
          0.254,
          0.221,
          0.194,
          0.182,
          0.183,
          0.145,
          0.199,
          0.204,
          0.185,
          0.24,
          0.219,
          0.206,
          0.191,
          0.178,
          0.214,
          0.193,
          0.188,
          0.212,
          0.173,
          0.242,
          0.223,
          0.245,
          0.132,
          0.154,
          0.142,
          0.17,
          0.183,
          0.225,
          0.188,
          0.242,
          0.187,
          0.163,
          0.173,
          0.212,
          0.157,
          0.229,
          0.212,
          0.207,
          0.193,
          0.124,
          0.221,
          0.195,
          0.217,
          0.188,
          0.164,
          0.168,
          0.187
         ],
         "y0": " ",
         "yaxis": "y"
        }
       ],
       "layout": {
        "boxmode": "group",
        "legend": {
         "tracegroupgap": 0
        },
        "margin": {
         "t": 60
        },
        "template": {
         "data": {
          "bar": [
           {
            "error_x": {
             "color": "#2a3f5f"
            },
            "error_y": {
             "color": "#2a3f5f"
            },
            "marker": {
             "line": {
              "color": "#E5ECF6",
              "width": 0.5
             },
             "pattern": {
              "fillmode": "overlay",
              "size": 10,
              "solidity": 0.2
             }
            },
            "type": "bar"
           }
          ],
          "barpolar": [
           {
            "marker": {
             "line": {
              "color": "#E5ECF6",
              "width": 0.5
             },
             "pattern": {
              "fillmode": "overlay",
              "size": 10,
              "solidity": 0.2
             }
            },
            "type": "barpolar"
           }
          ],
          "carpet": [
           {
            "aaxis": {
             "endlinecolor": "#2a3f5f",
             "gridcolor": "white",
             "linecolor": "white",
             "minorgridcolor": "white",
             "startlinecolor": "#2a3f5f"
            },
            "baxis": {
             "endlinecolor": "#2a3f5f",
             "gridcolor": "white",
             "linecolor": "white",
             "minorgridcolor": "white",
             "startlinecolor": "#2a3f5f"
            },
            "type": "carpet"
           }
          ],
          "choropleth": [
           {
            "colorbar": {
             "outlinewidth": 0,
             "ticks": ""
            },
            "type": "choropleth"
           }
          ],
          "contour": [
           {
            "colorbar": {
             "outlinewidth": 0,
             "ticks": ""
            },
            "colorscale": [
             [
              0,
              "#0d0887"
             ],
             [
              0.1111111111111111,
              "#46039f"
             ],
             [
              0.2222222222222222,
              "#7201a8"
             ],
             [
              0.3333333333333333,
              "#9c179e"
             ],
             [
              0.4444444444444444,
              "#bd3786"
             ],
             [
              0.5555555555555556,
              "#d8576b"
             ],
             [
              0.6666666666666666,
              "#ed7953"
             ],
             [
              0.7777777777777778,
              "#fb9f3a"
             ],
             [
              0.8888888888888888,
              "#fdca26"
             ],
             [
              1,
              "#f0f921"
             ]
            ],
            "type": "contour"
           }
          ],
          "contourcarpet": [
           {
            "colorbar": {
             "outlinewidth": 0,
             "ticks": ""
            },
            "type": "contourcarpet"
           }
          ],
          "heatmap": [
           {
            "colorbar": {
             "outlinewidth": 0,
             "ticks": ""
            },
            "colorscale": [
             [
              0,
              "#0d0887"
             ],
             [
              0.1111111111111111,
              "#46039f"
             ],
             [
              0.2222222222222222,
              "#7201a8"
             ],
             [
              0.3333333333333333,
              "#9c179e"
             ],
             [
              0.4444444444444444,
              "#bd3786"
             ],
             [
              0.5555555555555556,
              "#d8576b"
             ],
             [
              0.6666666666666666,
              "#ed7953"
             ],
             [
              0.7777777777777778,
              "#fb9f3a"
             ],
             [
              0.8888888888888888,
              "#fdca26"
             ],
             [
              1,
              "#f0f921"
             ]
            ],
            "type": "heatmap"
           }
          ],
          "heatmapgl": [
           {
            "colorbar": {
             "outlinewidth": 0,
             "ticks": ""
            },
            "colorscale": [
             [
              0,
              "#0d0887"
             ],
             [
              0.1111111111111111,
              "#46039f"
             ],
             [
              0.2222222222222222,
              "#7201a8"
             ],
             [
              0.3333333333333333,
              "#9c179e"
             ],
             [
              0.4444444444444444,
              "#bd3786"
             ],
             [
              0.5555555555555556,
              "#d8576b"
             ],
             [
              0.6666666666666666,
              "#ed7953"
             ],
             [
              0.7777777777777778,
              "#fb9f3a"
             ],
             [
              0.8888888888888888,
              "#fdca26"
             ],
             [
              1,
              "#f0f921"
             ]
            ],
            "type": "heatmapgl"
           }
          ],
          "histogram": [
           {
            "marker": {
             "pattern": {
              "fillmode": "overlay",
              "size": 10,
              "solidity": 0.2
             }
            },
            "type": "histogram"
           }
          ],
          "histogram2d": [
           {
            "colorbar": {
             "outlinewidth": 0,
             "ticks": ""
            },
            "colorscale": [
             [
              0,
              "#0d0887"
             ],
             [
              0.1111111111111111,
              "#46039f"
             ],
             [
              0.2222222222222222,
              "#7201a8"
             ],
             [
              0.3333333333333333,
              "#9c179e"
             ],
             [
              0.4444444444444444,
              "#bd3786"
             ],
             [
              0.5555555555555556,
              "#d8576b"
             ],
             [
              0.6666666666666666,
              "#ed7953"
             ],
             [
              0.7777777777777778,
              "#fb9f3a"
             ],
             [
              0.8888888888888888,
              "#fdca26"
             ],
             [
              1,
              "#f0f921"
             ]
            ],
            "type": "histogram2d"
           }
          ],
          "histogram2dcontour": [
           {
            "colorbar": {
             "outlinewidth": 0,
             "ticks": ""
            },
            "colorscale": [
             [
              0,
              "#0d0887"
             ],
             [
              0.1111111111111111,
              "#46039f"
             ],
             [
              0.2222222222222222,
              "#7201a8"
             ],
             [
              0.3333333333333333,
              "#9c179e"
             ],
             [
              0.4444444444444444,
              "#bd3786"
             ],
             [
              0.5555555555555556,
              "#d8576b"
             ],
             [
              0.6666666666666666,
              "#ed7953"
             ],
             [
              0.7777777777777778,
              "#fb9f3a"
             ],
             [
              0.8888888888888888,
              "#fdca26"
             ],
             [
              1,
              "#f0f921"
             ]
            ],
            "type": "histogram2dcontour"
           }
          ],
          "mesh3d": [
           {
            "colorbar": {
             "outlinewidth": 0,
             "ticks": ""
            },
            "type": "mesh3d"
           }
          ],
          "parcoords": [
           {
            "line": {
             "colorbar": {
              "outlinewidth": 0,
              "ticks": ""
             }
            },
            "type": "parcoords"
           }
          ],
          "pie": [
           {
            "automargin": true,
            "type": "pie"
           }
          ],
          "scatter": [
           {
            "fillpattern": {
             "fillmode": "overlay",
             "size": 10,
             "solidity": 0.2
            },
            "type": "scatter"
           }
          ],
          "scatter3d": [
           {
            "line": {
             "colorbar": {
              "outlinewidth": 0,
              "ticks": ""
             }
            },
            "marker": {
             "colorbar": {
              "outlinewidth": 0,
              "ticks": ""
             }
            },
            "type": "scatter3d"
           }
          ],
          "scattercarpet": [
           {
            "marker": {
             "colorbar": {
              "outlinewidth": 0,
              "ticks": ""
             }
            },
            "type": "scattercarpet"
           }
          ],
          "scattergeo": [
           {
            "marker": {
             "colorbar": {
              "outlinewidth": 0,
              "ticks": ""
             }
            },
            "type": "scattergeo"
           }
          ],
          "scattergl": [
           {
            "marker": {
             "colorbar": {
              "outlinewidth": 0,
              "ticks": ""
             }
            },
            "type": "scattergl"
           }
          ],
          "scattermapbox": [
           {
            "marker": {
             "colorbar": {
              "outlinewidth": 0,
              "ticks": ""
             }
            },
            "type": "scattermapbox"
           }
          ],
          "scatterpolar": [
           {
            "marker": {
             "colorbar": {
              "outlinewidth": 0,
              "ticks": ""
             }
            },
            "type": "scatterpolar"
           }
          ],
          "scatterpolargl": [
           {
            "marker": {
             "colorbar": {
              "outlinewidth": 0,
              "ticks": ""
             }
            },
            "type": "scatterpolargl"
           }
          ],
          "scatterternary": [
           {
            "marker": {
             "colorbar": {
              "outlinewidth": 0,
              "ticks": ""
             }
            },
            "type": "scatterternary"
           }
          ],
          "surface": [
           {
            "colorbar": {
             "outlinewidth": 0,
             "ticks": ""
            },
            "colorscale": [
             [
              0,
              "#0d0887"
             ],
             [
              0.1111111111111111,
              "#46039f"
             ],
             [
              0.2222222222222222,
              "#7201a8"
             ],
             [
              0.3333333333333333,
              "#9c179e"
             ],
             [
              0.4444444444444444,
              "#bd3786"
             ],
             [
              0.5555555555555556,
              "#d8576b"
             ],
             [
              0.6666666666666666,
              "#ed7953"
             ],
             [
              0.7777777777777778,
              "#fb9f3a"
             ],
             [
              0.8888888888888888,
              "#fdca26"
             ],
             [
              1,
              "#f0f921"
             ]
            ],
            "type": "surface"
           }
          ],
          "table": [
           {
            "cells": {
             "fill": {
              "color": "#EBF0F8"
             },
             "line": {
              "color": "white"
             }
            },
            "header": {
             "fill": {
              "color": "#C8D4E3"
             },
             "line": {
              "color": "white"
             }
            },
            "type": "table"
           }
          ]
         },
         "layout": {
          "annotationdefaults": {
           "arrowcolor": "#2a3f5f",
           "arrowhead": 0,
           "arrowwidth": 1
          },
          "autotypenumbers": "strict",
          "coloraxis": {
           "colorbar": {
            "outlinewidth": 0,
            "ticks": ""
           }
          },
          "colorscale": {
           "diverging": [
            [
             0,
             "#8e0152"
            ],
            [
             0.1,
             "#c51b7d"
            ],
            [
             0.2,
             "#de77ae"
            ],
            [
             0.3,
             "#f1b6da"
            ],
            [
             0.4,
             "#fde0ef"
            ],
            [
             0.5,
             "#f7f7f7"
            ],
            [
             0.6,
             "#e6f5d0"
            ],
            [
             0.7,
             "#b8e186"
            ],
            [
             0.8,
             "#7fbc41"
            ],
            [
             0.9,
             "#4d9221"
            ],
            [
             1,
             "#276419"
            ]
           ],
           "sequential": [
            [
             0,
             "#0d0887"
            ],
            [
             0.1111111111111111,
             "#46039f"
            ],
            [
             0.2222222222222222,
             "#7201a8"
            ],
            [
             0.3333333333333333,
             "#9c179e"
            ],
            [
             0.4444444444444444,
             "#bd3786"
            ],
            [
             0.5555555555555556,
             "#d8576b"
            ],
            [
             0.6666666666666666,
             "#ed7953"
            ],
            [
             0.7777777777777778,
             "#fb9f3a"
            ],
            [
             0.8888888888888888,
             "#fdca26"
            ],
            [
             1,
             "#f0f921"
            ]
           ],
           "sequentialminus": [
            [
             0,
             "#0d0887"
            ],
            [
             0.1111111111111111,
             "#46039f"
            ],
            [
             0.2222222222222222,
             "#7201a8"
            ],
            [
             0.3333333333333333,
             "#9c179e"
            ],
            [
             0.4444444444444444,
             "#bd3786"
            ],
            [
             0.5555555555555556,
             "#d8576b"
            ],
            [
             0.6666666666666666,
             "#ed7953"
            ],
            [
             0.7777777777777778,
             "#fb9f3a"
            ],
            [
             0.8888888888888888,
             "#fdca26"
            ],
            [
             1,
             "#f0f921"
            ]
           ]
          },
          "colorway": [
           "#636efa",
           "#EF553B",
           "#00cc96",
           "#ab63fa",
           "#FFA15A",
           "#19d3f3",
           "#FF6692",
           "#B6E880",
           "#FF97FF",
           "#FECB52"
          ],
          "font": {
           "color": "#2a3f5f"
          },
          "geo": {
           "bgcolor": "white",
           "lakecolor": "white",
           "landcolor": "#E5ECF6",
           "showlakes": true,
           "showland": true,
           "subunitcolor": "white"
          },
          "hoverlabel": {
           "align": "left"
          },
          "hovermode": "closest",
          "mapbox": {
           "style": "light"
          },
          "paper_bgcolor": "white",
          "plot_bgcolor": "#E5ECF6",
          "polar": {
           "angularaxis": {
            "gridcolor": "white",
            "linecolor": "white",
            "ticks": ""
           },
           "bgcolor": "#E5ECF6",
           "radialaxis": {
            "gridcolor": "white",
            "linecolor": "white",
            "ticks": ""
           }
          },
          "scene": {
           "xaxis": {
            "backgroundcolor": "#E5ECF6",
            "gridcolor": "white",
            "gridwidth": 2,
            "linecolor": "white",
            "showbackground": true,
            "ticks": "",
            "zerolinecolor": "white"
           },
           "yaxis": {
            "backgroundcolor": "#E5ECF6",
            "gridcolor": "white",
            "gridwidth": 2,
            "linecolor": "white",
            "showbackground": true,
            "ticks": "",
            "zerolinecolor": "white"
           },
           "zaxis": {
            "backgroundcolor": "#E5ECF6",
            "gridcolor": "white",
            "gridwidth": 2,
            "linecolor": "white",
            "showbackground": true,
            "ticks": "",
            "zerolinecolor": "white"
           }
          },
          "shapedefaults": {
           "line": {
            "color": "#2a3f5f"
           }
          },
          "ternary": {
           "aaxis": {
            "gridcolor": "white",
            "linecolor": "white",
            "ticks": ""
           },
           "baxis": {
            "gridcolor": "white",
            "linecolor": "white",
            "ticks": ""
           },
           "bgcolor": "#E5ECF6",
           "caxis": {
            "gridcolor": "white",
            "linecolor": "white",
            "ticks": ""
           }
          },
          "title": {
           "x": 0.05
          },
          "xaxis": {
           "automargin": true,
           "gridcolor": "white",
           "linecolor": "white",
           "ticks": "",
           "title": {
            "standoff": 15
           },
           "zerolinecolor": "white",
           "zerolinewidth": 2
          },
          "yaxis": {
           "automargin": true,
           "gridcolor": "white",
           "linecolor": "white",
           "ticks": "",
           "title": {
            "standoff": 15
           },
           "zerolinecolor": "white",
           "zerolinewidth": 2
          }
         }
        },
        "width": 600,
        "xaxis": {
         "anchor": "y",
         "domain": [
          0,
          1
         ]
        },
        "yaxis": {
         "anchor": "x",
         "domain": [
          0,
          1
         ],
         "title": {
          "text": "Sentence by Sentence Cosine Similarity human rights Mean Threshold 0"
         }
        }
       }
      }
     },
     "metadata": {},
     "output_type": "display_data"
    }
   ],
   "source": [
    "fig = px.box(tf_idf_sustainability_2_2, y=\"Sentence by Sentence Cosine Similarity human rights Mean Threshold 0\", points = \"all\", width=600)\n",
    "fig.show()\n"
   ]
  },
  {
   "cell_type": "code",
   "execution_count": 36,
   "metadata": {},
   "outputs": [
    {
     "data": {
      "application/vnd.plotly.v1+json": {
       "config": {
        "plotlyServerURL": "https://plot.ly"
       },
       "data": [
        {
         "hovertemplate": "Label=sustainability<br>Sentence by Sentence Cosine Similarity human rights Mean Threshold 0=%{x}<br>sustainability tf-idf=%{y}<extra></extra>",
         "legendgroup": "sustainability",
         "marker": {
          "color": "#636efa",
          "symbol": "circle"
         },
         "mode": "markers",
         "name": "sustainability",
         "orientation": "v",
         "showlegend": true,
         "type": "scatter",
         "x": [
          0.182,
          0.172,
          0.171,
          0.17,
          0.254,
          0.221,
          0.194,
          0.182,
          0.183,
          0.145,
          0.199,
          0.204,
          0.185,
          0.24,
          0.219,
          0.206,
          0.191,
          0.178,
          0.214,
          0.193,
          0.188,
          0.212,
          0.173,
          0.242,
          0.223,
          0.245,
          0.132,
          0.154,
          0.142,
          0.17,
          0.183,
          0.225,
          0.188,
          0.242,
          0.187,
          0.163,
          0.173,
          0.212,
          0.157,
          0.229,
          0.212,
          0.207,
          0.193,
          0.124,
          0.221,
          0.195,
          0.217,
          0.188,
          0.164,
          0.168,
          0.187
         ],
         "xaxis": "x",
         "y": [
          0.20517,
          0.37694,
          0.40214,
          0.24899,
          0.31032,
          0.22156,
          0.1499,
          0.43553,
          0.10583,
          0.13452,
          0.08595,
          0.30019,
          0.20093,
          0.16115,
          0.27776,
          0.19313,
          0.19438,
          0.10733,
          0.31223,
          0.15335,
          0.25086,
          0.1888,
          0.47449,
          0.23578,
          0.37042,
          0.19648,
          0.15794,
          0.11482,
          0.08341,
          0.12036,
          0.29895,
          0.29111,
          0.08098,
          0.40754,
          0.22915,
          0.19492,
          0.07974,
          0.23932,
          0.2586,
          0.25887,
          0.1268,
          0.38082,
          0.17481,
          0.06827,
          0.22347,
          0.28873,
          0.2686,
          0.22274,
          0.23717,
          0.09315,
          0.14447
         ],
         "yaxis": "y"
        },
        {
         "hovertemplate": "<b>OLS trendline</b><br>sustainability tf-idf = 1.11968 * Sentence by Sentence Cosine Similarity human rights Mean Threshold 0 + 0.0067595<br>R<sup>2</sup>=0.107756<br><br>Label=sustainability<br>Sentence by Sentence Cosine Similarity human rights Mean Threshold 0=%{x}<br>sustainability tf-idf=%{y} <b>(trend)</b><extra></extra>",
         "legendgroup": "sustainability",
         "marker": {
          "color": "#636efa",
          "symbol": "circle"
         },
         "mode": "lines",
         "name": "sustainability",
         "showlegend": false,
         "type": "scatter",
         "x": [
          0.124,
          0.132,
          0.142,
          0.145,
          0.154,
          0.157,
          0.163,
          0.164,
          0.168,
          0.17,
          0.17,
          0.171,
          0.172,
          0.173,
          0.173,
          0.178,
          0.182,
          0.182,
          0.183,
          0.183,
          0.185,
          0.187,
          0.187,
          0.188,
          0.188,
          0.188,
          0.191,
          0.193,
          0.193,
          0.194,
          0.195,
          0.199,
          0.204,
          0.206,
          0.207,
          0.212,
          0.212,
          0.212,
          0.214,
          0.217,
          0.219,
          0.221,
          0.221,
          0.223,
          0.225,
          0.229,
          0.24,
          0.242,
          0.242,
          0.245,
          0.254
         ],
         "xaxis": "x",
         "y": [
          0.14559979062298606,
          0.15455722851306378,
          0.16575402587566093,
          0.1691130650844401,
          0.17919018271077755,
          0.1825492219195567,
          0.189267300337115,
          0.19038698007337473,
          0.1948656990184136,
          0.19710505849093304,
          0.19710505849093304,
          0.19822473822719275,
          0.19934441796345245,
          0.20046409769971216,
          0.20046409769971216,
          0.20606249638101073,
          0.2105412153260496,
          0.2105412153260496,
          0.21166089506230934,
          0.21166089506230934,
          0.21390025453482878,
          0.2161396140073482,
          0.2161396140073482,
          0.21725929374360792,
          0.21725929374360792,
          0.21725929374360792,
          0.2206183329523871,
          0.22285769242490652,
          0.22285769242490652,
          0.22397737216116623,
          0.22509705189742596,
          0.22957577084246483,
          0.23517416952376338,
          0.23741352899628282,
          0.23853320873254252,
          0.24413160741384113,
          0.24413160741384113,
          0.24413160741384113,
          0.24637096688636057,
          0.2497300060951397,
          0.25196936556765914,
          0.25420872504017855,
          0.25420872504017855,
          0.256448084512698,
          0.2586874439852175,
          0.2631661629302563,
          0.2754826400291132,
          0.2777219995016326,
          0.2777219995016326,
          0.2810810387104118,
          0.29115815633674924
         ],
         "yaxis": "y"
        }
       ],
       "layout": {
        "legend": {
         "title": {
          "text": "Label"
         },
         "tracegroupgap": 0
        },
        "margin": {
         "t": 60
        },
        "template": {
         "data": {
          "bar": [
           {
            "error_x": {
             "color": "#2a3f5f"
            },
            "error_y": {
             "color": "#2a3f5f"
            },
            "marker": {
             "line": {
              "color": "#E5ECF6",
              "width": 0.5
             },
             "pattern": {
              "fillmode": "overlay",
              "size": 10,
              "solidity": 0.2
             }
            },
            "type": "bar"
           }
          ],
          "barpolar": [
           {
            "marker": {
             "line": {
              "color": "#E5ECF6",
              "width": 0.5
             },
             "pattern": {
              "fillmode": "overlay",
              "size": 10,
              "solidity": 0.2
             }
            },
            "type": "barpolar"
           }
          ],
          "carpet": [
           {
            "aaxis": {
             "endlinecolor": "#2a3f5f",
             "gridcolor": "white",
             "linecolor": "white",
             "minorgridcolor": "white",
             "startlinecolor": "#2a3f5f"
            },
            "baxis": {
             "endlinecolor": "#2a3f5f",
             "gridcolor": "white",
             "linecolor": "white",
             "minorgridcolor": "white",
             "startlinecolor": "#2a3f5f"
            },
            "type": "carpet"
           }
          ],
          "choropleth": [
           {
            "colorbar": {
             "outlinewidth": 0,
             "ticks": ""
            },
            "type": "choropleth"
           }
          ],
          "contour": [
           {
            "colorbar": {
             "outlinewidth": 0,
             "ticks": ""
            },
            "colorscale": [
             [
              0,
              "#0d0887"
             ],
             [
              0.1111111111111111,
              "#46039f"
             ],
             [
              0.2222222222222222,
              "#7201a8"
             ],
             [
              0.3333333333333333,
              "#9c179e"
             ],
             [
              0.4444444444444444,
              "#bd3786"
             ],
             [
              0.5555555555555556,
              "#d8576b"
             ],
             [
              0.6666666666666666,
              "#ed7953"
             ],
             [
              0.7777777777777778,
              "#fb9f3a"
             ],
             [
              0.8888888888888888,
              "#fdca26"
             ],
             [
              1,
              "#f0f921"
             ]
            ],
            "type": "contour"
           }
          ],
          "contourcarpet": [
           {
            "colorbar": {
             "outlinewidth": 0,
             "ticks": ""
            },
            "type": "contourcarpet"
           }
          ],
          "heatmap": [
           {
            "colorbar": {
             "outlinewidth": 0,
             "ticks": ""
            },
            "colorscale": [
             [
              0,
              "#0d0887"
             ],
             [
              0.1111111111111111,
              "#46039f"
             ],
             [
              0.2222222222222222,
              "#7201a8"
             ],
             [
              0.3333333333333333,
              "#9c179e"
             ],
             [
              0.4444444444444444,
              "#bd3786"
             ],
             [
              0.5555555555555556,
              "#d8576b"
             ],
             [
              0.6666666666666666,
              "#ed7953"
             ],
             [
              0.7777777777777778,
              "#fb9f3a"
             ],
             [
              0.8888888888888888,
              "#fdca26"
             ],
             [
              1,
              "#f0f921"
             ]
            ],
            "type": "heatmap"
           }
          ],
          "heatmapgl": [
           {
            "colorbar": {
             "outlinewidth": 0,
             "ticks": ""
            },
            "colorscale": [
             [
              0,
              "#0d0887"
             ],
             [
              0.1111111111111111,
              "#46039f"
             ],
             [
              0.2222222222222222,
              "#7201a8"
             ],
             [
              0.3333333333333333,
              "#9c179e"
             ],
             [
              0.4444444444444444,
              "#bd3786"
             ],
             [
              0.5555555555555556,
              "#d8576b"
             ],
             [
              0.6666666666666666,
              "#ed7953"
             ],
             [
              0.7777777777777778,
              "#fb9f3a"
             ],
             [
              0.8888888888888888,
              "#fdca26"
             ],
             [
              1,
              "#f0f921"
             ]
            ],
            "type": "heatmapgl"
           }
          ],
          "histogram": [
           {
            "marker": {
             "pattern": {
              "fillmode": "overlay",
              "size": 10,
              "solidity": 0.2
             }
            },
            "type": "histogram"
           }
          ],
          "histogram2d": [
           {
            "colorbar": {
             "outlinewidth": 0,
             "ticks": ""
            },
            "colorscale": [
             [
              0,
              "#0d0887"
             ],
             [
              0.1111111111111111,
              "#46039f"
             ],
             [
              0.2222222222222222,
              "#7201a8"
             ],
             [
              0.3333333333333333,
              "#9c179e"
             ],
             [
              0.4444444444444444,
              "#bd3786"
             ],
             [
              0.5555555555555556,
              "#d8576b"
             ],
             [
              0.6666666666666666,
              "#ed7953"
             ],
             [
              0.7777777777777778,
              "#fb9f3a"
             ],
             [
              0.8888888888888888,
              "#fdca26"
             ],
             [
              1,
              "#f0f921"
             ]
            ],
            "type": "histogram2d"
           }
          ],
          "histogram2dcontour": [
           {
            "colorbar": {
             "outlinewidth": 0,
             "ticks": ""
            },
            "colorscale": [
             [
              0,
              "#0d0887"
             ],
             [
              0.1111111111111111,
              "#46039f"
             ],
             [
              0.2222222222222222,
              "#7201a8"
             ],
             [
              0.3333333333333333,
              "#9c179e"
             ],
             [
              0.4444444444444444,
              "#bd3786"
             ],
             [
              0.5555555555555556,
              "#d8576b"
             ],
             [
              0.6666666666666666,
              "#ed7953"
             ],
             [
              0.7777777777777778,
              "#fb9f3a"
             ],
             [
              0.8888888888888888,
              "#fdca26"
             ],
             [
              1,
              "#f0f921"
             ]
            ],
            "type": "histogram2dcontour"
           }
          ],
          "mesh3d": [
           {
            "colorbar": {
             "outlinewidth": 0,
             "ticks": ""
            },
            "type": "mesh3d"
           }
          ],
          "parcoords": [
           {
            "line": {
             "colorbar": {
              "outlinewidth": 0,
              "ticks": ""
             }
            },
            "type": "parcoords"
           }
          ],
          "pie": [
           {
            "automargin": true,
            "type": "pie"
           }
          ],
          "scatter": [
           {
            "fillpattern": {
             "fillmode": "overlay",
             "size": 10,
             "solidity": 0.2
            },
            "type": "scatter"
           }
          ],
          "scatter3d": [
           {
            "line": {
             "colorbar": {
              "outlinewidth": 0,
              "ticks": ""
             }
            },
            "marker": {
             "colorbar": {
              "outlinewidth": 0,
              "ticks": ""
             }
            },
            "type": "scatter3d"
           }
          ],
          "scattercarpet": [
           {
            "marker": {
             "colorbar": {
              "outlinewidth": 0,
              "ticks": ""
             }
            },
            "type": "scattercarpet"
           }
          ],
          "scattergeo": [
           {
            "marker": {
             "colorbar": {
              "outlinewidth": 0,
              "ticks": ""
             }
            },
            "type": "scattergeo"
           }
          ],
          "scattergl": [
           {
            "marker": {
             "colorbar": {
              "outlinewidth": 0,
              "ticks": ""
             }
            },
            "type": "scattergl"
           }
          ],
          "scattermapbox": [
           {
            "marker": {
             "colorbar": {
              "outlinewidth": 0,
              "ticks": ""
             }
            },
            "type": "scattermapbox"
           }
          ],
          "scatterpolar": [
           {
            "marker": {
             "colorbar": {
              "outlinewidth": 0,
              "ticks": ""
             }
            },
            "type": "scatterpolar"
           }
          ],
          "scatterpolargl": [
           {
            "marker": {
             "colorbar": {
              "outlinewidth": 0,
              "ticks": ""
             }
            },
            "type": "scatterpolargl"
           }
          ],
          "scatterternary": [
           {
            "marker": {
             "colorbar": {
              "outlinewidth": 0,
              "ticks": ""
             }
            },
            "type": "scatterternary"
           }
          ],
          "surface": [
           {
            "colorbar": {
             "outlinewidth": 0,
             "ticks": ""
            },
            "colorscale": [
             [
              0,
              "#0d0887"
             ],
             [
              0.1111111111111111,
              "#46039f"
             ],
             [
              0.2222222222222222,
              "#7201a8"
             ],
             [
              0.3333333333333333,
              "#9c179e"
             ],
             [
              0.4444444444444444,
              "#bd3786"
             ],
             [
              0.5555555555555556,
              "#d8576b"
             ],
             [
              0.6666666666666666,
              "#ed7953"
             ],
             [
              0.7777777777777778,
              "#fb9f3a"
             ],
             [
              0.8888888888888888,
              "#fdca26"
             ],
             [
              1,
              "#f0f921"
             ]
            ],
            "type": "surface"
           }
          ],
          "table": [
           {
            "cells": {
             "fill": {
              "color": "#EBF0F8"
             },
             "line": {
              "color": "white"
             }
            },
            "header": {
             "fill": {
              "color": "#C8D4E3"
             },
             "line": {
              "color": "white"
             }
            },
            "type": "table"
           }
          ]
         },
         "layout": {
          "annotationdefaults": {
           "arrowcolor": "#2a3f5f",
           "arrowhead": 0,
           "arrowwidth": 1
          },
          "autotypenumbers": "strict",
          "coloraxis": {
           "colorbar": {
            "outlinewidth": 0,
            "ticks": ""
           }
          },
          "colorscale": {
           "diverging": [
            [
             0,
             "#8e0152"
            ],
            [
             0.1,
             "#c51b7d"
            ],
            [
             0.2,
             "#de77ae"
            ],
            [
             0.3,
             "#f1b6da"
            ],
            [
             0.4,
             "#fde0ef"
            ],
            [
             0.5,
             "#f7f7f7"
            ],
            [
             0.6,
             "#e6f5d0"
            ],
            [
             0.7,
             "#b8e186"
            ],
            [
             0.8,
             "#7fbc41"
            ],
            [
             0.9,
             "#4d9221"
            ],
            [
             1,
             "#276419"
            ]
           ],
           "sequential": [
            [
             0,
             "#0d0887"
            ],
            [
             0.1111111111111111,
             "#46039f"
            ],
            [
             0.2222222222222222,
             "#7201a8"
            ],
            [
             0.3333333333333333,
             "#9c179e"
            ],
            [
             0.4444444444444444,
             "#bd3786"
            ],
            [
             0.5555555555555556,
             "#d8576b"
            ],
            [
             0.6666666666666666,
             "#ed7953"
            ],
            [
             0.7777777777777778,
             "#fb9f3a"
            ],
            [
             0.8888888888888888,
             "#fdca26"
            ],
            [
             1,
             "#f0f921"
            ]
           ],
           "sequentialminus": [
            [
             0,
             "#0d0887"
            ],
            [
             0.1111111111111111,
             "#46039f"
            ],
            [
             0.2222222222222222,
             "#7201a8"
            ],
            [
             0.3333333333333333,
             "#9c179e"
            ],
            [
             0.4444444444444444,
             "#bd3786"
            ],
            [
             0.5555555555555556,
             "#d8576b"
            ],
            [
             0.6666666666666666,
             "#ed7953"
            ],
            [
             0.7777777777777778,
             "#fb9f3a"
            ],
            [
             0.8888888888888888,
             "#fdca26"
            ],
            [
             1,
             "#f0f921"
            ]
           ]
          },
          "colorway": [
           "#636efa",
           "#EF553B",
           "#00cc96",
           "#ab63fa",
           "#FFA15A",
           "#19d3f3",
           "#FF6692",
           "#B6E880",
           "#FF97FF",
           "#FECB52"
          ],
          "font": {
           "color": "#2a3f5f"
          },
          "geo": {
           "bgcolor": "white",
           "lakecolor": "white",
           "landcolor": "#E5ECF6",
           "showlakes": true,
           "showland": true,
           "subunitcolor": "white"
          },
          "hoverlabel": {
           "align": "left"
          },
          "hovermode": "closest",
          "mapbox": {
           "style": "light"
          },
          "paper_bgcolor": "white",
          "plot_bgcolor": "#E5ECF6",
          "polar": {
           "angularaxis": {
            "gridcolor": "white",
            "linecolor": "white",
            "ticks": ""
           },
           "bgcolor": "#E5ECF6",
           "radialaxis": {
            "gridcolor": "white",
            "linecolor": "white",
            "ticks": ""
           }
          },
          "scene": {
           "xaxis": {
            "backgroundcolor": "#E5ECF6",
            "gridcolor": "white",
            "gridwidth": 2,
            "linecolor": "white",
            "showbackground": true,
            "ticks": "",
            "zerolinecolor": "white"
           },
           "yaxis": {
            "backgroundcolor": "#E5ECF6",
            "gridcolor": "white",
            "gridwidth": 2,
            "linecolor": "white",
            "showbackground": true,
            "ticks": "",
            "zerolinecolor": "white"
           },
           "zaxis": {
            "backgroundcolor": "#E5ECF6",
            "gridcolor": "white",
            "gridwidth": 2,
            "linecolor": "white",
            "showbackground": true,
            "ticks": "",
            "zerolinecolor": "white"
           }
          },
          "shapedefaults": {
           "line": {
            "color": "#2a3f5f"
           }
          },
          "ternary": {
           "aaxis": {
            "gridcolor": "white",
            "linecolor": "white",
            "ticks": ""
           },
           "baxis": {
            "gridcolor": "white",
            "linecolor": "white",
            "ticks": ""
           },
           "bgcolor": "#E5ECF6",
           "caxis": {
            "gridcolor": "white",
            "linecolor": "white",
            "ticks": ""
           }
          },
          "title": {
           "x": 0.05
          },
          "xaxis": {
           "automargin": true,
           "gridcolor": "white",
           "linecolor": "white",
           "ticks": "",
           "title": {
            "standoff": 15
           },
           "zerolinecolor": "white",
           "zerolinewidth": 2
          },
          "yaxis": {
           "automargin": true,
           "gridcolor": "white",
           "linecolor": "white",
           "ticks": "",
           "title": {
            "standoff": 15
           },
           "zerolinecolor": "white",
           "zerolinewidth": 2
          }
         }
        },
        "width": 1000,
        "xaxis": {
         "anchor": "y",
         "domain": [
          0,
          1
         ],
         "title": {
          "text": "Sentence by Sentence Cosine Similarity human rights Mean Threshold 0"
         }
        },
        "yaxis": {
         "anchor": "x",
         "domain": [
          0,
          1
         ],
         "title": {
          "text": "sustainability tf-idf"
         }
        }
       }
      }
     },
     "metadata": {},
     "output_type": "display_data"
    },
    {
     "name": "stdout",
     "output_type": "stream",
     "text": [
      "            Label                                     px_fit_results\n",
      "0  sustainability  <statsmodels.regression.linear_model.Regressio...\n"
     ]
    },
    {
     "data": {
      "text/html": [
       "<table class=\"simpletable\">\n",
       "<caption>OLS Regression Results</caption>\n",
       "<tr>\n",
       "  <th>Dep. Variable:</th>            <td>y</td>        <th>  R-squared:         </th> <td>   0.108</td>\n",
       "</tr>\n",
       "<tr>\n",
       "  <th>Model:</th>                   <td>OLS</td>       <th>  Adj. R-squared:    </th> <td>   0.090</td>\n",
       "</tr>\n",
       "<tr>\n",
       "  <th>Method:</th>             <td>Least Squares</td>  <th>  F-statistic:       </th> <td>   5.918</td>\n",
       "</tr>\n",
       "<tr>\n",
       "  <th>Date:</th>             <td>Sun, 11 Dec 2022</td> <th>  Prob (F-statistic):</th>  <td>0.0187</td> \n",
       "</tr>\n",
       "<tr>\n",
       "  <th>Time:</th>                 <td>22:19:15</td>     <th>  Log-Likelihood:    </th> <td>  48.023</td>\n",
       "</tr>\n",
       "<tr>\n",
       "  <th>No. Observations:</th>      <td>    51</td>      <th>  AIC:               </th> <td>  -92.05</td>\n",
       "</tr>\n",
       "<tr>\n",
       "  <th>Df Residuals:</th>          <td>    49</td>      <th>  BIC:               </th> <td>  -88.18</td>\n",
       "</tr>\n",
       "<tr>\n",
       "  <th>Df Model:</th>              <td>     1</td>      <th>                     </th>     <td> </td>   \n",
       "</tr>\n",
       "<tr>\n",
       "  <th>Covariance Type:</th>      <td>nonrobust</td>    <th>                     </th>     <td> </td>   \n",
       "</tr>\n",
       "</table>\n",
       "<table class=\"simpletable\">\n",
       "<tr>\n",
       "    <td></td>       <th>coef</th>     <th>std err</th>      <th>t</th>      <th>P>|t|</th>  <th>[0.025</th>    <th>0.975]</th>  \n",
       "</tr>\n",
       "<tr>\n",
       "  <th>const</th> <td>    0.0068</td> <td>    0.090</td> <td>    0.075</td> <td> 0.940</td> <td>   -0.173</td> <td>    0.187</td>\n",
       "</tr>\n",
       "<tr>\n",
       "  <th>x1</th>    <td>    1.1197</td> <td>    0.460</td> <td>    2.433</td> <td> 0.019</td> <td>    0.195</td> <td>    2.045</td>\n",
       "</tr>\n",
       "</table>\n",
       "<table class=\"simpletable\">\n",
       "<tr>\n",
       "  <th>Omnibus:</th>       <td> 7.598</td> <th>  Durbin-Watson:     </th> <td>   2.693</td>\n",
       "</tr>\n",
       "<tr>\n",
       "  <th>Prob(Omnibus):</th> <td> 0.022</td> <th>  Jarque-Bera (JB):  </th> <td>   6.840</td>\n",
       "</tr>\n",
       "<tr>\n",
       "  <th>Skew:</th>          <td> 0.870</td> <th>  Prob(JB):          </th> <td>  0.0327</td>\n",
       "</tr>\n",
       "<tr>\n",
       "  <th>Kurtosis:</th>      <td> 3.439</td> <th>  Cond. No.          </th> <td>    35.4</td>\n",
       "</tr>\n",
       "</table><br/><br/>Notes:<br/>[1] Standard Errors assume that the covariance matrix of the errors is correctly specified."
      ],
      "text/plain": [
       "<class 'statsmodels.iolib.summary.Summary'>\n",
       "\"\"\"\n",
       "                            OLS Regression Results                            \n",
       "==============================================================================\n",
       "Dep. Variable:                      y   R-squared:                       0.108\n",
       "Model:                            OLS   Adj. R-squared:                  0.090\n",
       "Method:                 Least Squares   F-statistic:                     5.918\n",
       "Date:                Sun, 11 Dec 2022   Prob (F-statistic):             0.0187\n",
       "Time:                        22:19:15   Log-Likelihood:                 48.023\n",
       "No. Observations:                  51   AIC:                            -92.05\n",
       "Df Residuals:                      49   BIC:                            -88.18\n",
       "Df Model:                           1                                         \n",
       "Covariance Type:            nonrobust                                         \n",
       "==============================================================================\n",
       "                 coef    std err          t      P>|t|      [0.025      0.975]\n",
       "------------------------------------------------------------------------------\n",
       "const          0.0068      0.090      0.075      0.940      -0.173       0.187\n",
       "x1             1.1197      0.460      2.433      0.019       0.195       2.045\n",
       "==============================================================================\n",
       "Omnibus:                        7.598   Durbin-Watson:                   2.693\n",
       "Prob(Omnibus):                  0.022   Jarque-Bera (JB):                6.840\n",
       "Skew:                           0.870   Prob(JB):                       0.0327\n",
       "Kurtosis:                       3.439   Cond. No.                         35.4\n",
       "==============================================================================\n",
       "\n",
       "Notes:\n",
       "[1] Standard Errors assume that the covariance matrix of the errors is correctly specified.\n",
       "\"\"\""
      ]
     },
     "execution_count": 36,
     "metadata": {},
     "output_type": "execute_result"
    }
   ],
   "source": [
    "fig = px.scatter(tf_idf_sustainability_2_2, y=\"sustainability tf-idf\", x=\"Sentence by Sentence Cosine Similarity human rights Mean Threshold 0\", trendline=\"ols\", color = \"Label\", width=1000)\n",
    "fig.show()\n",
    "\n",
    "results = px.get_trendline_results(fig)\n",
    "print(results)\n",
    "\n",
    "results.px_fit_results.iloc[0].summary()"
   ]
  },
  {
   "cell_type": "code",
   "execution_count": 25,
   "metadata": {},
   "outputs": [],
   "source": [
    "import numpy as np\n",
    "import pandas as pd\n",
    "from patsy import dmatrices\n",
    "\n",
    "from statsmodels.compat import lzip\n",
    "import statsmodels.api as sm\n",
    "from statsmodels.formula.api import ols\n",
    "from statsmodels.stats.outliers_influence import variance_inflation_factor\n",
    "\n",
    "import matplotlib.pyplot as plt\n",
    "import seaborn as sns\n",
    "\n",
    "%matplotlib inline\n",
    "plt.rc(\"figure\", figsize=(16, 8))\n",
    "plt.rc(\"font\", size=14)"
   ]
  },
  {
   "cell_type": "code",
   "execution_count": 29,
   "metadata": {},
   "outputs": [
    {
     "ename": "ValueError",
     "evalue": "Could not convert value of 'y' into a numeric type.",
     "output_type": "error",
     "traceback": [
      "\u001b[1;31m---------------------------------------------------------------------------\u001b[0m",
      "\u001b[1;31mValueError\u001b[0m                                Traceback (most recent call last)",
      "\u001b[1;32mc:\\Users\\daveb\\AppData\\Local\\Programs\\Python\\Python310\\lib\\site-packages\\plotly\\express\\_core.py\u001b[0m in \u001b[0;36mmake_trace_kwargs\u001b[1;34m(args, trace_spec, trace_data, mapping_labels, sizeref)\u001b[0m\n\u001b[0;32m    342\u001b[0m                         \u001b[1;32mtry\u001b[0m\u001b[1;33m:\u001b[0m\u001b[1;33m\u001b[0m\u001b[1;33m\u001b[0m\u001b[0m\n\u001b[1;32m--> 343\u001b[1;33m                             \u001b[0my\u001b[0m \u001b[1;33m=\u001b[0m \u001b[0my\u001b[0m\u001b[1;33m.\u001b[0m\u001b[0mastype\u001b[0m\u001b[1;33m(\u001b[0m\u001b[0mnp\u001b[0m\u001b[1;33m.\u001b[0m\u001b[0mfloat64\u001b[0m\u001b[1;33m)\u001b[0m\u001b[1;33m\u001b[0m\u001b[1;33m\u001b[0m\u001b[0m\n\u001b[0m\u001b[0;32m    344\u001b[0m                         \u001b[1;32mexcept\u001b[0m \u001b[0mValueError\u001b[0m\u001b[1;33m:\u001b[0m\u001b[1;33m\u001b[0m\u001b[1;33m\u001b[0m\u001b[0m\n",
      "\u001b[1;31mValueError\u001b[0m: could not convert string to float: '[tensor([[0.1334]]), tensor([[0.1328]]), tensor([[0.0888]]), tensor([[0.0517]]), tensor([[0.0528]]), tensor([[0.0541]]), tensor([[0.1480]]), tensor([[0.1230]]), tensor([[0.1042]]), tensor([[0.1098]]), tensor([[0.1510]]), tensor([[0.0237]]), tensor([[0.0648]]), tensor([[0.0529]]), tensor([[0.1690]]), tensor([[0.2120]]), tensor([[0.0595]]), tensor([[0.0343]]), tensor([[0.0331]]), tensor([[0.0703]]), tensor([[0.0320]]), tensor([[0.0195]]), tensor([[0.1433]]), tensor([[0.1224]]), tensor([[0.0603]]), tensor([[0.1678]]), tensor([[0.1879]]), tensor([[0.0574]]), tensor([[0.0572]]), tensor([[0.1579]]), tensor([[0.2287]]), tensor([[0.1895]]), tensor([[0.2264]]), tensor([[0.1512]]), tensor([[0.1082]]), tensor([[0.2048]]), tensor([[0.0860]]), tensor([[0.2364]]), tensor([[0.1994]]), tensor([[0.1685]]), tensor([[0.2089]]), tensor([[0.3573]]), tensor([[0.2103]]), tensor([[0.0084]]), tensor([[0.4402]]), tensor([[0.2094]]), tensor([[0.0837]]), tensor([[0.1070]]), tensor([[0.1513]]), tensor([[0.4739]]), tensor([[0.3796]]), tensor([[0.0658]]), tensor([[0.1981]]), tensor([[0.3514]]), tensor([[0.1833]]), tensor([[0.1811]]), tensor([[0.3412]]), tensor([[-0.0340]]), tensor([[0.1595]]), tensor([[0.1734]]), tensor([[0.0744]]), tensor([[0.0630]]), tensor([[0.1127]]), tensor([[0.1781]]), tensor([[0.1215]]), tensor([[0.0295]]), tensor([[0.2844]]), tensor([[0.1296]]), tensor([[0.1382]]), tensor([[0.0846]]), tensor([[0.0310]]), tensor([[0.0714]]), tensor([[0.1137]]), tensor([[0.1658]]), tensor([[0.1793]]), tensor([[0.0229]]), tensor([[0.1244]]), tensor([[0.0444]]), tensor([[0.1131]]), tensor([[0.1231]]), tensor([[0.1706]]), tensor([[-0.0030]]), tensor([[0.0772]]), tensor([[0.1865]]), tensor([[0.1465]]), tensor([[0.1020]]), tensor([[0.1103]]), tensor([[0.1377]]), tensor([[0.1874]]), tensor([[0.0653]]), tensor([[0.1399]]), tensor([[0.0840]]), tensor([[0.1012]]), tensor([[0.1313]]), tensor([[0.1382]]), tensor([[0.0826]]), tensor([[0.1087]]), tensor([[0.0830]]), tensor([[0.0810]]), tensor([[0.1311]]), tensor([[0.1391]]), tensor([[0.1772]]), tensor([[0.0375]]), tensor([[0.0769]]), tensor([[0.0809]]), tensor([[0.2268]]), tensor([[0.0665]]), tensor([[0.1794]]), tensor([[0.2103]]), tensor([[0.0189]]), tensor([[0.1216]]), tensor([[0.0075]]), tensor([[0.0958]]), tensor([[0.0707]]), tensor([[0.0576]]), tensor([[0.0110]]), tensor([[0.1668]]), tensor([[0.0836]]), tensor([[0.2422]]), tensor([[0.1157]]), tensor([[0.1169]]), tensor([[0.0586]]), tensor([[0.0901]]), tensor([[0.1323]]), tensor([[0.0472]]), tensor([[0.1668]]), tensor([[0.1278]]), tensor([[0.1167]]), tensor([[0.1969]]), tensor([[0.0861]]), tensor([[0.0826]]), tensor([[0.1673]]), tensor([[0.1568]]), tensor([[0.0655]]), tensor([[0.1323]]), tensor([[0.1108]]), tensor([[0.1846]]), tensor([[0.1524]]), tensor([[0.1484]]), tensor([[0.1012]]), tensor([[0.1624]]), tensor([[0.0102]]), tensor([[0.1546]]), tensor([[0.1351]]), tensor([[0.2141]]), tensor([[0.1377]]), tensor([[0.1384]]), tensor([[0.2756]]), tensor([[0.0443]]), tensor([[0.2169]]), tensor([[0.0850]]), tensor([[0.1889]]), tensor([[0.1363]]), tensor([[0.0623]]), tensor([[0.1376]]), tensor([[0.1551]]), tensor([[0.0712]]), tensor([[0.1099]]), tensor([[0.1149]]), tensor([[0.1345]]), tensor([[0.1326]]), tensor([[0.0515]]), tensor([[-0.0100]]), tensor([[0.0883]]), tensor([[0.1609]]), tensor([[0.1002]]), tensor([[0.1331]]), tensor([[0.0295]]), tensor([[0.0422]]), tensor([[0.0878]]), tensor([[0.1125]]), tensor([[0.1516]]), tensor([[0.2245]]), tensor([[0.1979]]), tensor([[0.1131]]), tensor([[0.1912]]), tensor([[0.2578]]), tensor([[0.1733]]), tensor([[0.1006]]), tensor([[0.0935]]), tensor([[0.1378]]), tensor([[0.1159]]), tensor([[0.1586]]), tensor([[0.0515]]), tensor([[0.0778]]), tensor([[0.1016]]), tensor([[0.1609]]), tensor([[0.1256]]), tensor([[0.0510]]), tensor([[0.0422]]), tensor([[0.1281]]), tensor([[0.1198]]), tensor([[0.1016]]), tensor([[0.2245]]), tensor([[0.1738]]), tensor([[0.1327]]), tensor([[0.2083]]), tensor([[0.5004]]), tensor([[0.0459]]), tensor([[0.0863]]), tensor([[0.4014]]), tensor([[0.0955]]), tensor([[0.1250]]), tensor([[0.1348]]), tensor([[0.0390]]), tensor([[0.1256]]), tensor([[0.1755]]), tensor([[0.1256]]), tensor([[0.0733]]), tensor([[0.0980]]), tensor([[0.0848]]), tensor([[0.1499]]), tensor([[0.1123]]), tensor([[0.1596]]), tensor([[0.3611]]), tensor([[0.0058]]), tensor([[0.0895]]), tensor([[0.1173]]), tensor([[0.2043]]), tensor([[0.0306]]), tensor([[0.4480]]), tensor([[0.0560]]), tensor([[0.2021]]), tensor([[0.1129]]), tensor([[0.2162]]), tensor([[0.1147]]), tensor([[0.2095]]), tensor([[0.0833]]), tensor([[0.2741]]), tensor([[0.2724]]), tensor([[0.2964]]), tensor([[0.1547]]), tensor([[0.2015]]), tensor([[0.0879]]), tensor([[0.1319]]), tensor([[0.0880]]), tensor([[0.1710]]), tensor([[0.0673]]), tensor([[0.1467]]), tensor([[0.1559]]), tensor([[0.1995]]), tensor([[0.1486]]), tensor([[0.1997]]), tensor([[0.1642]]), tensor([[0.1652]]), tensor([[0.0328]]), tensor([[0.1199]]), tensor([[0.3403]]), tensor([[0.2163]]), tensor([[0.0679]]), tensor([[0.0271]]), tensor([[0.1544]]), tensor([[0.0848]]), tensor([[0.1283]]), tensor([[0.0845]]), tensor([[0.1178]]), tensor([[0.0718]]), tensor([[0.0957]]), tensor([[0.1978]]), tensor([[0.1301]]), tensor([[0.0992]]), tensor([[0.1225]]), tensor([[0.0702]]), tensor([[0.0495]]), tensor([[0.1676]]), tensor([[0.1061]]), tensor([[0.1417]]), tensor([[0.1532]]), tensor([[0.0832]]), tensor([[0.0947]]), tensor([[0.0633]]), tensor([[-0.0310]]), tensor([[0.1019]]), tensor([[0.1713]]), tensor([[0.0793]]), tensor([[0.0180]]), tensor([[0.1267]]), tensor([[0.1250]]), tensor([[0.1033]]), tensor([[0.0032]]), tensor([[0.0799]]), tensor([[0.2242]]), tensor([[0.1252]]), tensor([[0.2223]]), tensor([[0.0252]]), tensor([[0.0859]]), tensor([[0.2280]]), tensor([[0.1515]]), tensor([[0.0989]]), tensor([[0.0418]]), tensor([[0.1713]]), tensor([[0.2006]]), tensor([[0.1063]]), tensor([[0.1536]]), tensor([[0.0370]]), tensor([[0.1026]]), tensor([[0.1241]]), tensor([[0.1250]]), tensor([[0.1478]]), tensor([[0.0453]]), tensor([[0.0593]]), tensor([[0.1246]]), tensor([[0.1083]]), tensor([[0.1004]]), tensor([[0.1656]]), tensor([[0.1209]]), tensor([[0.1056]]), tensor([[0.0556]]), tensor([[0.2927]]), tensor([[0.1757]]), tensor([[0.1587]]), tensor([[0.1247]]), tensor([[0.3074]]), tensor([[0.3247]]), tensor([[-0.0232]]), tensor([[0.1176]]), tensor([[0.1672]]), tensor([[0.1849]]), tensor([[0.1354]]), tensor([[-0.0094]]), tensor([[0.0464]]), tensor([[0.0280]]), tensor([[0.1455]]), tensor([[0.1297]]), tensor([[0.0796]]), tensor([[0.0730]]), tensor([[0.1388]]), tensor([[0.2147]]), tensor([[0.1448]]), tensor([[0.1277]]), tensor([[0.0722]]), tensor([[0.0657]]), tensor([[0.2387]]), tensor([[0.0318]]), tensor([[0.0769]]), tensor([[0.1580]]), tensor([[0.0429]]), tensor([[0.1313]]), tensor([[0.2339]]), tensor([[0.1213]]), tensor([[0.0186]]), tensor([[0.0628]]), tensor([[0.0920]]), tensor([[0.1408]]), tensor([[0.1199]]), tensor([[0.1050]]), tensor([[0.0640]]), tensor([[0.1505]]), tensor([[0.1052]]), tensor([[0.0572]]), tensor([[0.1803]]), tensor([[0.1652]]), tensor([[0.1606]]), tensor([[0.0628]]), tensor([[0.1364]]), tensor([[0.0986]]), tensor([[0.0785]]), tensor([[0.0412]]), tensor([[-0.0235]]), tensor([[0.0291]]), tensor([[0.0246]]), tensor([[0.1221]]), tensor([[0.0534]]), tensor([[0.0917]]), tensor([[0.2130]]), tensor([[0.0884]]), tensor([[0.0592]]), tensor([[0.0339]]), tensor([[0.1114]]), tensor([[0.0190]]), tensor([[0.1566]]), tensor([[0.0667]]), tensor([[0.0987]]), tensor([[0.1196]]), tensor([[0.1640]]), tensor([[0.0384]]), tensor([[0.1504]]), tensor([[0.0366]]), tensor([[0.0335]]), tensor([[0.1169]]), tensor([[0.0993]]), tensor([[0.1363]]), tensor([[0.1734]]), tensor([[0.1198]]), tensor([[0.1808]]), tensor([[0.2351]]), tensor([[0.0646]]), tensor([[0.1892]]), tensor([[0.1197]]), tensor([[0.1661]]), tensor([[0.1577]]), tensor([[0.0204]]), tensor([[0.0688]]), tensor([[0.1246]]), tensor([[0.0487]]), tensor([[0.0373]]), tensor([[0.1301]]), tensor([[0.4091]]), tensor([[0.4118]]), tensor([[0.2092]]), tensor([[0.0853]]), tensor([[0.1442]]), tensor([[0.0861]]), tensor([[0.0587]]), tensor([[0.0707]]), tensor([[0.0289]]), tensor([[0.0660]]), tensor([[0.0802]]), tensor([[0.0883]]), tensor([[0.0233]]), tensor([[0.1202]]), tensor([[0.0446]]), tensor([[0.1474]]), tensor([[0.1125]]), tensor([[0.1536]]), tensor([[0.0753]]), tensor([[0.1822]]), tensor([[0.0587]]), tensor([[0.1562]]), tensor([[0.1305]]), tensor([[0.0859]]), tensor([[0.1098]]), tensor([[0.1594]]), tensor([[0.1443]]), tensor([[0.0766]]), tensor([[0.1162]]), tensor([[0.1487]]), tensor([[0.1671]]), tensor([[0.0922]]), tensor([[0.1892]]), tensor([[0.1381]]), tensor([[0.1419]]), tensor([[0.1757]]), tensor([[0.1656]]), tensor([[0.1955]]), tensor([[-0.0061]]), tensor([[0.0897]]), tensor([[0.1372]]), tensor([[0.1064]]), tensor([[0.0914]]), tensor([[0.0719]]), tensor([[0.0244]]), tensor([[0.1166]]), tensor([[0.0854]]), tensor([[0.0338]]), tensor([[0.1489]]), tensor([[0.1148]]), tensor([[0.0731]]), tensor([[0.2254]]), tensor([[0.1622]]), tensor([[0.0548]]), tensor([[0.1734]]), tensor([[0.0256]]), tensor([[0.1026]]), tensor([[-0.0299]]), tensor([[0.1997]]), tensor([[0.2280]]), tensor([[0.0850]]), tensor([[0.0122]]), tensor([[0.1434]]), tensor([[0.0199]]), tensor([[0.0434]]), tensor([[0.0891]]), tensor([[0.0995]]), tensor([[0.0614]]), tensor([[0.1754]]), tensor([[-0.0024]]), tensor([[0.2631]]), tensor([[0.2826]]), tensor([[0.1037]]), tensor([[0.0970]]), tensor([[0.0585]]), tensor([[0.1229]]), tensor([[0.1857]]), tensor([[0.2153]]), tensor([[0.1737]]), tensor([[0.0782]]), tensor([[0.0110]]), tensor([[0.1821]]), tensor([[0.1098]]), tensor([[0.0505]]), tensor([[0.1274]]), tensor([[0.0385]]), tensor([[0.2388]]), tensor([[0.0607]]), tensor([[0.0896]]), tensor([[0.1633]]), tensor([[0.0818]]), tensor([[0.1917]]), tensor([[0.0589]]), tensor([[0.0979]]), tensor([[0.0074]]), tensor([[0.1051]]), tensor([[0.0322]]), tensor([[0.0834]]), tensor([[0.1032]]), tensor([[0.1246]]), tensor([[0.0778]]), tensor([[0.2078]]), tensor([[0.1669]]), tensor([[0.1363]]), tensor([[0.1072]]), tensor([[0.1015]]), tensor([[-0.0355]]), tensor([[-0.0359]]), tensor([[0.0983]]), tensor([[0.1055]]), tensor([[-0.0226]]), tensor([[0.0742]]), tensor([[-0.0015]]), tensor([[0.0353]]), tensor([[0.1361]]), tensor([[0.1879]]), tensor([[0.1135]]), tensor([[0.0524]]), tensor([[0.1584]]), tensor([[0.1784]]), tensor([[0.1690]]), tensor([[0.0330]]), tensor([[0.1477]]), tensor([[0.2432]]), tensor([[-0.0084]]), tensor([[0.0632]]), tensor([[0.1330]]), tensor([[0.2835]]), tensor([[0.1360]]), tensor([[0.0978]]), tensor([[0.0537]]), tensor([[0.0923]]), tensor([[0.0368]]), tensor([[0.1228]]), tensor([[0.0128]]), tensor([[0.1883]]), tensor([[0.1365]]), tensor([[0.1083]]), tensor([[0.1034]]), tensor([[0.0861]]), tensor([[0.0712]]), tensor([[0.1338]]), tensor([[0.1363]]), tensor([[0.1102]]), tensor([[0.1119]]), tensor([[0.0095]]), tensor([[0.0661]]), tensor([[0.1586]]), tensor([[0.2380]]), tensor([[0.1020]]), tensor([[0.1083]]), tensor([[0.0885]]), tensor([[0.2241]]), tensor([[0.0542]]), tensor([[0.0854]]), tensor([[0.2214]]), tensor([[0.1603]]), tensor([[0.1031]]), tensor([[0.1571]]), tensor([[0.1252]]), tensor([[0.1671]]), tensor([[0.2332]]), tensor([[0.1821]]), tensor([[0.2730]]), tensor([[0.0092]]), tensor([[0.0648]]), tensor([[0.0032]]), tensor([[0.1579]]), tensor([[0.0964]]), tensor([[0.0950]]), tensor([[0.0065]]), tensor([[0.1389]]), tensor([[0.0955]]), tensor([[0.1154]]), tensor([[0.0823]]), tensor([[0.1643]]), tensor([[0.0747]]), tensor([[0.1339]]), tensor([[0.1198]]), tensor([[0.1103]]), tensor([[0.0627]]), tensor([[0.1835]]), tensor([[0.0307]]), tensor([[0.1085]]), tensor([[0.0937]]), tensor([[0.0961]]), tensor([[0.0790]]), tensor([[0.1832]]), tensor([[0.0862]]), tensor([[0.0855]]), tensor([[0.0825]]), tensor([[0.0716]]), tensor([[0.1820]]), tensor([[0.0771]]), tensor([[0.1175]]), tensor([[0.0477]]), tensor([[0.1020]]), tensor([[0.0675]]), tensor([[0.0232]]), tensor([[0.0104]]), tensor([[0.0483]]), tensor([[0.0887]]), tensor([[0.2065]]), tensor([[0.2097]]), tensor([[0.1015]]), tensor([[0.0406]]), tensor([[0.1338]]), tensor([[0.1261]]), tensor([[0.0645]]), tensor([[0.1218]]), tensor([[-0.0108]]), tensor([[0.1193]]), tensor([[0.0588]]), tensor([[0.0432]]), tensor([[0.0160]]), tensor([[0.0652]]), tensor([[0.1809]]), tensor([[0.1167]]), tensor([[0.1022]]), tensor([[0.0641]]), tensor([[0.0979]]), tensor([[0.2075]]), tensor([[0.0440]]), tensor([[-0.0314]]), tensor([[0.0720]]), tensor([[0.0178]]), tensor([[0.1646]]), tensor([[0.0407]]), tensor([[0.1583]]), tensor([[0.1886]]), tensor([[-0.0088]]), tensor([[0.0446]]), tensor([[0.0549]]), tensor([[0.0872]]), tensor([[0.1864]]), tensor([[0.0497]]), tensor([[0.1288]]), tensor([[0.1000]]), tensor([[0.1360]]), tensor([[0.0130]]), tensor([[0.0835]]), tensor([[0.1313]]), tensor([[0.0580]]), tensor([[0.1137]]), tensor([[0.1256]]), tensor([[0.1071]]), tensor([[0.1094]]), tensor([[0.1271]]), tensor([[0.1579]]), tensor([[0.1323]]), tensor([[0.1600]]), tensor([[0.0579]]), tensor([[0.0409]]), tensor([[0.0771]]), tensor([[0.0684]]), tensor([[0.1461]]), tensor([[0.1038]]), tensor([[0.1210]]), tensor([[0.0740]]), tensor([[0.1776]]), tensor([[0.0128]]), tensor([[0.0381]]), tensor([[0.1641]]), tensor([[0.1619]]), tensor([[0.1139]]), tensor([[0.1432]]), tensor([[0.2103]]), tensor([[0.0630]]), tensor([[0.0403]]), tensor([[0.1120]]), tensor([[0.1083]]), tensor([[0.1104]]), tensor([[0.1355]]), tensor([[0.1431]]), tensor([[0.1600]]), tensor([[0.1692]]), tensor([[0.1408]]), tensor([[0.1228]]), tensor([[0.0683]]), tensor([[0.1464]]), tensor([[0.1595]]), tensor([[0.0750]]), tensor([[0.2237]]), tensor([[0.0916]]), tensor([[0.1266]]), tensor([[0.0450]]), tensor([[0.1951]]), tensor([[0.1892]]), tensor([[0.1032]]), tensor([[0.0508]]), tensor([[0.2160]]), tensor([[0.1387]]), tensor([[0.1941]]), tensor([[0.1724]]), tensor([[0.1476]]), tensor([[0.0539]]), tensor([[0.0681]]), tensor([[0.0753]]), tensor([[0.1229]]), tensor([[0.0822]]), tensor([[0.1579]]), tensor([[0.0612]]), tensor([[0.0539]]), tensor([[0.1483]]), tensor([[0.1410]]), tensor([[0.0874]]), tensor([[0.1356]]), tensor([[0.1074]]), tensor([[0.1374]]), tensor([[0.1009]]), tensor([[0.0331]]), tensor([[-0.0263]]), tensor([[0.0398]]), tensor([[0.0710]]), tensor([[0.0163]]), tensor([[0.1171]]), tensor([[0.0991]]), tensor([[0.1499]]), tensor([[0.2573]]), tensor([[0.1929]]), tensor([[0.1632]]), tensor([[0.0340]]), tensor([[0.0844]]), tensor([[0.2136]]), tensor([[0.0563]]), tensor([[0.0212]]), tensor([[0.1308]]), tensor([[0.0898]]), tensor([[0.0607]]), tensor([[-0.0032]]), tensor([[0.1121]]), tensor([[0.1044]]), tensor([[0.2407]]), tensor([[0.1857]]), tensor([[0.1437]]), tensor([[0.0504]]), tensor([[0.1282]]), tensor([[0.1509]]), tensor([[0.1282]]), tensor([[0.0972]]), tensor([[0.0217]]), tensor([[0.1256]]), tensor([[0.1020]]), tensor([[0.1242]]), tensor([[0.0659]]), tensor([[0.0471]]), tensor([[0.0547]]), tensor([[0.1355]]), tensor([[0.0222]]), tensor([[0.1571]]), tensor([[0.1109]]), tensor([[0.0748]]), tensor([[0.1352]]), tensor([[0.2110]]), tensor([[0.1854]]), tensor([[0.1191]]), tensor([[0.1220]]), tensor([[0.1163]]), tensor([[0.1094]]), tensor([[0.1182]]), tensor([[0.0640]]), tensor([[0.0256]]), tensor([[0.1544]]), tensor([[0.2244]]), tensor([[0.1196]]), tensor([[0.1409]]), tensor([[0.2060]]), tensor([[0.0802]]), tensor([[0.1093]]), tensor([[0.0882]]), tensor([[0.1007]]), tensor([[0.0321]]), tensor([[0.1085]]), tensor([[0.0651]]), tensor([[0.0571]]), tensor([[0.1751]]), tensor([[0.0518]]), tensor([[-0.0029]]), tensor([[0.2257]]), tensor([[0.1730]]), tensor([[0.0402]]), tensor([[0.0716]]), tensor([[0.1255]]), tensor([[0.0473]]), tensor([[0.2060]]), tensor([[0.0560]]), tensor([[0.1604]]), tensor([[0.0891]]), tensor([[0.1967]]), tensor([[0.1109]]), tensor([[0.2366]]), tensor([[0.1087]]), tensor([[0.1336]]), tensor([[0.0370]]), tensor([[0.1658]]), tensor([[0.0716]]), tensor([[0.0238]]), tensor([[0.1049]]), tensor([[0.2063]]), tensor([[0.2005]]), tensor([[0.1335]]), tensor([[0.1676]]), tensor([[0.1141]]), tensor([[0.1930]]), tensor([[0.1176]]), tensor([[0.1995]]), tensor([[0.0617]]), tensor([[0.0930]]), tensor([[0.1105]]), tensor([[0.2265]]), tensor([[0.1590]]), tensor([[0.0499]]), tensor([[0.1548]]), tensor([[0.0861]]), tensor([[0.0874]]), tensor([[0.0085]]), tensor([[0.0769]]), tensor([[0.1555]]), tensor([[0.1201]]), tensor([[0.0831]]), tensor([[0.1040]]), tensor([[0.0731]]), tensor([[0.1444]]), tensor([[0.0878]]), tensor([[0.1041]]), tensor([[-0.0005]]), tensor([[0.0077]]), tensor([[0.1398]]), tensor([[0.1648]]), tensor([[0.1036]]), tensor([[0.1084]]), tensor([[0.2789]]), tensor([[0.1785]]), tensor([[0.0712]]), tensor([[0.1194]]), tensor([[0.1185]]), tensor([[0.1148]]), tensor([[0.1695]]), tensor([[0.1540]]), tensor([[0.1593]]), tensor([[0.1288]]), tensor([[0.1163]]), tensor([[0.0785]]), tensor([[0.2329]]), tensor([[0.2902]]), tensor([[0.0611]]), tensor([[0.1967]]), tensor([[0.1080]]), tensor([[0.1096]]), tensor([[0.0935]]), tensor([[0.1340]]), tensor([[0.0494]]), tensor([[0.0837]]), tensor([[0.0604]]), tensor([[0.0456]]), tensor([[0.1052]]), tensor([[0.0896]]), tensor([[0.0608]]), tensor([[-0.0201]]), tensor([[0.0355]]), tensor([[0.1748]]), tensor([[0.0660]]), tensor([[0.0749]]), tensor([[0.1297]]), tensor([[0.0843]]), tensor([[0.1374]]), tensor([[0.1024]]), tensor([[0.1250]]), tensor([[0.1868]]), tensor([[-0.0303]]), tensor([[0.1426]]), tensor([[0.1938]]), tensor([[0.0232]]), tensor([[-0.0078]]), tensor([[0.1197]]), tensor([[0.0315]]), tensor([[0.1272]]), tensor([[0.1537]]), tensor([[0.1211]]), tensor([[0.1831]]), tensor([[0.1035]]), tensor([[0.0703]]), tensor([[-0.0562]]), tensor([[0.1512]]), tensor([[0.0498]]), tensor([[0.1894]]), tensor([[0.1010]]), tensor([[0.0383]]), tensor([[0.1362]]), tensor([[0.1346]]), tensor([[0.2463]]), tensor([[0.1414]]), tensor([[0.0630]]), tensor([[0.1700]]), tensor([[-0.0494]]), tensor([[0.2769]]), tensor([[0.2080]]), tensor([[0.1614]]), tensor([[0.1202]]), tensor([[0.1280]]), tensor([[0.1845]]), tensor([[0.1451]]), tensor([[0.0695]]), tensor([[0.0442]]), tensor([[0.0958]]), tensor([[0.1813]]), tensor([[0.0189]]), tensor([[0.2377]]), tensor([[0.1801]]), tensor([[0.0811]]), tensor([[0.2305]]), tensor([[0.1816]]), tensor([[0.0571]]), tensor([[0.1319]]), tensor([[0.1370]]), tensor([[0.1317]]), tensor([[0.2068]]), tensor([[0.1724]]), tensor([[0.1613]]), tensor([[0.1208]]), tensor([[0.2014]]), tensor([[0.1431]]), tensor([[0.1765]]), tensor([[0.1576]]), tensor([[0.1632]]), tensor([[0.0973]]), tensor([[0.0753]]), tensor([[0.0628]]), tensor([[0.1807]]), tensor([[0.1204]]), tensor([[0.0469]]), tensor([[0.0205]]), tensor([[0.1969]]), tensor([[0.0652]]), tensor([[0.0280]]), tensor([[0.0827]]), tensor([[0.2004]]), tensor([[-0.0459]]), tensor([[0.1294]]), tensor([[0.0947]]), tensor([[0.2022]]), tensor([[0.0869]]), tensor([[0.1973]]), tensor([[0.0930]]), tensor([[0.0626]]), tensor([[0.2589]]), tensor([[0.1111]]), tensor([[0.0621]]), tensor([[0.1091]]), tensor([[0.1817]]), tensor([[0.1393]]), tensor([[0.3562]]), tensor([[0.0714]]), tensor([[0.1133]]), tensor([[0.1025]]), tensor([[0.1618]]), tensor([[0.1166]]), tensor([[0.2689]]), tensor([[0.1094]]), tensor([[0.0025]]), tensor([[0.3072]]), tensor([[0.2424]]), tensor([[0.3931]]), tensor([[0.0915]]), tensor([[0.1656]]), tensor([[0.1033]]), tensor([[0.1099]]), tensor([[0.1644]]), tensor([[0.1735]]), tensor([[0.1843]]), tensor([[0.0521]]), tensor([[0.1698]]), tensor([[0.0733]]), tensor([[0.2033]]), tensor([[0.0955]]), tensor([[0.1460]]), tensor([[0.2268]]), tensor([[0.0247]]), tensor([[0.1808]]), tensor([[0.2109]]), tensor([[0.0831]]), tensor([[0.1636]]), tensor([[0.1661]]), tensor([[0.0856]]), tensor([[0.1630]]), tensor([[0.1698]]), tensor([[0.1972]]), tensor([[0.1368]]), tensor([[0.0884]]), tensor([[0.1196]]), tensor([[0.1379]]), tensor([[0.0757]]), tensor([[0.1537]]), tensor([[0.0530]]), tensor([[0.1383]]), tensor([[0.1478]]), tensor([[0.1268]]), tensor([[0.1239]]), tensor([[0.1232]]), tensor([[0.1722]]), tensor([[0.1548]]), tensor([[0.1464]]), tensor([[0.0935]]), tensor([[0.1093]]), tensor([[0.1289]]), tensor([[0.1629]]), tensor([[0.0641]]), tensor([[0.1618]]), tensor([[0.0869]]), tensor([[0.0937]]), tensor([[0.0734]]), tensor([[0.0195]]), tensor([[0.2614]]), tensor([[0.4730]]), tensor([[0.5345]]), tensor([[0.2761]]), tensor([[0.3744]]), tensor([[0.1762]]), tensor([[0.1100]]), tensor([[0.0424]]), tensor([[0.0441]]), tensor([[0.1272]]), tensor([[0.1134]]), tensor([[0.1443]]), tensor([[0.2326]]), tensor([[0.1003]]), tensor([[0.3137]]), tensor([[0.0411]]), tensor([[0.1252]]), tensor([[0.1695]]), tensor([[0.0800]]), tensor([[0.1643]]), tensor([[0.1884]]), tensor([[0.2044]]), tensor([[0.1247]])]'",
      "\nDuring handling of the above exception, another exception occurred:\n",
      "\u001b[1;31mValueError\u001b[0m                                Traceback (most recent call last)",
      "\u001b[1;32m~\\AppData\\Local\\Temp/ipykernel_21036/1471751695.py\u001b[0m in \u001b[0;36m<module>\u001b[1;34m\u001b[0m\n\u001b[1;32m----> 1\u001b[1;33m \u001b[0mfig\u001b[0m \u001b[1;33m=\u001b[0m \u001b[0mpx\u001b[0m\u001b[1;33m.\u001b[0m\u001b[0mscatter\u001b[0m\u001b[1;33m(\u001b[0m\u001b[0mtf_idf_sustainability_2\u001b[0m\u001b[1;33m,\u001b[0m \u001b[0mx\u001b[0m\u001b[1;33m=\u001b[0m\u001b[1;34m\"sustainability tf-idf\"\u001b[0m\u001b[1;33m,\u001b[0m \u001b[0my\u001b[0m\u001b[1;33m=\u001b[0m\u001b[1;34m\"Sentence Cosine Similarity Wiki Summarized\"\u001b[0m\u001b[1;33m,\u001b[0m \u001b[0mtrendline\u001b[0m\u001b[1;33m=\u001b[0m\u001b[1;34m\"ols\"\u001b[0m\u001b[1;33m)\u001b[0m\u001b[1;33m\u001b[0m\u001b[1;33m\u001b[0m\u001b[0m\n\u001b[0m\u001b[0;32m      2\u001b[0m \u001b[0mfig\u001b[0m\u001b[1;33m.\u001b[0m\u001b[0mshow\u001b[0m\u001b[1;33m(\u001b[0m\u001b[1;33m)\u001b[0m\u001b[1;33m\u001b[0m\u001b[1;33m\u001b[0m\u001b[0m\n",
      "\u001b[1;32mc:\\Users\\daveb\\AppData\\Local\\Programs\\Python\\Python310\\lib\\site-packages\\plotly\\express\\_chart_types.py\u001b[0m in \u001b[0;36mscatter\u001b[1;34m(data_frame, x, y, color, symbol, size, hover_name, hover_data, custom_data, text, facet_row, facet_col, facet_col_wrap, facet_row_spacing, facet_col_spacing, error_x, error_x_minus, error_y, error_y_minus, animation_frame, animation_group, category_orders, labels, orientation, color_discrete_sequence, color_discrete_map, color_continuous_scale, range_color, color_continuous_midpoint, symbol_sequence, symbol_map, opacity, size_max, marginal_x, marginal_y, trendline, trendline_options, trendline_color_override, trendline_scope, log_x, log_y, range_x, range_y, render_mode, title, template, width, height)\u001b[0m\n\u001b[0;32m     64\u001b[0m     \u001b[0mmark\u001b[0m \u001b[1;32min\u001b[0m \u001b[1;36m2\u001b[0m\u001b[0mD\u001b[0m \u001b[0mspace\u001b[0m\u001b[1;33m.\u001b[0m\u001b[1;33m\u001b[0m\u001b[1;33m\u001b[0m\u001b[0m\n\u001b[0;32m     65\u001b[0m     \"\"\"\n\u001b[1;32m---> 66\u001b[1;33m     \u001b[1;32mreturn\u001b[0m \u001b[0mmake_figure\u001b[0m\u001b[1;33m(\u001b[0m\u001b[0margs\u001b[0m\u001b[1;33m=\u001b[0m\u001b[0mlocals\u001b[0m\u001b[1;33m(\u001b[0m\u001b[1;33m)\u001b[0m\u001b[1;33m,\u001b[0m \u001b[0mconstructor\u001b[0m\u001b[1;33m=\u001b[0m\u001b[0mgo\u001b[0m\u001b[1;33m.\u001b[0m\u001b[0mScatter\u001b[0m\u001b[1;33m)\u001b[0m\u001b[1;33m\u001b[0m\u001b[1;33m\u001b[0m\u001b[0m\n\u001b[0m\u001b[0;32m     67\u001b[0m \u001b[1;33m\u001b[0m\u001b[0m\n\u001b[0;32m     68\u001b[0m \u001b[1;33m\u001b[0m\u001b[0m\n",
      "\u001b[1;32mc:\\Users\\daveb\\AppData\\Local\\Programs\\Python\\Python310\\lib\\site-packages\\plotly\\express\\_core.py\u001b[0m in \u001b[0;36mmake_figure\u001b[1;34m(args, constructor, trace_patch, layout_patch)\u001b[0m\n\u001b[0;32m   2165\u001b[0m                     \u001b[0mgroup\u001b[0m\u001b[1;33m[\u001b[0m\u001b[0mvar\u001b[0m\u001b[1;33m]\u001b[0m \u001b[1;33m=\u001b[0m \u001b[1;36m100.0\u001b[0m \u001b[1;33m*\u001b[0m \u001b[0mgroup\u001b[0m\u001b[1;33m[\u001b[0m\u001b[0mvar\u001b[0m\u001b[1;33m]\u001b[0m \u001b[1;33m/\u001b[0m \u001b[0mgroup_sum\u001b[0m\u001b[1;33m\u001b[0m\u001b[1;33m\u001b[0m\u001b[0m\n\u001b[0;32m   2166\u001b[0m \u001b[1;33m\u001b[0m\u001b[0m\n\u001b[1;32m-> 2167\u001b[1;33m             patch, fit_results = make_trace_kwargs(\n\u001b[0m\u001b[0;32m   2168\u001b[0m                 \u001b[0margs\u001b[0m\u001b[1;33m,\u001b[0m \u001b[0mtrace_spec\u001b[0m\u001b[1;33m,\u001b[0m \u001b[0mgroup\u001b[0m\u001b[1;33m,\u001b[0m \u001b[0mmapping_labels\u001b[0m\u001b[1;33m.\u001b[0m\u001b[0mcopy\u001b[0m\u001b[1;33m(\u001b[0m\u001b[1;33m)\u001b[0m\u001b[1;33m,\u001b[0m \u001b[0msizeref\u001b[0m\u001b[1;33m\u001b[0m\u001b[1;33m\u001b[0m\u001b[0m\n\u001b[0;32m   2169\u001b[0m             )\n",
      "\u001b[1;32mc:\\Users\\daveb\\AppData\\Local\\Programs\\Python\\Python310\\lib\\site-packages\\plotly\\express\\_core.py\u001b[0m in \u001b[0;36mmake_trace_kwargs\u001b[1;34m(args, trace_spec, trace_data, mapping_labels, sizeref)\u001b[0m\n\u001b[0;32m    343\u001b[0m                             \u001b[0my\u001b[0m \u001b[1;33m=\u001b[0m \u001b[0my\u001b[0m\u001b[1;33m.\u001b[0m\u001b[0mastype\u001b[0m\u001b[1;33m(\u001b[0m\u001b[0mnp\u001b[0m\u001b[1;33m.\u001b[0m\u001b[0mfloat64\u001b[0m\u001b[1;33m)\u001b[0m\u001b[1;33m\u001b[0m\u001b[1;33m\u001b[0m\u001b[0m\n\u001b[0;32m    344\u001b[0m                         \u001b[1;32mexcept\u001b[0m \u001b[0mValueError\u001b[0m\u001b[1;33m:\u001b[0m\u001b[1;33m\u001b[0m\u001b[1;33m\u001b[0m\u001b[0m\n\u001b[1;32m--> 345\u001b[1;33m                             raise ValueError(\n\u001b[0m\u001b[0;32m    346\u001b[0m                                 \u001b[1;34m\"Could not convert value of 'y' into a numeric type.\"\u001b[0m\u001b[1;33m\u001b[0m\u001b[1;33m\u001b[0m\u001b[0m\n\u001b[0;32m    347\u001b[0m                             )\n",
      "\u001b[1;31mValueError\u001b[0m: Could not convert value of 'y' into a numeric type."
     ]
    }
   ],
   "source": [
    "fig = px.scatter(tf_idf_sustainability_2, x=\"sustainability tf-idf\", y=\"Sentence Cosine Similarity Wiki Summarized\", trendline=\"ols\")\n",
    "fig.show()"
   ]
  },
  {
   "cell_type": "code",
   "execution_count": null,
   "metadata": {},
   "outputs": [
    {
     "ename": "ValueError",
     "evalue": "Value of 'y' is not the name of a column in 'data_frame'. Expected one of ['Company', 'Label', 'Fulltext Cosine Similarity Wiki Summary', 'Fulltext Cosine Similarity Human Rights', 'Zero Shot Fulltext', 'PDF Name', 'TF-IDF', 'Top N Words', 'Report Type', 'Sentence Cosine Similarity Wiki Summarized', 'Sentence Cosine Similarity Wiki Summarized Mean', 'Sentence Cosine Similarity Wiki Summarized Mean Threshold 0', 'Sentence by Sentence Cosine Similarity human rights', 'Sentence by Sentence Cosine Similarity human rights mean', 'Sentence by Sentence Cosine Similarity human rights Mean Threshold 0', 'Zero Shot Learning Sentence Raw', 'Classified Text', 'Zero Shot Learning Sentence Mean', 'Zero Shot Learning Sentence Mean Threshold', 'sustainability tf-idf', 'sustainability tf-idf log'] but received: Sentence Cosine Similarity Wiki Summarized Log",
     "output_type": "error",
     "traceback": [
      "\u001b[1;31m---------------------------------------------------------------------------\u001b[0m",
      "\u001b[1;31mValueError\u001b[0m                                Traceback (most recent call last)",
      "\u001b[1;32m~\\AppData\\Local\\Temp/ipykernel_7924/3750390421.py\u001b[0m in \u001b[0;36m<module>\u001b[1;34m\u001b[0m\n\u001b[1;32m----> 1\u001b[1;33m \u001b[0mfig\u001b[0m \u001b[1;33m=\u001b[0m \u001b[0mpx\u001b[0m\u001b[1;33m.\u001b[0m\u001b[0mscatter\u001b[0m\u001b[1;33m(\u001b[0m\u001b[0mtf_idf_sustainability_2\u001b[0m\u001b[1;33m,\u001b[0m \u001b[0mx\u001b[0m\u001b[1;33m=\u001b[0m\u001b[1;34m\"sustainability tf-idf\"\u001b[0m\u001b[1;33m,\u001b[0m \u001b[0my\u001b[0m\u001b[1;33m=\u001b[0m\u001b[1;34m\"Sentence Cosine Similarity Wiki Summarized Log\"\u001b[0m\u001b[1;33m,\u001b[0m \u001b[0mtrendline\u001b[0m\u001b[1;33m=\u001b[0m\u001b[1;34m\"ols\"\u001b[0m\u001b[1;33m)\u001b[0m\u001b[1;33m\u001b[0m\u001b[1;33m\u001b[0m\u001b[0m\n\u001b[0m\u001b[0;32m      2\u001b[0m \u001b[0mfig\u001b[0m\u001b[1;33m.\u001b[0m\u001b[0mshow\u001b[0m\u001b[1;33m(\u001b[0m\u001b[1;33m)\u001b[0m\u001b[1;33m\u001b[0m\u001b[1;33m\u001b[0m\u001b[0m\n\u001b[0;32m      3\u001b[0m \u001b[1;33m\u001b[0m\u001b[0m\n\u001b[0;32m      4\u001b[0m \u001b[0mresults\u001b[0m \u001b[1;33m=\u001b[0m \u001b[0mpx\u001b[0m\u001b[1;33m.\u001b[0m\u001b[0mget_trendline_results\u001b[0m\u001b[1;33m(\u001b[0m\u001b[0mfig\u001b[0m\u001b[1;33m)\u001b[0m\u001b[1;33m\u001b[0m\u001b[1;33m\u001b[0m\u001b[0m\n\u001b[0;32m      5\u001b[0m \u001b[0mprint\u001b[0m\u001b[1;33m(\u001b[0m\u001b[0mresults\u001b[0m\u001b[1;33m)\u001b[0m\u001b[1;33m\u001b[0m\u001b[1;33m\u001b[0m\u001b[0m\n",
      "\u001b[1;32mc:\\Users\\daveb\\AppData\\Local\\Programs\\Python\\Python310\\lib\\site-packages\\plotly\\express\\_chart_types.py\u001b[0m in \u001b[0;36mscatter\u001b[1;34m(data_frame, x, y, color, symbol, size, hover_name, hover_data, custom_data, text, facet_row, facet_col, facet_col_wrap, facet_row_spacing, facet_col_spacing, error_x, error_x_minus, error_y, error_y_minus, animation_frame, animation_group, category_orders, labels, orientation, color_discrete_sequence, color_discrete_map, color_continuous_scale, range_color, color_continuous_midpoint, symbol_sequence, symbol_map, opacity, size_max, marginal_x, marginal_y, trendline, trendline_options, trendline_color_override, trendline_scope, log_x, log_y, range_x, range_y, render_mode, title, template, width, height)\u001b[0m\n\u001b[0;32m     64\u001b[0m     \u001b[0mmark\u001b[0m \u001b[1;32min\u001b[0m \u001b[1;36m2\u001b[0m\u001b[0mD\u001b[0m \u001b[0mspace\u001b[0m\u001b[1;33m.\u001b[0m\u001b[1;33m\u001b[0m\u001b[1;33m\u001b[0m\u001b[0m\n\u001b[0;32m     65\u001b[0m     \"\"\"\n\u001b[1;32m---> 66\u001b[1;33m     \u001b[1;32mreturn\u001b[0m \u001b[0mmake_figure\u001b[0m\u001b[1;33m(\u001b[0m\u001b[0margs\u001b[0m\u001b[1;33m=\u001b[0m\u001b[0mlocals\u001b[0m\u001b[1;33m(\u001b[0m\u001b[1;33m)\u001b[0m\u001b[1;33m,\u001b[0m \u001b[0mconstructor\u001b[0m\u001b[1;33m=\u001b[0m\u001b[0mgo\u001b[0m\u001b[1;33m.\u001b[0m\u001b[0mScatter\u001b[0m\u001b[1;33m)\u001b[0m\u001b[1;33m\u001b[0m\u001b[1;33m\u001b[0m\u001b[0m\n\u001b[0m\u001b[0;32m     67\u001b[0m \u001b[1;33m\u001b[0m\u001b[0m\n\u001b[0;32m     68\u001b[0m \u001b[1;33m\u001b[0m\u001b[0m\n",
      "\u001b[1;32mc:\\Users\\daveb\\AppData\\Local\\Programs\\Python\\Python310\\lib\\site-packages\\plotly\\express\\_core.py\u001b[0m in \u001b[0;36mmake_figure\u001b[1;34m(args, constructor, trace_patch, layout_patch)\u001b[0m\n\u001b[0;32m   1988\u001b[0m     \u001b[0mapply_default_cascade\u001b[0m\u001b[1;33m(\u001b[0m\u001b[0margs\u001b[0m\u001b[1;33m)\u001b[0m\u001b[1;33m\u001b[0m\u001b[1;33m\u001b[0m\u001b[0m\n\u001b[0;32m   1989\u001b[0m \u001b[1;33m\u001b[0m\u001b[0m\n\u001b[1;32m-> 1990\u001b[1;33m     \u001b[0margs\u001b[0m \u001b[1;33m=\u001b[0m \u001b[0mbuild_dataframe\u001b[0m\u001b[1;33m(\u001b[0m\u001b[0margs\u001b[0m\u001b[1;33m,\u001b[0m \u001b[0mconstructor\u001b[0m\u001b[1;33m)\u001b[0m\u001b[1;33m\u001b[0m\u001b[1;33m\u001b[0m\u001b[0m\n\u001b[0m\u001b[0;32m   1991\u001b[0m     \u001b[1;32mif\u001b[0m \u001b[0mconstructor\u001b[0m \u001b[1;32min\u001b[0m \u001b[1;33m[\u001b[0m\u001b[0mgo\u001b[0m\u001b[1;33m.\u001b[0m\u001b[0mTreemap\u001b[0m\u001b[1;33m,\u001b[0m \u001b[0mgo\u001b[0m\u001b[1;33m.\u001b[0m\u001b[0mSunburst\u001b[0m\u001b[1;33m,\u001b[0m \u001b[0mgo\u001b[0m\u001b[1;33m.\u001b[0m\u001b[0mIcicle\u001b[0m\u001b[1;33m]\u001b[0m \u001b[1;32mand\u001b[0m \u001b[0margs\u001b[0m\u001b[1;33m[\u001b[0m\u001b[1;34m\"path\"\u001b[0m\u001b[1;33m]\u001b[0m \u001b[1;32mis\u001b[0m \u001b[1;32mnot\u001b[0m \u001b[1;32mNone\u001b[0m\u001b[1;33m:\u001b[0m\u001b[1;33m\u001b[0m\u001b[1;33m\u001b[0m\u001b[0m\n\u001b[0;32m   1992\u001b[0m         \u001b[0margs\u001b[0m \u001b[1;33m=\u001b[0m \u001b[0mprocess_dataframe_hierarchy\u001b[0m\u001b[1;33m(\u001b[0m\u001b[0margs\u001b[0m\u001b[1;33m)\u001b[0m\u001b[1;33m\u001b[0m\u001b[1;33m\u001b[0m\u001b[0m\n",
      "\u001b[1;32mc:\\Users\\daveb\\AppData\\Local\\Programs\\Python\\Python310\\lib\\site-packages\\plotly\\express\\_core.py\u001b[0m in \u001b[0;36mbuild_dataframe\u001b[1;34m(args, constructor)\u001b[0m\n\u001b[0;32m   1403\u001b[0m     \u001b[1;31m# now that things have been prepped, we do the systematic rewriting of `args`\u001b[0m\u001b[1;33m\u001b[0m\u001b[1;33m\u001b[0m\u001b[0m\n\u001b[0;32m   1404\u001b[0m \u001b[1;33m\u001b[0m\u001b[0m\n\u001b[1;32m-> 1405\u001b[1;33m     df_output, wide_id_vars = process_args_into_dataframe(\n\u001b[0m\u001b[0;32m   1406\u001b[0m         \u001b[0margs\u001b[0m\u001b[1;33m,\u001b[0m \u001b[0mwide_mode\u001b[0m\u001b[1;33m,\u001b[0m \u001b[0mvar_name\u001b[0m\u001b[1;33m,\u001b[0m \u001b[0mvalue_name\u001b[0m\u001b[1;33m\u001b[0m\u001b[1;33m\u001b[0m\u001b[0m\n\u001b[0;32m   1407\u001b[0m     )\n",
      "\u001b[1;32mc:\\Users\\daveb\\AppData\\Local\\Programs\\Python\\Python310\\lib\\site-packages\\plotly\\express\\_core.py\u001b[0m in \u001b[0;36mprocess_args_into_dataframe\u001b[1;34m(args, wide_mode, var_name, value_name)\u001b[0m\n\u001b[0;32m   1205\u001b[0m                         \u001b[1;32mif\u001b[0m \u001b[0margument\u001b[0m \u001b[1;33m==\u001b[0m \u001b[1;34m\"index\"\u001b[0m\u001b[1;33m:\u001b[0m\u001b[1;33m\u001b[0m\u001b[1;33m\u001b[0m\u001b[0m\n\u001b[0;32m   1206\u001b[0m                             \u001b[0merr_msg\u001b[0m \u001b[1;33m+=\u001b[0m \u001b[1;34m\"\\n To use the index, pass it in directly as `df.index`.\"\u001b[0m\u001b[1;33m\u001b[0m\u001b[1;33m\u001b[0m\u001b[0m\n\u001b[1;32m-> 1207\u001b[1;33m                         \u001b[1;32mraise\u001b[0m \u001b[0mValueError\u001b[0m\u001b[1;33m(\u001b[0m\u001b[0merr_msg\u001b[0m\u001b[1;33m)\u001b[0m\u001b[1;33m\u001b[0m\u001b[1;33m\u001b[0m\u001b[0m\n\u001b[0m\u001b[0;32m   1208\u001b[0m                 \u001b[1;32melif\u001b[0m \u001b[0mlength\u001b[0m \u001b[1;32mand\u001b[0m \u001b[0mlen\u001b[0m\u001b[1;33m(\u001b[0m\u001b[0mdf_input\u001b[0m\u001b[1;33m[\u001b[0m\u001b[0margument\u001b[0m\u001b[1;33m]\u001b[0m\u001b[1;33m)\u001b[0m \u001b[1;33m!=\u001b[0m \u001b[0mlength\u001b[0m\u001b[1;33m:\u001b[0m\u001b[1;33m\u001b[0m\u001b[1;33m\u001b[0m\u001b[0m\n\u001b[0;32m   1209\u001b[0m                     raise ValueError(\n",
      "\u001b[1;31mValueError\u001b[0m: Value of 'y' is not the name of a column in 'data_frame'. Expected one of ['Company', 'Label', 'Fulltext Cosine Similarity Wiki Summary', 'Fulltext Cosine Similarity Human Rights', 'Zero Shot Fulltext', 'PDF Name', 'TF-IDF', 'Top N Words', 'Report Type', 'Sentence Cosine Similarity Wiki Summarized', 'Sentence Cosine Similarity Wiki Summarized Mean', 'Sentence Cosine Similarity Wiki Summarized Mean Threshold 0', 'Sentence by Sentence Cosine Similarity human rights', 'Sentence by Sentence Cosine Similarity human rights mean', 'Sentence by Sentence Cosine Similarity human rights Mean Threshold 0', 'Zero Shot Learning Sentence Raw', 'Classified Text', 'Zero Shot Learning Sentence Mean', 'Zero Shot Learning Sentence Mean Threshold', 'sustainability tf-idf', 'sustainability tf-idf log'] but received: Sentence Cosine Similarity Wiki Summarized Log"
     ]
    }
   ],
   "source": [
    "fig = px.scatter(tf_idf_sustainability_2, x=\"sustainability tf-idf\", y=\"Sentence Cosine Similarity Wiki Summarized Log\", trendline=\"ols\")\n",
    "fig.show()\n",
    "\n",
    "results = px.get_trendline_results(fig)\n",
    "print(results)\n",
    "\n",
    "results.px_fit_results.iloc[0].summary()"
   ]
  },
  {
   "cell_type": "code",
   "execution_count": null,
   "metadata": {},
   "outputs": [
    {
     "data": {
      "text/html": [
       "<div>\n",
       "<style scoped>\n",
       "    .dataframe tbody tr th:only-of-type {\n",
       "        vertical-align: middle;\n",
       "    }\n",
       "\n",
       "    .dataframe tbody tr th {\n",
       "        vertical-align: top;\n",
       "    }\n",
       "\n",
       "    .dataframe thead th {\n",
       "        text-align: right;\n",
       "    }\n",
       "</style>\n",
       "<table border=\"1\" class=\"dataframe\">\n",
       "  <thead>\n",
       "    <tr style=\"text-align: right;\">\n",
       "      <th></th>\n",
       "      <th>Company</th>\n",
       "      <th>Label</th>\n",
       "      <th>Fulltext Cosine Similarity Wiki Summary</th>\n",
       "      <th>Fulltext Cosine Similarity Human Rights</th>\n",
       "      <th>Zero Shot Fulltext</th>\n",
       "      <th>PDF Name</th>\n",
       "      <th>TF-IDF</th>\n",
       "      <th>Top N Words</th>\n",
       "      <th>Report Type</th>\n",
       "      <th>Cosine Similarity Mean</th>\n",
       "      <th>Cosine Similarity Mean Log</th>\n",
       "      <th>sustainability tf-idf</th>\n",
       "    </tr>\n",
       "  </thead>\n",
       "  <tbody>\n",
       "    <tr>\n",
       "      <th>0</th>\n",
       "      <td>feed_cargill_nutrition</td>\n",
       "      <td>sustainability</td>\n",
       "      <td>0.61154</td>\n",
       "      <td>0.61154</td>\n",
       "      <td>0.275510</td>\n",
       "      <td>cargill-aqua-nutrition-sustainability-report</td>\n",
       "      <td>[('sustainable', 0.32667451009307846), ('healt...</td>\n",
       "      <td>[('feed', 245), ('cargill', 212), ('nutrition'...</td>\n",
       "      <td>Normal Report</td>\n",
       "      <td>0.174</td>\n",
       "      <td>-1.748700</td>\n",
       "      <td>0.20517</td>\n",
       "    </tr>\n",
       "    <tr>\n",
       "      <th>1</th>\n",
       "      <td>community_glencore_report</td>\n",
       "      <td>sustainability</td>\n",
       "      <td>0.60491</td>\n",
       "      <td>0.60491</td>\n",
       "      <td>0.232543</td>\n",
       "      <td>2017-Glencore-Sustainability-Report-FINAL-</td>\n",
       "      <td>[('report', 0.3802482966427357), ('sustainabil...</td>\n",
       "      <td>[('community', 256), ('glencore', 241), ('repo...</td>\n",
       "      <td>Normal Report</td>\n",
       "      <td>0.161</td>\n",
       "      <td>-1.826351</td>\n",
       "      <td>0.37694</td>\n",
       "    </tr>\n",
       "  </tbody>\n",
       "</table>\n",
       "</div>"
      ],
      "text/plain": [
       "                     Company           Label  Fulltext Cosine Similarity Wiki Summary  Fulltext Cosine Similarity Human Rights  Zero Shot Fulltext                                      PDF Name                                             TF-IDF                                        Top N Words    Report Type  Cosine Similarity Mean  Cosine Similarity Mean Log  sustainability tf-idf\n",
       "0     feed_cargill_nutrition  sustainability                                  0.61154                                  0.61154            0.275510  cargill-aqua-nutrition-sustainability-report  [('sustainable', 0.32667451009307846), ('healt...  [('feed', 245), ('cargill', 212), ('nutrition'...  Normal Report                   0.174                   -1.748700                0.20517\n",
       "1  community_glencore_report  sustainability                                  0.60491                                  0.60491            0.232543    2017-Glencore-Sustainability-Report-FINAL-  [('report', 0.3802482966427357), ('sustainabil...  [('community', 256), ('glencore', 241), ('repo...  Normal Report                   0.161                   -1.826351                0.37694"
      ]
     },
     "execution_count": 63,
     "metadata": {},
     "output_type": "execute_result"
    }
   ],
   "source": [
    "tf_idf_sustainability_2[0:2]"
   ]
  },
  {
   "cell_type": "code",
   "execution_count": null,
   "metadata": {},
   "outputs": [
    {
     "data": {
      "application/vnd.plotly.v1+json": {
       "config": {
        "plotlyServerURL": "https://plot.ly"
       },
       "data": [
        {
         "alignmentgroup": "True",
         "boxpoints": "all",
         "hovertemplate": "Label=%{x}<br>Zero Shot Fulltext=%{y}<extra></extra>",
         "legendgroup": "",
         "marker": {
          "color": "#636efa"
         },
         "name": "",
         "notched": false,
         "offsetgroup": "",
         "orientation": "v",
         "showlegend": false,
         "type": "box",
         "x": [
          "sustainability",
          "human rights",
          "fraud",
          "social issues",
          "labour law",
          "sustainability",
          "human rights",
          "fraud",
          "social issues",
          "labour law",
          "sustainability",
          "human rights",
          "fraud",
          "social issues",
          "labour law",
          "sustainability",
          "human rights",
          "fraud",
          "social issues",
          "labour law",
          "sustainability",
          "human rights",
          "fraud",
          "social issues",
          "labour law",
          "sustainability",
          "human rights",
          "fraud",
          "social issues",
          "labour law",
          "sustainability",
          "human rights",
          "fraud",
          "social issues",
          "labour law",
          "sustainability",
          "human rights",
          "fraud",
          "social issues",
          "labour law",
          "sustainability",
          "human rights",
          "fraud",
          "social issues",
          "labour law",
          "sustainability",
          "human rights",
          "fraud",
          "social issues",
          "labour law",
          "sustainability",
          "human rights",
          "fraud",
          "social issues",
          "labour law",
          "sustainability",
          "human rights",
          "fraud",
          "social issues",
          "labour law",
          "sustainability",
          "human rights",
          "fraud",
          "social issues",
          "labour law",
          "sustainability",
          "human rights",
          "fraud",
          "social issues",
          "labour law",
          "sustainability",
          "human rights",
          "fraud",
          "social issues",
          "labour law",
          "sustainability",
          "human rights",
          "fraud",
          "social issues",
          "labour law",
          "sustainability",
          "human rights",
          "fraud",
          "social issues",
          "labour law",
          "sustainability",
          "human rights",
          "fraud",
          "social issues",
          "labour law",
          "sustainability",
          "human rights",
          "fraud",
          "social issues",
          "labour law",
          "sustainability",
          "human rights",
          "fraud",
          "social issues",
          "labour law",
          "sustainability",
          "human rights",
          "fraud",
          "social issues",
          "labour law",
          "sustainability",
          "human rights",
          "fraud",
          "social issues",
          "labour law",
          "sustainability",
          "human rights",
          "fraud",
          "social issues",
          "labour law",
          "sustainability",
          "human rights",
          "fraud",
          "social issues",
          "labour law",
          "sustainability",
          "human rights",
          "fraud",
          "social issues",
          "labour law",
          "sustainability",
          "human rights",
          "fraud",
          "social issues",
          "labour law",
          "sustainability",
          "human rights",
          "fraud",
          "social issues",
          "labour law",
          "sustainability",
          "human rights",
          "fraud",
          "social issues",
          "labour law",
          "sustainability",
          "human rights",
          "fraud",
          "social issues",
          "labour law",
          "sustainability",
          "human rights",
          "fraud",
          "social issues",
          "labour law",
          "sustainability",
          "human rights",
          "fraud",
          "social issues",
          "labour law",
          "sustainability",
          "human rights",
          "fraud",
          "social issues",
          "labour law",
          "sustainability",
          "human rights",
          "fraud",
          "social issues",
          "labour law",
          "sustainability",
          "human rights",
          "fraud",
          "social issues",
          "labour law",
          "sustainability",
          "human rights",
          "fraud",
          "social issues",
          "labour law",
          "sustainability",
          "human rights",
          "fraud",
          "social issues",
          "labour law",
          "sustainability",
          "human rights",
          "fraud",
          "social issues",
          "labour law",
          "sustainability",
          "human rights",
          "fraud",
          "social issues",
          "labour law",
          "sustainability",
          "human rights",
          "fraud",
          "social issues",
          "labour law",
          "sustainability",
          "human rights",
          "fraud",
          "social issues",
          "labour law",
          "sustainability",
          "human rights",
          "fraud",
          "social issues",
          "labour law",
          "sustainability",
          "human rights",
          "fraud",
          "social issues",
          "labour law",
          "sustainability",
          "human rights",
          "fraud",
          "social issues",
          "labour law",
          "sustainability",
          "human rights",
          "fraud",
          "social issues",
          "labour law",
          "sustainability",
          "human rights",
          "fraud",
          "social issues",
          "labour law",
          "sustainability",
          "human rights",
          "fraud",
          "social issues",
          "labour law",
          "sustainability",
          "human rights",
          "fraud",
          "social issues",
          "labour law",
          "sustainability",
          "human rights",
          "fraud",
          "social issues",
          "labour law",
          "sustainability",
          "human rights",
          "fraud",
          "social issues",
          "labour law",
          "sustainability",
          "human rights",
          "fraud",
          "social issues",
          "labour law",
          "sustainability",
          "human rights",
          "fraud",
          "social issues",
          "labour law",
          "sustainability",
          "human rights",
          "fraud",
          "social issues",
          "labour law",
          "sustainability",
          "human rights",
          "fraud",
          "social issues",
          "labour law",
          "sustainability",
          "human rights",
          "fraud",
          "social issues",
          "labour law",
          "sustainability",
          "human rights",
          "fraud",
          "social issues",
          "labour law",
          "sustainability",
          "human rights",
          "fraud",
          "social issues",
          "labour law",
          "sustainability",
          "human rights",
          "fraud",
          "social issues",
          "labour law",
          "sustainability",
          "human rights",
          "fraud",
          "social issues",
          "labour law",
          "sustainability",
          "human rights",
          "fraud",
          "social issues",
          "labour law",
          "sustainability",
          "human rights",
          "fraud",
          "social issues",
          "labour law",
          "sustainability",
          "human rights",
          "fraud",
          "social issues",
          "labour law",
          "sustainability",
          "human rights",
          "fraud",
          "social issues",
          "labour law",
          "sustainability",
          "human rights",
          "fraud",
          "social issues",
          "labour law",
          "sustainability",
          "human rights",
          "fraud",
          "social issues",
          "labour law",
          "sustainability",
          "human rights",
          "fraud",
          "social issues",
          "labour law",
          "sustainability",
          "human rights",
          "fraud",
          "social issues",
          "labour law",
          "sustainability",
          "human rights",
          "fraud",
          "social issues",
          "labour law",
          "sustainability",
          "human rights",
          "fraud",
          "social issues",
          "labour law",
          "sustainability",
          "human rights",
          "fraud",
          "social issues",
          "labour law",
          "sustainability",
          "human rights",
          "fraud",
          "social issues",
          "labour law",
          "sustainability",
          "human rights",
          "fraud",
          "social issues",
          "labour law",
          "sustainability",
          "human rights",
          "fraud",
          "social issues",
          "labour law",
          "sustainability",
          "human rights",
          "fraud",
          "social issues",
          "labour law",
          "sustainability",
          "human rights",
          "fraud",
          "social issues",
          "labour law",
          "sustainability",
          "human rights",
          "fraud",
          "social issues",
          "labour law",
          "sustainability",
          "human rights",
          "fraud",
          "social issues",
          "labour law",
          "sustainability",
          "human rights",
          "fraud",
          "social issues",
          "labour law",
          "sustainability",
          "human rights",
          "fraud",
          "social issues",
          "labour law",
          "sustainability",
          "human rights",
          "fraud",
          "social issues",
          "labour law",
          "sustainability",
          "human rights",
          "fraud",
          "social issues",
          "labour law",
          "sustainability",
          "human rights",
          "fraud",
          "social issues",
          "labour law",
          "sustainability",
          "human rights",
          "fraud",
          "social issues",
          "labour law",
          "sustainability",
          "human rights",
          "fraud",
          "social issues",
          "labour law",
          "sustainability",
          "human rights",
          "fraud",
          "social issues",
          "labour law",
          "sustainability",
          "human rights",
          "fraud",
          "social issues",
          "labour law",
          "sustainability",
          "human rights",
          "fraud",
          "social issues",
          "labour law",
          "sustainability",
          "human rights",
          "fraud",
          "social issues",
          "labour law",
          "sustainability",
          "human rights",
          "fraud",
          "social issues",
          "labour law",
          "sustainability",
          "human rights",
          "fraud",
          "social issues",
          "labour law",
          "sustainability",
          "human rights",
          "fraud",
          "social issues",
          "labour law",
          "sustainability",
          "human rights",
          "fraud",
          "social issues",
          "labour law",
          "sustainability",
          "human rights",
          "fraud",
          "social issues",
          "labour law",
          "sustainability",
          "human rights",
          "fraud",
          "social issues",
          "labour law",
          "sustainability",
          "human rights",
          "fraud",
          "social issues",
          "labour law",
          "sustainability",
          "human rights",
          "fraud",
          "social issues",
          "labour law",
          "sustainability",
          "human rights",
          "fraud",
          "social issues",
          "labour law",
          "sustainability",
          "human rights",
          "fraud",
          "social issues",
          "labour law",
          "sustainability",
          "human rights",
          "fraud",
          "social issues",
          "labour law",
          "sustainability",
          "human rights",
          "fraud",
          "social issues",
          "labour law",
          "sustainability",
          "human rights",
          "fraud",
          "social issues",
          "labour law",
          "sustainability",
          "human rights",
          "fraud",
          "social issues",
          "labour law",
          "sustainability",
          "human rights",
          "fraud",
          "social issues",
          "labour law",
          "sustainability",
          "human rights",
          "fraud",
          "social issues",
          "labour law",
          "sustainability",
          "human rights",
          "fraud",
          "social issues",
          "labour law",
          "sustainability",
          "human rights",
          "fraud",
          "social issues",
          "labour law",
          "sustainability",
          "human rights",
          "fraud",
          "social issues",
          "labour law",
          "sustainability",
          "human rights",
          "fraud",
          "social issues",
          "labour law",
          "sustainability",
          "human rights",
          "fraud",
          "social issues",
          "labour law",
          "sustainability",
          "human rights",
          "fraud",
          "social issues",
          "labour law",
          "sustainability",
          "human rights",
          "fraud",
          "social issues",
          "labour law",
          "sustainability",
          "human rights",
          "fraud",
          "social issues",
          "labour law",
          "sustainability",
          "human rights",
          "fraud",
          "social issues",
          "labour law",
          "sustainability",
          "human rights",
          "fraud",
          "social issues",
          "labour law",
          "sustainability",
          "human rights",
          "fraud",
          "social issues",
          "labour law",
          "sustainability",
          "human rights",
          "fraud",
          "social issues",
          "labour law",
          "sustainability",
          "human rights",
          "fraud",
          "social issues",
          "labour law",
          "sustainability",
          "human rights",
          "fraud",
          "social issues",
          "labour law"
         ],
         "x0": " ",
         "xaxis": "x",
         "y": [
          0.2422610074281692,
          0.2152930498123169,
          0.0656460970640182,
          0.2505688965320587,
          0.2262309044599533,
          0.2755100131034851,
          0.1939961165189743,
          0.1468869149684906,
          0.2035748958587646,
          0.1800320148468017,
          0.2325430065393448,
          0.2296200692653656,
          0.0290340203791856,
          0.2049544900655746,
          0.3038484454154968,
          0.2774017453193664,
          0.1144607216119766,
          0.0761402994394302,
          0.2732843160629272,
          0.2587129175662994,
          0.3262344598770141,
          0.1899631768465042,
          0.088610365986824,
          0.1775659471750259,
          0.2176260501146316,
          0.2838029265403747,
          0.1774022579193115,
          0.094224989414215,
          0.2025396078824997,
          0.2420301884412765,
          0.3226491510868072,
          0.2103051990270614,
          0.1255590617656707,
          0.157782182097435,
          0.1837044358253479,
          0.2614049613475799,
          0.1643752306699752,
          0.0898233652114868,
          0.2862432301044464,
          0.1981531977653503,
          0.3033963739871979,
          0.2183169275522232,
          0.0726864635944366,
          0.2547706365585327,
          0.1508295834064483,
          0.3595947623252868,
          0.1536487489938736,
          0.0851592421531677,
          0.2121735513210296,
          0.1894236952066421,
          0.3808757364749908,
          0.1798262447118759,
          0.1421459913253784,
          0.1491464525461197,
          0.1480055898427963,
          0.239758625626564,
          0.2239198088645935,
          0.044093232601881,
          0.2534562945365906,
          0.2387720793485641,
          0.2977005839347839,
          0.1306955814361572,
          0.0682671964168548,
          0.2194368988275528,
          0.2838996946811676,
          0.3277174532413482,
          0.1864126026630401,
          0.1085445210337638,
          0.2215171158313751,
          0.1558082848787307,
          0.2501050531864166,
          0.1813988536596298,
          0.1272762715816497,
          0.1285329014062881,
          0.3126868903636932,
          0.2522205412387848,
          0.1350641399621963,
          0.087611585855484,
          0.2217833995819091,
          0.3033203780651092,
          0.2776872217655182,
          0.1974674016237259,
          0.0652693063020706,
          0.1960902363061905,
          0.2634859085083008,
          0.261933833360672,
          0.242390751838684,
          0.1047623232007026,
          0.1716848015785217,
          0.2192283123731613,
          0.2548901438713074,
          0.2563245892524719,
          0.0390478745102882,
          0.1943769454956054,
          0.25536048412323,
          0.3765555024147033,
          0.2426569014787674,
          0.0742003545165062,
          0.0663586407899856,
          0.2402286231517791,
          0.3008886277675628,
          0.1446606218814849,
          0.0940709635615348,
          0.2438423484563827,
          0.2165374457836151,
          0.5001320838928223,
          0.1408428400754928,
          0.0435758009552955,
          0.1593820601701736,
          0.1560671329498291,
          0.2709157466888428,
          0.1683832854032516,
          0.10578203946352,
          0.2182244807481765,
          0.2366943806409835,
          0.249729111790657,
          0.2200469374656677,
          0.1110946983098983,
          0.2082842737436294,
          0.2108449637889862,
          0.280646800994873,
          0.1903405934572219,
          0.0920817032456398,
          0.2127655744552612,
          0.2241653203964233,
          0.4056530892848968,
          0.1870989948511123,
          0.0521210469305515,
          0.107210449874401,
          0.2479164153337478,
          0.2479118853807449,
          0.2423049509525299,
          0.0414882861077785,
          0.2223612815141677,
          0.2459336072206497,
          0.2120823413133621,
          0.2380188554525375,
          0.0348908938467502,
          0.2167284190654754,
          0.2982795536518097,
          0.3638359308242798,
          0.1994417905807495,
          0.1377527415752411,
          0.1663465499877929,
          0.1326229721307754,
          0.3631477355957031,
          0.1328870058059692,
          0.0789025276899337,
          0.1850870996713638,
          0.2399756908416748,
          0.2917154133319855,
          0.1957510560750961,
          0.0798672437667846,
          0.1549521684646606,
          0.2777140438556671,
          0.7696591019630432,
          0.0459679290652275,
          0.0196657963097095,
          0.044289544224739,
          0.1204176247119903,
          0.3522093892097473,
          0.1554633975028991,
          0.0516640692949295,
          0.2153791785240173,
          0.2252839803695678,
          0.2635453939437866,
          0.1899312287569046,
          0.129283607006073,
          0.1919509172439575,
          0.2252888530492782,
          0.3828398883342743,
          0.1473801583051681,
          0.1004441231489181,
          0.1404090374708175,
          0.2289267927408218,
          0.2434425055980682,
          0.2165676355361938,
          0.0624621883034706,
          0.2759936153888702,
          0.2015339881181717,
          0.2872568666934967,
          0.2543060481548309,
          0.0501071028411388,
          0.2479011118412017,
          0.1604288667440414,
          0.3427613973617553,
          0.1586702615022659,
          0.0510966069996356,
          0.2453497946262359,
          0.2021219879388809,
          0.4590844511985779,
          0.1318046450614929,
          0.0677712634205818,
          0.1905619800090789,
          0.1507777422666549,
          0.3522094786167145,
          0.1534124910831451,
          0.0613475739955902,
          0.1621603518724441,
          0.270870178937912,
          0.2564135491847992,
          0.1923506706953048,
          0.1213953420519828,
          0.196650892496109,
          0.2331895381212234,
          0.1992019414901733,
          0.1998269259929657,
          0.162911370396614,
          0.21580471098423,
          0.2222550362348556,
          0.1469128131866455,
          0.0442440770566463,
          0.0137458341196179,
          0.3082045912742615,
          0.4868927299976349,
          0.3546679615974426,
          0.1544041633605957,
          0.1459179371595382,
          0.1832892000675201,
          0.1617207527160644,
          0.3176023066043854,
          0.1207064390182495,
          0.137290820479393,
          0.2262132167816162,
          0.1981872171163559,
          0.235403224825859,
          0.1695498526096344,
          0.1185489520430564,
          0.2074512541294098,
          0.2690467536449432,
          0.265918880701065,
          0.2618824541568756,
          0.0856404528021812,
          0.1937536299228668,
          0.192804530262947,
          0.3564044237136841,
          0.1345686465501785,
          0.0646340101957321,
          0.2174935936927795,
          0.2268993407487869,
          0.2103703171014785,
          0.2187693864107132,
          0.1146709844470024,
          0.2364151030778885,
          0.2197742313146591,
          0.2936970889568329,
          0.1813750267028808,
          0.1195328310132026,
          0.2207388132810592,
          0.1846563220024109,
          0.3052448630332947,
          0.1666322499513626,
          0.0933243334293365,
          0.2693052291870117,
          0.1654933243989944,
          0.257261574268341,
          0.1796179413795471,
          0.0652623623609542,
          0.2325137108564376,
          0.2653444111347198,
          0.3128083944320678,
          0.2270803898572921,
          0.0436561107635498,
          0.1881952434778213,
          0.2282599061727523,
          0.3154234588146209,
          0.2192700654268264,
          0.0517401210963726,
          0.2384630292654037,
          0.1751033216714859,
          0.281462013721466,
          0.2567347586154938,
          0.1183967217803001,
          0.1713983118534088,
          0.172008141875267,
          0.2609411478042602,
          0.1782104223966598,
          0.1455601751804351,
          0.2207399010658264,
          0.1945483088493347,
          0.204001098871231,
          0.2183452695608139,
          0.0142045998945832,
          0.2860311567783355,
          0.2774178087711334,
          0.3011332154273987,
          0.1958506107330322,
          0.0609594136476516,
          0.1723295152187347,
          0.2697272300720215,
          0.3540019690990448,
          0.1385604739189148,
          0.153286337852478,
          0.1845041960477829,
          0.1696469783782959,
          0.4844344854354858,
          0.1431017369031906,
          0.0530891343951225,
          0.1969743818044662,
          0.1224003061652183,
          0.2578417360782623,
          0.1985359787940979,
          0.1531428545713424,
          0.2018287926912307,
          0.1886506676673889,
          0.2577787637710571,
          0.1710304468870163,
          0.0424360670149326,
          0.2657317817211151,
          0.2630229294300079,
          0.2957286536693573,
          0.2032393962144851,
          0.1551255881786346,
          0.2155042737722396,
          0.1304021030664444,
          0.3046111166477203,
          0.2271130234003067,
          0.059932354837656,
          0.1881893575191497,
          0.2201541513204574,
          0.1361060738563537,
          0.2641184031963348,
          0.0448154136538505,
          0.341550201177597,
          0.2134099304676056,
          0.2586303055286407,
          0.2162742614746093,
          0.0734948813915252,
          0.178605705499649,
          0.2729948461055755,
          0.262855052947998,
          0.2022788077592849,
          0.1317953765392303,
          0.1972105801105499,
          0.2058601528406143,
          0.3589620590209961,
          0.1881182938814163,
          0.0680722892284393,
          0.1409851759672165,
          0.2438621073961258,
          0.3303603529930115,
          0.2309527397155761,
          0.0386990308761596,
          0.1790402680635452,
          0.220947653055191,
          0.2920756936073303,
          0.1485055536031723,
          0.078366994857788,
          0.2635778784751892,
          0.2174738198518753,
          0.3092426359653473,
          0.1847359240055084,
          0.0478068068623542,
          0.2785590291023254,
          0.1796555966138839,
          0.2759756743907928,
          0.2260195612907409,
          0.0466939993202686,
          0.1592053771018982,
          0.2921053171157837,
          0.2313194870948791,
          0.18809774518013,
          0.1453533619642257,
          0.1800454407930374,
          0.2551839649677276,
          0.3538145422935486,
          0.2009992450475692,
          0.0964117720723152,
          0.1667288541793823,
          0.182045578956604,
          0.2579312920570373,
          0.1778267174959182,
          0.1398711502552032,
          0.2492201775312423,
          0.1751506030559539,
          0.2814030051231384,
          0.1931255906820297,
          0.0546714216470718,
          0.2562920451164245,
          0.2145079225301742,
          0.2603960931301117,
          0.2049978077411651,
          0.119244284927845,
          0.1838046908378601,
          0.2315571308135986,
          0.1716018170118332,
          0.2257553339004516,
          0.0712952688336372,
          0.12836953997612,
          0.4029780030250549,
          0.3671208024024963,
          0.1154544800519943,
          0.0476425848901271,
          0.2045854330062866,
          0.2651967406272888,
          0.3804562985897064,
          0.1907578706741333,
          0.0709194242954254,
          0.176645815372467,
          0.181220605969429,
          0.3442919254302978,
          0.1449477076530456,
          0.1093845069408416,
          0.236914113163948,
          0.1644617915153503,
          0.2918977439403534,
          0.2292515933513641,
          0.0891978219151496,
          0.2257017791271209,
          0.1639510095119476,
          0.4271990656852722,
          0.1108394116163253,
          0.1089241877198219,
          0.1618001759052276,
          0.1912371665239334,
          0.2939696311950683,
          0.1660996973514557,
          0.0510750822722911,
          0.192602276802063,
          0.2962532341480255,
          0.3721352517604828,
          0.1255407035350799,
          0.1537331640720367,
          0.0875843167304992,
          0.2610065937042236,
          0.2526452541351318,
          0.1938932836055755,
          0.2000907361507415,
          0.1694440096616745,
          0.1839266866445541,
          0.283905953168869,
          0.1778941452503204,
          0.183852419257164,
          0.098903939127922,
          0.2554435729980469,
          0.2300601005554199,
          0.1854093223810196,
          0.1245978325605392,
          0.1580100506544113,
          0.3019227385520935,
          0.3287214040756225,
          0.2197911143302917,
          0.0889642834663391,
          0.1478125751018524,
          0.2147107124328613,
          0.1703296154737472,
          0.2006480097770691,
          0.1539040952920913,
          0.2313641309738159,
          0.2437541335821151,
          0.207946628332138,
          0.2254245430231094,
          0.1350813210010528,
          0.1306561231613159,
          0.3008913397789001,
          0.2787400782108307,
          0.127303659915924,
          0.1105849742889404,
          0.1768430024385452,
          0.3065283596515655,
          0.3080329000949859,
          0.2196117788553238,
          0.0575709082186222,
          0.1315936297178268,
          0.2831907868385315,
          0.2905075848102569,
          0.12835693359375,
          0.1312061697244644,
          0.2456855326890945,
          0.2042438387870788,
          0.3049603402614593,
          0.1469869762659073,
          0.1196052208542823,
          0.2401561290025711,
          0.1882913261651992,
          0.1581214666366577,
          0.1501937061548233,
          0.1143856197595596,
          0.2087297439575195,
          0.3685694932937622,
          0.2961293458938598,
          0.15740767121315,
          0.0663035213947296,
          0.2176629602909088,
          0.2624964714050293,
          0.3115815818309784,
          0.2651827931404114,
          0.104553535580635,
          0.1888178139925003,
          0.1298642605543136,
          0.311314970254898,
          0.1944018900394439,
          0.0609250962734222,
          0.2056406140327453,
          0.2277173995971679,
          0.2247772514820099,
          0.2267500907182693,
          0.0832700654864311,
          0.2495380640029907,
          0.2156645208597183,
          0.2561188340187073,
          0.2276665419340133,
          0.1014498323202133,
          0.1931435912847519,
          0.2216212004423141,
          0.6944990158081055,
          0.0572017915546894,
          0.0263489112257957,
          0.0925932005047798,
          0.1293570399284362,
          0.3380797207355499,
          0.1615283042192459,
          0.058694738894701,
          0.1769894659519195,
          0.2647078037261963,
          0.298772931098938,
          0.2102086842060089,
          0.0884194746613502,
          0.2036190629005432,
          0.198979765176773,
          0.2476188987493515,
          0.2017716020345688,
          0.0820487663149833,
          0.2639303505420685,
          0.2046303451061248,
          0.2664543390274048,
          0.2110539823770523,
          0.0398722998797893,
          0.2180371731519699,
          0.2645822167396545,
          0.324118047952652,
          0.2061441391706466,
          0.0773950293660163,
          0.1750264167785644,
          0.2173162996768951,
          0.2686576247215271,
          0.2362363785505294,
          0.0874708816409111,
          0.1333933621644973,
          0.2742417454719543,
          0.2058963030576706,
          0.2007921487092971,
          0.0872723385691642,
          0.2347771823406219,
          0.2712620198726654,
          0.3696164488792419,
          0.1822672039270401,
          0.0381705202162265,
          0.1546910256147384,
          0.2552548050880432,
          0.2245530039072036,
          0.1704703867435455,
          0.0312880724668502,
          0.2345487773418426,
          0.3391397297382355,
          0.3659659028053283,
          0.2197176665067672,
          0.0756936743855476,
          0.1835657954216003,
          0.1550569832324981,
          0.3131616413593292,
          0.1830106973648071,
          0.1013853177428245,
          0.2192831635475158,
          0.183159127831459,
          0.3119750618934631,
          0.2322798371315002,
          0.0812614113092422,
          0.2043886482715606,
          0.1700950115919113,
          0.2870954275131225,
          0.229597732424736,
          0.0687350630760192,
          0.1947677284479141,
          0.2198040038347244,
          0.2739381194114685,
          0.220195785164833,
          0.0884298384189605,
          0.1845687478780746,
          0.2328675985336303,
          0.2447177469730377,
          0.2318690568208694,
          0.1164464205503463,
          0.2295010536909103,
          0.1774656623601913
         ],
         "y0": " ",
         "yaxis": "y"
        }
       ],
       "layout": {
        "boxmode": "group",
        "legend": {
         "tracegroupgap": 0
        },
        "margin": {
         "t": 60
        },
        "template": {
         "data": {
          "bar": [
           {
            "error_x": {
             "color": "#2a3f5f"
            },
            "error_y": {
             "color": "#2a3f5f"
            },
            "marker": {
             "line": {
              "color": "#E5ECF6",
              "width": 0.5
             },
             "pattern": {
              "fillmode": "overlay",
              "size": 10,
              "solidity": 0.2
             }
            },
            "type": "bar"
           }
          ],
          "barpolar": [
           {
            "marker": {
             "line": {
              "color": "#E5ECF6",
              "width": 0.5
             },
             "pattern": {
              "fillmode": "overlay",
              "size": 10,
              "solidity": 0.2
             }
            },
            "type": "barpolar"
           }
          ],
          "carpet": [
           {
            "aaxis": {
             "endlinecolor": "#2a3f5f",
             "gridcolor": "white",
             "linecolor": "white",
             "minorgridcolor": "white",
             "startlinecolor": "#2a3f5f"
            },
            "baxis": {
             "endlinecolor": "#2a3f5f",
             "gridcolor": "white",
             "linecolor": "white",
             "minorgridcolor": "white",
             "startlinecolor": "#2a3f5f"
            },
            "type": "carpet"
           }
          ],
          "choropleth": [
           {
            "colorbar": {
             "outlinewidth": 0,
             "ticks": ""
            },
            "type": "choropleth"
           }
          ],
          "contour": [
           {
            "colorbar": {
             "outlinewidth": 0,
             "ticks": ""
            },
            "colorscale": [
             [
              0,
              "#0d0887"
             ],
             [
              0.1111111111111111,
              "#46039f"
             ],
             [
              0.2222222222222222,
              "#7201a8"
             ],
             [
              0.3333333333333333,
              "#9c179e"
             ],
             [
              0.4444444444444444,
              "#bd3786"
             ],
             [
              0.5555555555555556,
              "#d8576b"
             ],
             [
              0.6666666666666666,
              "#ed7953"
             ],
             [
              0.7777777777777778,
              "#fb9f3a"
             ],
             [
              0.8888888888888888,
              "#fdca26"
             ],
             [
              1,
              "#f0f921"
             ]
            ],
            "type": "contour"
           }
          ],
          "contourcarpet": [
           {
            "colorbar": {
             "outlinewidth": 0,
             "ticks": ""
            },
            "type": "contourcarpet"
           }
          ],
          "heatmap": [
           {
            "colorbar": {
             "outlinewidth": 0,
             "ticks": ""
            },
            "colorscale": [
             [
              0,
              "#0d0887"
             ],
             [
              0.1111111111111111,
              "#46039f"
             ],
             [
              0.2222222222222222,
              "#7201a8"
             ],
             [
              0.3333333333333333,
              "#9c179e"
             ],
             [
              0.4444444444444444,
              "#bd3786"
             ],
             [
              0.5555555555555556,
              "#d8576b"
             ],
             [
              0.6666666666666666,
              "#ed7953"
             ],
             [
              0.7777777777777778,
              "#fb9f3a"
             ],
             [
              0.8888888888888888,
              "#fdca26"
             ],
             [
              1,
              "#f0f921"
             ]
            ],
            "type": "heatmap"
           }
          ],
          "heatmapgl": [
           {
            "colorbar": {
             "outlinewidth": 0,
             "ticks": ""
            },
            "colorscale": [
             [
              0,
              "#0d0887"
             ],
             [
              0.1111111111111111,
              "#46039f"
             ],
             [
              0.2222222222222222,
              "#7201a8"
             ],
             [
              0.3333333333333333,
              "#9c179e"
             ],
             [
              0.4444444444444444,
              "#bd3786"
             ],
             [
              0.5555555555555556,
              "#d8576b"
             ],
             [
              0.6666666666666666,
              "#ed7953"
             ],
             [
              0.7777777777777778,
              "#fb9f3a"
             ],
             [
              0.8888888888888888,
              "#fdca26"
             ],
             [
              1,
              "#f0f921"
             ]
            ],
            "type": "heatmapgl"
           }
          ],
          "histogram": [
           {
            "marker": {
             "pattern": {
              "fillmode": "overlay",
              "size": 10,
              "solidity": 0.2
             }
            },
            "type": "histogram"
           }
          ],
          "histogram2d": [
           {
            "colorbar": {
             "outlinewidth": 0,
             "ticks": ""
            },
            "colorscale": [
             [
              0,
              "#0d0887"
             ],
             [
              0.1111111111111111,
              "#46039f"
             ],
             [
              0.2222222222222222,
              "#7201a8"
             ],
             [
              0.3333333333333333,
              "#9c179e"
             ],
             [
              0.4444444444444444,
              "#bd3786"
             ],
             [
              0.5555555555555556,
              "#d8576b"
             ],
             [
              0.6666666666666666,
              "#ed7953"
             ],
             [
              0.7777777777777778,
              "#fb9f3a"
             ],
             [
              0.8888888888888888,
              "#fdca26"
             ],
             [
              1,
              "#f0f921"
             ]
            ],
            "type": "histogram2d"
           }
          ],
          "histogram2dcontour": [
           {
            "colorbar": {
             "outlinewidth": 0,
             "ticks": ""
            },
            "colorscale": [
             [
              0,
              "#0d0887"
             ],
             [
              0.1111111111111111,
              "#46039f"
             ],
             [
              0.2222222222222222,
              "#7201a8"
             ],
             [
              0.3333333333333333,
              "#9c179e"
             ],
             [
              0.4444444444444444,
              "#bd3786"
             ],
             [
              0.5555555555555556,
              "#d8576b"
             ],
             [
              0.6666666666666666,
              "#ed7953"
             ],
             [
              0.7777777777777778,
              "#fb9f3a"
             ],
             [
              0.8888888888888888,
              "#fdca26"
             ],
             [
              1,
              "#f0f921"
             ]
            ],
            "type": "histogram2dcontour"
           }
          ],
          "mesh3d": [
           {
            "colorbar": {
             "outlinewidth": 0,
             "ticks": ""
            },
            "type": "mesh3d"
           }
          ],
          "parcoords": [
           {
            "line": {
             "colorbar": {
              "outlinewidth": 0,
              "ticks": ""
             }
            },
            "type": "parcoords"
           }
          ],
          "pie": [
           {
            "automargin": true,
            "type": "pie"
           }
          ],
          "scatter": [
           {
            "fillpattern": {
             "fillmode": "overlay",
             "size": 10,
             "solidity": 0.2
            },
            "type": "scatter"
           }
          ],
          "scatter3d": [
           {
            "line": {
             "colorbar": {
              "outlinewidth": 0,
              "ticks": ""
             }
            },
            "marker": {
             "colorbar": {
              "outlinewidth": 0,
              "ticks": ""
             }
            },
            "type": "scatter3d"
           }
          ],
          "scattercarpet": [
           {
            "marker": {
             "colorbar": {
              "outlinewidth": 0,
              "ticks": ""
             }
            },
            "type": "scattercarpet"
           }
          ],
          "scattergeo": [
           {
            "marker": {
             "colorbar": {
              "outlinewidth": 0,
              "ticks": ""
             }
            },
            "type": "scattergeo"
           }
          ],
          "scattergl": [
           {
            "marker": {
             "colorbar": {
              "outlinewidth": 0,
              "ticks": ""
             }
            },
            "type": "scattergl"
           }
          ],
          "scattermapbox": [
           {
            "marker": {
             "colorbar": {
              "outlinewidth": 0,
              "ticks": ""
             }
            },
            "type": "scattermapbox"
           }
          ],
          "scatterpolar": [
           {
            "marker": {
             "colorbar": {
              "outlinewidth": 0,
              "ticks": ""
             }
            },
            "type": "scatterpolar"
           }
          ],
          "scatterpolargl": [
           {
            "marker": {
             "colorbar": {
              "outlinewidth": 0,
              "ticks": ""
             }
            },
            "type": "scatterpolargl"
           }
          ],
          "scatterternary": [
           {
            "marker": {
             "colorbar": {
              "outlinewidth": 0,
              "ticks": ""
             }
            },
            "type": "scatterternary"
           }
          ],
          "surface": [
           {
            "colorbar": {
             "outlinewidth": 0,
             "ticks": ""
            },
            "colorscale": [
             [
              0,
              "#0d0887"
             ],
             [
              0.1111111111111111,
              "#46039f"
             ],
             [
              0.2222222222222222,
              "#7201a8"
             ],
             [
              0.3333333333333333,
              "#9c179e"
             ],
             [
              0.4444444444444444,
              "#bd3786"
             ],
             [
              0.5555555555555556,
              "#d8576b"
             ],
             [
              0.6666666666666666,
              "#ed7953"
             ],
             [
              0.7777777777777778,
              "#fb9f3a"
             ],
             [
              0.8888888888888888,
              "#fdca26"
             ],
             [
              1,
              "#f0f921"
             ]
            ],
            "type": "surface"
           }
          ],
          "table": [
           {
            "cells": {
             "fill": {
              "color": "#EBF0F8"
             },
             "line": {
              "color": "white"
             }
            },
            "header": {
             "fill": {
              "color": "#C8D4E3"
             },
             "line": {
              "color": "white"
             }
            },
            "type": "table"
           }
          ]
         },
         "layout": {
          "annotationdefaults": {
           "arrowcolor": "#2a3f5f",
           "arrowhead": 0,
           "arrowwidth": 1
          },
          "autotypenumbers": "strict",
          "coloraxis": {
           "colorbar": {
            "outlinewidth": 0,
            "ticks": ""
           }
          },
          "colorscale": {
           "diverging": [
            [
             0,
             "#8e0152"
            ],
            [
             0.1,
             "#c51b7d"
            ],
            [
             0.2,
             "#de77ae"
            ],
            [
             0.3,
             "#f1b6da"
            ],
            [
             0.4,
             "#fde0ef"
            ],
            [
             0.5,
             "#f7f7f7"
            ],
            [
             0.6,
             "#e6f5d0"
            ],
            [
             0.7,
             "#b8e186"
            ],
            [
             0.8,
             "#7fbc41"
            ],
            [
             0.9,
             "#4d9221"
            ],
            [
             1,
             "#276419"
            ]
           ],
           "sequential": [
            [
             0,
             "#0d0887"
            ],
            [
             0.1111111111111111,
             "#46039f"
            ],
            [
             0.2222222222222222,
             "#7201a8"
            ],
            [
             0.3333333333333333,
             "#9c179e"
            ],
            [
             0.4444444444444444,
             "#bd3786"
            ],
            [
             0.5555555555555556,
             "#d8576b"
            ],
            [
             0.6666666666666666,
             "#ed7953"
            ],
            [
             0.7777777777777778,
             "#fb9f3a"
            ],
            [
             0.8888888888888888,
             "#fdca26"
            ],
            [
             1,
             "#f0f921"
            ]
           ],
           "sequentialminus": [
            [
             0,
             "#0d0887"
            ],
            [
             0.1111111111111111,
             "#46039f"
            ],
            [
             0.2222222222222222,
             "#7201a8"
            ],
            [
             0.3333333333333333,
             "#9c179e"
            ],
            [
             0.4444444444444444,
             "#bd3786"
            ],
            [
             0.5555555555555556,
             "#d8576b"
            ],
            [
             0.6666666666666666,
             "#ed7953"
            ],
            [
             0.7777777777777778,
             "#fb9f3a"
            ],
            [
             0.8888888888888888,
             "#fdca26"
            ],
            [
             1,
             "#f0f921"
            ]
           ]
          },
          "colorway": [
           "#636efa",
           "#EF553B",
           "#00cc96",
           "#ab63fa",
           "#FFA15A",
           "#19d3f3",
           "#FF6692",
           "#B6E880",
           "#FF97FF",
           "#FECB52"
          ],
          "font": {
           "color": "#2a3f5f"
          },
          "geo": {
           "bgcolor": "white",
           "lakecolor": "white",
           "landcolor": "#E5ECF6",
           "showlakes": true,
           "showland": true,
           "subunitcolor": "white"
          },
          "hoverlabel": {
           "align": "left"
          },
          "hovermode": "closest",
          "mapbox": {
           "style": "light"
          },
          "paper_bgcolor": "white",
          "plot_bgcolor": "#E5ECF6",
          "polar": {
           "angularaxis": {
            "gridcolor": "white",
            "linecolor": "white",
            "ticks": ""
           },
           "bgcolor": "#E5ECF6",
           "radialaxis": {
            "gridcolor": "white",
            "linecolor": "white",
            "ticks": ""
           }
          },
          "scene": {
           "xaxis": {
            "backgroundcolor": "#E5ECF6",
            "gridcolor": "white",
            "gridwidth": 2,
            "linecolor": "white",
            "showbackground": true,
            "ticks": "",
            "zerolinecolor": "white"
           },
           "yaxis": {
            "backgroundcolor": "#E5ECF6",
            "gridcolor": "white",
            "gridwidth": 2,
            "linecolor": "white",
            "showbackground": true,
            "ticks": "",
            "zerolinecolor": "white"
           },
           "zaxis": {
            "backgroundcolor": "#E5ECF6",
            "gridcolor": "white",
            "gridwidth": 2,
            "linecolor": "white",
            "showbackground": true,
            "ticks": "",
            "zerolinecolor": "white"
           }
          },
          "shapedefaults": {
           "line": {
            "color": "#2a3f5f"
           }
          },
          "ternary": {
           "aaxis": {
            "gridcolor": "white",
            "linecolor": "white",
            "ticks": ""
           },
           "baxis": {
            "gridcolor": "white",
            "linecolor": "white",
            "ticks": ""
           },
           "bgcolor": "#E5ECF6",
           "caxis": {
            "gridcolor": "white",
            "linecolor": "white",
            "ticks": ""
           }
          },
          "title": {
           "x": 0.05
          },
          "xaxis": {
           "automargin": true,
           "gridcolor": "white",
           "linecolor": "white",
           "ticks": "",
           "title": {
            "standoff": 15
           },
           "zerolinecolor": "white",
           "zerolinewidth": 2
          },
          "yaxis": {
           "automargin": true,
           "gridcolor": "white",
           "linecolor": "white",
           "ticks": "",
           "title": {
            "standoff": 15
           },
           "zerolinecolor": "white",
           "zerolinewidth": 2
          }
         }
        },
        "xaxis": {
         "anchor": "y",
         "domain": [
          0,
          1
         ],
         "title": {
          "text": "Label"
         }
        },
        "yaxis": {
         "anchor": "x",
         "domain": [
          0,
          1
         ],
         "title": {
          "text": "Zero Shot Fulltext"
         }
        }
       }
      }
     },
     "metadata": {},
     "output_type": "display_data"
    }
   ],
   "source": [
    "fig = px.box(result, x=\"Label\", y=\"Zero Shot Fulltext\", points=\"all\")\n",
    "fig.show()"
   ]
  },
  {
   "cell_type": "code",
   "execution_count": null,
   "metadata": {},
   "outputs": [
    {
     "data": {
      "text/html": [
       "<div>\n",
       "<style scoped>\n",
       "    .dataframe tbody tr th:only-of-type {\n",
       "        vertical-align: middle;\n",
       "    }\n",
       "\n",
       "    .dataframe tbody tr th {\n",
       "        vertical-align: top;\n",
       "    }\n",
       "\n",
       "    .dataframe thead th {\n",
       "        text-align: right;\n",
       "    }\n",
       "</style>\n",
       "<table border=\"1\" class=\"dataframe\">\n",
       "  <thead>\n",
       "    <tr style=\"text-align: right;\">\n",
       "      <th></th>\n",
       "      <th>Company</th>\n",
       "      <th>Zero Shot Fulltext</th>\n",
       "      <th>Report Type</th>\n",
       "    </tr>\n",
       "  </thead>\n",
       "  <tbody>\n",
       "    <tr>\n",
       "      <th>0</th>\n",
       "      <td>child_cocoa_school</td>\n",
       "      <td>0.242261</td>\n",
       "      <td>Normal Report</td>\n",
       "    </tr>\n",
       "    <tr>\n",
       "      <th>1</th>\n",
       "      <td>child_cocoa_school</td>\n",
       "      <td>0.215293</td>\n",
       "      <td>Normal Report</td>\n",
       "    </tr>\n",
       "    <tr>\n",
       "      <th>2</th>\n",
       "      <td>child_cocoa_school</td>\n",
       "      <td>0.065646</td>\n",
       "      <td>Normal Report</td>\n",
       "    </tr>\n",
       "    <tr>\n",
       "      <th>3</th>\n",
       "      <td>child_cocoa_school</td>\n",
       "      <td>0.250569</td>\n",
       "      <td>Normal Report</td>\n",
       "    </tr>\n",
       "    <tr>\n",
       "      <th>4</th>\n",
       "      <td>child_cocoa_school</td>\n",
       "      <td>0.226231</td>\n",
       "      <td>Normal Report</td>\n",
       "    </tr>\n",
       "    <tr>\n",
       "      <th>...</th>\n",
       "      <td>...</td>\n",
       "      <td>...</td>\n",
       "      <td>...</td>\n",
       "    </tr>\n",
       "    <tr>\n",
       "      <th>580</th>\n",
       "      <td>palace_race_buckingham</td>\n",
       "      <td>0.244718</td>\n",
       "      <td>Fake</td>\n",
       "    </tr>\n",
       "    <tr>\n",
       "      <th>581</th>\n",
       "      <td>palace_race_buckingham</td>\n",
       "      <td>0.231869</td>\n",
       "      <td>Fake</td>\n",
       "    </tr>\n",
       "    <tr>\n",
       "      <th>582</th>\n",
       "      <td>palace_race_buckingham</td>\n",
       "      <td>0.116446</td>\n",
       "      <td>Fake</td>\n",
       "    </tr>\n",
       "    <tr>\n",
       "      <th>583</th>\n",
       "      <td>palace_race_buckingham</td>\n",
       "      <td>0.229501</td>\n",
       "      <td>Fake</td>\n",
       "    </tr>\n",
       "    <tr>\n",
       "      <th>584</th>\n",
       "      <td>palace_race_buckingham</td>\n",
       "      <td>0.177466</td>\n",
       "      <td>Fake</td>\n",
       "    </tr>\n",
       "  </tbody>\n",
       "</table>\n",
       "<p>585 rows × 3 columns</p>\n",
       "</div>"
      ],
      "text/plain": [
       "                    Company  Zero Shot Fulltext    Report Type\n",
       "0        child_cocoa_school            0.242261  Normal Report\n",
       "1        child_cocoa_school            0.215293  Normal Report\n",
       "2        child_cocoa_school            0.065646  Normal Report\n",
       "3        child_cocoa_school            0.250569  Normal Report\n",
       "4        child_cocoa_school            0.226231  Normal Report\n",
       "..                      ...                 ...            ...\n",
       "580  palace_race_buckingham            0.244718           Fake\n",
       "581  palace_race_buckingham            0.231869           Fake\n",
       "582  palace_race_buckingham            0.116446           Fake\n",
       "583  palace_race_buckingham            0.229501           Fake\n",
       "584  palace_race_buckingham            0.177466           Fake\n",
       "\n",
       "[585 rows x 3 columns]"
      ]
     },
     "execution_count": 248,
     "metadata": {},
     "output_type": "execute_result"
    }
   ],
   "source": [
    "result[[\"Company\", \"Zero Shot Fulltext\", \"Report Type\"]]"
   ]
  },
  {
   "cell_type": "code",
   "execution_count": null,
   "metadata": {},
   "outputs": [
    {
     "data": {
      "application/vnd.plotly.v1+json": {
       "config": {
        "plotlyServerURL": "https://plot.ly"
       },
       "data": [
        {
         "alignmentgroup": "True",
         "boxpoints": "all",
         "hovertemplate": "Report Type=Normal Report<br>Zero Shot Fulltext=%{y}<extra></extra>",
         "legendgroup": "Normal Report",
         "marker": {
          "color": "#636efa"
         },
         "name": "Normal Report",
         "notched": false,
         "offsetgroup": "Normal Report",
         "orientation": "v",
         "showlegend": true,
         "type": "box",
         "x0": " ",
         "xaxis": "x",
         "y": [
          0.2422610074281692,
          0.2152930498123169,
          0.0656460970640182,
          0.2505688965320587,
          0.2262309044599533,
          0.2755100131034851,
          0.1939961165189743,
          0.1468869149684906,
          0.2035748958587646,
          0.1800320148468017,
          0.2325430065393448,
          0.2296200692653656,
          0.0290340203791856,
          0.2049544900655746,
          0.3038484454154968,
          0.2774017453193664,
          0.1144607216119766,
          0.0761402994394302,
          0.2732843160629272,
          0.2587129175662994,
          0.3262344598770141,
          0.1899631768465042,
          0.088610365986824,
          0.1775659471750259,
          0.2176260501146316,
          0.2838029265403747,
          0.1774022579193115,
          0.094224989414215,
          0.2025396078824997,
          0.2420301884412765,
          0.3226491510868072,
          0.2103051990270614,
          0.1255590617656707,
          0.157782182097435,
          0.1837044358253479,
          0.2614049613475799,
          0.1643752306699752,
          0.0898233652114868,
          0.2862432301044464,
          0.1981531977653503,
          0.3033963739871979,
          0.2183169275522232,
          0.0726864635944366,
          0.2547706365585327,
          0.1508295834064483,
          0.3595947623252868,
          0.1536487489938736,
          0.0851592421531677,
          0.2121735513210296,
          0.1894236952066421,
          0.3808757364749908,
          0.1798262447118759,
          0.1421459913253784,
          0.1491464525461197,
          0.1480055898427963,
          0.239758625626564,
          0.2239198088645935,
          0.044093232601881,
          0.2534562945365906,
          0.2387720793485641,
          0.2977005839347839,
          0.1306955814361572,
          0.0682671964168548,
          0.2194368988275528,
          0.2838996946811676,
          0.3277174532413482,
          0.1864126026630401,
          0.1085445210337638,
          0.2215171158313751,
          0.1558082848787307,
          0.2501050531864166,
          0.1813988536596298,
          0.1272762715816497,
          0.1285329014062881,
          0.3126868903636932,
          0.2522205412387848,
          0.1350641399621963,
          0.087611585855484,
          0.2217833995819091,
          0.3033203780651092,
          0.2776872217655182,
          0.1974674016237259,
          0.0652693063020706,
          0.1960902363061905,
          0.2634859085083008,
          0.261933833360672,
          0.242390751838684,
          0.1047623232007026,
          0.1716848015785217,
          0.2192283123731613,
          0.2548901438713074,
          0.2563245892524719,
          0.0390478745102882,
          0.1943769454956054,
          0.25536048412323,
          0.3765555024147033,
          0.2426569014787674,
          0.0742003545165062,
          0.0663586407899856,
          0.2402286231517791,
          0.3008886277675628,
          0.1446606218814849,
          0.0940709635615348,
          0.2438423484563827,
          0.2165374457836151,
          0.5001320838928223,
          0.1408428400754928,
          0.0435758009552955,
          0.1593820601701736,
          0.1560671329498291,
          0.2709157466888428,
          0.1683832854032516,
          0.10578203946352,
          0.2182244807481765,
          0.2366943806409835,
          0.249729111790657,
          0.2200469374656677,
          0.1110946983098983,
          0.2082842737436294,
          0.2108449637889862,
          0.280646800994873,
          0.1903405934572219,
          0.0920817032456398,
          0.2127655744552612,
          0.2241653203964233,
          0.4056530892848968,
          0.1870989948511123,
          0.0521210469305515,
          0.107210449874401,
          0.2479164153337478,
          0.2479118853807449,
          0.2423049509525299,
          0.0414882861077785,
          0.2223612815141677,
          0.2459336072206497,
          0.2120823413133621,
          0.2380188554525375,
          0.0348908938467502,
          0.2167284190654754,
          0.2982795536518097,
          0.3638359308242798,
          0.1994417905807495,
          0.1377527415752411,
          0.1663465499877929,
          0.1326229721307754,
          0.3631477355957031,
          0.1328870058059692,
          0.0789025276899337,
          0.1850870996713638,
          0.2399756908416748,
          0.2917154133319855,
          0.1957510560750961,
          0.0798672437667846,
          0.1549521684646606,
          0.2777140438556671,
          0.7696591019630432,
          0.0459679290652275,
          0.0196657963097095,
          0.044289544224739,
          0.1204176247119903,
          0.3522093892097473,
          0.1554633975028991,
          0.0516640692949295,
          0.2153791785240173,
          0.2252839803695678,
          0.2635453939437866,
          0.1899312287569046,
          0.129283607006073,
          0.1919509172439575,
          0.2252888530492782,
          0.3828398883342743,
          0.1473801583051681,
          0.1004441231489181,
          0.1404090374708175,
          0.2289267927408218,
          0.2434425055980682,
          0.2165676355361938,
          0.0624621883034706,
          0.2759936153888702,
          0.2015339881181717,
          0.2872568666934967,
          0.2543060481548309,
          0.0501071028411388,
          0.2479011118412017,
          0.1604288667440414,
          0.3427613973617553,
          0.1586702615022659,
          0.0510966069996356,
          0.2453497946262359,
          0.2021219879388809,
          0.4590844511985779,
          0.1318046450614929,
          0.0677712634205818,
          0.1905619800090789,
          0.1507777422666549,
          0.3522094786167145,
          0.1534124910831451,
          0.0613475739955902,
          0.1621603518724441,
          0.270870178937912,
          0.2564135491847992,
          0.1923506706953048,
          0.1213953420519828,
          0.196650892496109,
          0.2331895381212234,
          0.1992019414901733,
          0.1998269259929657,
          0.162911370396614,
          0.21580471098423,
          0.2222550362348556,
          0.1469128131866455,
          0.0442440770566463,
          0.0137458341196179,
          0.3082045912742615,
          0.4868927299976349,
          0.3546679615974426,
          0.1544041633605957,
          0.1459179371595382,
          0.1832892000675201,
          0.1617207527160644,
          0.3176023066043854,
          0.1207064390182495,
          0.137290820479393,
          0.2262132167816162,
          0.1981872171163559,
          0.235403224825859,
          0.1695498526096344,
          0.1185489520430564,
          0.2074512541294098,
          0.2690467536449432,
          0.265918880701065,
          0.2618824541568756,
          0.0856404528021812,
          0.1937536299228668,
          0.192804530262947,
          0.3564044237136841,
          0.1345686465501785,
          0.0646340101957321,
          0.2174935936927795,
          0.2268993407487869,
          0.2103703171014785,
          0.2187693864107132,
          0.1146709844470024,
          0.2364151030778885,
          0.2197742313146591,
          0.2936970889568329,
          0.1813750267028808,
          0.1195328310132026,
          0.2207388132810592,
          0.1846563220024109,
          0.3052448630332947,
          0.1666322499513626,
          0.0933243334293365,
          0.2693052291870117,
          0.1654933243989944,
          0.257261574268341,
          0.1796179413795471,
          0.0652623623609542,
          0.2325137108564376,
          0.2653444111347198,
          0.3128083944320678,
          0.2270803898572921,
          0.0436561107635498,
          0.1881952434778213,
          0.2282599061727523,
          0.3154234588146209,
          0.2192700654268264,
          0.0517401210963726,
          0.2384630292654037,
          0.1751033216714859,
          0.281462013721466,
          0.2567347586154938,
          0.1183967217803001,
          0.1713983118534088,
          0.172008141875267,
          0.2609411478042602,
          0.1782104223966598,
          0.1455601751804351,
          0.2207399010658264,
          0.1945483088493347,
          0.204001098871231,
          0.2183452695608139,
          0.0142045998945832,
          0.2860311567783355,
          0.2774178087711334,
          0.3011332154273987,
          0.1958506107330322,
          0.0609594136476516,
          0.1723295152187347,
          0.2697272300720215,
          0.3540019690990448,
          0.1385604739189148,
          0.153286337852478,
          0.1845041960477829,
          0.1696469783782959,
          0.4844344854354858,
          0.1431017369031906,
          0.0530891343951225,
          0.1969743818044662,
          0.1224003061652183,
          0.2578417360782623,
          0.1985359787940979,
          0.1531428545713424,
          0.2018287926912307,
          0.1886506676673889,
          0.2577787637710571,
          0.1710304468870163,
          0.0424360670149326,
          0.2657317817211151,
          0.2630229294300079,
          0.2957286536693573,
          0.2032393962144851,
          0.1551255881786346,
          0.2155042737722396,
          0.1304021030664444,
          0.3046111166477203,
          0.2271130234003067,
          0.059932354837656,
          0.1881893575191497,
          0.2201541513204574,
          0.1361060738563537,
          0.2641184031963348,
          0.0448154136538505,
          0.341550201177597,
          0.2134099304676056,
          0.2586303055286407,
          0.2162742614746093,
          0.0734948813915252,
          0.178605705499649,
          0.2729948461055755,
          0.262855052947998,
          0.2022788077592849,
          0.1317953765392303,
          0.1972105801105499,
          0.2058601528406143,
          0.3589620590209961,
          0.1881182938814163,
          0.0680722892284393,
          0.1409851759672165,
          0.2438621073961258,
          0.3303603529930115,
          0.2309527397155761,
          0.0386990308761596,
          0.1790402680635452,
          0.220947653055191,
          0.2920756936073303,
          0.1485055536031723,
          0.078366994857788,
          0.2635778784751892,
          0.2174738198518753,
          0.3092426359653473,
          0.1847359240055084,
          0.0478068068623542,
          0.2785590291023254,
          0.1796555966138839,
          0.2759756743907928,
          0.2260195612907409,
          0.0466939993202686,
          0.1592053771018982,
          0.2921053171157837,
          0.2313194870948791,
          0.18809774518013,
          0.1453533619642257,
          0.1800454407930374,
          0.2551839649677276,
          0.3538145422935486,
          0.2009992450475692,
          0.0964117720723152,
          0.1667288541793823,
          0.182045578956604,
          0.2579312920570373,
          0.1778267174959182,
          0.1398711502552032,
          0.2492201775312423,
          0.1751506030559539,
          0.2814030051231384,
          0.1931255906820297,
          0.0546714216470718,
          0.2562920451164245,
          0.2145079225301742,
          0.2603960931301117,
          0.2049978077411651,
          0.119244284927845,
          0.1838046908378601,
          0.2315571308135986,
          0.1716018170118332,
          0.2257553339004516,
          0.0712952688336372,
          0.12836953997612,
          0.4029780030250549,
          0.3671208024024963,
          0.1154544800519943,
          0.0476425848901271,
          0.2045854330062866,
          0.2651967406272888,
          0.3804562985897064,
          0.1907578706741333,
          0.0709194242954254,
          0.176645815372467,
          0.181220605969429,
          0.3442919254302978,
          0.1449477076530456,
          0.1093845069408416,
          0.236914113163948,
          0.1644617915153503,
          0.4271990656852722,
          0.1108394116163253,
          0.1089241877198219,
          0.1618001759052276,
          0.1912371665239334,
          0.2939696311950683,
          0.1660996973514557,
          0.0510750822722911,
          0.192602276802063,
          0.2962532341480255,
          0.2526452541351318,
          0.1938932836055755,
          0.2000907361507415,
          0.1694440096616745,
          0.1839266866445541,
          0.283905953168869,
          0.1778941452503204,
          0.183852419257164,
          0.098903939127922,
          0.2554435729980469,
          0.2300601005554199,
          0.1854093223810196,
          0.1245978325605392,
          0.1580100506544113,
          0.3019227385520935,
          0.3287214040756225,
          0.2197911143302917,
          0.0889642834663391,
          0.1478125751018524,
          0.2147107124328613,
          0.2787400782108307,
          0.127303659915924,
          0.1105849742889404,
          0.1768430024385452,
          0.3065283596515655,
          0.3080329000949859,
          0.2196117788553238,
          0.0575709082186222,
          0.1315936297178268,
          0.2831907868385315,
          0.2905075848102569,
          0.12835693359375,
          0.1312061697244644,
          0.2456855326890945,
          0.2042438387870788,
          0.3049603402614593,
          0.1469869762659073,
          0.1196052208542823,
          0.2401561290025711,
          0.1882913261651992,
          0.1581214666366577,
          0.1501937061548233,
          0.1143856197595596,
          0.2087297439575195,
          0.3685694932937622,
          0.2961293458938598,
          0.15740767121315,
          0.0663035213947296,
          0.2176629602909088,
          0.2624964714050293,
          0.3115815818309784,
          0.2651827931404114,
          0.104553535580635,
          0.1888178139925003,
          0.1298642605543136,
          0.311314970254898,
          0.1944018900394439,
          0.0609250962734222,
          0.2056406140327453,
          0.2277173995971679,
          0.2247772514820099,
          0.2267500907182693,
          0.0832700654864311,
          0.2495380640029907,
          0.2156645208597183,
          0.2561188340187073,
          0.2276665419340133,
          0.1014498323202133,
          0.1931435912847519,
          0.2216212004423141,
          0.6944990158081055,
          0.0572017915546894,
          0.0263489112257957,
          0.0925932005047798,
          0.1293570399284362,
          0.3380797207355499,
          0.1615283042192459,
          0.058694738894701,
          0.1769894659519195,
          0.2647078037261963,
          0.298772931098938,
          0.2102086842060089,
          0.0884194746613502,
          0.2036190629005432,
          0.198979765176773,
          0.2476188987493515,
          0.2017716020345688,
          0.0820487663149833,
          0.2639303505420685,
          0.2046303451061248,
          0.324118047952652,
          0.2061441391706466,
          0.0773950293660163,
          0.1750264167785644,
          0.2173162996768951,
          0.3696164488792419,
          0.1822672039270401,
          0.0381705202162265,
          0.1546910256147384,
          0.2552548050880432,
          0.3659659028053283,
          0.2197176665067672,
          0.0756936743855476,
          0.1835657954216003,
          0.1550569832324981,
          0.3131616413593292,
          0.1830106973648071,
          0.1013853177428245,
          0.2192831635475158,
          0.183159127831459,
          0.3119750618934631,
          0.2322798371315002,
          0.0812614113092422,
          0.2043886482715606,
          0.1700950115919113,
          0.2870954275131225,
          0.229597732424736,
          0.0687350630760192,
          0.1947677284479141,
          0.2198040038347244,
          0.2739381194114685,
          0.220195785164833,
          0.0884298384189605,
          0.1845687478780746,
          0.2328675985336303
         ],
         "y0": " ",
         "yaxis": "y"
        },
        {
         "alignmentgroup": "True",
         "boxpoints": "all",
         "hovertemplate": "Report Type=DE<br>Zero Shot Fulltext=%{y}<extra></extra>",
         "legendgroup": "DE",
         "marker": {
          "color": "#EF553B"
         },
         "name": "DE",
         "notched": false,
         "offsetgroup": "DE",
         "orientation": "v",
         "showlegend": true,
         "type": "box",
         "x0": " ",
         "xaxis": "x",
         "y": [
          0.2918977439403534,
          0.2292515933513641,
          0.0891978219151496,
          0.2257017791271209,
          0.1639510095119476,
          0.3721352517604828,
          0.1255407035350799,
          0.1537331640720367,
          0.0875843167304992,
          0.2610065937042236,
          0.1703296154737472,
          0.2006480097770691,
          0.1539040952920913,
          0.2313641309738159,
          0.2437541335821151,
          0.207946628332138,
          0.2254245430231094,
          0.1350813210010528,
          0.1306561231613159,
          0.3008913397789001
         ],
         "y0": " ",
         "yaxis": "y"
        },
        {
         "alignmentgroup": "True",
         "boxpoints": "all",
         "hovertemplate": "Report Type=Fake<br>Zero Shot Fulltext=%{y}<extra></extra>",
         "legendgroup": "Fake",
         "marker": {
          "color": "#00cc96"
         },
         "name": "Fake",
         "notched": false,
         "offsetgroup": "Fake",
         "orientation": "v",
         "showlegend": true,
         "type": "box",
         "x0": " ",
         "xaxis": "x",
         "y": [
          0.2664543390274048,
          0.2110539823770523,
          0.0398722998797893,
          0.2180371731519699,
          0.2645822167396545,
          0.2686576247215271,
          0.2362363785505294,
          0.0874708816409111,
          0.1333933621644973,
          0.2742417454719543,
          0.2058963030576706,
          0.2007921487092971,
          0.0872723385691642,
          0.2347771823406219,
          0.2712620198726654,
          0.2245530039072036,
          0.1704703867435455,
          0.0312880724668502,
          0.2345487773418426,
          0.3391397297382355,
          0.2447177469730377,
          0.2318690568208694,
          0.1164464205503463,
          0.2295010536909103,
          0.1774656623601913
         ],
         "y0": " ",
         "yaxis": "y"
        }
       ],
       "layout": {
        "boxmode": "group",
        "legend": {
         "title": {
          "text": "Report Type"
         },
         "tracegroupgap": 0
        },
        "margin": {
         "t": 60
        },
        "template": {
         "data": {
          "bar": [
           {
            "error_x": {
             "color": "#2a3f5f"
            },
            "error_y": {
             "color": "#2a3f5f"
            },
            "marker": {
             "line": {
              "color": "#E5ECF6",
              "width": 0.5
             },
             "pattern": {
              "fillmode": "overlay",
              "size": 10,
              "solidity": 0.2
             }
            },
            "type": "bar"
           }
          ],
          "barpolar": [
           {
            "marker": {
             "line": {
              "color": "#E5ECF6",
              "width": 0.5
             },
             "pattern": {
              "fillmode": "overlay",
              "size": 10,
              "solidity": 0.2
             }
            },
            "type": "barpolar"
           }
          ],
          "carpet": [
           {
            "aaxis": {
             "endlinecolor": "#2a3f5f",
             "gridcolor": "white",
             "linecolor": "white",
             "minorgridcolor": "white",
             "startlinecolor": "#2a3f5f"
            },
            "baxis": {
             "endlinecolor": "#2a3f5f",
             "gridcolor": "white",
             "linecolor": "white",
             "minorgridcolor": "white",
             "startlinecolor": "#2a3f5f"
            },
            "type": "carpet"
           }
          ],
          "choropleth": [
           {
            "colorbar": {
             "outlinewidth": 0,
             "ticks": ""
            },
            "type": "choropleth"
           }
          ],
          "contour": [
           {
            "colorbar": {
             "outlinewidth": 0,
             "ticks": ""
            },
            "colorscale": [
             [
              0,
              "#0d0887"
             ],
             [
              0.1111111111111111,
              "#46039f"
             ],
             [
              0.2222222222222222,
              "#7201a8"
             ],
             [
              0.3333333333333333,
              "#9c179e"
             ],
             [
              0.4444444444444444,
              "#bd3786"
             ],
             [
              0.5555555555555556,
              "#d8576b"
             ],
             [
              0.6666666666666666,
              "#ed7953"
             ],
             [
              0.7777777777777778,
              "#fb9f3a"
             ],
             [
              0.8888888888888888,
              "#fdca26"
             ],
             [
              1,
              "#f0f921"
             ]
            ],
            "type": "contour"
           }
          ],
          "contourcarpet": [
           {
            "colorbar": {
             "outlinewidth": 0,
             "ticks": ""
            },
            "type": "contourcarpet"
           }
          ],
          "heatmap": [
           {
            "colorbar": {
             "outlinewidth": 0,
             "ticks": ""
            },
            "colorscale": [
             [
              0,
              "#0d0887"
             ],
             [
              0.1111111111111111,
              "#46039f"
             ],
             [
              0.2222222222222222,
              "#7201a8"
             ],
             [
              0.3333333333333333,
              "#9c179e"
             ],
             [
              0.4444444444444444,
              "#bd3786"
             ],
             [
              0.5555555555555556,
              "#d8576b"
             ],
             [
              0.6666666666666666,
              "#ed7953"
             ],
             [
              0.7777777777777778,
              "#fb9f3a"
             ],
             [
              0.8888888888888888,
              "#fdca26"
             ],
             [
              1,
              "#f0f921"
             ]
            ],
            "type": "heatmap"
           }
          ],
          "heatmapgl": [
           {
            "colorbar": {
             "outlinewidth": 0,
             "ticks": ""
            },
            "colorscale": [
             [
              0,
              "#0d0887"
             ],
             [
              0.1111111111111111,
              "#46039f"
             ],
             [
              0.2222222222222222,
              "#7201a8"
             ],
             [
              0.3333333333333333,
              "#9c179e"
             ],
             [
              0.4444444444444444,
              "#bd3786"
             ],
             [
              0.5555555555555556,
              "#d8576b"
             ],
             [
              0.6666666666666666,
              "#ed7953"
             ],
             [
              0.7777777777777778,
              "#fb9f3a"
             ],
             [
              0.8888888888888888,
              "#fdca26"
             ],
             [
              1,
              "#f0f921"
             ]
            ],
            "type": "heatmapgl"
           }
          ],
          "histogram": [
           {
            "marker": {
             "pattern": {
              "fillmode": "overlay",
              "size": 10,
              "solidity": 0.2
             }
            },
            "type": "histogram"
           }
          ],
          "histogram2d": [
           {
            "colorbar": {
             "outlinewidth": 0,
             "ticks": ""
            },
            "colorscale": [
             [
              0,
              "#0d0887"
             ],
             [
              0.1111111111111111,
              "#46039f"
             ],
             [
              0.2222222222222222,
              "#7201a8"
             ],
             [
              0.3333333333333333,
              "#9c179e"
             ],
             [
              0.4444444444444444,
              "#bd3786"
             ],
             [
              0.5555555555555556,
              "#d8576b"
             ],
             [
              0.6666666666666666,
              "#ed7953"
             ],
             [
              0.7777777777777778,
              "#fb9f3a"
             ],
             [
              0.8888888888888888,
              "#fdca26"
             ],
             [
              1,
              "#f0f921"
             ]
            ],
            "type": "histogram2d"
           }
          ],
          "histogram2dcontour": [
           {
            "colorbar": {
             "outlinewidth": 0,
             "ticks": ""
            },
            "colorscale": [
             [
              0,
              "#0d0887"
             ],
             [
              0.1111111111111111,
              "#46039f"
             ],
             [
              0.2222222222222222,
              "#7201a8"
             ],
             [
              0.3333333333333333,
              "#9c179e"
             ],
             [
              0.4444444444444444,
              "#bd3786"
             ],
             [
              0.5555555555555556,
              "#d8576b"
             ],
             [
              0.6666666666666666,
              "#ed7953"
             ],
             [
              0.7777777777777778,
              "#fb9f3a"
             ],
             [
              0.8888888888888888,
              "#fdca26"
             ],
             [
              1,
              "#f0f921"
             ]
            ],
            "type": "histogram2dcontour"
           }
          ],
          "mesh3d": [
           {
            "colorbar": {
             "outlinewidth": 0,
             "ticks": ""
            },
            "type": "mesh3d"
           }
          ],
          "parcoords": [
           {
            "line": {
             "colorbar": {
              "outlinewidth": 0,
              "ticks": ""
             }
            },
            "type": "parcoords"
           }
          ],
          "pie": [
           {
            "automargin": true,
            "type": "pie"
           }
          ],
          "scatter": [
           {
            "fillpattern": {
             "fillmode": "overlay",
             "size": 10,
             "solidity": 0.2
            },
            "type": "scatter"
           }
          ],
          "scatter3d": [
           {
            "line": {
             "colorbar": {
              "outlinewidth": 0,
              "ticks": ""
             }
            },
            "marker": {
             "colorbar": {
              "outlinewidth": 0,
              "ticks": ""
             }
            },
            "type": "scatter3d"
           }
          ],
          "scattercarpet": [
           {
            "marker": {
             "colorbar": {
              "outlinewidth": 0,
              "ticks": ""
             }
            },
            "type": "scattercarpet"
           }
          ],
          "scattergeo": [
           {
            "marker": {
             "colorbar": {
              "outlinewidth": 0,
              "ticks": ""
             }
            },
            "type": "scattergeo"
           }
          ],
          "scattergl": [
           {
            "marker": {
             "colorbar": {
              "outlinewidth": 0,
              "ticks": ""
             }
            },
            "type": "scattergl"
           }
          ],
          "scattermapbox": [
           {
            "marker": {
             "colorbar": {
              "outlinewidth": 0,
              "ticks": ""
             }
            },
            "type": "scattermapbox"
           }
          ],
          "scatterpolar": [
           {
            "marker": {
             "colorbar": {
              "outlinewidth": 0,
              "ticks": ""
             }
            },
            "type": "scatterpolar"
           }
          ],
          "scatterpolargl": [
           {
            "marker": {
             "colorbar": {
              "outlinewidth": 0,
              "ticks": ""
             }
            },
            "type": "scatterpolargl"
           }
          ],
          "scatterternary": [
           {
            "marker": {
             "colorbar": {
              "outlinewidth": 0,
              "ticks": ""
             }
            },
            "type": "scatterternary"
           }
          ],
          "surface": [
           {
            "colorbar": {
             "outlinewidth": 0,
             "ticks": ""
            },
            "colorscale": [
             [
              0,
              "#0d0887"
             ],
             [
              0.1111111111111111,
              "#46039f"
             ],
             [
              0.2222222222222222,
              "#7201a8"
             ],
             [
              0.3333333333333333,
              "#9c179e"
             ],
             [
              0.4444444444444444,
              "#bd3786"
             ],
             [
              0.5555555555555556,
              "#d8576b"
             ],
             [
              0.6666666666666666,
              "#ed7953"
             ],
             [
              0.7777777777777778,
              "#fb9f3a"
             ],
             [
              0.8888888888888888,
              "#fdca26"
             ],
             [
              1,
              "#f0f921"
             ]
            ],
            "type": "surface"
           }
          ],
          "table": [
           {
            "cells": {
             "fill": {
              "color": "#EBF0F8"
             },
             "line": {
              "color": "white"
             }
            },
            "header": {
             "fill": {
              "color": "#C8D4E3"
             },
             "line": {
              "color": "white"
             }
            },
            "type": "table"
           }
          ]
         },
         "layout": {
          "annotationdefaults": {
           "arrowcolor": "#2a3f5f",
           "arrowhead": 0,
           "arrowwidth": 1
          },
          "autotypenumbers": "strict",
          "coloraxis": {
           "colorbar": {
            "outlinewidth": 0,
            "ticks": ""
           }
          },
          "colorscale": {
           "diverging": [
            [
             0,
             "#8e0152"
            ],
            [
             0.1,
             "#c51b7d"
            ],
            [
             0.2,
             "#de77ae"
            ],
            [
             0.3,
             "#f1b6da"
            ],
            [
             0.4,
             "#fde0ef"
            ],
            [
             0.5,
             "#f7f7f7"
            ],
            [
             0.6,
             "#e6f5d0"
            ],
            [
             0.7,
             "#b8e186"
            ],
            [
             0.8,
             "#7fbc41"
            ],
            [
             0.9,
             "#4d9221"
            ],
            [
             1,
             "#276419"
            ]
           ],
           "sequential": [
            [
             0,
             "#0d0887"
            ],
            [
             0.1111111111111111,
             "#46039f"
            ],
            [
             0.2222222222222222,
             "#7201a8"
            ],
            [
             0.3333333333333333,
             "#9c179e"
            ],
            [
             0.4444444444444444,
             "#bd3786"
            ],
            [
             0.5555555555555556,
             "#d8576b"
            ],
            [
             0.6666666666666666,
             "#ed7953"
            ],
            [
             0.7777777777777778,
             "#fb9f3a"
            ],
            [
             0.8888888888888888,
             "#fdca26"
            ],
            [
             1,
             "#f0f921"
            ]
           ],
           "sequentialminus": [
            [
             0,
             "#0d0887"
            ],
            [
             0.1111111111111111,
             "#46039f"
            ],
            [
             0.2222222222222222,
             "#7201a8"
            ],
            [
             0.3333333333333333,
             "#9c179e"
            ],
            [
             0.4444444444444444,
             "#bd3786"
            ],
            [
             0.5555555555555556,
             "#d8576b"
            ],
            [
             0.6666666666666666,
             "#ed7953"
            ],
            [
             0.7777777777777778,
             "#fb9f3a"
            ],
            [
             0.8888888888888888,
             "#fdca26"
            ],
            [
             1,
             "#f0f921"
            ]
           ]
          },
          "colorway": [
           "#636efa",
           "#EF553B",
           "#00cc96",
           "#ab63fa",
           "#FFA15A",
           "#19d3f3",
           "#FF6692",
           "#B6E880",
           "#FF97FF",
           "#FECB52"
          ],
          "font": {
           "color": "#2a3f5f"
          },
          "geo": {
           "bgcolor": "white",
           "lakecolor": "white",
           "landcolor": "#E5ECF6",
           "showlakes": true,
           "showland": true,
           "subunitcolor": "white"
          },
          "hoverlabel": {
           "align": "left"
          },
          "hovermode": "closest",
          "mapbox": {
           "style": "light"
          },
          "paper_bgcolor": "white",
          "plot_bgcolor": "#E5ECF6",
          "polar": {
           "angularaxis": {
            "gridcolor": "white",
            "linecolor": "white",
            "ticks": ""
           },
           "bgcolor": "#E5ECF6",
           "radialaxis": {
            "gridcolor": "white",
            "linecolor": "white",
            "ticks": ""
           }
          },
          "scene": {
           "xaxis": {
            "backgroundcolor": "#E5ECF6",
            "gridcolor": "white",
            "gridwidth": 2,
            "linecolor": "white",
            "showbackground": true,
            "ticks": "",
            "zerolinecolor": "white"
           },
           "yaxis": {
            "backgroundcolor": "#E5ECF6",
            "gridcolor": "white",
            "gridwidth": 2,
            "linecolor": "white",
            "showbackground": true,
            "ticks": "",
            "zerolinecolor": "white"
           },
           "zaxis": {
            "backgroundcolor": "#E5ECF6",
            "gridcolor": "white",
            "gridwidth": 2,
            "linecolor": "white",
            "showbackground": true,
            "ticks": "",
            "zerolinecolor": "white"
           }
          },
          "shapedefaults": {
           "line": {
            "color": "#2a3f5f"
           }
          },
          "ternary": {
           "aaxis": {
            "gridcolor": "white",
            "linecolor": "white",
            "ticks": ""
           },
           "baxis": {
            "gridcolor": "white",
            "linecolor": "white",
            "ticks": ""
           },
           "bgcolor": "#E5ECF6",
           "caxis": {
            "gridcolor": "white",
            "linecolor": "white",
            "ticks": ""
           }
          },
          "title": {
           "x": 0.05
          },
          "xaxis": {
           "automargin": true,
           "gridcolor": "white",
           "linecolor": "white",
           "ticks": "",
           "title": {
            "standoff": 15
           },
           "zerolinecolor": "white",
           "zerolinewidth": 2
          },
          "yaxis": {
           "automargin": true,
           "gridcolor": "white",
           "linecolor": "white",
           "ticks": "",
           "title": {
            "standoff": 15
           },
           "zerolinecolor": "white",
           "zerolinewidth": 2
          }
         }
        },
        "width": 900,
        "xaxis": {
         "anchor": "y",
         "domain": [
          0,
          1
         ]
        },
        "yaxis": {
         "anchor": "x",
         "domain": [
          0,
          1
         ],
         "title": {
          "text": "Zero Shot Fulltext"
         }
        }
       }
      }
     },
     "metadata": {},
     "output_type": "display_data"
    }
   ],
   "source": [
    "fig = px.box(result, y=\"Zero Shot Fulltext\", points=\"all\", width=900, color=\"Report Type\")\n",
    "fig.show()"
   ]
  },
  {
   "cell_type": "code",
   "execution_count": null,
   "metadata": {},
   "outputs": [
    {
     "data": {
      "application/vnd.plotly.v1+json": {
       "config": {
        "plotlyServerURL": "https://plot.ly"
       },
       "data": [
        {
         "alignmentgroup": "True",
         "bingroup": "x",
         "hovertemplate": "Zero Shot Fulltext=%{x}<br>count=%{y}<extra></extra>",
         "legendgroup": "",
         "marker": {
          "color": "#636efa",
          "pattern": {
           "shape": ""
          }
         },
         "name": "",
         "offsetgroup": "",
         "orientation": "v",
         "showlegend": false,
         "type": "histogram",
         "x": [
          0.2422610074281692,
          0.2152930498123169,
          0.0656460970640182,
          0.2505688965320587,
          0.2262309044599533,
          0.2755100131034851,
          0.1939961165189743,
          0.1468869149684906,
          0.2035748958587646,
          0.1800320148468017,
          0.2325430065393448,
          0.2296200692653656,
          0.0290340203791856,
          0.2049544900655746,
          0.3038484454154968,
          0.2774017453193664,
          0.1144607216119766,
          0.0761402994394302,
          0.2732843160629272,
          0.2587129175662994,
          0.3262344598770141,
          0.1899631768465042,
          0.088610365986824,
          0.1775659471750259,
          0.2176260501146316,
          0.2838029265403747,
          0.1774022579193115,
          0.094224989414215,
          0.2025396078824997,
          0.2420301884412765,
          0.3226491510868072,
          0.2103051990270614,
          0.1255590617656707,
          0.157782182097435,
          0.1837044358253479,
          0.2614049613475799,
          0.1643752306699752,
          0.0898233652114868,
          0.2862432301044464,
          0.1981531977653503,
          0.3033963739871979,
          0.2183169275522232,
          0.0726864635944366,
          0.2547706365585327,
          0.1508295834064483,
          0.3595947623252868,
          0.1536487489938736,
          0.0851592421531677,
          0.2121735513210296,
          0.1894236952066421,
          0.3808757364749908,
          0.1798262447118759,
          0.1421459913253784,
          0.1491464525461197,
          0.1480055898427963,
          0.239758625626564,
          0.2239198088645935,
          0.044093232601881,
          0.2534562945365906,
          0.2387720793485641,
          0.2977005839347839,
          0.1306955814361572,
          0.0682671964168548,
          0.2194368988275528,
          0.2838996946811676,
          0.3277174532413482,
          0.1864126026630401,
          0.1085445210337638,
          0.2215171158313751,
          0.1558082848787307,
          0.2501050531864166,
          0.1813988536596298,
          0.1272762715816497,
          0.1285329014062881,
          0.3126868903636932,
          0.2522205412387848,
          0.1350641399621963,
          0.087611585855484,
          0.2217833995819091,
          0.3033203780651092,
          0.2776872217655182,
          0.1974674016237259,
          0.0652693063020706,
          0.1960902363061905,
          0.2634859085083008,
          0.261933833360672,
          0.242390751838684,
          0.1047623232007026,
          0.1716848015785217,
          0.2192283123731613,
          0.2548901438713074,
          0.2563245892524719,
          0.0390478745102882,
          0.1943769454956054,
          0.25536048412323,
          0.3765555024147033,
          0.2426569014787674,
          0.0742003545165062,
          0.0663586407899856,
          0.2402286231517791,
          0.3008886277675628,
          0.1446606218814849,
          0.0940709635615348,
          0.2438423484563827,
          0.2165374457836151,
          0.5001320838928223,
          0.1408428400754928,
          0.0435758009552955,
          0.1593820601701736,
          0.1560671329498291,
          0.2709157466888428,
          0.1683832854032516,
          0.10578203946352,
          0.2182244807481765,
          0.2366943806409835,
          0.249729111790657,
          0.2200469374656677,
          0.1110946983098983,
          0.2082842737436294,
          0.2108449637889862,
          0.280646800994873,
          0.1903405934572219,
          0.0920817032456398,
          0.2127655744552612,
          0.2241653203964233,
          0.4056530892848968,
          0.1870989948511123,
          0.0521210469305515,
          0.107210449874401,
          0.2479164153337478,
          0.2479118853807449,
          0.2423049509525299,
          0.0414882861077785,
          0.2223612815141677,
          0.2459336072206497,
          0.2120823413133621,
          0.2380188554525375,
          0.0348908938467502,
          0.2167284190654754,
          0.2982795536518097,
          0.3638359308242798,
          0.1994417905807495,
          0.1377527415752411,
          0.1663465499877929,
          0.1326229721307754,
          0.3631477355957031,
          0.1328870058059692,
          0.0789025276899337,
          0.1850870996713638,
          0.2399756908416748,
          0.2917154133319855,
          0.1957510560750961,
          0.0798672437667846,
          0.1549521684646606,
          0.2777140438556671,
          0.7696591019630432,
          0.0459679290652275,
          0.0196657963097095,
          0.044289544224739,
          0.1204176247119903,
          0.3522093892097473,
          0.1554633975028991,
          0.0516640692949295,
          0.2153791785240173,
          0.2252839803695678,
          0.2635453939437866,
          0.1899312287569046,
          0.129283607006073,
          0.1919509172439575,
          0.2252888530492782,
          0.3828398883342743,
          0.1473801583051681,
          0.1004441231489181,
          0.1404090374708175,
          0.2289267927408218,
          0.2434425055980682,
          0.2165676355361938,
          0.0624621883034706,
          0.2759936153888702,
          0.2015339881181717,
          0.2872568666934967,
          0.2543060481548309,
          0.0501071028411388,
          0.2479011118412017,
          0.1604288667440414,
          0.3427613973617553,
          0.1586702615022659,
          0.0510966069996356,
          0.2453497946262359,
          0.2021219879388809,
          0.4590844511985779,
          0.1318046450614929,
          0.0677712634205818,
          0.1905619800090789,
          0.1507777422666549,
          0.3522094786167145,
          0.1534124910831451,
          0.0613475739955902,
          0.1621603518724441,
          0.270870178937912,
          0.2564135491847992,
          0.1923506706953048,
          0.1213953420519828,
          0.196650892496109,
          0.2331895381212234,
          0.1992019414901733,
          0.1998269259929657,
          0.162911370396614,
          0.21580471098423,
          0.2222550362348556,
          0.1469128131866455,
          0.0442440770566463,
          0.0137458341196179,
          0.3082045912742615,
          0.4868927299976349,
          0.3546679615974426,
          0.1544041633605957,
          0.1459179371595382,
          0.1832892000675201,
          0.1617207527160644,
          0.3176023066043854,
          0.1207064390182495,
          0.137290820479393,
          0.2262132167816162,
          0.1981872171163559,
          0.235403224825859,
          0.1695498526096344,
          0.1185489520430564,
          0.2074512541294098,
          0.2690467536449432,
          0.265918880701065,
          0.2618824541568756,
          0.0856404528021812,
          0.1937536299228668,
          0.192804530262947,
          0.3564044237136841,
          0.1345686465501785,
          0.0646340101957321,
          0.2174935936927795,
          0.2268993407487869,
          0.2103703171014785,
          0.2187693864107132,
          0.1146709844470024,
          0.2364151030778885,
          0.2197742313146591,
          0.2936970889568329,
          0.1813750267028808,
          0.1195328310132026,
          0.2207388132810592,
          0.1846563220024109,
          0.3052448630332947,
          0.1666322499513626,
          0.0933243334293365,
          0.2693052291870117,
          0.1654933243989944,
          0.257261574268341,
          0.1796179413795471,
          0.0652623623609542,
          0.2325137108564376,
          0.2653444111347198,
          0.3128083944320678,
          0.2270803898572921,
          0.0436561107635498,
          0.1881952434778213,
          0.2282599061727523,
          0.3154234588146209,
          0.2192700654268264,
          0.0517401210963726,
          0.2384630292654037,
          0.1751033216714859,
          0.281462013721466,
          0.2567347586154938,
          0.1183967217803001,
          0.1713983118534088,
          0.172008141875267,
          0.2609411478042602,
          0.1782104223966598,
          0.1455601751804351,
          0.2207399010658264,
          0.1945483088493347,
          0.204001098871231,
          0.2183452695608139,
          0.0142045998945832,
          0.2860311567783355,
          0.2774178087711334,
          0.3011332154273987,
          0.1958506107330322,
          0.0609594136476516,
          0.1723295152187347,
          0.2697272300720215,
          0.3540019690990448,
          0.1385604739189148,
          0.153286337852478,
          0.1845041960477829,
          0.1696469783782959,
          0.4844344854354858,
          0.1431017369031906,
          0.0530891343951225,
          0.1969743818044662,
          0.1224003061652183,
          0.2578417360782623,
          0.1985359787940979,
          0.1531428545713424,
          0.2018287926912307,
          0.1886506676673889,
          0.2577787637710571,
          0.1710304468870163,
          0.0424360670149326,
          0.2657317817211151,
          0.2630229294300079,
          0.2957286536693573,
          0.2032393962144851,
          0.1551255881786346,
          0.2155042737722396,
          0.1304021030664444,
          0.3046111166477203,
          0.2271130234003067,
          0.059932354837656,
          0.1881893575191497,
          0.2201541513204574,
          0.1361060738563537,
          0.2641184031963348,
          0.0448154136538505,
          0.341550201177597,
          0.2134099304676056,
          0.2586303055286407,
          0.2162742614746093,
          0.0734948813915252,
          0.178605705499649,
          0.2729948461055755,
          0.262855052947998,
          0.2022788077592849,
          0.1317953765392303,
          0.1972105801105499,
          0.2058601528406143,
          0.3589620590209961,
          0.1881182938814163,
          0.0680722892284393,
          0.1409851759672165,
          0.2438621073961258,
          0.3303603529930115,
          0.2309527397155761,
          0.0386990308761596,
          0.1790402680635452,
          0.220947653055191,
          0.2920756936073303,
          0.1485055536031723,
          0.078366994857788,
          0.2635778784751892,
          0.2174738198518753,
          0.3092426359653473,
          0.1847359240055084,
          0.0478068068623542,
          0.2785590291023254,
          0.1796555966138839,
          0.2759756743907928,
          0.2260195612907409,
          0.0466939993202686,
          0.1592053771018982,
          0.2921053171157837,
          0.2313194870948791,
          0.18809774518013,
          0.1453533619642257,
          0.1800454407930374,
          0.2551839649677276,
          0.3538145422935486,
          0.2009992450475692,
          0.0964117720723152,
          0.1667288541793823,
          0.182045578956604,
          0.2579312920570373,
          0.1778267174959182,
          0.1398711502552032,
          0.2492201775312423,
          0.1751506030559539,
          0.2814030051231384,
          0.1931255906820297,
          0.0546714216470718,
          0.2562920451164245,
          0.2145079225301742,
          0.2603960931301117,
          0.2049978077411651,
          0.119244284927845,
          0.1838046908378601,
          0.2315571308135986,
          0.1716018170118332,
          0.2257553339004516,
          0.0712952688336372,
          0.12836953997612,
          0.4029780030250549,
          0.3671208024024963,
          0.1154544800519943,
          0.0476425848901271,
          0.2045854330062866,
          0.2651967406272888,
          0.3804562985897064,
          0.1907578706741333,
          0.0709194242954254,
          0.176645815372467,
          0.181220605969429,
          0.3442919254302978,
          0.1449477076530456,
          0.1093845069408416,
          0.236914113163948,
          0.1644617915153503,
          0.2918977439403534,
          0.2292515933513641,
          0.0891978219151496,
          0.2257017791271209,
          0.1639510095119476,
          0.4271990656852722,
          0.1108394116163253,
          0.1089241877198219,
          0.1618001759052276,
          0.1912371665239334,
          0.2939696311950683,
          0.1660996973514557,
          0.0510750822722911,
          0.192602276802063,
          0.2962532341480255,
          0.3721352517604828,
          0.1255407035350799,
          0.1537331640720367,
          0.0875843167304992,
          0.2610065937042236,
          0.2526452541351318,
          0.1938932836055755,
          0.2000907361507415,
          0.1694440096616745,
          0.1839266866445541,
          0.283905953168869,
          0.1778941452503204,
          0.183852419257164,
          0.098903939127922,
          0.2554435729980469,
          0.2300601005554199,
          0.1854093223810196,
          0.1245978325605392,
          0.1580100506544113,
          0.3019227385520935,
          0.3287214040756225,
          0.2197911143302917,
          0.0889642834663391,
          0.1478125751018524,
          0.2147107124328613,
          0.1703296154737472,
          0.2006480097770691,
          0.1539040952920913,
          0.2313641309738159,
          0.2437541335821151,
          0.207946628332138,
          0.2254245430231094,
          0.1350813210010528,
          0.1306561231613159,
          0.3008913397789001,
          0.2787400782108307,
          0.127303659915924,
          0.1105849742889404,
          0.1768430024385452,
          0.3065283596515655,
          0.3080329000949859,
          0.2196117788553238,
          0.0575709082186222,
          0.1315936297178268,
          0.2831907868385315,
          0.2905075848102569,
          0.12835693359375,
          0.1312061697244644,
          0.2456855326890945,
          0.2042438387870788,
          0.3049603402614593,
          0.1469869762659073,
          0.1196052208542823,
          0.2401561290025711,
          0.1882913261651992,
          0.1581214666366577,
          0.1501937061548233,
          0.1143856197595596,
          0.2087297439575195,
          0.3685694932937622,
          0.2961293458938598,
          0.15740767121315,
          0.0663035213947296,
          0.2176629602909088,
          0.2624964714050293,
          0.3115815818309784,
          0.2651827931404114,
          0.104553535580635,
          0.1888178139925003,
          0.1298642605543136,
          0.311314970254898,
          0.1944018900394439,
          0.0609250962734222,
          0.2056406140327453,
          0.2277173995971679,
          0.2247772514820099,
          0.2267500907182693,
          0.0832700654864311,
          0.2495380640029907,
          0.2156645208597183,
          0.2561188340187073,
          0.2276665419340133,
          0.1014498323202133,
          0.1931435912847519,
          0.2216212004423141,
          0.6944990158081055,
          0.0572017915546894,
          0.0263489112257957,
          0.0925932005047798,
          0.1293570399284362,
          0.3380797207355499,
          0.1615283042192459,
          0.058694738894701,
          0.1769894659519195,
          0.2647078037261963,
          0.298772931098938,
          0.2102086842060089,
          0.0884194746613502,
          0.2036190629005432,
          0.198979765176773,
          0.2476188987493515,
          0.2017716020345688,
          0.0820487663149833,
          0.2639303505420685,
          0.2046303451061248,
          0.2664543390274048,
          0.2110539823770523,
          0.0398722998797893,
          0.2180371731519699,
          0.2645822167396545,
          0.324118047952652,
          0.2061441391706466,
          0.0773950293660163,
          0.1750264167785644,
          0.2173162996768951,
          0.2686576247215271,
          0.2362363785505294,
          0.0874708816409111,
          0.1333933621644973,
          0.2742417454719543,
          0.2058963030576706,
          0.2007921487092971,
          0.0872723385691642,
          0.2347771823406219,
          0.2712620198726654,
          0.3696164488792419,
          0.1822672039270401,
          0.0381705202162265,
          0.1546910256147384,
          0.2552548050880432,
          0.2245530039072036,
          0.1704703867435455,
          0.0312880724668502,
          0.2345487773418426,
          0.3391397297382355,
          0.3659659028053283,
          0.2197176665067672,
          0.0756936743855476,
          0.1835657954216003,
          0.1550569832324981,
          0.3131616413593292,
          0.1830106973648071,
          0.1013853177428245,
          0.2192831635475158,
          0.183159127831459,
          0.3119750618934631,
          0.2322798371315002,
          0.0812614113092422,
          0.2043886482715606,
          0.1700950115919113,
          0.2870954275131225,
          0.229597732424736,
          0.0687350630760192,
          0.1947677284479141,
          0.2198040038347244,
          0.2739381194114685,
          0.220195785164833,
          0.0884298384189605,
          0.1845687478780746,
          0.2328675985336303,
          0.2447177469730377,
          0.2318690568208694,
          0.1164464205503463,
          0.2295010536909103,
          0.1774656623601913
         ],
         "xaxis": "x",
         "yaxis": "y"
        }
       ],
       "layout": {
        "barmode": "relative",
        "legend": {
         "tracegroupgap": 0
        },
        "margin": {
         "t": 60
        },
        "template": {
         "data": {
          "bar": [
           {
            "error_x": {
             "color": "#2a3f5f"
            },
            "error_y": {
             "color": "#2a3f5f"
            },
            "marker": {
             "line": {
              "color": "#E5ECF6",
              "width": 0.5
             },
             "pattern": {
              "fillmode": "overlay",
              "size": 10,
              "solidity": 0.2
             }
            },
            "type": "bar"
           }
          ],
          "barpolar": [
           {
            "marker": {
             "line": {
              "color": "#E5ECF6",
              "width": 0.5
             },
             "pattern": {
              "fillmode": "overlay",
              "size": 10,
              "solidity": 0.2
             }
            },
            "type": "barpolar"
           }
          ],
          "carpet": [
           {
            "aaxis": {
             "endlinecolor": "#2a3f5f",
             "gridcolor": "white",
             "linecolor": "white",
             "minorgridcolor": "white",
             "startlinecolor": "#2a3f5f"
            },
            "baxis": {
             "endlinecolor": "#2a3f5f",
             "gridcolor": "white",
             "linecolor": "white",
             "minorgridcolor": "white",
             "startlinecolor": "#2a3f5f"
            },
            "type": "carpet"
           }
          ],
          "choropleth": [
           {
            "colorbar": {
             "outlinewidth": 0,
             "ticks": ""
            },
            "type": "choropleth"
           }
          ],
          "contour": [
           {
            "colorbar": {
             "outlinewidth": 0,
             "ticks": ""
            },
            "colorscale": [
             [
              0,
              "#0d0887"
             ],
             [
              0.1111111111111111,
              "#46039f"
             ],
             [
              0.2222222222222222,
              "#7201a8"
             ],
             [
              0.3333333333333333,
              "#9c179e"
             ],
             [
              0.4444444444444444,
              "#bd3786"
             ],
             [
              0.5555555555555556,
              "#d8576b"
             ],
             [
              0.6666666666666666,
              "#ed7953"
             ],
             [
              0.7777777777777778,
              "#fb9f3a"
             ],
             [
              0.8888888888888888,
              "#fdca26"
             ],
             [
              1,
              "#f0f921"
             ]
            ],
            "type": "contour"
           }
          ],
          "contourcarpet": [
           {
            "colorbar": {
             "outlinewidth": 0,
             "ticks": ""
            },
            "type": "contourcarpet"
           }
          ],
          "heatmap": [
           {
            "colorbar": {
             "outlinewidth": 0,
             "ticks": ""
            },
            "colorscale": [
             [
              0,
              "#0d0887"
             ],
             [
              0.1111111111111111,
              "#46039f"
             ],
             [
              0.2222222222222222,
              "#7201a8"
             ],
             [
              0.3333333333333333,
              "#9c179e"
             ],
             [
              0.4444444444444444,
              "#bd3786"
             ],
             [
              0.5555555555555556,
              "#d8576b"
             ],
             [
              0.6666666666666666,
              "#ed7953"
             ],
             [
              0.7777777777777778,
              "#fb9f3a"
             ],
             [
              0.8888888888888888,
              "#fdca26"
             ],
             [
              1,
              "#f0f921"
             ]
            ],
            "type": "heatmap"
           }
          ],
          "heatmapgl": [
           {
            "colorbar": {
             "outlinewidth": 0,
             "ticks": ""
            },
            "colorscale": [
             [
              0,
              "#0d0887"
             ],
             [
              0.1111111111111111,
              "#46039f"
             ],
             [
              0.2222222222222222,
              "#7201a8"
             ],
             [
              0.3333333333333333,
              "#9c179e"
             ],
             [
              0.4444444444444444,
              "#bd3786"
             ],
             [
              0.5555555555555556,
              "#d8576b"
             ],
             [
              0.6666666666666666,
              "#ed7953"
             ],
             [
              0.7777777777777778,
              "#fb9f3a"
             ],
             [
              0.8888888888888888,
              "#fdca26"
             ],
             [
              1,
              "#f0f921"
             ]
            ],
            "type": "heatmapgl"
           }
          ],
          "histogram": [
           {
            "marker": {
             "pattern": {
              "fillmode": "overlay",
              "size": 10,
              "solidity": 0.2
             }
            },
            "type": "histogram"
           }
          ],
          "histogram2d": [
           {
            "colorbar": {
             "outlinewidth": 0,
             "ticks": ""
            },
            "colorscale": [
             [
              0,
              "#0d0887"
             ],
             [
              0.1111111111111111,
              "#46039f"
             ],
             [
              0.2222222222222222,
              "#7201a8"
             ],
             [
              0.3333333333333333,
              "#9c179e"
             ],
             [
              0.4444444444444444,
              "#bd3786"
             ],
             [
              0.5555555555555556,
              "#d8576b"
             ],
             [
              0.6666666666666666,
              "#ed7953"
             ],
             [
              0.7777777777777778,
              "#fb9f3a"
             ],
             [
              0.8888888888888888,
              "#fdca26"
             ],
             [
              1,
              "#f0f921"
             ]
            ],
            "type": "histogram2d"
           }
          ],
          "histogram2dcontour": [
           {
            "colorbar": {
             "outlinewidth": 0,
             "ticks": ""
            },
            "colorscale": [
             [
              0,
              "#0d0887"
             ],
             [
              0.1111111111111111,
              "#46039f"
             ],
             [
              0.2222222222222222,
              "#7201a8"
             ],
             [
              0.3333333333333333,
              "#9c179e"
             ],
             [
              0.4444444444444444,
              "#bd3786"
             ],
             [
              0.5555555555555556,
              "#d8576b"
             ],
             [
              0.6666666666666666,
              "#ed7953"
             ],
             [
              0.7777777777777778,
              "#fb9f3a"
             ],
             [
              0.8888888888888888,
              "#fdca26"
             ],
             [
              1,
              "#f0f921"
             ]
            ],
            "type": "histogram2dcontour"
           }
          ],
          "mesh3d": [
           {
            "colorbar": {
             "outlinewidth": 0,
             "ticks": ""
            },
            "type": "mesh3d"
           }
          ],
          "parcoords": [
           {
            "line": {
             "colorbar": {
              "outlinewidth": 0,
              "ticks": ""
             }
            },
            "type": "parcoords"
           }
          ],
          "pie": [
           {
            "automargin": true,
            "type": "pie"
           }
          ],
          "scatter": [
           {
            "fillpattern": {
             "fillmode": "overlay",
             "size": 10,
             "solidity": 0.2
            },
            "type": "scatter"
           }
          ],
          "scatter3d": [
           {
            "line": {
             "colorbar": {
              "outlinewidth": 0,
              "ticks": ""
             }
            },
            "marker": {
             "colorbar": {
              "outlinewidth": 0,
              "ticks": ""
             }
            },
            "type": "scatter3d"
           }
          ],
          "scattercarpet": [
           {
            "marker": {
             "colorbar": {
              "outlinewidth": 0,
              "ticks": ""
             }
            },
            "type": "scattercarpet"
           }
          ],
          "scattergeo": [
           {
            "marker": {
             "colorbar": {
              "outlinewidth": 0,
              "ticks": ""
             }
            },
            "type": "scattergeo"
           }
          ],
          "scattergl": [
           {
            "marker": {
             "colorbar": {
              "outlinewidth": 0,
              "ticks": ""
             }
            },
            "type": "scattergl"
           }
          ],
          "scattermapbox": [
           {
            "marker": {
             "colorbar": {
              "outlinewidth": 0,
              "ticks": ""
             }
            },
            "type": "scattermapbox"
           }
          ],
          "scatterpolar": [
           {
            "marker": {
             "colorbar": {
              "outlinewidth": 0,
              "ticks": ""
             }
            },
            "type": "scatterpolar"
           }
          ],
          "scatterpolargl": [
           {
            "marker": {
             "colorbar": {
              "outlinewidth": 0,
              "ticks": ""
             }
            },
            "type": "scatterpolargl"
           }
          ],
          "scatterternary": [
           {
            "marker": {
             "colorbar": {
              "outlinewidth": 0,
              "ticks": ""
             }
            },
            "type": "scatterternary"
           }
          ],
          "surface": [
           {
            "colorbar": {
             "outlinewidth": 0,
             "ticks": ""
            },
            "colorscale": [
             [
              0,
              "#0d0887"
             ],
             [
              0.1111111111111111,
              "#46039f"
             ],
             [
              0.2222222222222222,
              "#7201a8"
             ],
             [
              0.3333333333333333,
              "#9c179e"
             ],
             [
              0.4444444444444444,
              "#bd3786"
             ],
             [
              0.5555555555555556,
              "#d8576b"
             ],
             [
              0.6666666666666666,
              "#ed7953"
             ],
             [
              0.7777777777777778,
              "#fb9f3a"
             ],
             [
              0.8888888888888888,
              "#fdca26"
             ],
             [
              1,
              "#f0f921"
             ]
            ],
            "type": "surface"
           }
          ],
          "table": [
           {
            "cells": {
             "fill": {
              "color": "#EBF0F8"
             },
             "line": {
              "color": "white"
             }
            },
            "header": {
             "fill": {
              "color": "#C8D4E3"
             },
             "line": {
              "color": "white"
             }
            },
            "type": "table"
           }
          ]
         },
         "layout": {
          "annotationdefaults": {
           "arrowcolor": "#2a3f5f",
           "arrowhead": 0,
           "arrowwidth": 1
          },
          "autotypenumbers": "strict",
          "coloraxis": {
           "colorbar": {
            "outlinewidth": 0,
            "ticks": ""
           }
          },
          "colorscale": {
           "diverging": [
            [
             0,
             "#8e0152"
            ],
            [
             0.1,
             "#c51b7d"
            ],
            [
             0.2,
             "#de77ae"
            ],
            [
             0.3,
             "#f1b6da"
            ],
            [
             0.4,
             "#fde0ef"
            ],
            [
             0.5,
             "#f7f7f7"
            ],
            [
             0.6,
             "#e6f5d0"
            ],
            [
             0.7,
             "#b8e186"
            ],
            [
             0.8,
             "#7fbc41"
            ],
            [
             0.9,
             "#4d9221"
            ],
            [
             1,
             "#276419"
            ]
           ],
           "sequential": [
            [
             0,
             "#0d0887"
            ],
            [
             0.1111111111111111,
             "#46039f"
            ],
            [
             0.2222222222222222,
             "#7201a8"
            ],
            [
             0.3333333333333333,
             "#9c179e"
            ],
            [
             0.4444444444444444,
             "#bd3786"
            ],
            [
             0.5555555555555556,
             "#d8576b"
            ],
            [
             0.6666666666666666,
             "#ed7953"
            ],
            [
             0.7777777777777778,
             "#fb9f3a"
            ],
            [
             0.8888888888888888,
             "#fdca26"
            ],
            [
             1,
             "#f0f921"
            ]
           ],
           "sequentialminus": [
            [
             0,
             "#0d0887"
            ],
            [
             0.1111111111111111,
             "#46039f"
            ],
            [
             0.2222222222222222,
             "#7201a8"
            ],
            [
             0.3333333333333333,
             "#9c179e"
            ],
            [
             0.4444444444444444,
             "#bd3786"
            ],
            [
             0.5555555555555556,
             "#d8576b"
            ],
            [
             0.6666666666666666,
             "#ed7953"
            ],
            [
             0.7777777777777778,
             "#fb9f3a"
            ],
            [
             0.8888888888888888,
             "#fdca26"
            ],
            [
             1,
             "#f0f921"
            ]
           ]
          },
          "colorway": [
           "#636efa",
           "#EF553B",
           "#00cc96",
           "#ab63fa",
           "#FFA15A",
           "#19d3f3",
           "#FF6692",
           "#B6E880",
           "#FF97FF",
           "#FECB52"
          ],
          "font": {
           "color": "#2a3f5f"
          },
          "geo": {
           "bgcolor": "white",
           "lakecolor": "white",
           "landcolor": "#E5ECF6",
           "showlakes": true,
           "showland": true,
           "subunitcolor": "white"
          },
          "hoverlabel": {
           "align": "left"
          },
          "hovermode": "closest",
          "mapbox": {
           "style": "light"
          },
          "paper_bgcolor": "white",
          "plot_bgcolor": "#E5ECF6",
          "polar": {
           "angularaxis": {
            "gridcolor": "white",
            "linecolor": "white",
            "ticks": ""
           },
           "bgcolor": "#E5ECF6",
           "radialaxis": {
            "gridcolor": "white",
            "linecolor": "white",
            "ticks": ""
           }
          },
          "scene": {
           "xaxis": {
            "backgroundcolor": "#E5ECF6",
            "gridcolor": "white",
            "gridwidth": 2,
            "linecolor": "white",
            "showbackground": true,
            "ticks": "",
            "zerolinecolor": "white"
           },
           "yaxis": {
            "backgroundcolor": "#E5ECF6",
            "gridcolor": "white",
            "gridwidth": 2,
            "linecolor": "white",
            "showbackground": true,
            "ticks": "",
            "zerolinecolor": "white"
           },
           "zaxis": {
            "backgroundcolor": "#E5ECF6",
            "gridcolor": "white",
            "gridwidth": 2,
            "linecolor": "white",
            "showbackground": true,
            "ticks": "",
            "zerolinecolor": "white"
           }
          },
          "shapedefaults": {
           "line": {
            "color": "#2a3f5f"
           }
          },
          "ternary": {
           "aaxis": {
            "gridcolor": "white",
            "linecolor": "white",
            "ticks": ""
           },
           "baxis": {
            "gridcolor": "white",
            "linecolor": "white",
            "ticks": ""
           },
           "bgcolor": "#E5ECF6",
           "caxis": {
            "gridcolor": "white",
            "linecolor": "white",
            "ticks": ""
           }
          },
          "title": {
           "x": 0.05
          },
          "xaxis": {
           "automargin": true,
           "gridcolor": "white",
           "linecolor": "white",
           "ticks": "",
           "title": {
            "standoff": 15
           },
           "zerolinecolor": "white",
           "zerolinewidth": 2
          },
          "yaxis": {
           "automargin": true,
           "gridcolor": "white",
           "linecolor": "white",
           "ticks": "",
           "title": {
            "standoff": 15
           },
           "zerolinecolor": "white",
           "zerolinewidth": 2
          }
         }
        },
        "width": 500,
        "xaxis": {
         "anchor": "y",
         "domain": [
          0,
          1
         ],
         "title": {
          "text": "Zero Shot Fulltext"
         }
        },
        "yaxis": {
         "anchor": "x",
         "domain": [
          0,
          1
         ],
         "title": {
          "text": "count"
         }
        }
       }
      }
     },
     "metadata": {},
     "output_type": "display_data"
    }
   ],
   "source": [
    "fig = px.histogram(result, x=\"Zero Shot Fulltext\", width=500)\n",
    "fig.show()"
   ]
  },
  {
   "cell_type": "code",
   "execution_count": null,
   "metadata": {},
   "outputs": [],
   "source": [
    "result_human_rights = result[result[\"Label\"]==\"human rights\"]\n",
    "result_human_rights_sentence_sim = result_human_rights[[\"Sentence Cosine Similarity Wiki Summarized Mean Threshold 0\", \"Sentence by Sentence Cosine Similarity human rights Mean Threshold 0\"]]"
   ]
  },
  {
   "cell_type": "markdown",
   "metadata": {},
   "source": [
    "results"
   ]
  },
  {
   "cell_type": "code",
   "execution_count": null,
   "metadata": {},
   "outputs": [
    {
     "data": {
      "text/html": [
       "<div>\n",
       "<style scoped>\n",
       "    .dataframe tbody tr th:only-of-type {\n",
       "        vertical-align: middle;\n",
       "    }\n",
       "\n",
       "    .dataframe tbody tr th {\n",
       "        vertical-align: top;\n",
       "    }\n",
       "\n",
       "    .dataframe thead th {\n",
       "        text-align: right;\n",
       "    }\n",
       "</style>\n",
       "<table border=\"1\" class=\"dataframe\">\n",
       "  <thead>\n",
       "    <tr style=\"text-align: right;\">\n",
       "      <th></th>\n",
       "      <th>Sentence Cosine Similarity Wiki Summarized Mean Threshold 0</th>\n",
       "      <th>Sentence by Sentence Cosine Similarity human rights Mean Threshold 0</th>\n",
       "    </tr>\n",
       "  </thead>\n",
       "  <tbody>\n",
       "    <tr>\n",
       "      <th>1</th>\n",
       "      <td>0.090</td>\n",
       "      <td>0.099</td>\n",
       "    </tr>\n",
       "    <tr>\n",
       "      <th>6</th>\n",
       "      <td>0.099</td>\n",
       "      <td>0.098</td>\n",
       "    </tr>\n",
       "    <tr>\n",
       "      <th>11</th>\n",
       "      <td>0.101</td>\n",
       "      <td>0.117</td>\n",
       "    </tr>\n",
       "    <tr>\n",
       "      <th>16</th>\n",
       "      <td>0.088</td>\n",
       "      <td>0.112</td>\n",
       "    </tr>\n",
       "    <tr>\n",
       "      <th>21</th>\n",
       "      <td>0.098</td>\n",
       "      <td>0.142</td>\n",
       "    </tr>\n",
       "  </tbody>\n",
       "</table>\n",
       "</div>"
      ],
      "text/plain": [
       "    Sentence Cosine Similarity Wiki Summarized Mean Threshold 0  \\\n",
       "1                                               0.090             \n",
       "6                                               0.099             \n",
       "11                                              0.101             \n",
       "16                                              0.088             \n",
       "21                                              0.098             \n",
       "\n",
       "    Sentence by Sentence Cosine Similarity human rights Mean Threshold 0  \n",
       "1                                               0.099                     \n",
       "6                                               0.098                     \n",
       "11                                              0.117                     \n",
       "16                                              0.112                     \n",
       "21                                              0.142                     "
      ]
     },
     "execution_count": 290,
     "metadata": {},
     "output_type": "execute_result"
    }
   ],
   "source": [
    "result_human_rights_sentence_sim.head()"
   ]
  },
  {
   "cell_type": "code",
   "execution_count": null,
   "metadata": {},
   "outputs": [
    {
     "data": {
      "application/vnd.plotly.v1+json": {
       "config": {
        "plotlyServerURL": "https://plot.ly"
       },
       "data": [
        {
         "alignmentgroup": "True",
         "boxpoints": "all",
         "hovertemplate": "quartilemethod=Sentence Cosine Similarity Wiki Summarized Mean Threshold 0<br>value=%{y}<extra></extra>",
         "legendgroup": "Sentence Cosine Similarity Wiki Summarized Mean Threshold 0",
         "marker": {
          "color": "#636efa"
         },
         "name": "Sentence Cosine Similarity Wiki Summarized Mean Threshold 0",
         "notched": false,
         "offsetgroup": "Sentence Cosine Similarity Wiki Summarized Mean Threshold 0",
         "orientation": "v",
         "showlegend": true,
         "type": "box",
         "x0": " ",
         "xaxis": "x",
         "y": [
          0.09,
          0.099,
          0.101,
          0.088,
          0.098,
          0.119,
          0.092,
          0.106,
          0.129,
          0.099,
          0.118,
          0.08,
          0.089,
          0.088,
          0.081,
          0.091,
          0.089,
          0.083,
          0.122,
          0.086,
          0.114,
          0.097,
          0.107,
          0.105,
          0.114,
          0.092,
          0.11,
          0.083,
          0.111,
          0.114,
          0.072,
          0.075,
          0.096,
          0.097,
          0.078,
          0.174,
          0.093,
          0.116,
          0.103,
          0.069,
          0.097,
          0.122,
          0.182,
          0.126,
          0.084,
          0.102,
          0.073,
          0.114,
          0.094,
          0.1,
          0.09,
          0.07,
          0.109,
          0.126,
          0.08,
          0.113,
          0.095,
          0.075,
          0.078,
          0.103,
          0.132,
          0.111,
          0.095,
          0.113,
          0.089,
          0.115,
          0.094,
          0.1,
          0.109,
          0.114,
          0.116,
          0.105,
          0.094,
          0.093,
          0.093,
          0.123,
          0.089,
          0.088,
          0.106,
          0.111,
          0.062,
          0.088,
          0.068,
          0.091,
          0.087,
          0.126,
          0.097,
          0.092,
          0.092,
          0.095,
          0.099,
          0.096,
          0.103,
          0.084,
          0.119,
          0.065,
          0.121,
          0.123,
          0.115,
          0.114,
          0.08,
          0.107,
          0.077,
          0.097,
          0.108,
          0.1,
          0.096,
          0.069,
          0.066,
          0.107,
          0.088,
          0.097,
          0.088,
          0.078,
          0.087,
          0.073,
          0.079
         ],
         "y0": " ",
         "yaxis": "y"
        },
        {
         "alignmentgroup": "True",
         "boxpoints": "all",
         "hovertemplate": "quartilemethod=Sentence by Sentence Cosine Similarity human rights Mean Threshold 0<br>value=%{y}<extra></extra>",
         "legendgroup": "Sentence by Sentence Cosine Similarity human rights Mean Threshold 0",
         "marker": {
          "color": "#EF553B"
         },
         "name": "Sentence by Sentence Cosine Similarity human rights Mean Threshold 0",
         "notched": false,
         "offsetgroup": "Sentence by Sentence Cosine Similarity human rights Mean Threshold 0",
         "orientation": "v",
         "showlegend": true,
         "type": "box",
         "x0": " ",
         "xaxis": "x",
         "y": [
          0.099,
          0.098,
          0.117,
          0.112,
          0.142,
          0.119,
          0.117,
          0.14,
          0.146,
          0.11,
          0.114,
          0.113,
          0.107,
          0.127,
          0.12,
          0.107,
          0.118,
          0.109,
          0.109,
          0.107,
          0.138,
          0.122,
          0.117,
          0.135,
          0.13,
          0.137,
          0.121,
          0.116,
          0.104,
          0.149,
          0.093,
          0.07,
          0.135,
          0.084,
          0.096,
          0.22,
          0.104,
          0.122,
          0.093,
          0.105,
          0.117,
          0.148,
          0.174,
          0.156,
          0.089,
          0.097,
          0.073,
          0.133,
          0.143,
          0.127,
          0.114,
          0.12,
          0.13,
          0.13,
          0.123,
          0.13,
          0.122,
          0.121,
          0.121,
          0.12,
          0.134,
          0.118,
          0.104,
          0.12,
          0.115,
          0.122,
          0.121,
          0.126,
          0.106,
          0.116,
          0.13,
          0.132,
          0.107,
          0.105,
          0.13,
          0.133,
          0.12,
          0.141,
          0.115,
          0.128,
          0.142,
          0.136,
          0.082,
          0.105,
          0.139,
          0.124,
          0.156,
          0.137,
          0.115,
          0.146,
          0.166,
          0.138,
          0.141,
          0.127,
          0.117,
          0.107,
          0.13,
          0.114,
          0.143,
          0.125,
          0.12,
          0.072,
          0.098,
          0.107,
          0.134,
          0.091,
          0.161,
          0.132,
          0.078,
          0.12,
          0.062,
          0.116,
          0.113,
          0.112,
          0.138,
          0.102,
          0.067
         ],
         "y0": " ",
         "yaxis": "y"
        }
       ],
       "layout": {
        "boxmode": "group",
        "legend": {
         "title": {
          "text": "quartilemethod"
         },
         "tracegroupgap": 0,
         "x": 0.01,
         "xanchor": "left",
         "y": 1,
         "yanchor": "bottom"
        },
        "margin": {
         "t": 60
        },
        "template": {
         "data": {
          "bar": [
           {
            "error_x": {
             "color": "#2a3f5f"
            },
            "error_y": {
             "color": "#2a3f5f"
            },
            "marker": {
             "line": {
              "color": "#E5ECF6",
              "width": 0.5
             },
             "pattern": {
              "fillmode": "overlay",
              "size": 10,
              "solidity": 0.2
             }
            },
            "type": "bar"
           }
          ],
          "barpolar": [
           {
            "marker": {
             "line": {
              "color": "#E5ECF6",
              "width": 0.5
             },
             "pattern": {
              "fillmode": "overlay",
              "size": 10,
              "solidity": 0.2
             }
            },
            "type": "barpolar"
           }
          ],
          "carpet": [
           {
            "aaxis": {
             "endlinecolor": "#2a3f5f",
             "gridcolor": "white",
             "linecolor": "white",
             "minorgridcolor": "white",
             "startlinecolor": "#2a3f5f"
            },
            "baxis": {
             "endlinecolor": "#2a3f5f",
             "gridcolor": "white",
             "linecolor": "white",
             "minorgridcolor": "white",
             "startlinecolor": "#2a3f5f"
            },
            "type": "carpet"
           }
          ],
          "choropleth": [
           {
            "colorbar": {
             "outlinewidth": 0,
             "ticks": ""
            },
            "type": "choropleth"
           }
          ],
          "contour": [
           {
            "colorbar": {
             "outlinewidth": 0,
             "ticks": ""
            },
            "colorscale": [
             [
              0,
              "#0d0887"
             ],
             [
              0.1111111111111111,
              "#46039f"
             ],
             [
              0.2222222222222222,
              "#7201a8"
             ],
             [
              0.3333333333333333,
              "#9c179e"
             ],
             [
              0.4444444444444444,
              "#bd3786"
             ],
             [
              0.5555555555555556,
              "#d8576b"
             ],
             [
              0.6666666666666666,
              "#ed7953"
             ],
             [
              0.7777777777777778,
              "#fb9f3a"
             ],
             [
              0.8888888888888888,
              "#fdca26"
             ],
             [
              1,
              "#f0f921"
             ]
            ],
            "type": "contour"
           }
          ],
          "contourcarpet": [
           {
            "colorbar": {
             "outlinewidth": 0,
             "ticks": ""
            },
            "type": "contourcarpet"
           }
          ],
          "heatmap": [
           {
            "colorbar": {
             "outlinewidth": 0,
             "ticks": ""
            },
            "colorscale": [
             [
              0,
              "#0d0887"
             ],
             [
              0.1111111111111111,
              "#46039f"
             ],
             [
              0.2222222222222222,
              "#7201a8"
             ],
             [
              0.3333333333333333,
              "#9c179e"
             ],
             [
              0.4444444444444444,
              "#bd3786"
             ],
             [
              0.5555555555555556,
              "#d8576b"
             ],
             [
              0.6666666666666666,
              "#ed7953"
             ],
             [
              0.7777777777777778,
              "#fb9f3a"
             ],
             [
              0.8888888888888888,
              "#fdca26"
             ],
             [
              1,
              "#f0f921"
             ]
            ],
            "type": "heatmap"
           }
          ],
          "heatmapgl": [
           {
            "colorbar": {
             "outlinewidth": 0,
             "ticks": ""
            },
            "colorscale": [
             [
              0,
              "#0d0887"
             ],
             [
              0.1111111111111111,
              "#46039f"
             ],
             [
              0.2222222222222222,
              "#7201a8"
             ],
             [
              0.3333333333333333,
              "#9c179e"
             ],
             [
              0.4444444444444444,
              "#bd3786"
             ],
             [
              0.5555555555555556,
              "#d8576b"
             ],
             [
              0.6666666666666666,
              "#ed7953"
             ],
             [
              0.7777777777777778,
              "#fb9f3a"
             ],
             [
              0.8888888888888888,
              "#fdca26"
             ],
             [
              1,
              "#f0f921"
             ]
            ],
            "type": "heatmapgl"
           }
          ],
          "histogram": [
           {
            "marker": {
             "pattern": {
              "fillmode": "overlay",
              "size": 10,
              "solidity": 0.2
             }
            },
            "type": "histogram"
           }
          ],
          "histogram2d": [
           {
            "colorbar": {
             "outlinewidth": 0,
             "ticks": ""
            },
            "colorscale": [
             [
              0,
              "#0d0887"
             ],
             [
              0.1111111111111111,
              "#46039f"
             ],
             [
              0.2222222222222222,
              "#7201a8"
             ],
             [
              0.3333333333333333,
              "#9c179e"
             ],
             [
              0.4444444444444444,
              "#bd3786"
             ],
             [
              0.5555555555555556,
              "#d8576b"
             ],
             [
              0.6666666666666666,
              "#ed7953"
             ],
             [
              0.7777777777777778,
              "#fb9f3a"
             ],
             [
              0.8888888888888888,
              "#fdca26"
             ],
             [
              1,
              "#f0f921"
             ]
            ],
            "type": "histogram2d"
           }
          ],
          "histogram2dcontour": [
           {
            "colorbar": {
             "outlinewidth": 0,
             "ticks": ""
            },
            "colorscale": [
             [
              0,
              "#0d0887"
             ],
             [
              0.1111111111111111,
              "#46039f"
             ],
             [
              0.2222222222222222,
              "#7201a8"
             ],
             [
              0.3333333333333333,
              "#9c179e"
             ],
             [
              0.4444444444444444,
              "#bd3786"
             ],
             [
              0.5555555555555556,
              "#d8576b"
             ],
             [
              0.6666666666666666,
              "#ed7953"
             ],
             [
              0.7777777777777778,
              "#fb9f3a"
             ],
             [
              0.8888888888888888,
              "#fdca26"
             ],
             [
              1,
              "#f0f921"
             ]
            ],
            "type": "histogram2dcontour"
           }
          ],
          "mesh3d": [
           {
            "colorbar": {
             "outlinewidth": 0,
             "ticks": ""
            },
            "type": "mesh3d"
           }
          ],
          "parcoords": [
           {
            "line": {
             "colorbar": {
              "outlinewidth": 0,
              "ticks": ""
             }
            },
            "type": "parcoords"
           }
          ],
          "pie": [
           {
            "automargin": true,
            "type": "pie"
           }
          ],
          "scatter": [
           {
            "fillpattern": {
             "fillmode": "overlay",
             "size": 10,
             "solidity": 0.2
            },
            "type": "scatter"
           }
          ],
          "scatter3d": [
           {
            "line": {
             "colorbar": {
              "outlinewidth": 0,
              "ticks": ""
             }
            },
            "marker": {
             "colorbar": {
              "outlinewidth": 0,
              "ticks": ""
             }
            },
            "type": "scatter3d"
           }
          ],
          "scattercarpet": [
           {
            "marker": {
             "colorbar": {
              "outlinewidth": 0,
              "ticks": ""
             }
            },
            "type": "scattercarpet"
           }
          ],
          "scattergeo": [
           {
            "marker": {
             "colorbar": {
              "outlinewidth": 0,
              "ticks": ""
             }
            },
            "type": "scattergeo"
           }
          ],
          "scattergl": [
           {
            "marker": {
             "colorbar": {
              "outlinewidth": 0,
              "ticks": ""
             }
            },
            "type": "scattergl"
           }
          ],
          "scattermapbox": [
           {
            "marker": {
             "colorbar": {
              "outlinewidth": 0,
              "ticks": ""
             }
            },
            "type": "scattermapbox"
           }
          ],
          "scatterpolar": [
           {
            "marker": {
             "colorbar": {
              "outlinewidth": 0,
              "ticks": ""
             }
            },
            "type": "scatterpolar"
           }
          ],
          "scatterpolargl": [
           {
            "marker": {
             "colorbar": {
              "outlinewidth": 0,
              "ticks": ""
             }
            },
            "type": "scatterpolargl"
           }
          ],
          "scatterternary": [
           {
            "marker": {
             "colorbar": {
              "outlinewidth": 0,
              "ticks": ""
             }
            },
            "type": "scatterternary"
           }
          ],
          "surface": [
           {
            "colorbar": {
             "outlinewidth": 0,
             "ticks": ""
            },
            "colorscale": [
             [
              0,
              "#0d0887"
             ],
             [
              0.1111111111111111,
              "#46039f"
             ],
             [
              0.2222222222222222,
              "#7201a8"
             ],
             [
              0.3333333333333333,
              "#9c179e"
             ],
             [
              0.4444444444444444,
              "#bd3786"
             ],
             [
              0.5555555555555556,
              "#d8576b"
             ],
             [
              0.6666666666666666,
              "#ed7953"
             ],
             [
              0.7777777777777778,
              "#fb9f3a"
             ],
             [
              0.8888888888888888,
              "#fdca26"
             ],
             [
              1,
              "#f0f921"
             ]
            ],
            "type": "surface"
           }
          ],
          "table": [
           {
            "cells": {
             "fill": {
              "color": "#EBF0F8"
             },
             "line": {
              "color": "white"
             }
            },
            "header": {
             "fill": {
              "color": "#C8D4E3"
             },
             "line": {
              "color": "white"
             }
            },
            "type": "table"
           }
          ]
         },
         "layout": {
          "annotationdefaults": {
           "arrowcolor": "#2a3f5f",
           "arrowhead": 0,
           "arrowwidth": 1
          },
          "autotypenumbers": "strict",
          "coloraxis": {
           "colorbar": {
            "outlinewidth": 0,
            "ticks": ""
           }
          },
          "colorscale": {
           "diverging": [
            [
             0,
             "#8e0152"
            ],
            [
             0.1,
             "#c51b7d"
            ],
            [
             0.2,
             "#de77ae"
            ],
            [
             0.3,
             "#f1b6da"
            ],
            [
             0.4,
             "#fde0ef"
            ],
            [
             0.5,
             "#f7f7f7"
            ],
            [
             0.6,
             "#e6f5d0"
            ],
            [
             0.7,
             "#b8e186"
            ],
            [
             0.8,
             "#7fbc41"
            ],
            [
             0.9,
             "#4d9221"
            ],
            [
             1,
             "#276419"
            ]
           ],
           "sequential": [
            [
             0,
             "#0d0887"
            ],
            [
             0.1111111111111111,
             "#46039f"
            ],
            [
             0.2222222222222222,
             "#7201a8"
            ],
            [
             0.3333333333333333,
             "#9c179e"
            ],
            [
             0.4444444444444444,
             "#bd3786"
            ],
            [
             0.5555555555555556,
             "#d8576b"
            ],
            [
             0.6666666666666666,
             "#ed7953"
            ],
            [
             0.7777777777777778,
             "#fb9f3a"
            ],
            [
             0.8888888888888888,
             "#fdca26"
            ],
            [
             1,
             "#f0f921"
            ]
           ],
           "sequentialminus": [
            [
             0,
             "#0d0887"
            ],
            [
             0.1111111111111111,
             "#46039f"
            ],
            [
             0.2222222222222222,
             "#7201a8"
            ],
            [
             0.3333333333333333,
             "#9c179e"
            ],
            [
             0.4444444444444444,
             "#bd3786"
            ],
            [
             0.5555555555555556,
             "#d8576b"
            ],
            [
             0.6666666666666666,
             "#ed7953"
            ],
            [
             0.7777777777777778,
             "#fb9f3a"
            ],
            [
             0.8888888888888888,
             "#fdca26"
            ],
            [
             1,
             "#f0f921"
            ]
           ]
          },
          "colorway": [
           "#636efa",
           "#EF553B",
           "#00cc96",
           "#ab63fa",
           "#FFA15A",
           "#19d3f3",
           "#FF6692",
           "#B6E880",
           "#FF97FF",
           "#FECB52"
          ],
          "font": {
           "color": "#2a3f5f"
          },
          "geo": {
           "bgcolor": "white",
           "lakecolor": "white",
           "landcolor": "#E5ECF6",
           "showlakes": true,
           "showland": true,
           "subunitcolor": "white"
          },
          "hoverlabel": {
           "align": "left"
          },
          "hovermode": "closest",
          "mapbox": {
           "style": "light"
          },
          "paper_bgcolor": "white",
          "plot_bgcolor": "#E5ECF6",
          "polar": {
           "angularaxis": {
            "gridcolor": "white",
            "linecolor": "white",
            "ticks": ""
           },
           "bgcolor": "#E5ECF6",
           "radialaxis": {
            "gridcolor": "white",
            "linecolor": "white",
            "ticks": ""
           }
          },
          "scene": {
           "xaxis": {
            "backgroundcolor": "#E5ECF6",
            "gridcolor": "white",
            "gridwidth": 2,
            "linecolor": "white",
            "showbackground": true,
            "ticks": "",
            "zerolinecolor": "white"
           },
           "yaxis": {
            "backgroundcolor": "#E5ECF6",
            "gridcolor": "white",
            "gridwidth": 2,
            "linecolor": "white",
            "showbackground": true,
            "ticks": "",
            "zerolinecolor": "white"
           },
           "zaxis": {
            "backgroundcolor": "#E5ECF6",
            "gridcolor": "white",
            "gridwidth": 2,
            "linecolor": "white",
            "showbackground": true,
            "ticks": "",
            "zerolinecolor": "white"
           }
          },
          "shapedefaults": {
           "line": {
            "color": "#2a3f5f"
           }
          },
          "ternary": {
           "aaxis": {
            "gridcolor": "white",
            "linecolor": "white",
            "ticks": ""
           },
           "baxis": {
            "gridcolor": "white",
            "linecolor": "white",
            "ticks": ""
           },
           "bgcolor": "#E5ECF6",
           "caxis": {
            "gridcolor": "white",
            "linecolor": "white",
            "ticks": ""
           }
          },
          "title": {
           "x": 0.05
          },
          "xaxis": {
           "automargin": true,
           "gridcolor": "white",
           "linecolor": "white",
           "ticks": "",
           "title": {
            "standoff": 15
           },
           "zerolinecolor": "white",
           "zerolinewidth": 2
          },
          "yaxis": {
           "automargin": true,
           "gridcolor": "white",
           "linecolor": "white",
           "ticks": "",
           "title": {
            "standoff": 15
           },
           "zerolinecolor": "white",
           "zerolinewidth": 2
          }
         }
        },
        "width": 800,
        "xaxis": {
         "anchor": "y",
         "domain": [
          0,
          1
         ]
        },
        "yaxis": {
         "anchor": "x",
         "domain": [
          0,
          1
         ],
         "title": {
          "text": "value"
         }
        }
       }
      }
     },
     "metadata": {},
     "output_type": "display_data"
    }
   ],
   "source": [
    "result_human_rights_sentence_sim_melt = result_human_rights_sentence_sim.melt(var_name=\"quartilemethod\")\n",
    "fig = px.box(result_human_rights_sentence_sim_melt, y=\"value\", points=\"all\", color = \"quartilemethod\")\n",
    "fig.update_layout(legend=dict(\n",
    "    yanchor=\"bottom\",\n",
    "    y=1,\n",
    "    xanchor=\"left\",\n",
    "    x=0.01\n",
    "), width=800)\n",
    "fig.show()"
   ]
  }
 ],
 "metadata": {
  "kernelspec": {
   "display_name": "Python 3.10.1 64-bit",
   "language": "python",
   "name": "python3"
  },
  "language_info": {
   "codemirror_mode": {
    "name": "ipython",
    "version": 3
   },
   "file_extension": ".py",
   "mimetype": "text/x-python",
   "name": "python",
   "nbconvert_exporter": "python",
   "pygments_lexer": "ipython3",
   "version": "3.10.1 (tags/v3.10.1:2cd268a, Dec  6 2021, 19:10:37) [MSC v.1929 64 bit (AMD64)]"
  },
  "orig_nbformat": 4,
  "vscode": {
   "interpreter": {
    "hash": "5cf922369b83184eb6b2ab0a3b64d08061786420dbf1332a02b89d0aac9562ca"
   }
  }
 },
 "nbformat": 4,
 "nbformat_minor": 2
}
