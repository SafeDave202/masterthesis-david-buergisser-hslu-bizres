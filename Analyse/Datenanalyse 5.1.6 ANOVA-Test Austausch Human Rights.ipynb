{
 "cells": [
  {
   "cell_type": "markdown",
   "metadata": {},
   "source": [
    "# Data Combiner\n",
    "\n",
    "Here we try to bring together all the data into one clean dataframe"
   ]
  },
  {
   "cell_type": "code",
   "execution_count": 2,
   "metadata": {},
   "outputs": [],
   "source": [
    "# !pip install pandas_profiling\n",
    "# !pip install ipywidgets"
   ]
  },
  {
   "cell_type": "code",
   "execution_count": 3,
   "metadata": {},
   "outputs": [],
   "source": [
    "import pandas as pd\n",
    "import os\n",
    "import plotly.express as px\n",
    "import numpy as np"
   ]
  },
  {
   "cell_type": "code",
   "execution_count": 4,
   "metadata": {},
   "outputs": [],
   "source": [
    "from pandas_profiling import ProfileReport\n",
    "from statistics import mean\n",
    "from scipy.stats import f_oneway\n"
   ]
  },
  {
   "cell_type": "code",
   "execution_count": 5,
   "metadata": {},
   "outputs": [],
   "source": [
    "result = pd.read_csv(r\"G:\\Meine Ablage\\HSLU\\Master\\Master Thesis\\Coding Area\\Data\\result.csv\", index_col=0)\n",
    "result_normal = result[result[\"Report Type\"]==\"Normal Report\"]"
   ]
  },
  {
   "cell_type": "code",
   "execution_count": 6,
   "metadata": {},
   "outputs": [
    {
     "data": {
      "text/html": [
       "<div>\n",
       "<style scoped>\n",
       "    .dataframe tbody tr th:only-of-type {\n",
       "        vertical-align: middle;\n",
       "    }\n",
       "\n",
       "    .dataframe tbody tr th {\n",
       "        vertical-align: top;\n",
       "    }\n",
       "\n",
       "    .dataframe thead th {\n",
       "        text-align: right;\n",
       "    }\n",
       "</style>\n",
       "<table border=\"1\" class=\"dataframe\">\n",
       "  <thead>\n",
       "    <tr style=\"text-align: right;\">\n",
       "      <th></th>\n",
       "      <th>Company</th>\n",
       "      <th>Label</th>\n",
       "      <th>Fulltext Cosine Similarity Wiki Summary</th>\n",
       "      <th>Fulltext Cosine Similarity Human Rights</th>\n",
       "      <th>Zero Shot Fulltext</th>\n",
       "      <th>PDF Name</th>\n",
       "      <th>TF-IDF</th>\n",
       "      <th>Top N Words</th>\n",
       "      <th>Report Type</th>\n",
       "      <th>Sentence Cosine Similarity Wiki Summarized</th>\n",
       "      <th>Sentence Cosine Similarity Wiki Summarized Mean</th>\n",
       "      <th>Sentence Cosine Similarity Wiki Summarized Mean Threshold 0</th>\n",
       "      <th>Sentence by Sentence Cosine Similarity human rights</th>\n",
       "      <th>Sentence by Sentence Cosine Similarity human rights mean</th>\n",
       "      <th>Sentence by Sentence Cosine Similarity human rights Mean Threshold 0</th>\n",
       "      <th>Zero Shot Learning Sentence Raw</th>\n",
       "      <th>Classified Text</th>\n",
       "      <th>Zero Shot Learning Sentence Mean</th>\n",
       "      <th>Zero Shot Learning Sentence Mean Threshold</th>\n",
       "    </tr>\n",
       "  </thead>\n",
       "  <tbody>\n",
       "    <tr>\n",
       "      <th>0</th>\n",
       "      <td>child_cocoa_school</td>\n",
       "      <td>sustainability</td>\n",
       "      <td>0.54579</td>\n",
       "      <td>0.54579</td>\n",
       "      <td>0.242261</td>\n",
       "      <td>nestle-tackling-child-labor-report-2019-en</td>\n",
       "      <td>[('child', 0.3676919823097556), ('report', 0.2...</td>\n",
       "      <td>[('child', 391), ('cocoa', 146), ('school', 14...</td>\n",
       "      <td>Normal Report</td>\n",
       "      <td>[tensor([[0.0519]]), tensor([[0.0648]]), tenso...</td>\n",
       "      <td>0.065</td>\n",
       "      <td>0.11</td>\n",
       "      <td>[tensor([[0.0519]]), tensor([[0.0648]]), tenso...</td>\n",
       "      <td>0.065</td>\n",
       "      <td>0.11</td>\n",
       "      <td>[0.7845346331596375, 0.8715912103652954, 0.683...</td>\n",
       "      <td>['Tackling Child Labor Report Continuing our c...</td>\n",
       "      <td>0.501</td>\n",
       "      <td>0.501</td>\n",
       "    </tr>\n",
       "  </tbody>\n",
       "</table>\n",
       "</div>"
      ],
      "text/plain": [
       "              Company           Label  \\\n",
       "0  child_cocoa_school  sustainability   \n",
       "\n",
       "   Fulltext Cosine Similarity Wiki Summary  \\\n",
       "0                                  0.54579   \n",
       "\n",
       "   Fulltext Cosine Similarity Human Rights  Zero Shot Fulltext  \\\n",
       "0                                  0.54579            0.242261   \n",
       "\n",
       "                                     PDF Name  \\\n",
       "0  nestle-tackling-child-labor-report-2019-en   \n",
       "\n",
       "                                              TF-IDF  \\\n",
       "0  [('child', 0.3676919823097556), ('report', 0.2...   \n",
       "\n",
       "                                         Top N Words    Report Type  \\\n",
       "0  [('child', 391), ('cocoa', 146), ('school', 14...  Normal Report   \n",
       "\n",
       "          Sentence Cosine Similarity Wiki Summarized  \\\n",
       "0  [tensor([[0.0519]]), tensor([[0.0648]]), tenso...   \n",
       "\n",
       "   Sentence Cosine Similarity Wiki Summarized Mean  \\\n",
       "0                                            0.065   \n",
       "\n",
       "   Sentence Cosine Similarity Wiki Summarized Mean Threshold 0  \\\n",
       "0                                               0.11             \n",
       "\n",
       "  Sentence by Sentence Cosine Similarity human rights  \\\n",
       "0  [tensor([[0.0519]]), tensor([[0.0648]]), tenso...    \n",
       "\n",
       "   Sentence by Sentence Cosine Similarity human rights mean  \\\n",
       "0                                              0.065          \n",
       "\n",
       "   Sentence by Sentence Cosine Similarity human rights Mean Threshold 0  \\\n",
       "0                                               0.11                      \n",
       "\n",
       "                     Zero Shot Learning Sentence Raw  \\\n",
       "0  [0.7845346331596375, 0.8715912103652954, 0.683...   \n",
       "\n",
       "                                     Classified Text  \\\n",
       "0  ['Tackling Child Labor Report Continuing our c...   \n",
       "\n",
       "   Zero Shot Learning Sentence Mean  \\\n",
       "0                             0.501   \n",
       "\n",
       "   Zero Shot Learning Sentence Mean Threshold  \n",
       "0                                       0.501  "
      ]
     },
     "execution_count": 6,
     "metadata": {},
     "output_type": "execute_result"
    }
   ],
   "source": [
    "result_normal[0:1]"
   ]
  },
  {
   "cell_type": "code",
   "execution_count": 7,
   "metadata": {},
   "outputs": [
    {
     "data": {
      "text/html": [
       "<div>\n",
       "<style scoped>\n",
       "    .dataframe tbody tr th:only-of-type {\n",
       "        vertical-align: middle;\n",
       "    }\n",
       "\n",
       "    .dataframe tbody tr th {\n",
       "        vertical-align: top;\n",
       "    }\n",
       "\n",
       "    .dataframe thead th {\n",
       "        text-align: right;\n",
       "    }\n",
       "</style>\n",
       "<table border=\"1\" class=\"dataframe\">\n",
       "  <thead>\n",
       "    <tr style=\"text-align: right;\">\n",
       "      <th></th>\n",
       "      <th>Company</th>\n",
       "      <th>Label</th>\n",
       "      <th>Fulltext Cosine Similarity Wiki Summary</th>\n",
       "      <th>Fulltext Cosine Similarity Human Rights</th>\n",
       "      <th>Zero Shot Fulltext</th>\n",
       "      <th>PDF Name</th>\n",
       "      <th>TF-IDF</th>\n",
       "      <th>Top N Words</th>\n",
       "      <th>Report Type</th>\n",
       "      <th>Sentence Cosine Similarity Wiki Summarized</th>\n",
       "      <th>Sentence Cosine Similarity Wiki Summarized Mean</th>\n",
       "      <th>Sentence Cosine Similarity Wiki Summarized Mean Threshold 0</th>\n",
       "      <th>Sentence by Sentence Cosine Similarity human rights</th>\n",
       "      <th>Sentence by Sentence Cosine Similarity human rights mean</th>\n",
       "      <th>Sentence by Sentence Cosine Similarity human rights Mean Threshold 0</th>\n",
       "      <th>Zero Shot Learning Sentence Raw</th>\n",
       "      <th>Classified Text</th>\n",
       "      <th>Zero Shot Learning Sentence Mean</th>\n",
       "      <th>Zero Shot Learning Sentence Mean Threshold</th>\n",
       "    </tr>\n",
       "  </thead>\n",
       "  <tbody>\n",
       "    <tr>\n",
       "      <th>0</th>\n",
       "      <td>child_cocoa_school</td>\n",
       "      <td>sustainability</td>\n",
       "      <td>0.54579</td>\n",
       "      <td>0.54579</td>\n",
       "      <td>0.242261</td>\n",
       "      <td>nestle-tackling-child-labor-report-2019-en</td>\n",
       "      <td>[('child', 0.3676919823097556), ('report', 0.2...</td>\n",
       "      <td>[('child', 391), ('cocoa', 146), ('school', 14...</td>\n",
       "      <td>Normal Report</td>\n",
       "      <td>[tensor([[0.0519]]), tensor([[0.0648]]), tenso...</td>\n",
       "      <td>0.065</td>\n",
       "      <td>0.11</td>\n",
       "      <td>[tensor([[0.0519]]), tensor([[0.0648]]), tenso...</td>\n",
       "      <td>0.065</td>\n",
       "      <td>0.11</td>\n",
       "      <td>[0.7845346331596375, 0.8715912103652954, 0.683...</td>\n",
       "      <td>['Tackling Child Labor Report Continuing our c...</td>\n",
       "      <td>0.501</td>\n",
       "      <td>0.501</td>\n",
       "    </tr>\n",
       "  </tbody>\n",
       "</table>\n",
       "</div>"
      ],
      "text/plain": [
       "              Company           Label  \\\n",
       "0  child_cocoa_school  sustainability   \n",
       "\n",
       "   Fulltext Cosine Similarity Wiki Summary  \\\n",
       "0                                  0.54579   \n",
       "\n",
       "   Fulltext Cosine Similarity Human Rights  Zero Shot Fulltext  \\\n",
       "0                                  0.54579            0.242261   \n",
       "\n",
       "                                     PDF Name  \\\n",
       "0  nestle-tackling-child-labor-report-2019-en   \n",
       "\n",
       "                                              TF-IDF  \\\n",
       "0  [('child', 0.3676919823097556), ('report', 0.2...   \n",
       "\n",
       "                                         Top N Words    Report Type  \\\n",
       "0  [('child', 391), ('cocoa', 146), ('school', 14...  Normal Report   \n",
       "\n",
       "          Sentence Cosine Similarity Wiki Summarized  \\\n",
       "0  [tensor([[0.0519]]), tensor([[0.0648]]), tenso...   \n",
       "\n",
       "   Sentence Cosine Similarity Wiki Summarized Mean  \\\n",
       "0                                            0.065   \n",
       "\n",
       "   Sentence Cosine Similarity Wiki Summarized Mean Threshold 0  \\\n",
       "0                                               0.11             \n",
       "\n",
       "  Sentence by Sentence Cosine Similarity human rights  \\\n",
       "0  [tensor([[0.0519]]), tensor([[0.0648]]), tenso...    \n",
       "\n",
       "   Sentence by Sentence Cosine Similarity human rights mean  \\\n",
       "0                                              0.065          \n",
       "\n",
       "   Sentence by Sentence Cosine Similarity human rights Mean Threshold 0  \\\n",
       "0                                               0.11                      \n",
       "\n",
       "                     Zero Shot Learning Sentence Raw  \\\n",
       "0  [0.7845346331596375, 0.8715912103652954, 0.683...   \n",
       "\n",
       "                                     Classified Text  \\\n",
       "0  ['Tackling Child Labor Report Continuing our c...   \n",
       "\n",
       "   Zero Shot Learning Sentence Mean  \\\n",
       "0                             0.501   \n",
       "\n",
       "   Zero Shot Learning Sentence Mean Threshold  \n",
       "0                                       0.501  "
      ]
     },
     "execution_count": 7,
     "metadata": {},
     "output_type": "execute_result"
    }
   ],
   "source": [
    "result_normal = result[result[\"Report Type\"] == \"Normal Report\"]\n",
    "result_normal[0:1]"
   ]
  },
  {
   "attachments": {},
   "cell_type": "markdown",
   "metadata": {},
   "source": [
    "### Gute Human Rights Vorlage"
   ]
  },
  {
   "cell_type": "code",
   "execution_count": 28,
   "metadata": {},
   "outputs": [],
   "source": [
    "result_prep1 = result_normal[result_normal[\"Label\"] == \"human rights\"]"
   ]
  },
  {
   "cell_type": "code",
   "execution_count": 30,
   "metadata": {},
   "outputs": [
    {
     "data": {
      "application/vnd.plotly.v1+json": {
       "config": {
        "plotlyServerURL": "https://plot.ly"
       },
       "data": [
        {
         "alignmentgroup": "True",
         "boxpoints": "all",
         "hovertemplate": "data=Sentence by Sentence Cosine Similarity human rights Mean Threshold 0<br>value=%{y}<extra></extra>",
         "legendgroup": "Sentence by Sentence Cosine Similarity human rights Mean Threshold 0",
         "marker": {
          "color": "#636efa"
         },
         "name": "Sentence by Sentence Cosine Similarity human rights Mean Threshold 0",
         "notched": false,
         "offsetgroup": "Sentence by Sentence Cosine Similarity human rights Mean Threshold 0",
         "orientation": "v",
         "showlegend": true,
         "type": "box",
         "x0": " ",
         "xaxis": "x",
         "y": [
          0.099,
          0.098,
          0.117,
          0.112,
          0.142,
          0.119,
          0.117,
          0.14,
          0.146,
          0.11,
          0.114,
          0.113,
          0.107,
          0.127,
          0.12,
          0.107,
          0.118,
          0.109,
          0.109,
          0.107,
          0.138,
          0.122,
          0.117,
          0.135,
          0.13,
          0.137,
          0.121,
          0.116,
          0.104,
          0.149,
          0.093,
          0.07,
          0.135,
          0.084,
          0.096,
          0.22,
          0.104,
          0.122,
          0.093,
          0.105,
          0.117,
          0.148,
          0.174,
          0.156,
          0.089,
          0.097,
          0.073,
          0.133,
          0.143,
          0.127,
          0.114,
          0.12,
          0.13,
          0.13,
          0.123,
          0.13,
          0.122,
          0.121,
          0.121,
          0.12,
          0.134,
          0.118,
          0.104,
          0.12,
          0.115,
          0.122,
          0.121,
          0.126,
          0.106,
          0.116,
          0.13,
          0.132,
          0.107,
          0.105,
          0.13,
          0.133,
          0.12,
          0.141,
          0.115,
          0.128,
          0.142,
          0.082,
          0.105,
          0.124,
          0.156,
          0.137,
          0.115,
          0.138,
          0.141,
          0.127,
          0.117,
          0.107,
          0.13,
          0.114,
          0.143,
          0.125,
          0.12,
          0.072,
          0.098,
          0.107,
          0.134,
          0.161,
          0.12,
          0.116,
          0.113,
          0.112,
          0.138,
          0.102
         ],
         "y0": " ",
         "yaxis": "y"
        },
        {
         "alignmentgroup": "True",
         "boxpoints": "all",
         "hovertemplate": "data=Sentence Cosine Similarity Wiki Summarized Mean Threshold 0<br>value=%{y}<extra></extra>",
         "legendgroup": "Sentence Cosine Similarity Wiki Summarized Mean Threshold 0",
         "marker": {
          "color": "#EF553B"
         },
         "name": "Sentence Cosine Similarity Wiki Summarized Mean Threshold 0",
         "notched": false,
         "offsetgroup": "Sentence Cosine Similarity Wiki Summarized Mean Threshold 0",
         "orientation": "v",
         "showlegend": true,
         "type": "box",
         "x0": " ",
         "xaxis": "x",
         "y": [
          0.09,
          0.099,
          0.101,
          0.088,
          0.098,
          0.119,
          0.092,
          0.106,
          0.129,
          0.099,
          0.118,
          0.08,
          0.089,
          0.088,
          0.081,
          0.091,
          0.089,
          0.083,
          0.122,
          0.086,
          0.114,
          0.097,
          0.107,
          0.105,
          0.114,
          0.092,
          0.11,
          0.083,
          0.111,
          0.114,
          0.072,
          0.075,
          0.096,
          0.097,
          0.078,
          0.174,
          0.093,
          0.116,
          0.103,
          0.069,
          0.097,
          0.122,
          0.182,
          0.126,
          0.084,
          0.102,
          0.073,
          0.114,
          0.094,
          0.1,
          0.09,
          0.07,
          0.109,
          0.126,
          0.08,
          0.113,
          0.095,
          0.075,
          0.078,
          0.103,
          0.132,
          0.111,
          0.095,
          0.113,
          0.089,
          0.115,
          0.094,
          0.1,
          0.109,
          0.114,
          0.116,
          0.105,
          0.094,
          0.093,
          0.093,
          0.123,
          0.089,
          0.088,
          0.106,
          0.111,
          0.062,
          0.068,
          0.091,
          0.126,
          0.097,
          0.092,
          0.092,
          0.096,
          0.103,
          0.084,
          0.119,
          0.065,
          0.121,
          0.123,
          0.115,
          0.114,
          0.08,
          0.107,
          0.077,
          0.097,
          0.108,
          0.096,
          0.107,
          0.097,
          0.088,
          0.078,
          0.087,
          0.073
         ],
         "y0": " ",
         "yaxis": "y"
        }
       ],
       "layout": {
        "boxmode": "group",
        "legend": {
         "title": {
          "text": "data"
         },
         "tracegroupgap": 0,
         "x": 0.01,
         "xanchor": "left",
         "y": 1,
         "yanchor": "bottom"
        },
        "margin": {
         "t": 60
        },
        "template": {
         "data": {
          "bar": [
           {
            "error_x": {
             "color": "#2a3f5f"
            },
            "error_y": {
             "color": "#2a3f5f"
            },
            "marker": {
             "line": {
              "color": "#E5ECF6",
              "width": 0.5
             },
             "pattern": {
              "fillmode": "overlay",
              "size": 10,
              "solidity": 0.2
             }
            },
            "type": "bar"
           }
          ],
          "barpolar": [
           {
            "marker": {
             "line": {
              "color": "#E5ECF6",
              "width": 0.5
             },
             "pattern": {
              "fillmode": "overlay",
              "size": 10,
              "solidity": 0.2
             }
            },
            "type": "barpolar"
           }
          ],
          "carpet": [
           {
            "aaxis": {
             "endlinecolor": "#2a3f5f",
             "gridcolor": "white",
             "linecolor": "white",
             "minorgridcolor": "white",
             "startlinecolor": "#2a3f5f"
            },
            "baxis": {
             "endlinecolor": "#2a3f5f",
             "gridcolor": "white",
             "linecolor": "white",
             "minorgridcolor": "white",
             "startlinecolor": "#2a3f5f"
            },
            "type": "carpet"
           }
          ],
          "choropleth": [
           {
            "colorbar": {
             "outlinewidth": 0,
             "ticks": ""
            },
            "type": "choropleth"
           }
          ],
          "contour": [
           {
            "colorbar": {
             "outlinewidth": 0,
             "ticks": ""
            },
            "colorscale": [
             [
              0,
              "#0d0887"
             ],
             [
              0.1111111111111111,
              "#46039f"
             ],
             [
              0.2222222222222222,
              "#7201a8"
             ],
             [
              0.3333333333333333,
              "#9c179e"
             ],
             [
              0.4444444444444444,
              "#bd3786"
             ],
             [
              0.5555555555555556,
              "#d8576b"
             ],
             [
              0.6666666666666666,
              "#ed7953"
             ],
             [
              0.7777777777777778,
              "#fb9f3a"
             ],
             [
              0.8888888888888888,
              "#fdca26"
             ],
             [
              1,
              "#f0f921"
             ]
            ],
            "type": "contour"
           }
          ],
          "contourcarpet": [
           {
            "colorbar": {
             "outlinewidth": 0,
             "ticks": ""
            },
            "type": "contourcarpet"
           }
          ],
          "heatmap": [
           {
            "colorbar": {
             "outlinewidth": 0,
             "ticks": ""
            },
            "colorscale": [
             [
              0,
              "#0d0887"
             ],
             [
              0.1111111111111111,
              "#46039f"
             ],
             [
              0.2222222222222222,
              "#7201a8"
             ],
             [
              0.3333333333333333,
              "#9c179e"
             ],
             [
              0.4444444444444444,
              "#bd3786"
             ],
             [
              0.5555555555555556,
              "#d8576b"
             ],
             [
              0.6666666666666666,
              "#ed7953"
             ],
             [
              0.7777777777777778,
              "#fb9f3a"
             ],
             [
              0.8888888888888888,
              "#fdca26"
             ],
             [
              1,
              "#f0f921"
             ]
            ],
            "type": "heatmap"
           }
          ],
          "heatmapgl": [
           {
            "colorbar": {
             "outlinewidth": 0,
             "ticks": ""
            },
            "colorscale": [
             [
              0,
              "#0d0887"
             ],
             [
              0.1111111111111111,
              "#46039f"
             ],
             [
              0.2222222222222222,
              "#7201a8"
             ],
             [
              0.3333333333333333,
              "#9c179e"
             ],
             [
              0.4444444444444444,
              "#bd3786"
             ],
             [
              0.5555555555555556,
              "#d8576b"
             ],
             [
              0.6666666666666666,
              "#ed7953"
             ],
             [
              0.7777777777777778,
              "#fb9f3a"
             ],
             [
              0.8888888888888888,
              "#fdca26"
             ],
             [
              1,
              "#f0f921"
             ]
            ],
            "type": "heatmapgl"
           }
          ],
          "histogram": [
           {
            "marker": {
             "pattern": {
              "fillmode": "overlay",
              "size": 10,
              "solidity": 0.2
             }
            },
            "type": "histogram"
           }
          ],
          "histogram2d": [
           {
            "colorbar": {
             "outlinewidth": 0,
             "ticks": ""
            },
            "colorscale": [
             [
              0,
              "#0d0887"
             ],
             [
              0.1111111111111111,
              "#46039f"
             ],
             [
              0.2222222222222222,
              "#7201a8"
             ],
             [
              0.3333333333333333,
              "#9c179e"
             ],
             [
              0.4444444444444444,
              "#bd3786"
             ],
             [
              0.5555555555555556,
              "#d8576b"
             ],
             [
              0.6666666666666666,
              "#ed7953"
             ],
             [
              0.7777777777777778,
              "#fb9f3a"
             ],
             [
              0.8888888888888888,
              "#fdca26"
             ],
             [
              1,
              "#f0f921"
             ]
            ],
            "type": "histogram2d"
           }
          ],
          "histogram2dcontour": [
           {
            "colorbar": {
             "outlinewidth": 0,
             "ticks": ""
            },
            "colorscale": [
             [
              0,
              "#0d0887"
             ],
             [
              0.1111111111111111,
              "#46039f"
             ],
             [
              0.2222222222222222,
              "#7201a8"
             ],
             [
              0.3333333333333333,
              "#9c179e"
             ],
             [
              0.4444444444444444,
              "#bd3786"
             ],
             [
              0.5555555555555556,
              "#d8576b"
             ],
             [
              0.6666666666666666,
              "#ed7953"
             ],
             [
              0.7777777777777778,
              "#fb9f3a"
             ],
             [
              0.8888888888888888,
              "#fdca26"
             ],
             [
              1,
              "#f0f921"
             ]
            ],
            "type": "histogram2dcontour"
           }
          ],
          "mesh3d": [
           {
            "colorbar": {
             "outlinewidth": 0,
             "ticks": ""
            },
            "type": "mesh3d"
           }
          ],
          "parcoords": [
           {
            "line": {
             "colorbar": {
              "outlinewidth": 0,
              "ticks": ""
             }
            },
            "type": "parcoords"
           }
          ],
          "pie": [
           {
            "automargin": true,
            "type": "pie"
           }
          ],
          "scatter": [
           {
            "fillpattern": {
             "fillmode": "overlay",
             "size": 10,
             "solidity": 0.2
            },
            "type": "scatter"
           }
          ],
          "scatter3d": [
           {
            "line": {
             "colorbar": {
              "outlinewidth": 0,
              "ticks": ""
             }
            },
            "marker": {
             "colorbar": {
              "outlinewidth": 0,
              "ticks": ""
             }
            },
            "type": "scatter3d"
           }
          ],
          "scattercarpet": [
           {
            "marker": {
             "colorbar": {
              "outlinewidth": 0,
              "ticks": ""
             }
            },
            "type": "scattercarpet"
           }
          ],
          "scattergeo": [
           {
            "marker": {
             "colorbar": {
              "outlinewidth": 0,
              "ticks": ""
             }
            },
            "type": "scattergeo"
           }
          ],
          "scattergl": [
           {
            "marker": {
             "colorbar": {
              "outlinewidth": 0,
              "ticks": ""
             }
            },
            "type": "scattergl"
           }
          ],
          "scattermapbox": [
           {
            "marker": {
             "colorbar": {
              "outlinewidth": 0,
              "ticks": ""
             }
            },
            "type": "scattermapbox"
           }
          ],
          "scatterpolar": [
           {
            "marker": {
             "colorbar": {
              "outlinewidth": 0,
              "ticks": ""
             }
            },
            "type": "scatterpolar"
           }
          ],
          "scatterpolargl": [
           {
            "marker": {
             "colorbar": {
              "outlinewidth": 0,
              "ticks": ""
             }
            },
            "type": "scatterpolargl"
           }
          ],
          "scatterternary": [
           {
            "marker": {
             "colorbar": {
              "outlinewidth": 0,
              "ticks": ""
             }
            },
            "type": "scatterternary"
           }
          ],
          "surface": [
           {
            "colorbar": {
             "outlinewidth": 0,
             "ticks": ""
            },
            "colorscale": [
             [
              0,
              "#0d0887"
             ],
             [
              0.1111111111111111,
              "#46039f"
             ],
             [
              0.2222222222222222,
              "#7201a8"
             ],
             [
              0.3333333333333333,
              "#9c179e"
             ],
             [
              0.4444444444444444,
              "#bd3786"
             ],
             [
              0.5555555555555556,
              "#d8576b"
             ],
             [
              0.6666666666666666,
              "#ed7953"
             ],
             [
              0.7777777777777778,
              "#fb9f3a"
             ],
             [
              0.8888888888888888,
              "#fdca26"
             ],
             [
              1,
              "#f0f921"
             ]
            ],
            "type": "surface"
           }
          ],
          "table": [
           {
            "cells": {
             "fill": {
              "color": "#EBF0F8"
             },
             "line": {
              "color": "white"
             }
            },
            "header": {
             "fill": {
              "color": "#C8D4E3"
             },
             "line": {
              "color": "white"
             }
            },
            "type": "table"
           }
          ]
         },
         "layout": {
          "annotationdefaults": {
           "arrowcolor": "#2a3f5f",
           "arrowhead": 0,
           "arrowwidth": 1
          },
          "autotypenumbers": "strict",
          "coloraxis": {
           "colorbar": {
            "outlinewidth": 0,
            "ticks": ""
           }
          },
          "colorscale": {
           "diverging": [
            [
             0,
             "#8e0152"
            ],
            [
             0.1,
             "#c51b7d"
            ],
            [
             0.2,
             "#de77ae"
            ],
            [
             0.3,
             "#f1b6da"
            ],
            [
             0.4,
             "#fde0ef"
            ],
            [
             0.5,
             "#f7f7f7"
            ],
            [
             0.6,
             "#e6f5d0"
            ],
            [
             0.7,
             "#b8e186"
            ],
            [
             0.8,
             "#7fbc41"
            ],
            [
             0.9,
             "#4d9221"
            ],
            [
             1,
             "#276419"
            ]
           ],
           "sequential": [
            [
             0,
             "#0d0887"
            ],
            [
             0.1111111111111111,
             "#46039f"
            ],
            [
             0.2222222222222222,
             "#7201a8"
            ],
            [
             0.3333333333333333,
             "#9c179e"
            ],
            [
             0.4444444444444444,
             "#bd3786"
            ],
            [
             0.5555555555555556,
             "#d8576b"
            ],
            [
             0.6666666666666666,
             "#ed7953"
            ],
            [
             0.7777777777777778,
             "#fb9f3a"
            ],
            [
             0.8888888888888888,
             "#fdca26"
            ],
            [
             1,
             "#f0f921"
            ]
           ],
           "sequentialminus": [
            [
             0,
             "#0d0887"
            ],
            [
             0.1111111111111111,
             "#46039f"
            ],
            [
             0.2222222222222222,
             "#7201a8"
            ],
            [
             0.3333333333333333,
             "#9c179e"
            ],
            [
             0.4444444444444444,
             "#bd3786"
            ],
            [
             0.5555555555555556,
             "#d8576b"
            ],
            [
             0.6666666666666666,
             "#ed7953"
            ],
            [
             0.7777777777777778,
             "#fb9f3a"
            ],
            [
             0.8888888888888888,
             "#fdca26"
            ],
            [
             1,
             "#f0f921"
            ]
           ]
          },
          "colorway": [
           "#636efa",
           "#EF553B",
           "#00cc96",
           "#ab63fa",
           "#FFA15A",
           "#19d3f3",
           "#FF6692",
           "#B6E880",
           "#FF97FF",
           "#FECB52"
          ],
          "font": {
           "color": "#2a3f5f"
          },
          "geo": {
           "bgcolor": "white",
           "lakecolor": "white",
           "landcolor": "#E5ECF6",
           "showlakes": true,
           "showland": true,
           "subunitcolor": "white"
          },
          "hoverlabel": {
           "align": "left"
          },
          "hovermode": "closest",
          "mapbox": {
           "style": "light"
          },
          "paper_bgcolor": "white",
          "plot_bgcolor": "#E5ECF6",
          "polar": {
           "angularaxis": {
            "gridcolor": "white",
            "linecolor": "white",
            "ticks": ""
           },
           "bgcolor": "#E5ECF6",
           "radialaxis": {
            "gridcolor": "white",
            "linecolor": "white",
            "ticks": ""
           }
          },
          "scene": {
           "xaxis": {
            "backgroundcolor": "#E5ECF6",
            "gridcolor": "white",
            "gridwidth": 2,
            "linecolor": "white",
            "showbackground": true,
            "ticks": "",
            "zerolinecolor": "white"
           },
           "yaxis": {
            "backgroundcolor": "#E5ECF6",
            "gridcolor": "white",
            "gridwidth": 2,
            "linecolor": "white",
            "showbackground": true,
            "ticks": "",
            "zerolinecolor": "white"
           },
           "zaxis": {
            "backgroundcolor": "#E5ECF6",
            "gridcolor": "white",
            "gridwidth": 2,
            "linecolor": "white",
            "showbackground": true,
            "ticks": "",
            "zerolinecolor": "white"
           }
          },
          "shapedefaults": {
           "line": {
            "color": "#2a3f5f"
           }
          },
          "ternary": {
           "aaxis": {
            "gridcolor": "white",
            "linecolor": "white",
            "ticks": ""
           },
           "baxis": {
            "gridcolor": "white",
            "linecolor": "white",
            "ticks": ""
           },
           "bgcolor": "#E5ECF6",
           "caxis": {
            "gridcolor": "white",
            "linecolor": "white",
            "ticks": ""
           }
          },
          "title": {
           "x": 0.05
          },
          "xaxis": {
           "automargin": true,
           "gridcolor": "white",
           "linecolor": "white",
           "ticks": "",
           "title": {
            "standoff": 15
           },
           "zerolinecolor": "white",
           "zerolinewidth": 2
          },
          "yaxis": {
           "automargin": true,
           "gridcolor": "white",
           "linecolor": "white",
           "ticks": "",
           "title": {
            "standoff": 15
           },
           "zerolinecolor": "white",
           "zerolinewidth": 2
          }
         }
        },
        "width": 800,
        "xaxis": {
         "anchor": "y",
         "domain": [
          0,
          1
         ]
        },
        "yaxis": {
         "anchor": "x",
         "domain": [
          0,
          1
         ],
         "title": {
          "text": "value"
         }
        }
       }
      }
     },
     "metadata": {},
     "output_type": "display_data"
    }
   ],
   "source": [
    "result_prep = result_prep1[[\"Sentence by Sentence Cosine Similarity human rights Mean Threshold 0\", \"Sentence Cosine Similarity Wiki Summarized Mean Threshold 0\"]]\n",
    "result_prep_melt = result_prep.melt(var_name=\"data\")\n",
    "fig = px.box(result_prep_melt, y=\"value\", points=\"all\", color = \"data\", width=800)\n",
    "fig.update_layout(legend=dict(\n",
    "    yanchor=\"bottom\",\n",
    "    y=1,\n",
    "    xanchor=\"left\",\n",
    "    x=0.01\n",
    "))\n",
    "fig.show()"
   ]
  },
  {
   "cell_type": "code",
   "execution_count": 31,
   "metadata": {},
   "outputs": [
    {
     "data": {
      "text/plain": [
       "F_onewayResult(statistic=60.792711595605944, pvalue=2.739720305657065e-13)"
      ]
     },
     "execution_count": 31,
     "metadata": {},
     "output_type": "execute_result"
    }
   ],
   "source": [
    "sentence_wiki = result_prep1[\"Sentence by Sentence Cosine Similarity human rights Mean Threshold 0\"]\n",
    "sentence_ilo = result_prep1[\"Sentence Cosine Similarity Wiki Summarized Mean Threshold 0\"]\n",
    "\n",
    "\n",
    "f_oneway(sentence_wiki, sentence_ilo)\n"
   ]
  }
 ],
 "metadata": {
  "kernelspec": {
   "display_name": "Python 3.10.1 64-bit",
   "language": "python",
   "name": "python3"
  },
  "language_info": {
   "codemirror_mode": {
    "name": "ipython",
    "version": 3
   },
   "file_extension": ".py",
   "mimetype": "text/x-python",
   "name": "python",
   "nbconvert_exporter": "python",
   "pygments_lexer": "ipython3",
   "version": "3.10.1 (tags/v3.10.1:2cd268a, Dec  6 2021, 19:10:37) [MSC v.1929 64 bit (AMD64)]"
  },
  "orig_nbformat": 4,
  "vscode": {
   "interpreter": {
    "hash": "5cf922369b83184eb6b2ab0a3b64d08061786420dbf1332a02b89d0aac9562ca"
   }
  }
 },
 "nbformat": 4,
 "nbformat_minor": 2
}
