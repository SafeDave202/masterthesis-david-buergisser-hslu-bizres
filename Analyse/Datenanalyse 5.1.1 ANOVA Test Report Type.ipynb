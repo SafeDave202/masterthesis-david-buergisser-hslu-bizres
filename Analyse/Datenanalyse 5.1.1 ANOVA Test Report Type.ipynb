{
 "cells": [
  {
   "attachments": {},
   "cell_type": "markdown",
   "metadata": {},
   "source": [
    "# 5.1.5\tANOVA-Test Unterscheidung der Report Typen"
   ]
  },
  {
   "cell_type": "code",
   "execution_count": 2,
   "metadata": {},
   "outputs": [],
   "source": [
    "import pandas as pd\n",
    "import os\n",
    "import plotly.express as px\n",
    "import numpy as np"
   ]
  },
  {
   "cell_type": "code",
   "execution_count": 3,
   "metadata": {},
   "outputs": [],
   "source": [
    "from statistics import mean\n",
    "from scipy.stats import f_oneway\n"
   ]
  },
  {
   "cell_type": "code",
   "execution_count": 20,
   "metadata": {},
   "outputs": [],
   "source": [
    "result = pd.read_csv(r\"..\\Data\\Resultate\\combined_results.csv\", index_col=0)"
   ]
  },
  {
   "attachments": {},
   "cell_type": "markdown",
   "metadata": {},
   "source": [
    "#### Sentence-BERT satzweise ANOVA-Test auf Report-Type"
   ]
  },
  {
   "cell_type": "code",
   "execution_count": 31,
   "metadata": {},
   "outputs": [
    {
     "data": {
      "text/plain": [
       "0.00018440694505751293"
      ]
     },
     "execution_count": 31,
     "metadata": {},
     "output_type": "execute_result"
    }
   ],
   "source": [
    "#Prüfung ob ANOVA zulässig oder nicht\n",
    "\n",
    "from scipy.stats import bartlett\n",
    "\n",
    "column = \"Sentence Cosine Similarity Wiki Summarized Mean Threshold 0\"\n",
    "normal_reports = result[result[\"Report Type\"] == \"Normal Report\"][column]\n",
    "de_reports = result[result[\"Report Type\"] == \"DE\"][column]\n",
    "fake_reports = result[result[\"Report Type\"] == \"Fake\"][column]\n",
    "\n",
    "stat, p = bartlett(normal_reports, de_reports, fake_reports)\n",
    "p"
   ]
  },
  {
   "cell_type": "code",
   "execution_count": 32,
   "metadata": {},
   "outputs": [
    {
     "data": {
      "application/vnd.plotly.v1+json": {
       "config": {
        "plotlyServerURL": "https://plot.ly"
       },
       "data": [
        {
         "alignmentgroup": "True",
         "boxpoints": "all",
         "hovertemplate": "Report Type=Normal Report<br>Sentence Cosine Similarity Wiki Summarized Mean Threshold 0=%{y}<extra></extra>",
         "legendgroup": "Normal Report",
         "marker": {
          "color": "#636efa"
         },
         "name": "Normal Report",
         "notched": false,
         "offsetgroup": "Normal Report",
         "orientation": "v",
         "showlegend": true,
         "type": "box",
         "x0": " ",
         "xaxis": "x",
         "y": [
          0.104,
          0.114,
          0.188,
          0.106,
          0.062,
          0.12,
          0.095,
          0.092,
          0.103,
          0.067,
          0.142,
          0.08,
          0.123,
          0.08,
          0.071,
          0.067,
          0.141,
          0.095,
          0.091,
          0.066,
          0.126,
          0.069,
          0.095,
          0.068,
          0.042,
          0.107,
          0.089,
          0.067,
          0.161,
          0.068,
          0.198,
          0.109,
          0.115,
          0.107,
          0.076,
          0.081,
          0.125,
          0.105,
          0.09,
          0.08,
          0.184,
          0.099,
          0.094,
          0.097,
          0.086,
          0.226,
          0.108,
          0.1,
          0.114,
          0.053,
          0.163,
          0.113,
          0.1,
          0.114,
          0.05,
          0.187,
          0.087,
          0.118,
          0.086,
          0.054,
          0.172,
          0.092,
          0.107,
          0.118,
          0.073,
          0.178,
          0.12,
          0.098,
          0.097,
          0.062,
          0.173,
          0.113,
          0.124,
          0.126,
          0.087,
          0.111,
          0.11,
          0.131,
          0.09,
          0.06,
          0.122,
          0.113,
          0.145,
          0.087,
          0.061,
          0.219,
          0.102,
          0.112,
          0.114,
          0.077,
          0.177,
          0.077,
          0.072,
          0.077,
          0.068,
          0.098,
          0.172,
          0.101,
          0.098,
          0.077,
          0.156,
          0.084,
          0.073,
          0.088,
          0.054,
          0.179,
          0.093,
          0.084,
          0.105,
          0.066,
          0.171,
          0.098,
          0.115,
          0.088,
          0.077,
          0.188,
          0.076,
          0.078,
          0.089,
          0.042,
          0.225,
          0.11,
          0.103,
          0.092,
          0.077,
          0.169,
          0.092,
          0.098,
          0.097,
          0.074,
          0.164,
          0.169,
          0.088,
          0.077,
          0.05,
          0.077,
          0.098,
          0.087,
          0.096,
          0.052,
          0.085,
          0.112,
          0.092,
          0.088,
          0.047,
          0.103,
          0.073,
          0.089,
          0.073,
          0.052,
          0.087,
          0.088,
          0.11,
          0.087,
          0.053,
          0.137,
          0.073,
          0.081,
          0.078,
          0.084,
          0.152,
          0.144,
          0.109,
          0.115,
          0.077,
          0.091,
          0.142,
          0.098,
          0.08,
          0.067,
          0.119,
          0.078,
          0.069,
          0.08,
          0.069,
          0.15,
          0.075,
          0.096,
          0.1,
          0.068,
          0.067,
          0.202,
          0.088,
          0.102,
          0.051,
          0.207,
          0.062,
          0.064,
          0.062,
          0.035,
          0.217,
          0.074,
          0.098,
          0.097,
          0.04,
          0.168,
          0.162,
          0.243,
          0.182,
          0.045,
          0.182,
          0.094,
          0.099,
          0.087,
          0.042,
          0.148,
          0.083,
          0.099,
          0.083,
          0.054,
          0.132,
          0.087,
          0.09,
          0.089,
          0.076,
          0.132,
          0.095,
          0.108,
          0.066,
          0.084,
          0.12,
          0.083,
          0.094,
          0.12,
          0.083,
          0.168,
          0.097,
          0.103,
          0.116,
          0.071,
          0.097,
          0.254,
          0.1,
          0.106,
          0.065,
          0.17,
          0.101,
          0.118,
          0.113,
          0.079,
          0.221,
          0.134,
          0.129,
          0.129,
          0.066,
          0.188,
          0.113,
          0.132,
          0.105,
          0.074,
          0.266,
          0.046,
          0.083,
          0.107,
          0.051,
          0.221,
          0.032,
          0.075,
          0.08,
          0.042,
          0.173,
          0.113,
          0.116,
          0.126,
          0.066,
          0.195,
          0.12,
          0.103,
          0.098,
          0.088,
          0.193,
          0.064,
          0.126,
          0.121,
          0.117,
          0.152,
          0.088,
          0.126,
          0.141,
          0.087,
          0.139,
          0.15,
          0.174,
          0.204,
          0.107,
          0.103,
          0.073,
          0.08,
          0.077,
          0.078,
          0.198,
          0.123,
          0.15,
          0.091,
          0.046,
          0.195,
          0.132,
          0.098,
          0.116,
          0.065,
          0.124,
          0.084,
          0.054,
          0.097,
          0.098,
          0.199,
          0.086,
          0.097,
          0.066,
          0.093,
          0.212,
          0.114,
          0.067,
          0.103,
          0.082,
          0.099,
          0.212,
          0.094,
          0.119,
          0.065,
          0.221,
          0.092,
          0.079,
          0.101,
          0.041,
          0.116,
          0.164,
          0.11,
          0.108,
          0.097,
          0.15,
          0.077,
          0.088,
          0.11,
          0.059,
          0.209,
          0.075,
          0.122,
          0.348,
          0.015,
          0.103,
          0.083,
          0.075,
          0.191,
          0.05,
          0.096,
          0.095,
          0.095,
          0.183,
          0.085,
          0.217,
          0.134,
          0.103,
          0.119,
          0.076,
          0.105,
          0.183,
          0.096,
          0.091,
          0.052,
          0.177,
          0.097,
          0.126,
          0.119,
          0.075,
          0.182,
          0.097,
          0.098,
          0.089,
          0.059,
          0.145,
          0.136,
          0.099,
          0.123,
          0.077,
          0.214,
          0.093,
          0.095,
          0.069,
          0.062,
          0.139,
          0.097,
          0.098,
          0.088,
          0.065,
          0.178,
          0.111,
          0.109,
          0.072,
          0.103,
          0.193,
          0.116,
          0.088,
          0.096,
          0.056,
          0.206,
          0.097,
          0.095,
          0.076,
          0.096,
          0.056,
          0.081,
          0.05,
          0.065,
          0.058,
          0.154,
          0.113,
          0.109,
          0.096,
          0.101,
          0.104,
          0.077,
          0.075,
          0.089,
          0.062,
          0.113,
          0.08,
          0.08,
          0.078,
          0.075,
          0.095,
          0.103,
          0.066,
          0.07,
          0.062,
          0.242,
          0.113,
          0.095,
          0.118,
          0.085,
          0.245,
          0.117,
          0.158,
          0.1,
          0.091,
          0.206,
          0.11,
          0.11,
          0.117,
          0.076,
          0.191,
          0.105,
          0.12,
          0.116,
          0.055,
          0.194,
          0.118,
          0.112,
          0.093,
          0.064,
          0.204,
          0.119,
          0.11,
          0.114,
          0.062,
          0.24,
          0.094,
          0.121,
          0.107,
          0.073,
          0.214,
          0.142,
          0.121,
          0.114,
          0.071,
          0.17,
          0.115,
          0.098,
          0.125,
          0.076,
          0.229,
          0.098,
          0.114,
          0.106,
          0.075,
          0.221,
          0.109,
          0.084,
          0.099,
          0.094,
          0.111,
          0.098,
          0.204,
          0.111,
          0.062,
          0.084,
          0.187,
          0.115,
          0.125,
          0.077,
          0.141,
          0.104,
          0.098,
          0.069,
          0.056,
          0.129,
          0.09,
          0.089,
          0.085,
          0.076,
          0.223,
          0.092,
          0.125,
          0.114,
          0.069,
          0.08,
          0.106,
          0.081,
          0.069,
          0.07,
          0.189,
          0.143,
          0.111,
          0.127,
          0.074,
          0.159,
          0.117,
          0.12,
          0.121,
          0.061,
          0.14,
          0.092,
          0.092,
          0.088,
          0.07,
          0.242,
          0.092,
          0.056,
          0.049,
          0.084,
          0.157,
          0.101,
          0.093,
          0.106,
          0.062,
          0.185,
          0.117,
          0.091,
          0.097,
          0.074,
          0.212,
          0.111,
          0.088,
          0.129,
          0.066
         ],
         "y0": " ",
         "yaxis": "y"
        },
        {
         "alignmentgroup": "True",
         "boxpoints": "all",
         "hovertemplate": "Report Type=Fake<br>Sentence Cosine Similarity Wiki Summarized Mean Threshold 0=%{y}<extra></extra>",
         "legendgroup": "Fake",
         "marker": {
          "color": "#EF553B"
         },
         "name": "Fake",
         "notched": false,
         "offsetgroup": "Fake",
         "orientation": "v",
         "showlegend": true,
         "type": "box",
         "x0": " ",
         "xaxis": "x",
         "y": [
          0.047,
          0.09,
          0.221,
          0.088,
          0.094,
          0.097,
          0.033,
          0.099,
          0.1,
          0.096,
          0.056,
          0.092,
          0.089,
          0.066,
          0.052,
          0.067,
          0.079,
          0.096,
          0.079,
          0.072,
          0.076,
          0.12,
          0.069,
          0.092,
          0.066
         ],
         "y0": " ",
         "yaxis": "y"
        },
        {
         "alignmentgroup": "True",
         "boxpoints": "all",
         "hovertemplate": "Report Type=DE<br>Sentence Cosine Similarity Wiki Summarized Mean Threshold 0=%{y}<extra></extra>",
         "legendgroup": "DE",
         "marker": {
          "color": "#00cc96"
         },
         "name": "DE",
         "notched": false,
         "offsetgroup": "DE",
         "orientation": "v",
         "showlegend": true,
         "type": "box",
         "x0": " ",
         "xaxis": "x",
         "y": [
          0.08,
          0.123,
          0.095,
          0.113,
          0.094,
          0.115,
          0.083,
          0.066,
          0.087,
          0.081,
          0.079,
          0.099,
          0.119,
          0.049,
          0.089,
          0.101,
          0.088,
          0.085,
          0.076,
          0.05
         ],
         "y0": " ",
         "yaxis": "y"
        }
       ],
       "layout": {
        "boxmode": "group",
        "legend": {
         "title": {
          "text": "Report Type"
         },
         "tracegroupgap": 0,
         "x": 0.01,
         "xanchor": "left",
         "y": 1,
         "yanchor": "bottom"
        },
        "margin": {
         "t": 60
        },
        "template": {
         "data": {
          "bar": [
           {
            "error_x": {
             "color": "#2a3f5f"
            },
            "error_y": {
             "color": "#2a3f5f"
            },
            "marker": {
             "line": {
              "color": "#E5ECF6",
              "width": 0.5
             },
             "pattern": {
              "fillmode": "overlay",
              "size": 10,
              "solidity": 0.2
             }
            },
            "type": "bar"
           }
          ],
          "barpolar": [
           {
            "marker": {
             "line": {
              "color": "#E5ECF6",
              "width": 0.5
             },
             "pattern": {
              "fillmode": "overlay",
              "size": 10,
              "solidity": 0.2
             }
            },
            "type": "barpolar"
           }
          ],
          "carpet": [
           {
            "aaxis": {
             "endlinecolor": "#2a3f5f",
             "gridcolor": "white",
             "linecolor": "white",
             "minorgridcolor": "white",
             "startlinecolor": "#2a3f5f"
            },
            "baxis": {
             "endlinecolor": "#2a3f5f",
             "gridcolor": "white",
             "linecolor": "white",
             "minorgridcolor": "white",
             "startlinecolor": "#2a3f5f"
            },
            "type": "carpet"
           }
          ],
          "choropleth": [
           {
            "colorbar": {
             "outlinewidth": 0,
             "ticks": ""
            },
            "type": "choropleth"
           }
          ],
          "contour": [
           {
            "colorbar": {
             "outlinewidth": 0,
             "ticks": ""
            },
            "colorscale": [
             [
              0,
              "#0d0887"
             ],
             [
              0.1111111111111111,
              "#46039f"
             ],
             [
              0.2222222222222222,
              "#7201a8"
             ],
             [
              0.3333333333333333,
              "#9c179e"
             ],
             [
              0.4444444444444444,
              "#bd3786"
             ],
             [
              0.5555555555555556,
              "#d8576b"
             ],
             [
              0.6666666666666666,
              "#ed7953"
             ],
             [
              0.7777777777777778,
              "#fb9f3a"
             ],
             [
              0.8888888888888888,
              "#fdca26"
             ],
             [
              1,
              "#f0f921"
             ]
            ],
            "type": "contour"
           }
          ],
          "contourcarpet": [
           {
            "colorbar": {
             "outlinewidth": 0,
             "ticks": ""
            },
            "type": "contourcarpet"
           }
          ],
          "heatmap": [
           {
            "colorbar": {
             "outlinewidth": 0,
             "ticks": ""
            },
            "colorscale": [
             [
              0,
              "#0d0887"
             ],
             [
              0.1111111111111111,
              "#46039f"
             ],
             [
              0.2222222222222222,
              "#7201a8"
             ],
             [
              0.3333333333333333,
              "#9c179e"
             ],
             [
              0.4444444444444444,
              "#bd3786"
             ],
             [
              0.5555555555555556,
              "#d8576b"
             ],
             [
              0.6666666666666666,
              "#ed7953"
             ],
             [
              0.7777777777777778,
              "#fb9f3a"
             ],
             [
              0.8888888888888888,
              "#fdca26"
             ],
             [
              1,
              "#f0f921"
             ]
            ],
            "type": "heatmap"
           }
          ],
          "heatmapgl": [
           {
            "colorbar": {
             "outlinewidth": 0,
             "ticks": ""
            },
            "colorscale": [
             [
              0,
              "#0d0887"
             ],
             [
              0.1111111111111111,
              "#46039f"
             ],
             [
              0.2222222222222222,
              "#7201a8"
             ],
             [
              0.3333333333333333,
              "#9c179e"
             ],
             [
              0.4444444444444444,
              "#bd3786"
             ],
             [
              0.5555555555555556,
              "#d8576b"
             ],
             [
              0.6666666666666666,
              "#ed7953"
             ],
             [
              0.7777777777777778,
              "#fb9f3a"
             ],
             [
              0.8888888888888888,
              "#fdca26"
             ],
             [
              1,
              "#f0f921"
             ]
            ],
            "type": "heatmapgl"
           }
          ],
          "histogram": [
           {
            "marker": {
             "pattern": {
              "fillmode": "overlay",
              "size": 10,
              "solidity": 0.2
             }
            },
            "type": "histogram"
           }
          ],
          "histogram2d": [
           {
            "colorbar": {
             "outlinewidth": 0,
             "ticks": ""
            },
            "colorscale": [
             [
              0,
              "#0d0887"
             ],
             [
              0.1111111111111111,
              "#46039f"
             ],
             [
              0.2222222222222222,
              "#7201a8"
             ],
             [
              0.3333333333333333,
              "#9c179e"
             ],
             [
              0.4444444444444444,
              "#bd3786"
             ],
             [
              0.5555555555555556,
              "#d8576b"
             ],
             [
              0.6666666666666666,
              "#ed7953"
             ],
             [
              0.7777777777777778,
              "#fb9f3a"
             ],
             [
              0.8888888888888888,
              "#fdca26"
             ],
             [
              1,
              "#f0f921"
             ]
            ],
            "type": "histogram2d"
           }
          ],
          "histogram2dcontour": [
           {
            "colorbar": {
             "outlinewidth": 0,
             "ticks": ""
            },
            "colorscale": [
             [
              0,
              "#0d0887"
             ],
             [
              0.1111111111111111,
              "#46039f"
             ],
             [
              0.2222222222222222,
              "#7201a8"
             ],
             [
              0.3333333333333333,
              "#9c179e"
             ],
             [
              0.4444444444444444,
              "#bd3786"
             ],
             [
              0.5555555555555556,
              "#d8576b"
             ],
             [
              0.6666666666666666,
              "#ed7953"
             ],
             [
              0.7777777777777778,
              "#fb9f3a"
             ],
             [
              0.8888888888888888,
              "#fdca26"
             ],
             [
              1,
              "#f0f921"
             ]
            ],
            "type": "histogram2dcontour"
           }
          ],
          "mesh3d": [
           {
            "colorbar": {
             "outlinewidth": 0,
             "ticks": ""
            },
            "type": "mesh3d"
           }
          ],
          "parcoords": [
           {
            "line": {
             "colorbar": {
              "outlinewidth": 0,
              "ticks": ""
             }
            },
            "type": "parcoords"
           }
          ],
          "pie": [
           {
            "automargin": true,
            "type": "pie"
           }
          ],
          "scatter": [
           {
            "fillpattern": {
             "fillmode": "overlay",
             "size": 10,
             "solidity": 0.2
            },
            "type": "scatter"
           }
          ],
          "scatter3d": [
           {
            "line": {
             "colorbar": {
              "outlinewidth": 0,
              "ticks": ""
             }
            },
            "marker": {
             "colorbar": {
              "outlinewidth": 0,
              "ticks": ""
             }
            },
            "type": "scatter3d"
           }
          ],
          "scattercarpet": [
           {
            "marker": {
             "colorbar": {
              "outlinewidth": 0,
              "ticks": ""
             }
            },
            "type": "scattercarpet"
           }
          ],
          "scattergeo": [
           {
            "marker": {
             "colorbar": {
              "outlinewidth": 0,
              "ticks": ""
             }
            },
            "type": "scattergeo"
           }
          ],
          "scattergl": [
           {
            "marker": {
             "colorbar": {
              "outlinewidth": 0,
              "ticks": ""
             }
            },
            "type": "scattergl"
           }
          ],
          "scattermapbox": [
           {
            "marker": {
             "colorbar": {
              "outlinewidth": 0,
              "ticks": ""
             }
            },
            "type": "scattermapbox"
           }
          ],
          "scatterpolar": [
           {
            "marker": {
             "colorbar": {
              "outlinewidth": 0,
              "ticks": ""
             }
            },
            "type": "scatterpolar"
           }
          ],
          "scatterpolargl": [
           {
            "marker": {
             "colorbar": {
              "outlinewidth": 0,
              "ticks": ""
             }
            },
            "type": "scatterpolargl"
           }
          ],
          "scatterternary": [
           {
            "marker": {
             "colorbar": {
              "outlinewidth": 0,
              "ticks": ""
             }
            },
            "type": "scatterternary"
           }
          ],
          "surface": [
           {
            "colorbar": {
             "outlinewidth": 0,
             "ticks": ""
            },
            "colorscale": [
             [
              0,
              "#0d0887"
             ],
             [
              0.1111111111111111,
              "#46039f"
             ],
             [
              0.2222222222222222,
              "#7201a8"
             ],
             [
              0.3333333333333333,
              "#9c179e"
             ],
             [
              0.4444444444444444,
              "#bd3786"
             ],
             [
              0.5555555555555556,
              "#d8576b"
             ],
             [
              0.6666666666666666,
              "#ed7953"
             ],
             [
              0.7777777777777778,
              "#fb9f3a"
             ],
             [
              0.8888888888888888,
              "#fdca26"
             ],
             [
              1,
              "#f0f921"
             ]
            ],
            "type": "surface"
           }
          ],
          "table": [
           {
            "cells": {
             "fill": {
              "color": "#EBF0F8"
             },
             "line": {
              "color": "white"
             }
            },
            "header": {
             "fill": {
              "color": "#C8D4E3"
             },
             "line": {
              "color": "white"
             }
            },
            "type": "table"
           }
          ]
         },
         "layout": {
          "annotationdefaults": {
           "arrowcolor": "#2a3f5f",
           "arrowhead": 0,
           "arrowwidth": 1
          },
          "autotypenumbers": "strict",
          "coloraxis": {
           "colorbar": {
            "outlinewidth": 0,
            "ticks": ""
           }
          },
          "colorscale": {
           "diverging": [
            [
             0,
             "#8e0152"
            ],
            [
             0.1,
             "#c51b7d"
            ],
            [
             0.2,
             "#de77ae"
            ],
            [
             0.3,
             "#f1b6da"
            ],
            [
             0.4,
             "#fde0ef"
            ],
            [
             0.5,
             "#f7f7f7"
            ],
            [
             0.6,
             "#e6f5d0"
            ],
            [
             0.7,
             "#b8e186"
            ],
            [
             0.8,
             "#7fbc41"
            ],
            [
             0.9,
             "#4d9221"
            ],
            [
             1,
             "#276419"
            ]
           ],
           "sequential": [
            [
             0,
             "#0d0887"
            ],
            [
             0.1111111111111111,
             "#46039f"
            ],
            [
             0.2222222222222222,
             "#7201a8"
            ],
            [
             0.3333333333333333,
             "#9c179e"
            ],
            [
             0.4444444444444444,
             "#bd3786"
            ],
            [
             0.5555555555555556,
             "#d8576b"
            ],
            [
             0.6666666666666666,
             "#ed7953"
            ],
            [
             0.7777777777777778,
             "#fb9f3a"
            ],
            [
             0.8888888888888888,
             "#fdca26"
            ],
            [
             1,
             "#f0f921"
            ]
           ],
           "sequentialminus": [
            [
             0,
             "#0d0887"
            ],
            [
             0.1111111111111111,
             "#46039f"
            ],
            [
             0.2222222222222222,
             "#7201a8"
            ],
            [
             0.3333333333333333,
             "#9c179e"
            ],
            [
             0.4444444444444444,
             "#bd3786"
            ],
            [
             0.5555555555555556,
             "#d8576b"
            ],
            [
             0.6666666666666666,
             "#ed7953"
            ],
            [
             0.7777777777777778,
             "#fb9f3a"
            ],
            [
             0.8888888888888888,
             "#fdca26"
            ],
            [
             1,
             "#f0f921"
            ]
           ]
          },
          "colorway": [
           "#636efa",
           "#EF553B",
           "#00cc96",
           "#ab63fa",
           "#FFA15A",
           "#19d3f3",
           "#FF6692",
           "#B6E880",
           "#FF97FF",
           "#FECB52"
          ],
          "font": {
           "color": "#2a3f5f"
          },
          "geo": {
           "bgcolor": "white",
           "lakecolor": "white",
           "landcolor": "#E5ECF6",
           "showlakes": true,
           "showland": true,
           "subunitcolor": "white"
          },
          "hoverlabel": {
           "align": "left"
          },
          "hovermode": "closest",
          "mapbox": {
           "style": "light"
          },
          "paper_bgcolor": "white",
          "plot_bgcolor": "#E5ECF6",
          "polar": {
           "angularaxis": {
            "gridcolor": "white",
            "linecolor": "white",
            "ticks": ""
           },
           "bgcolor": "#E5ECF6",
           "radialaxis": {
            "gridcolor": "white",
            "linecolor": "white",
            "ticks": ""
           }
          },
          "scene": {
           "xaxis": {
            "backgroundcolor": "#E5ECF6",
            "gridcolor": "white",
            "gridwidth": 2,
            "linecolor": "white",
            "showbackground": true,
            "ticks": "",
            "zerolinecolor": "white"
           },
           "yaxis": {
            "backgroundcolor": "#E5ECF6",
            "gridcolor": "white",
            "gridwidth": 2,
            "linecolor": "white",
            "showbackground": true,
            "ticks": "",
            "zerolinecolor": "white"
           },
           "zaxis": {
            "backgroundcolor": "#E5ECF6",
            "gridcolor": "white",
            "gridwidth": 2,
            "linecolor": "white",
            "showbackground": true,
            "ticks": "",
            "zerolinecolor": "white"
           }
          },
          "shapedefaults": {
           "line": {
            "color": "#2a3f5f"
           }
          },
          "ternary": {
           "aaxis": {
            "gridcolor": "white",
            "linecolor": "white",
            "ticks": ""
           },
           "baxis": {
            "gridcolor": "white",
            "linecolor": "white",
            "ticks": ""
           },
           "bgcolor": "#E5ECF6",
           "caxis": {
            "gridcolor": "white",
            "linecolor": "white",
            "ticks": ""
           }
          },
          "title": {
           "x": 0.05
          },
          "xaxis": {
           "automargin": true,
           "gridcolor": "white",
           "linecolor": "white",
           "ticks": "",
           "title": {
            "standoff": 15
           },
           "zerolinecolor": "white",
           "zerolinewidth": 2
          },
          "yaxis": {
           "automargin": true,
           "gridcolor": "white",
           "linecolor": "white",
           "ticks": "",
           "title": {
            "standoff": 15
           },
           "zerolinecolor": "white",
           "zerolinewidth": 2
          }
         }
        },
        "width": 800,
        "xaxis": {
         "anchor": "y",
         "domain": [
          0,
          1
         ]
        },
        "yaxis": {
         "anchor": "x",
         "domain": [
          0,
          1
         ],
         "title": {
          "text": "Sentence Cosine Similarity Wiki Summarized Mean Threshold 0"
         }
        }
       }
      }
     },
     "metadata": {},
     "output_type": "display_data"
    }
   ],
   "source": [
    "fig = px.box(result, y=\"Sentence Cosine Similarity Wiki Summarized Mean Threshold 0\", points=\"all\", color = \"Report Type\", width=800)\n",
    "fig.update_layout(legend=dict(\n",
    "    yanchor=\"bottom\",\n",
    "    y=1,\n",
    "    xanchor=\"left\",\n",
    "    x=0.01\n",
    "))\n",
    "fig.show()"
   ]
  },
  {
   "attachments": {},
   "cell_type": "markdown",
   "metadata": {},
   "source": [
    "Statistische Auswertung"
   ]
  },
  {
   "cell_type": "code",
   "execution_count": 33,
   "metadata": {},
   "outputs": [
    {
     "data": {
      "application/javascript": "\n        if (window._pyforest_update_imports_cell) { window._pyforest_update_imports_cell('import pandas as pd\\nfrom scipy import stats'); }\n    ",
      "text/plain": [
       "<IPython.core.display.Javascript object>"
      ]
     },
     "metadata": {},
     "output_type": "display_data"
    },
    {
     "data": {
      "text/plain": [
       "KruskalResult(statistic=12.063429336172748, pvalue=0.0024013728890225094)"
      ]
     },
     "execution_count": 33,
     "metadata": {},
     "output_type": "execute_result"
    }
   ],
   "source": [
    "column = \"Sentence Cosine Similarity Wiki Summarized Mean Threshold 0\"\n",
    "normal_reports = result[result[\"Report Type\"] == \"Normal Report\"][column]\n",
    "de_reports = result[result[\"Report Type\"] == \"DE\"][column]\n",
    "fake_reports = result[result[\"Report Type\"] == \"Fake\"][column]\n",
    "\n",
    "stats.kruskal(normal_reports, de_reports, fake_reports)"
   ]
  },
  {
   "attachments": {},
   "cell_type": "markdown",
   "metadata": {},
   "source": [
    "#### Zero Shot Learning Fulltext ANOVA-Test auf Report-Type"
   ]
  },
  {
   "cell_type": "code",
   "execution_count": 25,
   "metadata": {},
   "outputs": [
    {
     "data": {
      "text/plain": [
       "0.33758401398727667"
      ]
     },
     "execution_count": 25,
     "metadata": {},
     "output_type": "execute_result"
    }
   ],
   "source": [
    "#Prüfung ob ANOVA zulässig oder nicht\n",
    "\n",
    "from scipy.stats import bartlett\n",
    "\n",
    "column = \"Zero Shot Fulltext\"\n",
    "normal_reports = result[result[\"Report Type\"] == \"Normal Report\"][column]\n",
    "de_reports = result[result[\"Report Type\"] == \"DE\"][column]\n",
    "fake_reports = result[result[\"Report Type\"] == \"Fake\"][column]\n",
    "\n",
    "stat, p = bartlett(normal_reports, de_reports, fake_reports)\n",
    "p"
   ]
  },
  {
   "cell_type": "code",
   "execution_count": 26,
   "metadata": {},
   "outputs": [
    {
     "data": {
      "application/vnd.plotly.v1+json": {
       "config": {
        "plotlyServerURL": "https://plot.ly"
       },
       "data": [
        {
         "alignmentgroup": "True",
         "boxpoints": "all",
         "hovertemplate": "Report Type=Normal Report<br>Zero Shot Fulltext=%{y}<extra></extra>",
         "legendgroup": "Normal Report",
         "marker": {
          "color": "#636efa"
         },
         "name": "Normal Report",
         "notched": false,
         "offsetgroup": "Normal Report",
         "orientation": "v",
         "showlegend": true,
         "type": "box",
         "x0": " ",
         "xaxis": "x",
         "y": [
          0.2495380640029907,
          0.2267500907182693,
          0.2247772514820099,
          0.2156645208597183,
          0.0832700654864311,
          0.4056530892848968,
          0.2479164153337478,
          0.1870989948511123,
          0.107210449874401,
          0.0521210469305515,
          0.281462013721466,
          0.2567347586154938,
          0.172008141875267,
          0.1713983118534088,
          0.1183967217803001,
          0.2962532341480255,
          0.2939696311950683,
          0.192602276802063,
          0.1660996973514557,
          0.0510750822722911,
          0.4271990656852722,
          0.1912371665239334,
          0.1618001759052276,
          0.1108394116163253,
          0.1089241877198219,
          0.341550201177597,
          0.2641184031963348,
          0.2134099304676056,
          0.1361060738563537,
          0.0448154136538505,
          0.3303603529930115,
          0.2309527397155761,
          0.220947653055191,
          0.1790402680635452,
          0.0386990308761596,
          0.2921053171157837,
          0.2759756743907928,
          0.2260195612907409,
          0.1592053771018982,
          0.0466939993202686,
          0.262855052947998,
          0.2058601528406143,
          0.2022788077592849,
          0.1972105801105499,
          0.1317953765392303,
          0.2920756936073303,
          0.2635778784751892,
          0.2174738198518753,
          0.1485055536031723,
          0.078366994857788,
          0.3589620590209961,
          0.2438621073961258,
          0.1881182938814163,
          0.1409851759672165,
          0.0680722892284393,
          0.2870954275131225,
          0.229597732424736,
          0.2198040038347244,
          0.1947677284479141,
          0.0687350630760192,
          0.3696164488792419,
          0.2552548050880432,
          0.1822672039270401,
          0.1546910256147384,
          0.0381705202162265,
          0.2564135491847992,
          0.2331895381212234,
          0.196650892496109,
          0.1923506706953048,
          0.1213953420519828,
          0.3546679615974426,
          0.1832892000675201,
          0.1617207527160644,
          0.1544041633605957,
          0.1459179371595382,
          0.2505688965320587,
          0.2422610074281692,
          0.2262309044599533,
          0.2152930498123169,
          0.0656460970640182,
          0.2563245892524719,
          0.25536048412323,
          0.2548901438713074,
          0.1943769454956054,
          0.0390478745102882,
          0.280646800994873,
          0.2241653203964233,
          0.2127655744552612,
          0.1903405934572219,
          0.0920817032456398,
          0.2917154133319855,
          0.2777140438556671,
          0.1957510560750961,
          0.1549521684646606,
          0.0798672437667846,
          0.3038484454154968,
          0.2325430065393448,
          0.2296200692653656,
          0.2049544900655746,
          0.0290340203791856,
          0.2739381194114685,
          0.2328675985336303,
          0.220195785164833,
          0.1845687478780746,
          0.0884298384189605,
          0.3538145422935486,
          0.2009992450475692,
          0.182045578956604,
          0.1667288541793823,
          0.0964117720723152,
          0.2774017453193664,
          0.2732843160629272,
          0.2587129175662994,
          0.1144607216119766,
          0.0761402994394302,
          0.3828398883342743,
          0.2289267927408218,
          0.1473801583051681,
          0.1404090374708175,
          0.1004441231489181,
          0.4844344854354858,
          0.1969743818044662,
          0.1431017369031906,
          0.1224003061652183,
          0.0530891343951225,
          0.3226491510868072,
          0.2103051990270614,
          0.1837044358253479,
          0.157782182097435,
          0.1255590617656707,
          0.3380797207355499,
          0.2647078037261963,
          0.1769894659519195,
          0.1615283042192459,
          0.058694738894701,
          0.3065283596515655,
          0.2787400782108307,
          0.1768430024385452,
          0.127303659915924,
          0.1105849742889404,
          0.3019227385520935,
          0.2300601005554199,
          0.1854093223810196,
          0.1580100506544113,
          0.1245978325605392,
          0.2603960931301117,
          0.2315571308135986,
          0.2049978077411651,
          0.1838046908378601,
          0.119244284927845,
          0.4029780030250549,
          0.2257553339004516,
          0.1716018170118332,
          0.12836953997612,
          0.0712952688336372,
          0.265918880701065,
          0.2618824541568756,
          0.1937536299228668,
          0.192804530262947,
          0.0856404528021812,
          0.311314970254898,
          0.2277173995971679,
          0.2056406140327453,
          0.1944018900394439,
          0.0609250962734222,
          0.2534562945365906,
          0.239758625626564,
          0.2387720793485641,
          0.2239198088645935,
          0.044093232601881,
          0.3119750618934631,
          0.2322798371315002,
          0.2043886482715606,
          0.1700950115919113,
          0.0812614113092422,
          0.324118047952652,
          0.2173162996768951,
          0.2061441391706466,
          0.1750264167785644,
          0.0773950293660163,
          0.2690467536449432,
          0.235403224825859,
          0.2074512541294098,
          0.1695498526096344,
          0.1185489520430564,
          0.3442919254302978,
          0.236914113163948,
          0.1644617915153503,
          0.1449477076530456,
          0.1093845069408416,
          0.2635453939437866,
          0.2252888530492782,
          0.1919509172439575,
          0.1899312287569046,
          0.129283607006073,
          0.4868927299976349,
          0.3082045912742615,
          0.1469128131866455,
          0.0442440770566463,
          0.0137458341196179,
          0.2755100131034851,
          0.2035748958587646,
          0.1939961165189743,
          0.1800320148468017,
          0.1468869149684906,
          0.261933833360672,
          0.242390751838684,
          0.2192283123731613,
          0.1716848015785217,
          0.1047623232007026,
          0.3052448630332947,
          0.2693052291870117,
          0.1666322499513626,
          0.1654933243989944,
          0.0933243334293365,
          0.2905075848102569,
          0.2456855326890945,
          0.2042438387870788,
          0.1312061697244644,
          0.12835693359375,
          0.2364151030778885,
          0.2197742313146591,
          0.2187693864107132,
          0.2103703171014785,
          0.1146709844470024,
          0.298772931098938,
          0.2102086842060089,
          0.2036190629005432,
          0.198979765176773,
          0.0884194746613502,
          0.2862432301044464,
          0.2614049613475799,
          0.1981531977653503,
          0.1643752306699752,
          0.0898233652114868,
          0.2609411478042602,
          0.2207399010658264,
          0.1945483088493347,
          0.1782104223966598,
          0.1455601751804351,
          0.3033963739871979,
          0.2547706365585327,
          0.2183169275522232,
          0.1508295834064483,
          0.0726864635944366,
          0.2578417360782623,
          0.2018287926912307,
          0.1985359787940979,
          0.1886506676673889,
          0.1531428545713424,
          0.6944990158081055,
          0.1293570399284362,
          0.0925932005047798,
          0.0572017915546894,
          0.0263489112257957,
          0.7696591019630432,
          0.1204176247119903,
          0.0459679290652275,
          0.044289544224739,
          0.0196657963097095,
          0.3092426359653473,
          0.2785590291023254,
          0.1847359240055084,
          0.1796555966138839,
          0.0478068068623542,
          0.3080329000949859,
          0.2831907868385315,
          0.2196117788553238,
          0.1315936297178268,
          0.0575709082186222,
          0.2526452541351318,
          0.2000907361507415,
          0.1938932836055755,
          0.1839266866445541,
          0.1694440096616745,
          0.3154234588146209,
          0.2384630292654037,
          0.2192700654268264,
          0.1751033216714859,
          0.0517401210963726,
          0.2759936153888702,
          0.2434425055980682,
          0.2165676355361938,
          0.2015339881181717,
          0.0624621883034706,
          0.3540019690990448,
          0.1845041960477829,
          0.1696469783782959,
          0.153286337852478,
          0.1385604739189148,
          0.3115815818309784,
          0.2651827931404114,
          0.1888178139925003,
          0.1298642605543136,
          0.104553535580635,
          0.3427613973617553,
          0.2453497946262359,
          0.2021219879388809,
          0.1586702615022659,
          0.0510966069996356,
          0.283905953168869,
          0.2554435729980469,
          0.183852419257164,
          0.1778941452503204,
          0.098903939127922,
          0.3765555024147033,
          0.2426569014787674,
          0.2402286231517791,
          0.0742003545165062,
          0.0663586407899856,
          0.4590844511985779,
          0.1905619800090789,
          0.1507777422666549,
          0.1318046450614929,
          0.0677712634205818,
          0.2551839649677276,
          0.2313194870948791,
          0.18809774518013,
          0.1800454407930374,
          0.1453533619642257,
          0.3287214040756225,
          0.2197911143302917,
          0.2147107124328613,
          0.1478125751018524,
          0.0889642834663391,
          0.2639303505420685,
          0.2476188987493515,
          0.2046303451061248,
          0.2017716020345688,
          0.0820487663149833,
          0.3277174532413482,
          0.2215171158313751,
          0.1864126026630401,
          0.1558082848787307,
          0.1085445210337638,
          0.2222550362348556,
          0.21580471098423,
          0.1998269259929657,
          0.1992019414901733,
          0.162911370396614,
          0.2982795536518097,
          0.2380188554525375,
          0.2167284190654754,
          0.2120823413133621,
          0.0348908938467502,
          0.2860311567783355,
          0.2774178087711334,
          0.2183452695608139,
          0.204001098871231,
          0.0142045998945832,
          0.3049603402614593,
          0.2401561290025711,
          0.1882913261651992,
          0.1469869762659073,
          0.1196052208542823,
          0.3033203780651092,
          0.2522205412387848,
          0.2217833995819091,
          0.1350641399621963,
          0.087611585855484,
          0.2838029265403747,
          0.2420301884412765,
          0.2025396078824997,
          0.1774022579193115,
          0.094224989414215,
          0.2977005839347839,
          0.2838996946811676,
          0.2194368988275528,
          0.1306955814361572,
          0.0682671964168548,
          0.2814030051231384,
          0.2562920451164245,
          0.2145079225301742,
          0.1931255906820297,
          0.0546714216470718,
          0.2872568666934967,
          0.2543060481548309,
          0.2479011118412017,
          0.1604288667440414,
          0.0501071028411388,
          0.3659659028053283,
          0.2197176665067672,
          0.1835657954216003,
          0.1550569832324981,
          0.0756936743855476,
          0.3638359308242798,
          0.1994417905807495,
          0.1663465499877929,
          0.1377527415752411,
          0.1326229721307754,
          0.3522093892097473,
          0.2252839803695678,
          0.2153791785240173,
          0.1554633975028991,
          0.0516640692949295,
          0.2957286536693573,
          0.2155042737722396,
          0.2032393962144851,
          0.1551255881786346,
          0.1304021030664444,
          0.3685694932937622,
          0.2087297439575195,
          0.1581214666366577,
          0.1501937061548233,
          0.1143856197595596,
          0.3128083944320678,
          0.2282599061727523,
          0.2270803898572921,
          0.1881952434778213,
          0.0436561107635498,
          0.3011332154273987,
          0.2697272300720215,
          0.1958506107330322,
          0.1723295152187347,
          0.0609594136476516,
          0.2561188340187073,
          0.2276665419340133,
          0.2216212004423141,
          0.1931435912847519,
          0.1014498323202133,
          0.2653444111347198,
          0.257261574268341,
          0.2325137108564376,
          0.1796179413795471,
          0.0652623623609542,
          0.3046111166477203,
          0.2271130234003067,
          0.2201541513204574,
          0.1881893575191497,
          0.059932354837656,
          0.2936970889568329,
          0.2207388132810592,
          0.1846563220024109,
          0.1813750267028808,
          0.1195328310132026,
          0.2479118853807449,
          0.2459336072206497,
          0.2423049509525299,
          0.2223612815141677,
          0.0414882861077785,
          0.249729111790657,
          0.2200469374656677,
          0.2108449637889862,
          0.2082842737436294,
          0.1110946983098983,
          0.3808757364749908,
          0.1798262447118759,
          0.1491464525461197,
          0.1480055898427963,
          0.1421459913253784,
          0.3008886277675628,
          0.2438423484563827,
          0.2165374457836151,
          0.1446606218814849,
          0.0940709635615348,
          0.2709157466888428,
          0.2366943806409835,
          0.2182244807481765,
          0.1683832854032516,
          0.10578203946352,
          0.3631477355957031,
          0.2399756908416748,
          0.1850870996713638,
          0.1328870058059692,
          0.0789025276899337,
          0.3262344598770141,
          0.2176260501146316,
          0.1899631768465042,
          0.1775659471750259,
          0.088610365986824,
          0.3671208024024963,
          0.2651967406272888,
          0.2045854330062866,
          0.1154544800519943,
          0.0476425848901271,
          0.3595947623252868,
          0.2121735513210296,
          0.1894236952066421,
          0.1536487489938736,
          0.0851592421531677,
          0.2657317817211151,
          0.2630229294300079,
          0.2577787637710571,
          0.1710304468870163,
          0.0424360670149326,
          0.2729948461055755,
          0.2586303055286407,
          0.2162742614746093,
          0.178605705499649,
          0.0734948813915252,
          0.3522094786167145,
          0.270870178937912,
          0.1621603518724441,
          0.1534124910831451,
          0.0613475739955902,
          0.2776872217655182,
          0.2634859085083008,
          0.1974674016237259,
          0.1960902363061905,
          0.0652693063020706,
          0.3564044237136841,
          0.2268993407487869,
          0.2174935936927795,
          0.1345686465501785,
          0.0646340101957321,
          0.3126868903636932,
          0.2501050531864166,
          0.1813988536596298,
          0.1285329014062881,
          0.1272762715816497,
          0.3287503719329834,
          0.262161523103714,
          0.2108325213193893,
          0.1431590467691421,
          0.0550965368747711,
          0.2961293458938598,
          0.2624964714050293,
          0.2176629602909088,
          0.15740767121315,
          0.0663035213947296,
          0.3131616413593292,
          0.2192831635475158,
          0.183159127831459,
          0.1830106973648071,
          0.1013853177428245,
          0.3176023066043854,
          0.2262132167816162,
          0.1981872171163559,
          0.137290820479393,
          0.1207064390182495,
          0.2579312920570373,
          0.2492201775312423,
          0.1778267174959182,
          0.1751506030559539,
          0.1398711502552032,
          0.5001320838928223,
          0.1593820601701736,
          0.1560671329498291,
          0.1408428400754928,
          0.0435758009552955,
          0.3804562985897064,
          0.1907578706741333,
          0.181220605969429,
          0.176645815372467,
          0.0709194242954254
         ],
         "y0": " ",
         "yaxis": "y"
        },
        {
         "alignmentgroup": "True",
         "boxpoints": "all",
         "hovertemplate": "Report Type=Fake<br>Zero Shot Fulltext=%{y}<extra></extra>",
         "legendgroup": "Fake",
         "marker": {
          "color": "#EF553B"
         },
         "name": "Fake",
         "notched": false,
         "offsetgroup": "Fake",
         "orientation": "v",
         "showlegend": true,
         "type": "box",
         "x0": " ",
         "xaxis": "x",
         "y": [
          0.3391397297382355,
          0.2345487773418426,
          0.2245530039072036,
          0.1704703867435455,
          0.0312880724668502,
          0.2664543390274048,
          0.2645822167396545,
          0.2180371731519699,
          0.2110539823770523,
          0.0398722998797893,
          0.2712620198726654,
          0.2347771823406219,
          0.2058963030576706,
          0.2007921487092971,
          0.0872723385691642,
          0.2447177469730377,
          0.2318690568208694,
          0.2295010536909103,
          0.1774656623601913,
          0.1164464205503463,
          0.2742417454719543,
          0.2686576247215271,
          0.2362363785505294,
          0.1333933621644973,
          0.0874708816409111
         ],
         "y0": " ",
         "yaxis": "y"
        },
        {
         "alignmentgroup": "True",
         "boxpoints": "all",
         "hovertemplate": "Report Type=DE<br>Zero Shot Fulltext=%{y}<extra></extra>",
         "legendgroup": "DE",
         "marker": {
          "color": "#00cc96"
         },
         "name": "DE",
         "notched": false,
         "offsetgroup": "DE",
         "orientation": "v",
         "showlegend": true,
         "type": "box",
         "x0": " ",
         "xaxis": "x",
         "y": [
          0.2437541335821151,
          0.2313641309738159,
          0.2006480097770691,
          0.1703296154737472,
          0.1539040952920913,
          0.3721352517604828,
          0.2610065937042236,
          0.1537331640720367,
          0.1255407035350799,
          0.0875843167304992,
          0.3008913397789001,
          0.2254245430231094,
          0.207946628332138,
          0.1350813210010528,
          0.1306561231613159,
          0.2918977439403534,
          0.2292515933513641,
          0.2257017791271209,
          0.1639510095119476,
          0.0891978219151496
         ],
         "y0": " ",
         "yaxis": "y"
        }
       ],
       "layout": {
        "boxmode": "group",
        "legend": {
         "title": {
          "text": "Report Type"
         },
         "tracegroupgap": 0,
         "x": 0.01,
         "xanchor": "left",
         "y": 1,
         "yanchor": "bottom"
        },
        "margin": {
         "t": 60
        },
        "template": {
         "data": {
          "bar": [
           {
            "error_x": {
             "color": "#2a3f5f"
            },
            "error_y": {
             "color": "#2a3f5f"
            },
            "marker": {
             "line": {
              "color": "#E5ECF6",
              "width": 0.5
             },
             "pattern": {
              "fillmode": "overlay",
              "size": 10,
              "solidity": 0.2
             }
            },
            "type": "bar"
           }
          ],
          "barpolar": [
           {
            "marker": {
             "line": {
              "color": "#E5ECF6",
              "width": 0.5
             },
             "pattern": {
              "fillmode": "overlay",
              "size": 10,
              "solidity": 0.2
             }
            },
            "type": "barpolar"
           }
          ],
          "carpet": [
           {
            "aaxis": {
             "endlinecolor": "#2a3f5f",
             "gridcolor": "white",
             "linecolor": "white",
             "minorgridcolor": "white",
             "startlinecolor": "#2a3f5f"
            },
            "baxis": {
             "endlinecolor": "#2a3f5f",
             "gridcolor": "white",
             "linecolor": "white",
             "minorgridcolor": "white",
             "startlinecolor": "#2a3f5f"
            },
            "type": "carpet"
           }
          ],
          "choropleth": [
           {
            "colorbar": {
             "outlinewidth": 0,
             "ticks": ""
            },
            "type": "choropleth"
           }
          ],
          "contour": [
           {
            "colorbar": {
             "outlinewidth": 0,
             "ticks": ""
            },
            "colorscale": [
             [
              0,
              "#0d0887"
             ],
             [
              0.1111111111111111,
              "#46039f"
             ],
             [
              0.2222222222222222,
              "#7201a8"
             ],
             [
              0.3333333333333333,
              "#9c179e"
             ],
             [
              0.4444444444444444,
              "#bd3786"
             ],
             [
              0.5555555555555556,
              "#d8576b"
             ],
             [
              0.6666666666666666,
              "#ed7953"
             ],
             [
              0.7777777777777778,
              "#fb9f3a"
             ],
             [
              0.8888888888888888,
              "#fdca26"
             ],
             [
              1,
              "#f0f921"
             ]
            ],
            "type": "contour"
           }
          ],
          "contourcarpet": [
           {
            "colorbar": {
             "outlinewidth": 0,
             "ticks": ""
            },
            "type": "contourcarpet"
           }
          ],
          "heatmap": [
           {
            "colorbar": {
             "outlinewidth": 0,
             "ticks": ""
            },
            "colorscale": [
             [
              0,
              "#0d0887"
             ],
             [
              0.1111111111111111,
              "#46039f"
             ],
             [
              0.2222222222222222,
              "#7201a8"
             ],
             [
              0.3333333333333333,
              "#9c179e"
             ],
             [
              0.4444444444444444,
              "#bd3786"
             ],
             [
              0.5555555555555556,
              "#d8576b"
             ],
             [
              0.6666666666666666,
              "#ed7953"
             ],
             [
              0.7777777777777778,
              "#fb9f3a"
             ],
             [
              0.8888888888888888,
              "#fdca26"
             ],
             [
              1,
              "#f0f921"
             ]
            ],
            "type": "heatmap"
           }
          ],
          "heatmapgl": [
           {
            "colorbar": {
             "outlinewidth": 0,
             "ticks": ""
            },
            "colorscale": [
             [
              0,
              "#0d0887"
             ],
             [
              0.1111111111111111,
              "#46039f"
             ],
             [
              0.2222222222222222,
              "#7201a8"
             ],
             [
              0.3333333333333333,
              "#9c179e"
             ],
             [
              0.4444444444444444,
              "#bd3786"
             ],
             [
              0.5555555555555556,
              "#d8576b"
             ],
             [
              0.6666666666666666,
              "#ed7953"
             ],
             [
              0.7777777777777778,
              "#fb9f3a"
             ],
             [
              0.8888888888888888,
              "#fdca26"
             ],
             [
              1,
              "#f0f921"
             ]
            ],
            "type": "heatmapgl"
           }
          ],
          "histogram": [
           {
            "marker": {
             "pattern": {
              "fillmode": "overlay",
              "size": 10,
              "solidity": 0.2
             }
            },
            "type": "histogram"
           }
          ],
          "histogram2d": [
           {
            "colorbar": {
             "outlinewidth": 0,
             "ticks": ""
            },
            "colorscale": [
             [
              0,
              "#0d0887"
             ],
             [
              0.1111111111111111,
              "#46039f"
             ],
             [
              0.2222222222222222,
              "#7201a8"
             ],
             [
              0.3333333333333333,
              "#9c179e"
             ],
             [
              0.4444444444444444,
              "#bd3786"
             ],
             [
              0.5555555555555556,
              "#d8576b"
             ],
             [
              0.6666666666666666,
              "#ed7953"
             ],
             [
              0.7777777777777778,
              "#fb9f3a"
             ],
             [
              0.8888888888888888,
              "#fdca26"
             ],
             [
              1,
              "#f0f921"
             ]
            ],
            "type": "histogram2d"
           }
          ],
          "histogram2dcontour": [
           {
            "colorbar": {
             "outlinewidth": 0,
             "ticks": ""
            },
            "colorscale": [
             [
              0,
              "#0d0887"
             ],
             [
              0.1111111111111111,
              "#46039f"
             ],
             [
              0.2222222222222222,
              "#7201a8"
             ],
             [
              0.3333333333333333,
              "#9c179e"
             ],
             [
              0.4444444444444444,
              "#bd3786"
             ],
             [
              0.5555555555555556,
              "#d8576b"
             ],
             [
              0.6666666666666666,
              "#ed7953"
             ],
             [
              0.7777777777777778,
              "#fb9f3a"
             ],
             [
              0.8888888888888888,
              "#fdca26"
             ],
             [
              1,
              "#f0f921"
             ]
            ],
            "type": "histogram2dcontour"
           }
          ],
          "mesh3d": [
           {
            "colorbar": {
             "outlinewidth": 0,
             "ticks": ""
            },
            "type": "mesh3d"
           }
          ],
          "parcoords": [
           {
            "line": {
             "colorbar": {
              "outlinewidth": 0,
              "ticks": ""
             }
            },
            "type": "parcoords"
           }
          ],
          "pie": [
           {
            "automargin": true,
            "type": "pie"
           }
          ],
          "scatter": [
           {
            "fillpattern": {
             "fillmode": "overlay",
             "size": 10,
             "solidity": 0.2
            },
            "type": "scatter"
           }
          ],
          "scatter3d": [
           {
            "line": {
             "colorbar": {
              "outlinewidth": 0,
              "ticks": ""
             }
            },
            "marker": {
             "colorbar": {
              "outlinewidth": 0,
              "ticks": ""
             }
            },
            "type": "scatter3d"
           }
          ],
          "scattercarpet": [
           {
            "marker": {
             "colorbar": {
              "outlinewidth": 0,
              "ticks": ""
             }
            },
            "type": "scattercarpet"
           }
          ],
          "scattergeo": [
           {
            "marker": {
             "colorbar": {
              "outlinewidth": 0,
              "ticks": ""
             }
            },
            "type": "scattergeo"
           }
          ],
          "scattergl": [
           {
            "marker": {
             "colorbar": {
              "outlinewidth": 0,
              "ticks": ""
             }
            },
            "type": "scattergl"
           }
          ],
          "scattermapbox": [
           {
            "marker": {
             "colorbar": {
              "outlinewidth": 0,
              "ticks": ""
             }
            },
            "type": "scattermapbox"
           }
          ],
          "scatterpolar": [
           {
            "marker": {
             "colorbar": {
              "outlinewidth": 0,
              "ticks": ""
             }
            },
            "type": "scatterpolar"
           }
          ],
          "scatterpolargl": [
           {
            "marker": {
             "colorbar": {
              "outlinewidth": 0,
              "ticks": ""
             }
            },
            "type": "scatterpolargl"
           }
          ],
          "scatterternary": [
           {
            "marker": {
             "colorbar": {
              "outlinewidth": 0,
              "ticks": ""
             }
            },
            "type": "scatterternary"
           }
          ],
          "surface": [
           {
            "colorbar": {
             "outlinewidth": 0,
             "ticks": ""
            },
            "colorscale": [
             [
              0,
              "#0d0887"
             ],
             [
              0.1111111111111111,
              "#46039f"
             ],
             [
              0.2222222222222222,
              "#7201a8"
             ],
             [
              0.3333333333333333,
              "#9c179e"
             ],
             [
              0.4444444444444444,
              "#bd3786"
             ],
             [
              0.5555555555555556,
              "#d8576b"
             ],
             [
              0.6666666666666666,
              "#ed7953"
             ],
             [
              0.7777777777777778,
              "#fb9f3a"
             ],
             [
              0.8888888888888888,
              "#fdca26"
             ],
             [
              1,
              "#f0f921"
             ]
            ],
            "type": "surface"
           }
          ],
          "table": [
           {
            "cells": {
             "fill": {
              "color": "#EBF0F8"
             },
             "line": {
              "color": "white"
             }
            },
            "header": {
             "fill": {
              "color": "#C8D4E3"
             },
             "line": {
              "color": "white"
             }
            },
            "type": "table"
           }
          ]
         },
         "layout": {
          "annotationdefaults": {
           "arrowcolor": "#2a3f5f",
           "arrowhead": 0,
           "arrowwidth": 1
          },
          "autotypenumbers": "strict",
          "coloraxis": {
           "colorbar": {
            "outlinewidth": 0,
            "ticks": ""
           }
          },
          "colorscale": {
           "diverging": [
            [
             0,
             "#8e0152"
            ],
            [
             0.1,
             "#c51b7d"
            ],
            [
             0.2,
             "#de77ae"
            ],
            [
             0.3,
             "#f1b6da"
            ],
            [
             0.4,
             "#fde0ef"
            ],
            [
             0.5,
             "#f7f7f7"
            ],
            [
             0.6,
             "#e6f5d0"
            ],
            [
             0.7,
             "#b8e186"
            ],
            [
             0.8,
             "#7fbc41"
            ],
            [
             0.9,
             "#4d9221"
            ],
            [
             1,
             "#276419"
            ]
           ],
           "sequential": [
            [
             0,
             "#0d0887"
            ],
            [
             0.1111111111111111,
             "#46039f"
            ],
            [
             0.2222222222222222,
             "#7201a8"
            ],
            [
             0.3333333333333333,
             "#9c179e"
            ],
            [
             0.4444444444444444,
             "#bd3786"
            ],
            [
             0.5555555555555556,
             "#d8576b"
            ],
            [
             0.6666666666666666,
             "#ed7953"
            ],
            [
             0.7777777777777778,
             "#fb9f3a"
            ],
            [
             0.8888888888888888,
             "#fdca26"
            ],
            [
             1,
             "#f0f921"
            ]
           ],
           "sequentialminus": [
            [
             0,
             "#0d0887"
            ],
            [
             0.1111111111111111,
             "#46039f"
            ],
            [
             0.2222222222222222,
             "#7201a8"
            ],
            [
             0.3333333333333333,
             "#9c179e"
            ],
            [
             0.4444444444444444,
             "#bd3786"
            ],
            [
             0.5555555555555556,
             "#d8576b"
            ],
            [
             0.6666666666666666,
             "#ed7953"
            ],
            [
             0.7777777777777778,
             "#fb9f3a"
            ],
            [
             0.8888888888888888,
             "#fdca26"
            ],
            [
             1,
             "#f0f921"
            ]
           ]
          },
          "colorway": [
           "#636efa",
           "#EF553B",
           "#00cc96",
           "#ab63fa",
           "#FFA15A",
           "#19d3f3",
           "#FF6692",
           "#B6E880",
           "#FF97FF",
           "#FECB52"
          ],
          "font": {
           "color": "#2a3f5f"
          },
          "geo": {
           "bgcolor": "white",
           "lakecolor": "white",
           "landcolor": "#E5ECF6",
           "showlakes": true,
           "showland": true,
           "subunitcolor": "white"
          },
          "hoverlabel": {
           "align": "left"
          },
          "hovermode": "closest",
          "mapbox": {
           "style": "light"
          },
          "paper_bgcolor": "white",
          "plot_bgcolor": "#E5ECF6",
          "polar": {
           "angularaxis": {
            "gridcolor": "white",
            "linecolor": "white",
            "ticks": ""
           },
           "bgcolor": "#E5ECF6",
           "radialaxis": {
            "gridcolor": "white",
            "linecolor": "white",
            "ticks": ""
           }
          },
          "scene": {
           "xaxis": {
            "backgroundcolor": "#E5ECF6",
            "gridcolor": "white",
            "gridwidth": 2,
            "linecolor": "white",
            "showbackground": true,
            "ticks": "",
            "zerolinecolor": "white"
           },
           "yaxis": {
            "backgroundcolor": "#E5ECF6",
            "gridcolor": "white",
            "gridwidth": 2,
            "linecolor": "white",
            "showbackground": true,
            "ticks": "",
            "zerolinecolor": "white"
           },
           "zaxis": {
            "backgroundcolor": "#E5ECF6",
            "gridcolor": "white",
            "gridwidth": 2,
            "linecolor": "white",
            "showbackground": true,
            "ticks": "",
            "zerolinecolor": "white"
           }
          },
          "shapedefaults": {
           "line": {
            "color": "#2a3f5f"
           }
          },
          "ternary": {
           "aaxis": {
            "gridcolor": "white",
            "linecolor": "white",
            "ticks": ""
           },
           "baxis": {
            "gridcolor": "white",
            "linecolor": "white",
            "ticks": ""
           },
           "bgcolor": "#E5ECF6",
           "caxis": {
            "gridcolor": "white",
            "linecolor": "white",
            "ticks": ""
           }
          },
          "title": {
           "x": 0.05
          },
          "xaxis": {
           "automargin": true,
           "gridcolor": "white",
           "linecolor": "white",
           "ticks": "",
           "title": {
            "standoff": 15
           },
           "zerolinecolor": "white",
           "zerolinewidth": 2
          },
          "yaxis": {
           "automargin": true,
           "gridcolor": "white",
           "linecolor": "white",
           "ticks": "",
           "title": {
            "standoff": 15
           },
           "zerolinecolor": "white",
           "zerolinewidth": 2
          }
         }
        },
        "width": 800,
        "xaxis": {
         "anchor": "y",
         "domain": [
          0,
          1
         ]
        },
        "yaxis": {
         "anchor": "x",
         "domain": [
          0,
          1
         ],
         "title": {
          "text": "Zero Shot Fulltext"
         }
        }
       }
      }
     },
     "metadata": {},
     "output_type": "display_data"
    }
   ],
   "source": [
    "fig = px.box(result, y=\"Zero Shot Fulltext\", points=\"all\", color = \"Report Type\", width=800)\n",
    "fig.update_layout(legend=dict(\n",
    "    yanchor=\"bottom\",\n",
    "    y=1,\n",
    "    xanchor=\"left\",\n",
    "    x=0.01\n",
    "))\n",
    "fig.show()"
   ]
  },
  {
   "attachments": {},
   "cell_type": "markdown",
   "metadata": {},
   "source": [
    "Statistische Auswertung"
   ]
  },
  {
   "cell_type": "code",
   "execution_count": 27,
   "metadata": {},
   "outputs": [
    {
     "data": {
      "text/plain": [
       "F_onewayResult(statistic=3.564082881682984e-14, pvalue=0.9999999999999348)"
      ]
     },
     "execution_count": 27,
     "metadata": {},
     "output_type": "execute_result"
    }
   ],
   "source": [
    "column = \"Zero Shot Fulltext\"\n",
    "normal_reports = result[result[\"Report Type\"] == \"Normal Report\"][column]\n",
    "de_reports = result[result[\"Report Type\"] == \"DE\"][column]\n",
    "fake_reports = result[result[\"Report Type\"] == \"Fake\"][column]\n",
    "\n",
    "f_oneway(normal_reports, de_reports, fake_reports)\n"
   ]
  },
  {
   "attachments": {},
   "cell_type": "markdown",
   "metadata": {},
   "source": [
    "#### Zero Shot Learning satzweise ANOVA-Test auf Report-Type"
   ]
  },
  {
   "cell_type": "code",
   "execution_count": 34,
   "metadata": {},
   "outputs": [
    {
     "data": {
      "text/plain": [
       "0.07297163227098193"
      ]
     },
     "execution_count": 34,
     "metadata": {},
     "output_type": "execute_result"
    }
   ],
   "source": [
    "#Prüfung ob ANOVA zulässig oder nicht\n",
    "\n",
    "from scipy.stats import bartlett\n",
    "\n",
    "column = \"Zero Shot Learning Sentence Mean Threshold\"\n",
    "normal_reports = result[result[\"Report Type\"] == \"Normal Report\"][column]\n",
    "de_reports = result[result[\"Report Type\"] == \"DE\"][column]\n",
    "fake_reports = result[result[\"Report Type\"] == \"Fake\"][column]\n",
    "\n",
    "stat, p = bartlett(normal_reports, de_reports, fake_reports)\n",
    "p"
   ]
  },
  {
   "cell_type": "code",
   "execution_count": 29,
   "metadata": {},
   "outputs": [
    {
     "data": {
      "application/vnd.plotly.v1+json": {
       "config": {
        "plotlyServerURL": "https://plot.ly"
       },
       "data": [
        {
         "alignmentgroup": "True",
         "boxpoints": "all",
         "hovertemplate": "Report Type=Normal Report<br>Zero Shot Learning Sentence Mean Threshold=%{y}<extra></extra>",
         "legendgroup": "Normal Report",
         "marker": {
          "color": "#636efa"
         },
         "name": "Normal Report",
         "notched": false,
         "offsetgroup": "Normal Report",
         "orientation": "v",
         "showlegend": true,
         "type": "box",
         "x0": " ",
         "xaxis": "x",
         "y": [
          0.135,
          0.207,
          0.597,
          0.118,
          0.164,
          0.474,
          0.117,
          0.21,
          0.136,
          0.162,
          0.55,
          0.206,
          0.125,
          0.137,
          0.16,
          0.12,
          0.53,
          0.131,
          0.2,
          0.141,
          0.593,
          0.113,
          0.13,
          0.19,
          0.155,
          0.136,
          0.207,
          0.122,
          0.542,
          0.161,
          0.597,
          0.216,
          0.119,
          0.138,
          0.164,
          0.118,
          0.47,
          0.207,
          0.137,
          0.164,
          0.628,
          0.117,
          0.214,
          0.136,
          0.161,
          0.669,
          0.142,
          0.124,
          0.215,
          0.166,
          0.574,
          0.114,
          0.213,
          0.138,
          0.164,
          0.591,
          0.206,
          0.118,
          0.136,
          0.162,
          0.579,
          0.117,
          0.223,
          0.129,
          0.163,
          0.548,
          0.12,
          0.136,
          0.225,
          0.163,
          0.552,
          0.139,
          0.117,
          0.22,
          0.165,
          0.134,
          0.501,
          0.117,
          0.233,
          0.167,
          0.218,
          0.119,
          0.563,
          0.138,
          0.166,
          0.599,
          0.12,
          0.135,
          0.217,
          0.163,
          0.577,
          0.116,
          0.197,
          0.137,
          0.158,
          0.118,
          0.584,
          0.214,
          0.132,
          0.157,
          0.611,
          0.117,
          0.219,
          0.136,
          0.161,
          0.603,
          0.214,
          0.116,
          0.133,
          0.158,
          0.642,
          0.134,
          0.115,
          0.218,
          0.156,
          0.7,
          0.121,
          0.206,
          0.127,
          0.148,
          0.597,
          0.136,
          0.215,
          0.118,
          0.162,
          0.556,
          0.214,
          0.119,
          0.138,
          0.164,
          0.554,
          0.114,
          0.133,
          0.209,
          0.157,
          0.12,
          0.427,
          0.14,
          0.231,
          0.171,
          0.118,
          0.558,
          0.222,
          0.131,
          0.16,
          0.498,
          0.117,
          0.221,
          0.132,
          0.163,
          0.12,
          0.228,
          0.519,
          0.134,
          0.162,
          0.543,
          0.207,
          0.131,
          0.118,
          0.154,
          0.53,
          0.119,
          0.133,
          0.232,
          0.161,
          0.139,
          0.526,
          0.117,
          0.208,
          0.162,
          0.507,
          0.2,
          0.133,
          0.117,
          0.156,
          0.474,
          0.115,
          0.205,
          0.137,
          0.163,
          0.113,
          0.648,
          0.129,
          0.181,
          0.144,
          0.742,
          0.124,
          0.115,
          0.175,
          0.145,
          0.744,
          0.05,
          0.137,
          0.192,
          0.149,
          0.05,
          0.145,
          0.629,
          0.193,
          0.178,
          0.655,
          0.13,
          0.194,
          0.116,
          0.15,
          0.555,
          0.207,
          0.117,
          0.137,
          0.16,
          0.494,
          0.135,
          0.203,
          0.12,
          0.157,
          0.48,
          0.138,
          0.116,
          0.165,
          0.211,
          0.131,
          0.117,
          0.229,
          0.569,
          0.163,
          0.603,
          0.206,
          0.134,
          0.12,
          0.159,
          0.14,
          0.632,
          0.125,
          0.213,
          0.169,
          0.597,
          0.136,
          0.119,
          0.213,
          0.162,
          0.608,
          0.133,
          0.214,
          0.114,
          0.157,
          0.579,
          0.134,
          0.216,
          0.119,
          0.159,
          0.766,
          0.102,
          0.106,
          0.159,
          0.138,
          0.684,
          0.05,
          0.187,
          0.13,
          0.174,
          0.513,
          0.142,
          0.225,
          0.118,
          0.17,
          0.565,
          0.116,
          0.213,
          0.136,
          0.162,
          0.658,
          0.16,
          0.213,
          0.115,
          0.132,
          0.627,
          0.133,
          0.19,
          0.121,
          0.152,
          0.143,
          0.463,
          0.228,
          0.118,
          0.179,
          0.473,
          0.136,
          0.119,
          0.159,
          0.201,
          0.635,
          0.224,
          0.135,
          0.117,
          0.16,
          0.668,
          0.133,
          0.115,
          0.219,
          0.16,
          0.525,
          0.116,
          0.161,
          0.22,
          0.134,
          0.585,
          0.215,
          0.119,
          0.158,
          0.133,
          0.598,
          0.132,
          0.121,
          0.21,
          0.154,
          0.121,
          0.611,
          0.216,
          0.136,
          0.157,
          0.752,
          0.232,
          0.119,
          0.133,
          0.164,
          0.136,
          0.548,
          0.118,
          0.221,
          0.163,
          0.554,
          0.139,
          0.216,
          0.111,
          0.165,
          0.05,
          0.175,
          0.225,
          0.363,
          0.198,
          0.115,
          0.2,
          0.133,
          0.638,
          0.153,
          0.139,
          0.118,
          0.209,
          0.587,
          0.161,
          0.641,
          0.131,
          0.117,
          0.223,
          0.164,
          0.117,
          0.665,
          0.133,
          0.217,
          0.158,
          0.569,
          0.118,
          0.134,
          0.233,
          0.156,
          0.587,
          0.12,
          0.137,
          0.211,
          0.162,
          0.559,
          0.128,
          0.113,
          0.235,
          0.159,
          0.645,
          0.188,
          0.132,
          0.119,
          0.158,
          0.502,
          0.219,
          0.136,
          0.12,
          0.164,
          0.59,
          0.211,
          0.134,
          0.16,
          0.117,
          0.573,
          0.118,
          0.135,
          0.208,
          0.161,
          0.65,
          0.134,
          0.204,
          0.153,
          0.116,
          0.112,
          0.134,
          0.521,
          0.228,
          0.175,
          0.588,
          0.122,
          0.205,
          0.137,
          0.162,
          0.484,
          0.117,
          0.195,
          0.136,
          0.158,
          0.476,
          0.209,
          0.117,
          0.135,
          0.159,
          0.117,
          0.472,
          0.135,
          0.203,
          0.159,
          0.64,
          0.219,
          0.117,
          0.138,
          0.164,
          0.665,
          0.137,
          0.121,
          0.209,
          0.16,
          0.597,
          0.119,
          0.215,
          0.135,
          0.161,
          0.609,
          0.215,
          0.119,
          0.135,
          0.161,
          0.626,
          0.212,
          0.136,
          0.117,
          0.161,
          0.62,
          0.134,
          0.119,
          0.222,
          0.163,
          0.617,
          0.119,
          0.134,
          0.217,
          0.164,
          0.578,
          0.118,
          0.139,
          0.223,
          0.166,
          0.577,
          0.12,
          0.22,
          0.138,
          0.163,
          0.618,
          0.121,
          0.136,
          0.212,
          0.161,
          0.622,
          0.134,
          0.118,
          0.209,
          0.158,
          0.132,
          0.117,
          0.612,
          0.204,
          0.154,
          0.121,
          0.576,
          0.212,
          0.131,
          0.158,
          0.535,
          0.113,
          0.134,
          0.235,
          0.16,
          0.502,
          0.118,
          0.204,
          0.135,
          0.158,
          0.621,
          0.123,
          0.134,
          0.217,
          0.16,
          0.117,
          0.481,
          0.21,
          0.134,
          0.157,
          0.598,
          0.133,
          0.116,
          0.221,
          0.157,
          0.548,
          0.116,
          0.132,
          0.229,
          0.165,
          0.52,
          0.134,
          0.119,
          0.201,
          0.157,
          0.708,
          0.129,
          0.118,
          0.148,
          0.19,
          0.554,
          0.137,
          0.214,
          0.12,
          0.165,
          0.604,
          0.133,
          0.116,
          0.217,
          0.16,
          0.601,
          0.223,
          0.118,
          0.134,
          0.162
         ],
         "y0": " ",
         "yaxis": "y"
        },
        {
         "alignmentgroup": "True",
         "boxpoints": "all",
         "hovertemplate": "Report Type=Fake<br>Zero Shot Learning Sentence Mean Threshold=%{y}<extra></extra>",
         "legendgroup": "Fake",
         "marker": {
          "color": "#EF553B"
         },
         "name": "Fake",
         "notched": false,
         "offsetgroup": "Fake",
         "orientation": "v",
         "showlegend": true,
         "type": "box",
         "x0": " ",
         "xaxis": "x",
         "y": [
          0.122,
          0.139,
          0.464,
          0.225,
          0.165,
          0.394,
          0.123,
          0.141,
          0.234,
          0.172,
          0.118,
          0.133,
          0.451,
          0.216,
          0.168,
          0.535,
          0.233,
          0.127,
          0.113,
          0.158,
          0.123,
          0.366,
          0.237,
          0.141,
          0.178
         ],
         "y0": " ",
         "yaxis": "y"
        },
        {
         "alignmentgroup": "True",
         "boxpoints": "all",
         "hovertemplate": "Report Type=DE<br>Zero Shot Learning Sentence Mean Threshold=%{y}<extra></extra>",
         "legendgroup": "DE",
         "marker": {
          "color": "#00cc96"
         },
         "name": "DE",
         "notched": false,
         "offsetgroup": "DE",
         "orientation": "v",
         "showlegend": true,
         "type": "box",
         "x0": " ",
         "xaxis": "x",
         "y": [
          0.121,
          0.13,
          0.23,
          0.552,
          0.156,
          0.488,
          0.116,
          0.161,
          0.222,
          0.13,
          0.117,
          0.216,
          0.539,
          0.159,
          0.134,
          0.5,
          0.228,
          0.128,
          0.12,
          0.156
         ],
         "y0": " ",
         "yaxis": "y"
        }
       ],
       "layout": {
        "boxmode": "group",
        "legend": {
         "title": {
          "text": "Report Type"
         },
         "tracegroupgap": 0,
         "x": 0.01,
         "xanchor": "left",
         "y": 1,
         "yanchor": "bottom"
        },
        "margin": {
         "t": 60
        },
        "template": {
         "data": {
          "bar": [
           {
            "error_x": {
             "color": "#2a3f5f"
            },
            "error_y": {
             "color": "#2a3f5f"
            },
            "marker": {
             "line": {
              "color": "#E5ECF6",
              "width": 0.5
             },
             "pattern": {
              "fillmode": "overlay",
              "size": 10,
              "solidity": 0.2
             }
            },
            "type": "bar"
           }
          ],
          "barpolar": [
           {
            "marker": {
             "line": {
              "color": "#E5ECF6",
              "width": 0.5
             },
             "pattern": {
              "fillmode": "overlay",
              "size": 10,
              "solidity": 0.2
             }
            },
            "type": "barpolar"
           }
          ],
          "carpet": [
           {
            "aaxis": {
             "endlinecolor": "#2a3f5f",
             "gridcolor": "white",
             "linecolor": "white",
             "minorgridcolor": "white",
             "startlinecolor": "#2a3f5f"
            },
            "baxis": {
             "endlinecolor": "#2a3f5f",
             "gridcolor": "white",
             "linecolor": "white",
             "minorgridcolor": "white",
             "startlinecolor": "#2a3f5f"
            },
            "type": "carpet"
           }
          ],
          "choropleth": [
           {
            "colorbar": {
             "outlinewidth": 0,
             "ticks": ""
            },
            "type": "choropleth"
           }
          ],
          "contour": [
           {
            "colorbar": {
             "outlinewidth": 0,
             "ticks": ""
            },
            "colorscale": [
             [
              0,
              "#0d0887"
             ],
             [
              0.1111111111111111,
              "#46039f"
             ],
             [
              0.2222222222222222,
              "#7201a8"
             ],
             [
              0.3333333333333333,
              "#9c179e"
             ],
             [
              0.4444444444444444,
              "#bd3786"
             ],
             [
              0.5555555555555556,
              "#d8576b"
             ],
             [
              0.6666666666666666,
              "#ed7953"
             ],
             [
              0.7777777777777778,
              "#fb9f3a"
             ],
             [
              0.8888888888888888,
              "#fdca26"
             ],
             [
              1,
              "#f0f921"
             ]
            ],
            "type": "contour"
           }
          ],
          "contourcarpet": [
           {
            "colorbar": {
             "outlinewidth": 0,
             "ticks": ""
            },
            "type": "contourcarpet"
           }
          ],
          "heatmap": [
           {
            "colorbar": {
             "outlinewidth": 0,
             "ticks": ""
            },
            "colorscale": [
             [
              0,
              "#0d0887"
             ],
             [
              0.1111111111111111,
              "#46039f"
             ],
             [
              0.2222222222222222,
              "#7201a8"
             ],
             [
              0.3333333333333333,
              "#9c179e"
             ],
             [
              0.4444444444444444,
              "#bd3786"
             ],
             [
              0.5555555555555556,
              "#d8576b"
             ],
             [
              0.6666666666666666,
              "#ed7953"
             ],
             [
              0.7777777777777778,
              "#fb9f3a"
             ],
             [
              0.8888888888888888,
              "#fdca26"
             ],
             [
              1,
              "#f0f921"
             ]
            ],
            "type": "heatmap"
           }
          ],
          "heatmapgl": [
           {
            "colorbar": {
             "outlinewidth": 0,
             "ticks": ""
            },
            "colorscale": [
             [
              0,
              "#0d0887"
             ],
             [
              0.1111111111111111,
              "#46039f"
             ],
             [
              0.2222222222222222,
              "#7201a8"
             ],
             [
              0.3333333333333333,
              "#9c179e"
             ],
             [
              0.4444444444444444,
              "#bd3786"
             ],
             [
              0.5555555555555556,
              "#d8576b"
             ],
             [
              0.6666666666666666,
              "#ed7953"
             ],
             [
              0.7777777777777778,
              "#fb9f3a"
             ],
             [
              0.8888888888888888,
              "#fdca26"
             ],
             [
              1,
              "#f0f921"
             ]
            ],
            "type": "heatmapgl"
           }
          ],
          "histogram": [
           {
            "marker": {
             "pattern": {
              "fillmode": "overlay",
              "size": 10,
              "solidity": 0.2
             }
            },
            "type": "histogram"
           }
          ],
          "histogram2d": [
           {
            "colorbar": {
             "outlinewidth": 0,
             "ticks": ""
            },
            "colorscale": [
             [
              0,
              "#0d0887"
             ],
             [
              0.1111111111111111,
              "#46039f"
             ],
             [
              0.2222222222222222,
              "#7201a8"
             ],
             [
              0.3333333333333333,
              "#9c179e"
             ],
             [
              0.4444444444444444,
              "#bd3786"
             ],
             [
              0.5555555555555556,
              "#d8576b"
             ],
             [
              0.6666666666666666,
              "#ed7953"
             ],
             [
              0.7777777777777778,
              "#fb9f3a"
             ],
             [
              0.8888888888888888,
              "#fdca26"
             ],
             [
              1,
              "#f0f921"
             ]
            ],
            "type": "histogram2d"
           }
          ],
          "histogram2dcontour": [
           {
            "colorbar": {
             "outlinewidth": 0,
             "ticks": ""
            },
            "colorscale": [
             [
              0,
              "#0d0887"
             ],
             [
              0.1111111111111111,
              "#46039f"
             ],
             [
              0.2222222222222222,
              "#7201a8"
             ],
             [
              0.3333333333333333,
              "#9c179e"
             ],
             [
              0.4444444444444444,
              "#bd3786"
             ],
             [
              0.5555555555555556,
              "#d8576b"
             ],
             [
              0.6666666666666666,
              "#ed7953"
             ],
             [
              0.7777777777777778,
              "#fb9f3a"
             ],
             [
              0.8888888888888888,
              "#fdca26"
             ],
             [
              1,
              "#f0f921"
             ]
            ],
            "type": "histogram2dcontour"
           }
          ],
          "mesh3d": [
           {
            "colorbar": {
             "outlinewidth": 0,
             "ticks": ""
            },
            "type": "mesh3d"
           }
          ],
          "parcoords": [
           {
            "line": {
             "colorbar": {
              "outlinewidth": 0,
              "ticks": ""
             }
            },
            "type": "parcoords"
           }
          ],
          "pie": [
           {
            "automargin": true,
            "type": "pie"
           }
          ],
          "scatter": [
           {
            "fillpattern": {
             "fillmode": "overlay",
             "size": 10,
             "solidity": 0.2
            },
            "type": "scatter"
           }
          ],
          "scatter3d": [
           {
            "line": {
             "colorbar": {
              "outlinewidth": 0,
              "ticks": ""
             }
            },
            "marker": {
             "colorbar": {
              "outlinewidth": 0,
              "ticks": ""
             }
            },
            "type": "scatter3d"
           }
          ],
          "scattercarpet": [
           {
            "marker": {
             "colorbar": {
              "outlinewidth": 0,
              "ticks": ""
             }
            },
            "type": "scattercarpet"
           }
          ],
          "scattergeo": [
           {
            "marker": {
             "colorbar": {
              "outlinewidth": 0,
              "ticks": ""
             }
            },
            "type": "scattergeo"
           }
          ],
          "scattergl": [
           {
            "marker": {
             "colorbar": {
              "outlinewidth": 0,
              "ticks": ""
             }
            },
            "type": "scattergl"
           }
          ],
          "scattermapbox": [
           {
            "marker": {
             "colorbar": {
              "outlinewidth": 0,
              "ticks": ""
             }
            },
            "type": "scattermapbox"
           }
          ],
          "scatterpolar": [
           {
            "marker": {
             "colorbar": {
              "outlinewidth": 0,
              "ticks": ""
             }
            },
            "type": "scatterpolar"
           }
          ],
          "scatterpolargl": [
           {
            "marker": {
             "colorbar": {
              "outlinewidth": 0,
              "ticks": ""
             }
            },
            "type": "scatterpolargl"
           }
          ],
          "scatterternary": [
           {
            "marker": {
             "colorbar": {
              "outlinewidth": 0,
              "ticks": ""
             }
            },
            "type": "scatterternary"
           }
          ],
          "surface": [
           {
            "colorbar": {
             "outlinewidth": 0,
             "ticks": ""
            },
            "colorscale": [
             [
              0,
              "#0d0887"
             ],
             [
              0.1111111111111111,
              "#46039f"
             ],
             [
              0.2222222222222222,
              "#7201a8"
             ],
             [
              0.3333333333333333,
              "#9c179e"
             ],
             [
              0.4444444444444444,
              "#bd3786"
             ],
             [
              0.5555555555555556,
              "#d8576b"
             ],
             [
              0.6666666666666666,
              "#ed7953"
             ],
             [
              0.7777777777777778,
              "#fb9f3a"
             ],
             [
              0.8888888888888888,
              "#fdca26"
             ],
             [
              1,
              "#f0f921"
             ]
            ],
            "type": "surface"
           }
          ],
          "table": [
           {
            "cells": {
             "fill": {
              "color": "#EBF0F8"
             },
             "line": {
              "color": "white"
             }
            },
            "header": {
             "fill": {
              "color": "#C8D4E3"
             },
             "line": {
              "color": "white"
             }
            },
            "type": "table"
           }
          ]
         },
         "layout": {
          "annotationdefaults": {
           "arrowcolor": "#2a3f5f",
           "arrowhead": 0,
           "arrowwidth": 1
          },
          "autotypenumbers": "strict",
          "coloraxis": {
           "colorbar": {
            "outlinewidth": 0,
            "ticks": ""
           }
          },
          "colorscale": {
           "diverging": [
            [
             0,
             "#8e0152"
            ],
            [
             0.1,
             "#c51b7d"
            ],
            [
             0.2,
             "#de77ae"
            ],
            [
             0.3,
             "#f1b6da"
            ],
            [
             0.4,
             "#fde0ef"
            ],
            [
             0.5,
             "#f7f7f7"
            ],
            [
             0.6,
             "#e6f5d0"
            ],
            [
             0.7,
             "#b8e186"
            ],
            [
             0.8,
             "#7fbc41"
            ],
            [
             0.9,
             "#4d9221"
            ],
            [
             1,
             "#276419"
            ]
           ],
           "sequential": [
            [
             0,
             "#0d0887"
            ],
            [
             0.1111111111111111,
             "#46039f"
            ],
            [
             0.2222222222222222,
             "#7201a8"
            ],
            [
             0.3333333333333333,
             "#9c179e"
            ],
            [
             0.4444444444444444,
             "#bd3786"
            ],
            [
             0.5555555555555556,
             "#d8576b"
            ],
            [
             0.6666666666666666,
             "#ed7953"
            ],
            [
             0.7777777777777778,
             "#fb9f3a"
            ],
            [
             0.8888888888888888,
             "#fdca26"
            ],
            [
             1,
             "#f0f921"
            ]
           ],
           "sequentialminus": [
            [
             0,
             "#0d0887"
            ],
            [
             0.1111111111111111,
             "#46039f"
            ],
            [
             0.2222222222222222,
             "#7201a8"
            ],
            [
             0.3333333333333333,
             "#9c179e"
            ],
            [
             0.4444444444444444,
             "#bd3786"
            ],
            [
             0.5555555555555556,
             "#d8576b"
            ],
            [
             0.6666666666666666,
             "#ed7953"
            ],
            [
             0.7777777777777778,
             "#fb9f3a"
            ],
            [
             0.8888888888888888,
             "#fdca26"
            ],
            [
             1,
             "#f0f921"
            ]
           ]
          },
          "colorway": [
           "#636efa",
           "#EF553B",
           "#00cc96",
           "#ab63fa",
           "#FFA15A",
           "#19d3f3",
           "#FF6692",
           "#B6E880",
           "#FF97FF",
           "#FECB52"
          ],
          "font": {
           "color": "#2a3f5f"
          },
          "geo": {
           "bgcolor": "white",
           "lakecolor": "white",
           "landcolor": "#E5ECF6",
           "showlakes": true,
           "showland": true,
           "subunitcolor": "white"
          },
          "hoverlabel": {
           "align": "left"
          },
          "hovermode": "closest",
          "mapbox": {
           "style": "light"
          },
          "paper_bgcolor": "white",
          "plot_bgcolor": "#E5ECF6",
          "polar": {
           "angularaxis": {
            "gridcolor": "white",
            "linecolor": "white",
            "ticks": ""
           },
           "bgcolor": "#E5ECF6",
           "radialaxis": {
            "gridcolor": "white",
            "linecolor": "white",
            "ticks": ""
           }
          },
          "scene": {
           "xaxis": {
            "backgroundcolor": "#E5ECF6",
            "gridcolor": "white",
            "gridwidth": 2,
            "linecolor": "white",
            "showbackground": true,
            "ticks": "",
            "zerolinecolor": "white"
           },
           "yaxis": {
            "backgroundcolor": "#E5ECF6",
            "gridcolor": "white",
            "gridwidth": 2,
            "linecolor": "white",
            "showbackground": true,
            "ticks": "",
            "zerolinecolor": "white"
           },
           "zaxis": {
            "backgroundcolor": "#E5ECF6",
            "gridcolor": "white",
            "gridwidth": 2,
            "linecolor": "white",
            "showbackground": true,
            "ticks": "",
            "zerolinecolor": "white"
           }
          },
          "shapedefaults": {
           "line": {
            "color": "#2a3f5f"
           }
          },
          "ternary": {
           "aaxis": {
            "gridcolor": "white",
            "linecolor": "white",
            "ticks": ""
           },
           "baxis": {
            "gridcolor": "white",
            "linecolor": "white",
            "ticks": ""
           },
           "bgcolor": "#E5ECF6",
           "caxis": {
            "gridcolor": "white",
            "linecolor": "white",
            "ticks": ""
           }
          },
          "title": {
           "x": 0.05
          },
          "xaxis": {
           "automargin": true,
           "gridcolor": "white",
           "linecolor": "white",
           "ticks": "",
           "title": {
            "standoff": 15
           },
           "zerolinecolor": "white",
           "zerolinewidth": 2
          },
          "yaxis": {
           "automargin": true,
           "gridcolor": "white",
           "linecolor": "white",
           "ticks": "",
           "title": {
            "standoff": 15
           },
           "zerolinecolor": "white",
           "zerolinewidth": 2
          }
         }
        },
        "width": 800,
        "xaxis": {
         "anchor": "y",
         "domain": [
          0,
          1
         ]
        },
        "yaxis": {
         "anchor": "x",
         "domain": [
          0,
          1
         ],
         "title": {
          "text": "Zero Shot Learning Sentence Mean Threshold"
         }
        }
       }
      }
     },
     "metadata": {},
     "output_type": "display_data"
    }
   ],
   "source": [
    "fig = px.box(result, y=\"Zero Shot Learning Sentence Mean Threshold\", points=\"all\", color = \"Report Type\", width=800)\n",
    "fig.update_layout(legend=dict(\n",
    "    yanchor=\"bottom\",\n",
    "    y=1,\n",
    "    xanchor=\"left\",\n",
    "    x=0.01\n",
    "))\n",
    "fig.show()"
   ]
  },
  {
   "attachments": {},
   "cell_type": "markdown",
   "metadata": {},
   "source": [
    "Statistische Auswertung"
   ]
  },
  {
   "cell_type": "code",
   "execution_count": 30,
   "metadata": {},
   "outputs": [
    {
     "data": {
      "text/plain": [
       "F_onewayResult(statistic=0.21286123364521944, pvalue=0.808330651504212)"
      ]
     },
     "execution_count": 30,
     "metadata": {},
     "output_type": "execute_result"
    }
   ],
   "source": [
    "column = \"Zero Shot Learning Sentence Mean Threshold\"\n",
    "normal_reports = result[result[\"Report Type\"] == \"Normal Report\"][column]\n",
    "de_reports = result[result[\"Report Type\"] == \"DE\"][column]\n",
    "fake_reports = result[result[\"Report Type\"] == \"Fake\"][column]\n",
    "\n",
    "f_oneway(normal_reports, de_reports, fake_reports)\n"
   ]
  }
 ],
 "metadata": {
  "kernelspec": {
   "display_name": "Python 3.10.1 64-bit",
   "language": "python",
   "name": "python3"
  },
  "language_info": {
   "codemirror_mode": {
    "name": "ipython",
    "version": 3
   },
   "file_extension": ".py",
   "mimetype": "text/x-python",
   "name": "python",
   "nbconvert_exporter": "python",
   "pygments_lexer": "ipython3",
   "version": "3.10.1 (tags/v3.10.1:2cd268a, Dec  6 2021, 19:10:37) [MSC v.1929 64 bit (AMD64)]"
  },
  "orig_nbformat": 4,
  "vscode": {
   "interpreter": {
    "hash": "5cf922369b83184eb6b2ab0a3b64d08061786420dbf1332a02b89d0aac9562ca"
   }
  }
 },
 "nbformat": 4,
 "nbformat_minor": 2
}
