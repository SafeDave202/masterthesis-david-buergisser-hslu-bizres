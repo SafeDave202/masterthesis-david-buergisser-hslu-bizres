{
 "cells": [
  {
   "cell_type": "markdown",
   "metadata": {},
   "source": [
    "# Data Combiner\n",
    "\n",
    "Here we try to bring together all the data into one clean dataframe"
   ]
  },
  {
   "cell_type": "code",
   "execution_count": 1,
   "metadata": {},
   "outputs": [],
   "source": [
    "# !pip install pandas_profiling\n",
    "# !pip install ipywidgets"
   ]
  },
  {
   "cell_type": "code",
   "execution_count": 2,
   "metadata": {},
   "outputs": [],
   "source": [
    "import pandas as pd\n",
    "import os\n",
    "import plotly.express as px\n",
    "import numpy as np"
   ]
  },
  {
   "cell_type": "code",
   "execution_count": 3,
   "metadata": {},
   "outputs": [],
   "source": [
    "from pandas_profiling import ProfileReport\n",
    "from statistics import mean\n",
    "from scipy.stats import f_oneway\n"
   ]
  },
  {
   "cell_type": "code",
   "execution_count": 4,
   "metadata": {},
   "outputs": [],
   "source": [
    "result = pd.read_csv(r\"..\\Data\\Resultate\\combined_results.csv\", index_col=0)\n",
    "result_normal = result[result[\"Report Type\"]==\"Normal Report\"]"
   ]
  },
  {
   "cell_type": "code",
   "execution_count": 5,
   "metadata": {},
   "outputs": [
    {
     "data": {
      "text/html": [
       "<div>\n",
       "<style scoped>\n",
       "    .dataframe tbody tr th:only-of-type {\n",
       "        vertical-align: middle;\n",
       "    }\n",
       "\n",
       "    .dataframe tbody tr th {\n",
       "        vertical-align: top;\n",
       "    }\n",
       "\n",
       "    .dataframe thead th {\n",
       "        text-align: right;\n",
       "    }\n",
       "</style>\n",
       "<table border=\"1\" class=\"dataframe\">\n",
       "  <thead>\n",
       "    <tr style=\"text-align: right;\">\n",
       "      <th></th>\n",
       "      <th>Zero Shot Learning Sentence Raw</th>\n",
       "      <th>Zero Shot Learning Sentence Mean</th>\n",
       "      <th>Zero Shot Learning Sentence Mean Threshold</th>\n",
       "    </tr>\n",
       "  </thead>\n",
       "  <tbody>\n",
       "    <tr>\n",
       "      <th>0</th>\n",
       "      <td>[0.0063936966471374035, 0.1543944627046585, 0....</td>\n",
       "      <td>0.086</td>\n",
       "      <td>0.135</td>\n",
       "    </tr>\n",
       "    <tr>\n",
       "      <th>1</th>\n",
       "      <td>[0.22032485902309418, 0.21426941454410553, 0.1...</td>\n",
       "      <td>0.161</td>\n",
       "      <td>0.207</td>\n",
       "    </tr>\n",
       "    <tr>\n",
       "      <th>2</th>\n",
       "      <td>[0.7101063132286072, 0.41432586312294006, 0.50...</td>\n",
       "      <td>0.597</td>\n",
       "      <td>0.597</td>\n",
       "    </tr>\n",
       "    <tr>\n",
       "      <th>3</th>\n",
       "      <td>[0.005319107323884964, 0.049131620675325394, 0...</td>\n",
       "      <td>0.044</td>\n",
       "      <td>0.118</td>\n",
       "    </tr>\n",
       "    <tr>\n",
       "      <th>4</th>\n",
       "      <td>[0.057856060564517975, 0.16787868738174438, 0....</td>\n",
       "      <td>0.112</td>\n",
       "      <td>0.164</td>\n",
       "    </tr>\n",
       "  </tbody>\n",
       "</table>\n",
       "</div>"
      ],
      "text/plain": [
       "                     Zero Shot Learning Sentence Raw  \\\n",
       "0  [0.0063936966471374035, 0.1543944627046585, 0....   \n",
       "1  [0.22032485902309418, 0.21426941454410553, 0.1...   \n",
       "2  [0.7101063132286072, 0.41432586312294006, 0.50...   \n",
       "3  [0.005319107323884964, 0.049131620675325394, 0...   \n",
       "4  [0.057856060564517975, 0.16787868738174438, 0....   \n",
       "\n",
       "   Zero Shot Learning Sentence Mean  \\\n",
       "0                             0.086   \n",
       "1                             0.161   \n",
       "2                             0.597   \n",
       "3                             0.044   \n",
       "4                             0.112   \n",
       "\n",
       "   Zero Shot Learning Sentence Mean Threshold  \n",
       "0                                       0.135  \n",
       "1                                       0.207  \n",
       "2                                       0.597  \n",
       "3                                       0.118  \n",
       "4                                       0.164  "
      ]
     },
     "execution_count": 5,
     "metadata": {},
     "output_type": "execute_result"
    }
   ],
   "source": [
    "result_normal[[\"Zero Shot Learning Sentence Raw\", \"Zero Shot Learning Sentence Mean\", \"Zero Shot Learning Sentence Mean Threshold\"]].head()"
   ]
  },
  {
   "cell_type": "code",
   "execution_count": 6,
   "metadata": {},
   "outputs": [
    {
     "data": {
      "text/html": [
       "<div>\n",
       "<style scoped>\n",
       "    .dataframe tbody tr th:only-of-type {\n",
       "        vertical-align: middle;\n",
       "    }\n",
       "\n",
       "    .dataframe tbody tr th {\n",
       "        vertical-align: top;\n",
       "    }\n",
       "\n",
       "    .dataframe thead th {\n",
       "        text-align: right;\n",
       "    }\n",
       "</style>\n",
       "<table border=\"1\" class=\"dataframe\">\n",
       "  <thead>\n",
       "    <tr style=\"text-align: right;\">\n",
       "      <th></th>\n",
       "      <th>Company</th>\n",
       "      <th>Label</th>\n",
       "      <th>Zero Shot Fulltext</th>\n",
       "      <th>Sentence Cosine Similarity Wiki Summarized</th>\n",
       "      <th>Sentence Cosine Similarity Wiki Summarized Mean</th>\n",
       "      <th>Sentence Cosine Similarity Wiki Summarized Mean Threshold 0</th>\n",
       "      <th>Sentence by Sentence Cosine Similarity human rights</th>\n",
       "      <th>Sentence by Sentence Cosine Similarity human rights mean</th>\n",
       "      <th>Sentence by Sentence Cosine Similarity human rights Mean Threshold 0</th>\n",
       "      <th>Zero Shot Learning Sentence Raw</th>\n",
       "      <th>Zero Shot Learning Sentence Mean</th>\n",
       "      <th>Zero Shot Learning Sentence Mean Threshold</th>\n",
       "      <th>PDF Name</th>\n",
       "      <th>TF-IDF</th>\n",
       "      <th>Top N Words</th>\n",
       "      <th>Report Type</th>\n",
       "    </tr>\n",
       "  </thead>\n",
       "  <tbody>\n",
       "    <tr>\n",
       "      <th>0</th>\n",
       "      <td>abb_sustainability_performance</td>\n",
       "      <td>social issues</td>\n",
       "      <td>0.249538</td>\n",
       "      <td>[tensor([[0.1108]]), tensor([[0.0350]]), tenso...</td>\n",
       "      <td>0.071</td>\n",
       "      <td>0.104</td>\n",
       "      <td>[tensor([[0.1108]]), tensor([[0.0350]]), tenso...</td>\n",
       "      <td>0.071</td>\n",
       "      <td>0.104</td>\n",
       "      <td>[0.0063936966471374035, 0.1543944627046585, 0....</td>\n",
       "      <td>0.086</td>\n",
       "      <td>0.135</td>\n",
       "      <td>abb-group-sustainability-performance-report-2015</td>\n",
       "      <td>[('performance', 0.25703375969085324), ('susta...</td>\n",
       "      <td>[('abb', 242), ('sustainability', 218), ('perf...</td>\n",
       "      <td>Normal Report</td>\n",
       "    </tr>\n",
       "  </tbody>\n",
       "</table>\n",
       "</div>"
      ],
      "text/plain": [
       "                          Company          Label  Zero Shot Fulltext  \\\n",
       "0  abb_sustainability_performance  social issues            0.249538   \n",
       "\n",
       "          Sentence Cosine Similarity Wiki Summarized  \\\n",
       "0  [tensor([[0.1108]]), tensor([[0.0350]]), tenso...   \n",
       "\n",
       "   Sentence Cosine Similarity Wiki Summarized Mean  \\\n",
       "0                                            0.071   \n",
       "\n",
       "   Sentence Cosine Similarity Wiki Summarized Mean Threshold 0  \\\n",
       "0                                              0.104             \n",
       "\n",
       "  Sentence by Sentence Cosine Similarity human rights  \\\n",
       "0  [tensor([[0.1108]]), tensor([[0.0350]]), tenso...    \n",
       "\n",
       "   Sentence by Sentence Cosine Similarity human rights mean  \\\n",
       "0                                              0.071          \n",
       "\n",
       "   Sentence by Sentence Cosine Similarity human rights Mean Threshold 0  \\\n",
       "0                                              0.104                      \n",
       "\n",
       "                     Zero Shot Learning Sentence Raw  \\\n",
       "0  [0.0063936966471374035, 0.1543944627046585, 0....   \n",
       "\n",
       "   Zero Shot Learning Sentence Mean  \\\n",
       "0                             0.086   \n",
       "\n",
       "   Zero Shot Learning Sentence Mean Threshold  \\\n",
       "0                                       0.135   \n",
       "\n",
       "                                           PDF Name  \\\n",
       "0  abb-group-sustainability-performance-report-2015   \n",
       "\n",
       "                                              TF-IDF  \\\n",
       "0  [('performance', 0.25703375969085324), ('susta...   \n",
       "\n",
       "                                         Top N Words    Report Type  \n",
       "0  [('abb', 242), ('sustainability', 218), ('perf...  Normal Report  "
      ]
     },
     "execution_count": 6,
     "metadata": {},
     "output_type": "execute_result"
    }
   ],
   "source": [
    "result_normal[0:1]"
   ]
  },
  {
   "attachments": {},
   "cell_type": "markdown",
   "metadata": {},
   "source": [
    "### 5.1.4\tSentence-BERT Similarität satzweise vs. Zero-Shot Learning Satzweise"
   ]
  },
  {
   "cell_type": "code",
   "execution_count": 21,
   "metadata": {},
   "outputs": [
    {
     "data": {
      "application/vnd.plotly.v1+json": {
       "config": {
        "plotlyServerURL": "https://plot.ly"
       },
       "data": [
        {
         "alignmentgroup": "True",
         "boxpoints": "all",
         "hovertemplate": "Data=Sentence Cosine Similarity Wiki Summarized Mean Threshold 0<br>value=%{y}<extra></extra>",
         "legendgroup": "Sentence Cosine Similarity Wiki Summarized Mean Threshold 0",
         "marker": {
          "color": "#636efa"
         },
         "name": "Sentence Cosine Similarity Wiki Summarized Mean Threshold 0",
         "notched": false,
         "offsetgroup": "Sentence Cosine Similarity Wiki Summarized Mean Threshold 0",
         "orientation": "v",
         "showlegend": true,
         "type": "box",
         "x0": " ",
         "xaxis": "x",
         "y": [
          0.104,
          0.114,
          0.188,
          0.106,
          0.062,
          0.12,
          0.095,
          0.092,
          0.103,
          0.067,
          0.142,
          0.08,
          0.123,
          0.08,
          0.071,
          0.067,
          0.141,
          0.095,
          0.091,
          0.066,
          0.126,
          0.069,
          0.095,
          0.068,
          0.042,
          0.107,
          0.089,
          0.067,
          0.161,
          0.068,
          0.198,
          0.109,
          0.115,
          0.107,
          0.076,
          0.081,
          0.125,
          0.105,
          0.09,
          0.08,
          0.184,
          0.099,
          0.094,
          0.097,
          0.086,
          0.226,
          0.108,
          0.1,
          0.114,
          0.053,
          0.163,
          0.113,
          0.1,
          0.114,
          0.05,
          0.187,
          0.087,
          0.118,
          0.086,
          0.054,
          0.172,
          0.092,
          0.107,
          0.118,
          0.073,
          0.178,
          0.12,
          0.098,
          0.097,
          0.062,
          0.173,
          0.113,
          0.124,
          0.126,
          0.087,
          0.111,
          0.11,
          0.131,
          0.09,
          0.06,
          0.122,
          0.113,
          0.145,
          0.087,
          0.061,
          0.219,
          0.102,
          0.112,
          0.114,
          0.077,
          0.177,
          0.077,
          0.072,
          0.077,
          0.068,
          0.098,
          0.172,
          0.101,
          0.098,
          0.077,
          0.156,
          0.084,
          0.073,
          0.088,
          0.054,
          0.179,
          0.093,
          0.084,
          0.105,
          0.066,
          0.171,
          0.098,
          0.115,
          0.088,
          0.077,
          0.188,
          0.076,
          0.078,
          0.089,
          0.042,
          0.225,
          0.11,
          0.103,
          0.092,
          0.077,
          0.169,
          0.092,
          0.098,
          0.097,
          0.074,
          0.164,
          0.169,
          0.088,
          0.077,
          0.05,
          0.077,
          0.098,
          0.087,
          0.096,
          0.052,
          0.085,
          0.112,
          0.092,
          0.088,
          0.047,
          0.103,
          0.073,
          0.089,
          0.073,
          0.052,
          0.087,
          0.088,
          0.11,
          0.087,
          0.053,
          0.137,
          0.073,
          0.081,
          0.078,
          0.084,
          0.152,
          0.144,
          0.109,
          0.115,
          0.077,
          0.091,
          0.142,
          0.098,
          0.08,
          0.067,
          0.119,
          0.078,
          0.069,
          0.08,
          0.069,
          0.15,
          0.075,
          0.096,
          0.1,
          0.068,
          0.067,
          0.202,
          0.088,
          0.102,
          0.051,
          0.207,
          0.062,
          0.064,
          0.062,
          0.035,
          0.217,
          0.074,
          0.098,
          0.097,
          0.04,
          0.168,
          0.162,
          0.243,
          0.182,
          0.045,
          0.182,
          0.094,
          0.099,
          0.087,
          0.042,
          0.148,
          0.083,
          0.099,
          0.083,
          0.054,
          0.132,
          0.087,
          0.09,
          0.089,
          0.076,
          0.132,
          0.095,
          0.108,
          0.066,
          0.084,
          0.12,
          0.083,
          0.094,
          0.12,
          0.083,
          0.168,
          0.097,
          0.103,
          0.116,
          0.071,
          0.097,
          0.254,
          0.1,
          0.106,
          0.065,
          0.17,
          0.101,
          0.118,
          0.113,
          0.079,
          0.221,
          0.134,
          0.129,
          0.129,
          0.066,
          0.188,
          0.113,
          0.132,
          0.105,
          0.074,
          0.266,
          0.046,
          0.083,
          0.107,
          0.051,
          0.221,
          0.032,
          0.075,
          0.08,
          0.042,
          0.173,
          0.113,
          0.116,
          0.126,
          0.066,
          0.195,
          0.12,
          0.103,
          0.098,
          0.088,
          0.193,
          0.064,
          0.126,
          0.121,
          0.117,
          0.152,
          0.088,
          0.126,
          0.141,
          0.087,
          0.139,
          0.15,
          0.174,
          0.204,
          0.107,
          0.103,
          0.073,
          0.08,
          0.077,
          0.078,
          0.198,
          0.123,
          0.15,
          0.091,
          0.046,
          0.195,
          0.132,
          0.098,
          0.116,
          0.065,
          0.124,
          0.084,
          0.054,
          0.097,
          0.098,
          0.199,
          0.086,
          0.097,
          0.066,
          0.093,
          0.212,
          0.114,
          0.067,
          0.103,
          0.082,
          0.099,
          0.212,
          0.094,
          0.119,
          0.065,
          0.221,
          0.092,
          0.079,
          0.101,
          0.041,
          0.116,
          0.164,
          0.11,
          0.108,
          0.097,
          0.15,
          0.077,
          0.088,
          0.11,
          0.059,
          0.209,
          0.075,
          0.122,
          0.348,
          0.015,
          0.103,
          0.083,
          0.075,
          0.191,
          0.05,
          0.096,
          0.095,
          0.095,
          0.183,
          0.085,
          0.217,
          0.134,
          0.103,
          0.119,
          0.076,
          0.105,
          0.183,
          0.096,
          0.091,
          0.052,
          0.177,
          0.097,
          0.126,
          0.119,
          0.075,
          0.182,
          0.097,
          0.098,
          0.089,
          0.059,
          0.145,
          0.136,
          0.099,
          0.123,
          0.077,
          0.214,
          0.093,
          0.095,
          0.069,
          0.062,
          0.139,
          0.097,
          0.098,
          0.088,
          0.065,
          0.178,
          0.111,
          0.109,
          0.072,
          0.103,
          0.193,
          0.116,
          0.088,
          0.096,
          0.056,
          0.206,
          0.097,
          0.095,
          0.076,
          0.096,
          0.056,
          0.081,
          0.05,
          0.065,
          0.058,
          0.154,
          0.113,
          0.109,
          0.096,
          0.101,
          0.104,
          0.077,
          0.075,
          0.089,
          0.062,
          0.113,
          0.08,
          0.08,
          0.078,
          0.075,
          0.095,
          0.103,
          0.066,
          0.07,
          0.062,
          0.242,
          0.113,
          0.095,
          0.118,
          0.085,
          0.245,
          0.117,
          0.158,
          0.1,
          0.091,
          0.206,
          0.11,
          0.11,
          0.117,
          0.076,
          0.191,
          0.105,
          0.12,
          0.116,
          0.055,
          0.194,
          0.118,
          0.112,
          0.093,
          0.064,
          0.204,
          0.119,
          0.11,
          0.114,
          0.062,
          0.24,
          0.094,
          0.121,
          0.107,
          0.073,
          0.214,
          0.142,
          0.121,
          0.114,
          0.071,
          0.17,
          0.115,
          0.098,
          0.125,
          0.076,
          0.229,
          0.098,
          0.114,
          0.106,
          0.075,
          0.221,
          0.109,
          0.084,
          0.099,
          0.094,
          0.111,
          0.098,
          0.204,
          0.111,
          0.062,
          0.084,
          0.187,
          0.115,
          0.125,
          0.077,
          0.141,
          0.104,
          0.098,
          0.069,
          0.056,
          0.129,
          0.09,
          0.089,
          0.085,
          0.076,
          0.223,
          0.092,
          0.125,
          0.114,
          0.069,
          0.08,
          0.106,
          0.081,
          0.069,
          0.07,
          0.189,
          0.143,
          0.111,
          0.127,
          0.074,
          0.159,
          0.117,
          0.12,
          0.121,
          0.061,
          0.14,
          0.092,
          0.092,
          0.088,
          0.07,
          0.242,
          0.092,
          0.056,
          0.049,
          0.084,
          0.157,
          0.101,
          0.093,
          0.106,
          0.062,
          0.185,
          0.117,
          0.091,
          0.097,
          0.074,
          0.212,
          0.111,
          0.088,
          0.129,
          0.066
         ],
         "y0": " ",
         "yaxis": "y"
        },
        {
         "alignmentgroup": "True",
         "boxpoints": "all",
         "hovertemplate": "Data=Zero Shot Learning Sentence Mean Threshold<br>value=%{y}<extra></extra>",
         "legendgroup": "Zero Shot Learning Sentence Mean Threshold",
         "marker": {
          "color": "#EF553B"
         },
         "name": "Zero Shot Learning Sentence Mean Threshold",
         "notched": false,
         "offsetgroup": "Zero Shot Learning Sentence Mean Threshold",
         "orientation": "v",
         "showlegend": true,
         "type": "box",
         "x0": " ",
         "xaxis": "x",
         "y": [
          0.135,
          0.207,
          0.597,
          0.118,
          0.164,
          0.474,
          0.117,
          0.21,
          0.136,
          0.162,
          0.55,
          0.206,
          0.125,
          0.137,
          0.16,
          0.12,
          0.53,
          0.131,
          0.2,
          0.141,
          0.593,
          0.113,
          0.13,
          0.19,
          0.155,
          0.136,
          0.207,
          0.122,
          0.542,
          0.161,
          0.597,
          0.216,
          0.119,
          0.138,
          0.164,
          0.118,
          0.47,
          0.207,
          0.137,
          0.164,
          0.628,
          0.117,
          0.214,
          0.136,
          0.161,
          0.669,
          0.142,
          0.124,
          0.215,
          0.166,
          0.574,
          0.114,
          0.213,
          0.138,
          0.164,
          0.591,
          0.206,
          0.118,
          0.136,
          0.162,
          0.579,
          0.117,
          0.223,
          0.129,
          0.163,
          0.548,
          0.12,
          0.136,
          0.225,
          0.163,
          0.552,
          0.139,
          0.117,
          0.22,
          0.165,
          0.134,
          0.501,
          0.117,
          0.233,
          0.167,
          0.218,
          0.119,
          0.563,
          0.138,
          0.166,
          0.599,
          0.12,
          0.135,
          0.217,
          0.163,
          0.577,
          0.116,
          0.197,
          0.137,
          0.158,
          0.118,
          0.584,
          0.214,
          0.132,
          0.157,
          0.611,
          0.117,
          0.219,
          0.136,
          0.161,
          0.603,
          0.214,
          0.116,
          0.133,
          0.158,
          0.642,
          0.134,
          0.115,
          0.218,
          0.156,
          0.7,
          0.121,
          0.206,
          0.127,
          0.148,
          0.597,
          0.136,
          0.215,
          0.118,
          0.162,
          0.556,
          0.214,
          0.119,
          0.138,
          0.164,
          0.554,
          0.114,
          0.133,
          0.209,
          0.157,
          0.12,
          0.427,
          0.14,
          0.231,
          0.171,
          0.118,
          0.558,
          0.222,
          0.131,
          0.16,
          0.498,
          0.117,
          0.221,
          0.132,
          0.163,
          0.12,
          0.228,
          0.519,
          0.134,
          0.162,
          0.543,
          0.207,
          0.131,
          0.118,
          0.154,
          0.53,
          0.119,
          0.133,
          0.232,
          0.161,
          0.139,
          0.526,
          0.117,
          0.208,
          0.162,
          0.507,
          0.2,
          0.133,
          0.117,
          0.156,
          0.474,
          0.115,
          0.205,
          0.137,
          0.163,
          0.113,
          0.648,
          0.129,
          0.181,
          0.144,
          0.742,
          0.124,
          0.115,
          0.175,
          0.145,
          0.744,
          0.05,
          0.137,
          0.192,
          0.149,
          0.05,
          0.145,
          0.629,
          0.193,
          0.178,
          0.655,
          0.13,
          0.194,
          0.116,
          0.15,
          0.555,
          0.207,
          0.117,
          0.137,
          0.16,
          0.494,
          0.135,
          0.203,
          0.12,
          0.157,
          0.48,
          0.138,
          0.116,
          0.165,
          0.211,
          0.131,
          0.117,
          0.229,
          0.569,
          0.163,
          0.603,
          0.206,
          0.134,
          0.12,
          0.159,
          0.14,
          0.632,
          0.125,
          0.213,
          0.169,
          0.597,
          0.136,
          0.119,
          0.213,
          0.162,
          0.608,
          0.133,
          0.214,
          0.114,
          0.157,
          0.579,
          0.134,
          0.216,
          0.119,
          0.159,
          0.766,
          0.102,
          0.106,
          0.159,
          0.138,
          0.684,
          0.05,
          0.187,
          0.13,
          0.174,
          0.513,
          0.142,
          0.225,
          0.118,
          0.17,
          0.565,
          0.116,
          0.213,
          0.136,
          0.162,
          0.658,
          0.16,
          0.213,
          0.115,
          0.132,
          0.627,
          0.133,
          0.19,
          0.121,
          0.152,
          0.143,
          0.463,
          0.228,
          0.118,
          0.179,
          0.473,
          0.136,
          0.119,
          0.159,
          0.201,
          0.635,
          0.224,
          0.135,
          0.117,
          0.16,
          0.668,
          0.133,
          0.115,
          0.219,
          0.16,
          0.525,
          0.116,
          0.161,
          0.22,
          0.134,
          0.585,
          0.215,
          0.119,
          0.158,
          0.133,
          0.598,
          0.132,
          0.121,
          0.21,
          0.154,
          0.121,
          0.611,
          0.216,
          0.136,
          0.157,
          0.752,
          0.232,
          0.119,
          0.133,
          0.164,
          0.136,
          0.548,
          0.118,
          0.221,
          0.163,
          0.554,
          0.139,
          0.216,
          0.111,
          0.165,
          0.05,
          0.175,
          0.225,
          0.363,
          0.198,
          0.115,
          0.2,
          0.133,
          0.638,
          0.153,
          0.139,
          0.118,
          0.209,
          0.587,
          0.161,
          0.641,
          0.131,
          0.117,
          0.223,
          0.164,
          0.117,
          0.665,
          0.133,
          0.217,
          0.158,
          0.569,
          0.118,
          0.134,
          0.233,
          0.156,
          0.587,
          0.12,
          0.137,
          0.211,
          0.162,
          0.559,
          0.128,
          0.113,
          0.235,
          0.159,
          0.645,
          0.188,
          0.132,
          0.119,
          0.158,
          0.502,
          0.219,
          0.136,
          0.12,
          0.164,
          0.59,
          0.211,
          0.134,
          0.16,
          0.117,
          0.573,
          0.118,
          0.135,
          0.208,
          0.161,
          0.65,
          0.134,
          0.204,
          0.153,
          0.116,
          0.112,
          0.134,
          0.521,
          0.228,
          0.175,
          0.588,
          0.122,
          0.205,
          0.137,
          0.162,
          0.484,
          0.117,
          0.195,
          0.136,
          0.158,
          0.476,
          0.209,
          0.117,
          0.135,
          0.159,
          0.117,
          0.472,
          0.135,
          0.203,
          0.159,
          0.64,
          0.219,
          0.117,
          0.138,
          0.164,
          0.665,
          0.137,
          0.121,
          0.209,
          0.16,
          0.597,
          0.119,
          0.215,
          0.135,
          0.161,
          0.609,
          0.215,
          0.119,
          0.135,
          0.161,
          0.626,
          0.212,
          0.136,
          0.117,
          0.161,
          0.62,
          0.134,
          0.119,
          0.222,
          0.163,
          0.617,
          0.119,
          0.134,
          0.217,
          0.164,
          0.578,
          0.118,
          0.139,
          0.223,
          0.166,
          0.577,
          0.12,
          0.22,
          0.138,
          0.163,
          0.618,
          0.121,
          0.136,
          0.212,
          0.161,
          0.622,
          0.134,
          0.118,
          0.209,
          0.158,
          0.132,
          0.117,
          0.612,
          0.204,
          0.154,
          0.121,
          0.576,
          0.212,
          0.131,
          0.158,
          0.535,
          0.113,
          0.134,
          0.235,
          0.16,
          0.502,
          0.118,
          0.204,
          0.135,
          0.158,
          0.621,
          0.123,
          0.134,
          0.217,
          0.16,
          0.117,
          0.481,
          0.21,
          0.134,
          0.157,
          0.598,
          0.133,
          0.116,
          0.221,
          0.157,
          0.548,
          0.116,
          0.132,
          0.229,
          0.165,
          0.52,
          0.134,
          0.119,
          0.201,
          0.157,
          0.708,
          0.129,
          0.118,
          0.148,
          0.19,
          0.554,
          0.137,
          0.214,
          0.12,
          0.165,
          0.604,
          0.133,
          0.116,
          0.217,
          0.16,
          0.601,
          0.223,
          0.118,
          0.134,
          0.162
         ],
         "y0": " ",
         "yaxis": "y"
        }
       ],
       "layout": {
        "boxmode": "group",
        "legend": {
         "title": {
          "text": "Data"
         },
         "tracegroupgap": 0
        },
        "margin": {
         "t": 60
        },
        "template": {
         "data": {
          "bar": [
           {
            "error_x": {
             "color": "#2a3f5f"
            },
            "error_y": {
             "color": "#2a3f5f"
            },
            "marker": {
             "line": {
              "color": "#E5ECF6",
              "width": 0.5
             },
             "pattern": {
              "fillmode": "overlay",
              "size": 10,
              "solidity": 0.2
             }
            },
            "type": "bar"
           }
          ],
          "barpolar": [
           {
            "marker": {
             "line": {
              "color": "#E5ECF6",
              "width": 0.5
             },
             "pattern": {
              "fillmode": "overlay",
              "size": 10,
              "solidity": 0.2
             }
            },
            "type": "barpolar"
           }
          ],
          "carpet": [
           {
            "aaxis": {
             "endlinecolor": "#2a3f5f",
             "gridcolor": "white",
             "linecolor": "white",
             "minorgridcolor": "white",
             "startlinecolor": "#2a3f5f"
            },
            "baxis": {
             "endlinecolor": "#2a3f5f",
             "gridcolor": "white",
             "linecolor": "white",
             "minorgridcolor": "white",
             "startlinecolor": "#2a3f5f"
            },
            "type": "carpet"
           }
          ],
          "choropleth": [
           {
            "colorbar": {
             "outlinewidth": 0,
             "ticks": ""
            },
            "type": "choropleth"
           }
          ],
          "contour": [
           {
            "colorbar": {
             "outlinewidth": 0,
             "ticks": ""
            },
            "colorscale": [
             [
              0,
              "#0d0887"
             ],
             [
              0.1111111111111111,
              "#46039f"
             ],
             [
              0.2222222222222222,
              "#7201a8"
             ],
             [
              0.3333333333333333,
              "#9c179e"
             ],
             [
              0.4444444444444444,
              "#bd3786"
             ],
             [
              0.5555555555555556,
              "#d8576b"
             ],
             [
              0.6666666666666666,
              "#ed7953"
             ],
             [
              0.7777777777777778,
              "#fb9f3a"
             ],
             [
              0.8888888888888888,
              "#fdca26"
             ],
             [
              1,
              "#f0f921"
             ]
            ],
            "type": "contour"
           }
          ],
          "contourcarpet": [
           {
            "colorbar": {
             "outlinewidth": 0,
             "ticks": ""
            },
            "type": "contourcarpet"
           }
          ],
          "heatmap": [
           {
            "colorbar": {
             "outlinewidth": 0,
             "ticks": ""
            },
            "colorscale": [
             [
              0,
              "#0d0887"
             ],
             [
              0.1111111111111111,
              "#46039f"
             ],
             [
              0.2222222222222222,
              "#7201a8"
             ],
             [
              0.3333333333333333,
              "#9c179e"
             ],
             [
              0.4444444444444444,
              "#bd3786"
             ],
             [
              0.5555555555555556,
              "#d8576b"
             ],
             [
              0.6666666666666666,
              "#ed7953"
             ],
             [
              0.7777777777777778,
              "#fb9f3a"
             ],
             [
              0.8888888888888888,
              "#fdca26"
             ],
             [
              1,
              "#f0f921"
             ]
            ],
            "type": "heatmap"
           }
          ],
          "heatmapgl": [
           {
            "colorbar": {
             "outlinewidth": 0,
             "ticks": ""
            },
            "colorscale": [
             [
              0,
              "#0d0887"
             ],
             [
              0.1111111111111111,
              "#46039f"
             ],
             [
              0.2222222222222222,
              "#7201a8"
             ],
             [
              0.3333333333333333,
              "#9c179e"
             ],
             [
              0.4444444444444444,
              "#bd3786"
             ],
             [
              0.5555555555555556,
              "#d8576b"
             ],
             [
              0.6666666666666666,
              "#ed7953"
             ],
             [
              0.7777777777777778,
              "#fb9f3a"
             ],
             [
              0.8888888888888888,
              "#fdca26"
             ],
             [
              1,
              "#f0f921"
             ]
            ],
            "type": "heatmapgl"
           }
          ],
          "histogram": [
           {
            "marker": {
             "pattern": {
              "fillmode": "overlay",
              "size": 10,
              "solidity": 0.2
             }
            },
            "type": "histogram"
           }
          ],
          "histogram2d": [
           {
            "colorbar": {
             "outlinewidth": 0,
             "ticks": ""
            },
            "colorscale": [
             [
              0,
              "#0d0887"
             ],
             [
              0.1111111111111111,
              "#46039f"
             ],
             [
              0.2222222222222222,
              "#7201a8"
             ],
             [
              0.3333333333333333,
              "#9c179e"
             ],
             [
              0.4444444444444444,
              "#bd3786"
             ],
             [
              0.5555555555555556,
              "#d8576b"
             ],
             [
              0.6666666666666666,
              "#ed7953"
             ],
             [
              0.7777777777777778,
              "#fb9f3a"
             ],
             [
              0.8888888888888888,
              "#fdca26"
             ],
             [
              1,
              "#f0f921"
             ]
            ],
            "type": "histogram2d"
           }
          ],
          "histogram2dcontour": [
           {
            "colorbar": {
             "outlinewidth": 0,
             "ticks": ""
            },
            "colorscale": [
             [
              0,
              "#0d0887"
             ],
             [
              0.1111111111111111,
              "#46039f"
             ],
             [
              0.2222222222222222,
              "#7201a8"
             ],
             [
              0.3333333333333333,
              "#9c179e"
             ],
             [
              0.4444444444444444,
              "#bd3786"
             ],
             [
              0.5555555555555556,
              "#d8576b"
             ],
             [
              0.6666666666666666,
              "#ed7953"
             ],
             [
              0.7777777777777778,
              "#fb9f3a"
             ],
             [
              0.8888888888888888,
              "#fdca26"
             ],
             [
              1,
              "#f0f921"
             ]
            ],
            "type": "histogram2dcontour"
           }
          ],
          "mesh3d": [
           {
            "colorbar": {
             "outlinewidth": 0,
             "ticks": ""
            },
            "type": "mesh3d"
           }
          ],
          "parcoords": [
           {
            "line": {
             "colorbar": {
              "outlinewidth": 0,
              "ticks": ""
             }
            },
            "type": "parcoords"
           }
          ],
          "pie": [
           {
            "automargin": true,
            "type": "pie"
           }
          ],
          "scatter": [
           {
            "fillpattern": {
             "fillmode": "overlay",
             "size": 10,
             "solidity": 0.2
            },
            "type": "scatter"
           }
          ],
          "scatter3d": [
           {
            "line": {
             "colorbar": {
              "outlinewidth": 0,
              "ticks": ""
             }
            },
            "marker": {
             "colorbar": {
              "outlinewidth": 0,
              "ticks": ""
             }
            },
            "type": "scatter3d"
           }
          ],
          "scattercarpet": [
           {
            "marker": {
             "colorbar": {
              "outlinewidth": 0,
              "ticks": ""
             }
            },
            "type": "scattercarpet"
           }
          ],
          "scattergeo": [
           {
            "marker": {
             "colorbar": {
              "outlinewidth": 0,
              "ticks": ""
             }
            },
            "type": "scattergeo"
           }
          ],
          "scattergl": [
           {
            "marker": {
             "colorbar": {
              "outlinewidth": 0,
              "ticks": ""
             }
            },
            "type": "scattergl"
           }
          ],
          "scattermapbox": [
           {
            "marker": {
             "colorbar": {
              "outlinewidth": 0,
              "ticks": ""
             }
            },
            "type": "scattermapbox"
           }
          ],
          "scatterpolar": [
           {
            "marker": {
             "colorbar": {
              "outlinewidth": 0,
              "ticks": ""
             }
            },
            "type": "scatterpolar"
           }
          ],
          "scatterpolargl": [
           {
            "marker": {
             "colorbar": {
              "outlinewidth": 0,
              "ticks": ""
             }
            },
            "type": "scatterpolargl"
           }
          ],
          "scatterternary": [
           {
            "marker": {
             "colorbar": {
              "outlinewidth": 0,
              "ticks": ""
             }
            },
            "type": "scatterternary"
           }
          ],
          "surface": [
           {
            "colorbar": {
             "outlinewidth": 0,
             "ticks": ""
            },
            "colorscale": [
             [
              0,
              "#0d0887"
             ],
             [
              0.1111111111111111,
              "#46039f"
             ],
             [
              0.2222222222222222,
              "#7201a8"
             ],
             [
              0.3333333333333333,
              "#9c179e"
             ],
             [
              0.4444444444444444,
              "#bd3786"
             ],
             [
              0.5555555555555556,
              "#d8576b"
             ],
             [
              0.6666666666666666,
              "#ed7953"
             ],
             [
              0.7777777777777778,
              "#fb9f3a"
             ],
             [
              0.8888888888888888,
              "#fdca26"
             ],
             [
              1,
              "#f0f921"
             ]
            ],
            "type": "surface"
           }
          ],
          "table": [
           {
            "cells": {
             "fill": {
              "color": "#EBF0F8"
             },
             "line": {
              "color": "white"
             }
            },
            "header": {
             "fill": {
              "color": "#C8D4E3"
             },
             "line": {
              "color": "white"
             }
            },
            "type": "table"
           }
          ]
         },
         "layout": {
          "annotationdefaults": {
           "arrowcolor": "#2a3f5f",
           "arrowhead": 0,
           "arrowwidth": 1
          },
          "autotypenumbers": "strict",
          "coloraxis": {
           "colorbar": {
            "outlinewidth": 0,
            "ticks": ""
           }
          },
          "colorscale": {
           "diverging": [
            [
             0,
             "#8e0152"
            ],
            [
             0.1,
             "#c51b7d"
            ],
            [
             0.2,
             "#de77ae"
            ],
            [
             0.3,
             "#f1b6da"
            ],
            [
             0.4,
             "#fde0ef"
            ],
            [
             0.5,
             "#f7f7f7"
            ],
            [
             0.6,
             "#e6f5d0"
            ],
            [
             0.7,
             "#b8e186"
            ],
            [
             0.8,
             "#7fbc41"
            ],
            [
             0.9,
             "#4d9221"
            ],
            [
             1,
             "#276419"
            ]
           ],
           "sequential": [
            [
             0,
             "#0d0887"
            ],
            [
             0.1111111111111111,
             "#46039f"
            ],
            [
             0.2222222222222222,
             "#7201a8"
            ],
            [
             0.3333333333333333,
             "#9c179e"
            ],
            [
             0.4444444444444444,
             "#bd3786"
            ],
            [
             0.5555555555555556,
             "#d8576b"
            ],
            [
             0.6666666666666666,
             "#ed7953"
            ],
            [
             0.7777777777777778,
             "#fb9f3a"
            ],
            [
             0.8888888888888888,
             "#fdca26"
            ],
            [
             1,
             "#f0f921"
            ]
           ],
           "sequentialminus": [
            [
             0,
             "#0d0887"
            ],
            [
             0.1111111111111111,
             "#46039f"
            ],
            [
             0.2222222222222222,
             "#7201a8"
            ],
            [
             0.3333333333333333,
             "#9c179e"
            ],
            [
             0.4444444444444444,
             "#bd3786"
            ],
            [
             0.5555555555555556,
             "#d8576b"
            ],
            [
             0.6666666666666666,
             "#ed7953"
            ],
            [
             0.7777777777777778,
             "#fb9f3a"
            ],
            [
             0.8888888888888888,
             "#fdca26"
            ],
            [
             1,
             "#f0f921"
            ]
           ]
          },
          "colorway": [
           "#636efa",
           "#EF553B",
           "#00cc96",
           "#ab63fa",
           "#FFA15A",
           "#19d3f3",
           "#FF6692",
           "#B6E880",
           "#FF97FF",
           "#FECB52"
          ],
          "font": {
           "color": "#2a3f5f"
          },
          "geo": {
           "bgcolor": "white",
           "lakecolor": "white",
           "landcolor": "#E5ECF6",
           "showlakes": true,
           "showland": true,
           "subunitcolor": "white"
          },
          "hoverlabel": {
           "align": "left"
          },
          "hovermode": "closest",
          "mapbox": {
           "style": "light"
          },
          "paper_bgcolor": "white",
          "plot_bgcolor": "#E5ECF6",
          "polar": {
           "angularaxis": {
            "gridcolor": "white",
            "linecolor": "white",
            "ticks": ""
           },
           "bgcolor": "#E5ECF6",
           "radialaxis": {
            "gridcolor": "white",
            "linecolor": "white",
            "ticks": ""
           }
          },
          "scene": {
           "xaxis": {
            "backgroundcolor": "#E5ECF6",
            "gridcolor": "white",
            "gridwidth": 2,
            "linecolor": "white",
            "showbackground": true,
            "ticks": "",
            "zerolinecolor": "white"
           },
           "yaxis": {
            "backgroundcolor": "#E5ECF6",
            "gridcolor": "white",
            "gridwidth": 2,
            "linecolor": "white",
            "showbackground": true,
            "ticks": "",
            "zerolinecolor": "white"
           },
           "zaxis": {
            "backgroundcolor": "#E5ECF6",
            "gridcolor": "white",
            "gridwidth": 2,
            "linecolor": "white",
            "showbackground": true,
            "ticks": "",
            "zerolinecolor": "white"
           }
          },
          "shapedefaults": {
           "line": {
            "color": "#2a3f5f"
           }
          },
          "ternary": {
           "aaxis": {
            "gridcolor": "white",
            "linecolor": "white",
            "ticks": ""
           },
           "baxis": {
            "gridcolor": "white",
            "linecolor": "white",
            "ticks": ""
           },
           "bgcolor": "#E5ECF6",
           "caxis": {
            "gridcolor": "white",
            "linecolor": "white",
            "ticks": ""
           }
          },
          "title": {
           "x": 0.05
          },
          "xaxis": {
           "automargin": true,
           "gridcolor": "white",
           "linecolor": "white",
           "ticks": "",
           "title": {
            "standoff": 15
           },
           "zerolinecolor": "white",
           "zerolinewidth": 2
          },
          "yaxis": {
           "automargin": true,
           "gridcolor": "white",
           "linecolor": "white",
           "ticks": "",
           "title": {
            "standoff": 15
           },
           "zerolinecolor": "white",
           "zerolinewidth": 2
          }
         }
        },
        "xaxis": {
         "anchor": "y",
         "domain": [
          0,
          1
         ]
        },
        "yaxis": {
         "anchor": "x",
         "domain": [
          0,
          1
         ],
         "title": {
          "text": "value"
         }
        }
       }
      }
     },
     "metadata": {},
     "output_type": "display_data"
    }
   ],
   "source": [
    "result_normal_prep = result_normal[[\"Sentence Cosine Similarity Wiki Summarized Mean Threshold 0\", \"Zero Shot Learning Sentence Mean Threshold\"]]\n",
    "result_prep_melt = result_normal_prep.melt(var_name=\"Data\")\n",
    "fig = px.box(result_prep_melt, y=\"value\", points=\"all\", color = \"Data\")\n",
    "fig.show()\n",
    "\n"
   ]
  },
  {
   "cell_type": "code",
   "execution_count": 16,
   "metadata": {},
   "outputs": [
    {
     "data": {
      "application/vnd.plotly.v1+json": {
       "config": {
        "plotlyServerURL": "https://plot.ly"
       },
       "data": [
        {
         "hovertemplate": "Zero Shot Learning Sentence Mean Threshold=%{x}<br>Sentence Cosine Similarity Wiki Summarized Mean Threshold 0=%{y}<extra></extra>",
         "legendgroup": "",
         "marker": {
          "color": "#636efa",
          "symbol": "circle"
         },
         "mode": "markers",
         "name": "",
         "orientation": "v",
         "showlegend": false,
         "type": "scatter",
         "x": [
          0.135,
          0.207,
          0.597,
          0.118,
          0.164,
          0.474,
          0.117,
          0.21,
          0.136,
          0.162,
          0.55,
          0.206,
          0.125,
          0.137,
          0.16,
          0.12,
          0.53,
          0.131,
          0.2,
          0.141,
          0.593,
          0.113,
          0.13,
          0.19,
          0.155,
          0.136,
          0.207,
          0.122,
          0.542,
          0.161,
          0.597,
          0.216,
          0.119,
          0.138,
          0.164,
          0.118,
          0.47,
          0.207,
          0.137,
          0.164,
          0.628,
          0.117,
          0.214,
          0.136,
          0.161,
          0.669,
          0.142,
          0.124,
          0.215,
          0.166,
          0.574,
          0.114,
          0.213,
          0.138,
          0.164,
          0.591,
          0.206,
          0.118,
          0.136,
          0.162,
          0.579,
          0.117,
          0.223,
          0.129,
          0.163,
          0.548,
          0.12,
          0.136,
          0.225,
          0.163,
          0.552,
          0.139,
          0.117,
          0.22,
          0.165,
          0.134,
          0.501,
          0.117,
          0.233,
          0.167,
          0.218,
          0.119,
          0.563,
          0.138,
          0.166,
          0.599,
          0.12,
          0.135,
          0.217,
          0.163,
          0.577,
          0.116,
          0.197,
          0.137,
          0.158,
          0.118,
          0.584,
          0.214,
          0.132,
          0.157,
          0.611,
          0.117,
          0.219,
          0.136,
          0.161,
          0.603,
          0.214,
          0.116,
          0.133,
          0.158,
          0.642,
          0.134,
          0.115,
          0.218,
          0.156,
          0.7,
          0.121,
          0.206,
          0.127,
          0.148,
          0.597,
          0.136,
          0.215,
          0.118,
          0.162,
          0.556,
          0.214,
          0.119,
          0.138,
          0.164,
          0.554,
          0.114,
          0.133,
          0.209,
          0.157,
          0.12,
          0.427,
          0.14,
          0.231,
          0.171,
          0.118,
          0.558,
          0.222,
          0.131,
          0.16,
          0.498,
          0.117,
          0.221,
          0.132,
          0.163,
          0.12,
          0.228,
          0.519,
          0.134,
          0.162,
          0.543,
          0.207,
          0.131,
          0.118,
          0.154,
          0.53,
          0.119,
          0.133,
          0.232,
          0.161,
          0.139,
          0.526,
          0.117,
          0.208,
          0.162,
          0.507,
          0.2,
          0.133,
          0.117,
          0.156,
          0.474,
          0.115,
          0.205,
          0.137,
          0.163,
          0.113,
          0.648,
          0.129,
          0.181,
          0.144,
          0.742,
          0.124,
          0.115,
          0.175,
          0.145,
          0.744,
          0.05,
          0.137,
          0.192,
          0.149,
          0.05,
          0.145,
          0.629,
          0.193,
          0.178,
          0.655,
          0.13,
          0.194,
          0.116,
          0.15,
          0.555,
          0.207,
          0.117,
          0.137,
          0.16,
          0.494,
          0.135,
          0.203,
          0.12,
          0.157,
          0.48,
          0.138,
          0.116,
          0.165,
          0.211,
          0.131,
          0.117,
          0.229,
          0.569,
          0.163,
          0.603,
          0.206,
          0.134,
          0.12,
          0.159,
          0.14,
          0.632,
          0.125,
          0.213,
          0.169,
          0.597,
          0.136,
          0.119,
          0.213,
          0.162,
          0.608,
          0.133,
          0.214,
          0.114,
          0.157,
          0.579,
          0.134,
          0.216,
          0.119,
          0.159,
          0.766,
          0.102,
          0.106,
          0.159,
          0.138,
          0.684,
          0.05,
          0.187,
          0.13,
          0.174,
          0.513,
          0.142,
          0.225,
          0.118,
          0.17,
          0.565,
          0.116,
          0.213,
          0.136,
          0.162,
          0.658,
          0.16,
          0.213,
          0.115,
          0.132,
          0.627,
          0.133,
          0.19,
          0.121,
          0.152,
          0.143,
          0.463,
          0.228,
          0.118,
          0.179,
          0.473,
          0.136,
          0.119,
          0.159,
          0.201,
          0.635,
          0.224,
          0.135,
          0.117,
          0.16,
          0.668,
          0.133,
          0.115,
          0.219,
          0.16,
          0.525,
          0.116,
          0.161,
          0.22,
          0.134,
          0.585,
          0.215,
          0.119,
          0.158,
          0.133,
          0.598,
          0.132,
          0.121,
          0.21,
          0.154,
          0.121,
          0.611,
          0.216,
          0.136,
          0.157,
          0.752,
          0.232,
          0.119,
          0.133,
          0.164,
          0.136,
          0.548,
          0.118,
          0.221,
          0.163,
          0.554,
          0.139,
          0.216,
          0.111,
          0.165,
          0.05,
          0.175,
          0.225,
          0.363,
          0.198,
          0.115,
          0.2,
          0.133,
          0.638,
          0.153,
          0.139,
          0.118,
          0.209,
          0.587,
          0.161,
          0.641,
          0.131,
          0.117,
          0.223,
          0.164,
          0.117,
          0.665,
          0.133,
          0.217,
          0.158,
          0.569,
          0.118,
          0.134,
          0.233,
          0.156,
          0.587,
          0.12,
          0.137,
          0.211,
          0.162,
          0.559,
          0.128,
          0.113,
          0.235,
          0.159,
          0.645,
          0.188,
          0.132,
          0.119,
          0.158,
          0.502,
          0.219,
          0.136,
          0.12,
          0.164,
          0.59,
          0.211,
          0.134,
          0.16,
          0.117,
          0.573,
          0.118,
          0.135,
          0.208,
          0.161,
          0.65,
          0.134,
          0.204,
          0.153,
          0.116,
          0.112,
          0.134,
          0.521,
          0.228,
          0.175,
          0.588,
          0.122,
          0.205,
          0.137,
          0.162,
          0.484,
          0.117,
          0.195,
          0.136,
          0.158,
          0.476,
          0.209,
          0.117,
          0.135,
          0.159,
          0.117,
          0.472,
          0.135,
          0.203,
          0.159,
          0.64,
          0.219,
          0.117,
          0.138,
          0.164,
          0.665,
          0.137,
          0.121,
          0.209,
          0.16,
          0.597,
          0.119,
          0.215,
          0.135,
          0.161,
          0.609,
          0.215,
          0.119,
          0.135,
          0.161,
          0.626,
          0.212,
          0.136,
          0.117,
          0.161,
          0.62,
          0.134,
          0.119,
          0.222,
          0.163,
          0.617,
          0.119,
          0.134,
          0.217,
          0.164,
          0.578,
          0.118,
          0.139,
          0.223,
          0.166,
          0.577,
          0.12,
          0.22,
          0.138,
          0.163,
          0.618,
          0.121,
          0.136,
          0.212,
          0.161,
          0.622,
          0.134,
          0.118,
          0.209,
          0.158,
          0.132,
          0.117,
          0.612,
          0.204,
          0.154,
          0.121,
          0.576,
          0.212,
          0.131,
          0.158,
          0.535,
          0.113,
          0.134,
          0.235,
          0.16,
          0.502,
          0.118,
          0.204,
          0.135,
          0.158,
          0.621,
          0.123,
          0.134,
          0.217,
          0.16,
          0.117,
          0.481,
          0.21,
          0.134,
          0.157,
          0.598,
          0.133,
          0.116,
          0.221,
          0.157,
          0.548,
          0.116,
          0.132,
          0.229,
          0.165,
          0.52,
          0.134,
          0.119,
          0.201,
          0.157,
          0.708,
          0.129,
          0.118,
          0.148,
          0.19,
          0.554,
          0.137,
          0.214,
          0.12,
          0.165,
          0.604,
          0.133,
          0.116,
          0.217,
          0.16,
          0.601,
          0.223,
          0.118,
          0.134,
          0.162
         ],
         "xaxis": "x",
         "y": [
          0.104,
          0.114,
          0.188,
          0.106,
          0.062,
          0.12,
          0.095,
          0.092,
          0.103,
          0.067,
          0.142,
          0.08,
          0.123,
          0.08,
          0.071,
          0.067,
          0.141,
          0.095,
          0.091,
          0.066,
          0.126,
          0.069,
          0.095,
          0.068,
          0.042,
          0.107,
          0.089,
          0.067,
          0.161,
          0.068,
          0.198,
          0.109,
          0.115,
          0.107,
          0.076,
          0.081,
          0.125,
          0.105,
          0.09,
          0.08,
          0.184,
          0.099,
          0.094,
          0.097,
          0.086,
          0.226,
          0.108,
          0.1,
          0.114,
          0.053,
          0.163,
          0.113,
          0.1,
          0.114,
          0.05,
          0.187,
          0.087,
          0.118,
          0.086,
          0.054,
          0.172,
          0.092,
          0.107,
          0.118,
          0.073,
          0.178,
          0.12,
          0.098,
          0.097,
          0.062,
          0.173,
          0.113,
          0.124,
          0.126,
          0.087,
          0.111,
          0.11,
          0.131,
          0.09,
          0.06,
          0.122,
          0.113,
          0.145,
          0.087,
          0.061,
          0.219,
          0.102,
          0.112,
          0.114,
          0.077,
          0.177,
          0.077,
          0.072,
          0.077,
          0.068,
          0.098,
          0.172,
          0.101,
          0.098,
          0.077,
          0.156,
          0.084,
          0.073,
          0.088,
          0.054,
          0.179,
          0.093,
          0.084,
          0.105,
          0.066,
          0.171,
          0.098,
          0.115,
          0.088,
          0.077,
          0.188,
          0.076,
          0.078,
          0.089,
          0.042,
          0.225,
          0.11,
          0.103,
          0.092,
          0.077,
          0.169,
          0.092,
          0.098,
          0.097,
          0.074,
          0.164,
          0.169,
          0.088,
          0.077,
          0.05,
          0.077,
          0.098,
          0.087,
          0.096,
          0.052,
          0.085,
          0.112,
          0.092,
          0.088,
          0.047,
          0.103,
          0.073,
          0.089,
          0.073,
          0.052,
          0.087,
          0.088,
          0.11,
          0.087,
          0.053,
          0.137,
          0.073,
          0.081,
          0.078,
          0.084,
          0.152,
          0.144,
          0.109,
          0.115,
          0.077,
          0.091,
          0.142,
          0.098,
          0.08,
          0.067,
          0.119,
          0.078,
          0.069,
          0.08,
          0.069,
          0.15,
          0.075,
          0.096,
          0.1,
          0.068,
          0.067,
          0.202,
          0.088,
          0.102,
          0.051,
          0.207,
          0.062,
          0.064,
          0.062,
          0.035,
          0.217,
          0.074,
          0.098,
          0.097,
          0.04,
          0.168,
          0.162,
          0.243,
          0.182,
          0.045,
          0.182,
          0.094,
          0.099,
          0.087,
          0.042,
          0.148,
          0.083,
          0.099,
          0.083,
          0.054,
          0.132,
          0.087,
          0.09,
          0.089,
          0.076,
          0.132,
          0.095,
          0.108,
          0.066,
          0.084,
          0.12,
          0.083,
          0.094,
          0.12,
          0.083,
          0.168,
          0.097,
          0.103,
          0.116,
          0.071,
          0.097,
          0.254,
          0.1,
          0.106,
          0.065,
          0.17,
          0.101,
          0.118,
          0.113,
          0.079,
          0.221,
          0.134,
          0.129,
          0.129,
          0.066,
          0.188,
          0.113,
          0.132,
          0.105,
          0.074,
          0.266,
          0.046,
          0.083,
          0.107,
          0.051,
          0.221,
          0.032,
          0.075,
          0.08,
          0.042,
          0.173,
          0.113,
          0.116,
          0.126,
          0.066,
          0.195,
          0.12,
          0.103,
          0.098,
          0.088,
          0.193,
          0.064,
          0.126,
          0.121,
          0.117,
          0.152,
          0.088,
          0.126,
          0.141,
          0.087,
          0.139,
          0.15,
          0.174,
          0.204,
          0.107,
          0.103,
          0.073,
          0.08,
          0.077,
          0.078,
          0.198,
          0.123,
          0.15,
          0.091,
          0.046,
          0.195,
          0.132,
          0.098,
          0.116,
          0.065,
          0.124,
          0.084,
          0.054,
          0.097,
          0.098,
          0.199,
          0.086,
          0.097,
          0.066,
          0.093,
          0.212,
          0.114,
          0.067,
          0.103,
          0.082,
          0.099,
          0.212,
          0.094,
          0.119,
          0.065,
          0.221,
          0.092,
          0.079,
          0.101,
          0.041,
          0.116,
          0.164,
          0.11,
          0.108,
          0.097,
          0.15,
          0.077,
          0.088,
          0.11,
          0.059,
          0.209,
          0.075,
          0.122,
          0.348,
          0.015,
          0.103,
          0.083,
          0.075,
          0.191,
          0.05,
          0.096,
          0.095,
          0.095,
          0.183,
          0.085,
          0.217,
          0.134,
          0.103,
          0.119,
          0.076,
          0.105,
          0.183,
          0.096,
          0.091,
          0.052,
          0.177,
          0.097,
          0.126,
          0.119,
          0.075,
          0.182,
          0.097,
          0.098,
          0.089,
          0.059,
          0.145,
          0.136,
          0.099,
          0.123,
          0.077,
          0.214,
          0.093,
          0.095,
          0.069,
          0.062,
          0.139,
          0.097,
          0.098,
          0.088,
          0.065,
          0.178,
          0.111,
          0.109,
          0.072,
          0.103,
          0.193,
          0.116,
          0.088,
          0.096,
          0.056,
          0.206,
          0.097,
          0.095,
          0.076,
          0.096,
          0.056,
          0.081,
          0.05,
          0.065,
          0.058,
          0.154,
          0.113,
          0.109,
          0.096,
          0.101,
          0.104,
          0.077,
          0.075,
          0.089,
          0.062,
          0.113,
          0.08,
          0.08,
          0.078,
          0.075,
          0.095,
          0.103,
          0.066,
          0.07,
          0.062,
          0.242,
          0.113,
          0.095,
          0.118,
          0.085,
          0.245,
          0.117,
          0.158,
          0.1,
          0.091,
          0.206,
          0.11,
          0.11,
          0.117,
          0.076,
          0.191,
          0.105,
          0.12,
          0.116,
          0.055,
          0.194,
          0.118,
          0.112,
          0.093,
          0.064,
          0.204,
          0.119,
          0.11,
          0.114,
          0.062,
          0.24,
          0.094,
          0.121,
          0.107,
          0.073,
          0.214,
          0.142,
          0.121,
          0.114,
          0.071,
          0.17,
          0.115,
          0.098,
          0.125,
          0.076,
          0.229,
          0.098,
          0.114,
          0.106,
          0.075,
          0.221,
          0.109,
          0.084,
          0.099,
          0.094,
          0.111,
          0.098,
          0.204,
          0.111,
          0.062,
          0.084,
          0.187,
          0.115,
          0.125,
          0.077,
          0.141,
          0.104,
          0.098,
          0.069,
          0.056,
          0.129,
          0.09,
          0.089,
          0.085,
          0.076,
          0.223,
          0.092,
          0.125,
          0.114,
          0.069,
          0.08,
          0.106,
          0.081,
          0.069,
          0.07,
          0.189,
          0.143,
          0.111,
          0.127,
          0.074,
          0.159,
          0.117,
          0.12,
          0.121,
          0.061,
          0.14,
          0.092,
          0.092,
          0.088,
          0.07,
          0.242,
          0.092,
          0.056,
          0.049,
          0.084,
          0.157,
          0.101,
          0.093,
          0.106,
          0.062,
          0.185,
          0.117,
          0.091,
          0.097,
          0.074,
          0.212,
          0.111,
          0.088,
          0.129,
          0.066
         ],
         "yaxis": "y"
        },
        {
         "hovertemplate": "<b>OLS trendline</b><br>Sentence Cosine Similarity Wiki Summarized Mean Threshold 0 = 0.193232 * Zero Shot Learning Sentence Mean Threshold + 0.0621125<br>R<sup>2</sup>=0.576320<br><br>Zero Shot Learning Sentence Mean Threshold=%{x}<br>Sentence Cosine Similarity Wiki Summarized Mean Threshold 0=%{y} <b>(trend)</b><extra></extra>",
         "legendgroup": "",
         "marker": {
          "color": "#636efa",
          "symbol": "circle"
         },
         "mode": "lines",
         "name": "",
         "showlegend": false,
         "type": "scatter",
         "x": [
          0.05,
          0.05,
          0.05,
          0.05,
          0.102,
          0.106,
          0.111,
          0.112,
          0.113,
          0.113,
          0.113,
          0.113,
          0.114,
          0.114,
          0.114,
          0.115,
          0.115,
          0.115,
          0.115,
          0.115,
          0.115,
          0.116,
          0.116,
          0.116,
          0.116,
          0.116,
          0.116,
          0.116,
          0.116,
          0.116,
          0.116,
          0.117,
          0.117,
          0.117,
          0.117,
          0.117,
          0.117,
          0.117,
          0.117,
          0.117,
          0.117,
          0.117,
          0.117,
          0.117,
          0.117,
          0.117,
          0.117,
          0.117,
          0.117,
          0.117,
          0.117,
          0.117,
          0.117,
          0.118,
          0.118,
          0.118,
          0.118,
          0.118,
          0.118,
          0.118,
          0.118,
          0.118,
          0.118,
          0.118,
          0.118,
          0.118,
          0.118,
          0.118,
          0.118,
          0.118,
          0.118,
          0.119,
          0.119,
          0.119,
          0.119,
          0.119,
          0.119,
          0.119,
          0.119,
          0.119,
          0.119,
          0.119,
          0.119,
          0.119,
          0.119,
          0.119,
          0.12,
          0.12,
          0.12,
          0.12,
          0.12,
          0.12,
          0.12,
          0.12,
          0.12,
          0.12,
          0.12,
          0.121,
          0.121,
          0.121,
          0.121,
          0.121,
          0.121,
          0.121,
          0.122,
          0.122,
          0.123,
          0.124,
          0.124,
          0.125,
          0.125,
          0.127,
          0.128,
          0.129,
          0.129,
          0.129,
          0.13,
          0.13,
          0.13,
          0.131,
          0.131,
          0.131,
          0.131,
          0.131,
          0.131,
          0.132,
          0.132,
          0.132,
          0.132,
          0.132,
          0.132,
          0.132,
          0.133,
          0.133,
          0.133,
          0.133,
          0.133,
          0.133,
          0.133,
          0.133,
          0.133,
          0.133,
          0.133,
          0.133,
          0.133,
          0.134,
          0.134,
          0.134,
          0.134,
          0.134,
          0.134,
          0.134,
          0.134,
          0.134,
          0.134,
          0.134,
          0.134,
          0.134,
          0.134,
          0.134,
          0.134,
          0.134,
          0.134,
          0.135,
          0.135,
          0.135,
          0.135,
          0.135,
          0.135,
          0.135,
          0.135,
          0.135,
          0.135,
          0.136,
          0.136,
          0.136,
          0.136,
          0.136,
          0.136,
          0.136,
          0.136,
          0.136,
          0.136,
          0.136,
          0.136,
          0.136,
          0.136,
          0.136,
          0.136,
          0.137,
          0.137,
          0.137,
          0.137,
          0.137,
          0.137,
          0.137,
          0.137,
          0.137,
          0.137,
          0.138,
          0.138,
          0.138,
          0.138,
          0.138,
          0.138,
          0.138,
          0.138,
          0.139,
          0.139,
          0.139,
          0.139,
          0.139,
          0.14,
          0.14,
          0.141,
          0.142,
          0.142,
          0.143,
          0.144,
          0.145,
          0.145,
          0.148,
          0.148,
          0.149,
          0.15,
          0.152,
          0.153,
          0.153,
          0.154,
          0.154,
          0.154,
          0.155,
          0.156,
          0.156,
          0.156,
          0.157,
          0.157,
          0.157,
          0.157,
          0.157,
          0.157,
          0.157,
          0.157,
          0.158,
          0.158,
          0.158,
          0.158,
          0.158,
          0.158,
          0.158,
          0.158,
          0.158,
          0.159,
          0.159,
          0.159,
          0.159,
          0.159,
          0.159,
          0.159,
          0.16,
          0.16,
          0.16,
          0.16,
          0.16,
          0.16,
          0.16,
          0.16,
          0.16,
          0.16,
          0.16,
          0.161,
          0.161,
          0.161,
          0.161,
          0.161,
          0.161,
          0.161,
          0.161,
          0.161,
          0.161,
          0.161,
          0.162,
          0.162,
          0.162,
          0.162,
          0.162,
          0.162,
          0.162,
          0.162,
          0.162,
          0.162,
          0.163,
          0.163,
          0.163,
          0.163,
          0.163,
          0.163,
          0.163,
          0.163,
          0.163,
          0.164,
          0.164,
          0.164,
          0.164,
          0.164,
          0.164,
          0.164,
          0.164,
          0.164,
          0.164,
          0.165,
          0.165,
          0.165,
          0.165,
          0.165,
          0.166,
          0.166,
          0.166,
          0.167,
          0.169,
          0.17,
          0.171,
          0.174,
          0.175,
          0.175,
          0.175,
          0.178,
          0.179,
          0.181,
          0.187,
          0.188,
          0.19,
          0.19,
          0.19,
          0.192,
          0.193,
          0.194,
          0.195,
          0.197,
          0.198,
          0.2,
          0.2,
          0.2,
          0.201,
          0.201,
          0.203,
          0.203,
          0.204,
          0.204,
          0.204,
          0.205,
          0.205,
          0.206,
          0.206,
          0.206,
          0.206,
          0.207,
          0.207,
          0.207,
          0.207,
          0.207,
          0.208,
          0.208,
          0.209,
          0.209,
          0.209,
          0.209,
          0.209,
          0.21,
          0.21,
          0.21,
          0.211,
          0.211,
          0.211,
          0.212,
          0.212,
          0.212,
          0.213,
          0.213,
          0.213,
          0.213,
          0.213,
          0.214,
          0.214,
          0.214,
          0.214,
          0.214,
          0.214,
          0.215,
          0.215,
          0.215,
          0.215,
          0.215,
          0.216,
          0.216,
          0.216,
          0.216,
          0.217,
          0.217,
          0.217,
          0.217,
          0.217,
          0.218,
          0.218,
          0.219,
          0.219,
          0.219,
          0.219,
          0.22,
          0.22,
          0.22,
          0.221,
          0.221,
          0.221,
          0.222,
          0.222,
          0.223,
          0.223,
          0.223,
          0.223,
          0.224,
          0.225,
          0.225,
          0.225,
          0.228,
          0.228,
          0.228,
          0.229,
          0.229,
          0.231,
          0.232,
          0.232,
          0.233,
          0.233,
          0.235,
          0.235,
          0.363,
          0.427,
          0.463,
          0.47,
          0.472,
          0.473,
          0.474,
          0.474,
          0.476,
          0.48,
          0.481,
          0.484,
          0.494,
          0.498,
          0.501,
          0.502,
          0.502,
          0.507,
          0.513,
          0.519,
          0.52,
          0.521,
          0.525,
          0.526,
          0.53,
          0.53,
          0.535,
          0.542,
          0.543,
          0.548,
          0.548,
          0.548,
          0.55,
          0.552,
          0.554,
          0.554,
          0.554,
          0.555,
          0.556,
          0.558,
          0.559,
          0.563,
          0.565,
          0.569,
          0.569,
          0.573,
          0.574,
          0.576,
          0.577,
          0.577,
          0.578,
          0.579,
          0.579,
          0.584,
          0.585,
          0.587,
          0.587,
          0.588,
          0.59,
          0.591,
          0.593,
          0.597,
          0.597,
          0.597,
          0.597,
          0.597,
          0.598,
          0.598,
          0.599,
          0.601,
          0.603,
          0.603,
          0.604,
          0.608,
          0.609,
          0.611,
          0.611,
          0.612,
          0.617,
          0.618,
          0.62,
          0.621,
          0.622,
          0.626,
          0.627,
          0.628,
          0.629,
          0.632,
          0.635,
          0.638,
          0.64,
          0.641,
          0.642,
          0.645,
          0.648,
          0.65,
          0.655,
          0.658,
          0.665,
          0.665,
          0.668,
          0.669,
          0.684,
          0.7,
          0.708,
          0.742,
          0.744,
          0.752,
          0.766
         ],
         "xaxis": "x",
         "y": [
          0.07177415473600143,
          0.07177415473600143,
          0.07177415473600143,
          0.07177415473600143,
          0.08182224075902864,
          0.08259517045310764,
          0.08356133257070641,
          0.08375456499422618,
          0.08394779741774593,
          0.08394779741774593,
          0.08394779741774593,
          0.08394779741774593,
          0.08414102984126567,
          0.08414102984126567,
          0.08414102984126567,
          0.08433426226478544,
          0.08433426226478544,
          0.08433426226478544,
          0.08433426226478544,
          0.08433426226478544,
          0.08433426226478544,
          0.08452749468830519,
          0.08452749468830519,
          0.08452749468830519,
          0.08452749468830519,
          0.08452749468830519,
          0.08452749468830519,
          0.08452749468830519,
          0.08452749468830519,
          0.08452749468830519,
          0.08452749468830519,
          0.08472072711182493,
          0.08472072711182493,
          0.08472072711182493,
          0.08472072711182493,
          0.08472072711182493,
          0.08472072711182493,
          0.08472072711182493,
          0.08472072711182493,
          0.08472072711182493,
          0.08472072711182493,
          0.08472072711182493,
          0.08472072711182493,
          0.08472072711182493,
          0.08472072711182493,
          0.08472072711182493,
          0.08472072711182493,
          0.08472072711182493,
          0.08472072711182493,
          0.08472072711182493,
          0.08472072711182493,
          0.08472072711182493,
          0.08472072711182493,
          0.0849139595353447,
          0.0849139595353447,
          0.0849139595353447,
          0.0849139595353447,
          0.0849139595353447,
          0.0849139595353447,
          0.0849139595353447,
          0.0849139595353447,
          0.0849139595353447,
          0.0849139595353447,
          0.0849139595353447,
          0.0849139595353447,
          0.0849139595353447,
          0.0849139595353447,
          0.0849139595353447,
          0.0849139595353447,
          0.0849139595353447,
          0.0849139595353447,
          0.08510719195886444,
          0.08510719195886444,
          0.08510719195886444,
          0.08510719195886444,
          0.08510719195886444,
          0.08510719195886444,
          0.08510719195886444,
          0.08510719195886444,
          0.08510719195886444,
          0.08510719195886444,
          0.08510719195886444,
          0.08510719195886444,
          0.08510719195886444,
          0.08510719195886444,
          0.08510719195886444,
          0.0853004243823842,
          0.0853004243823842,
          0.0853004243823842,
          0.0853004243823842,
          0.0853004243823842,
          0.0853004243823842,
          0.0853004243823842,
          0.0853004243823842,
          0.0853004243823842,
          0.0853004243823842,
          0.0853004243823842,
          0.08549365680590396,
          0.08549365680590396,
          0.08549365680590396,
          0.08549365680590396,
          0.08549365680590396,
          0.08549365680590396,
          0.08549365680590396,
          0.0856868892294237,
          0.0856868892294237,
          0.08588012165294347,
          0.08607335407646322,
          0.08607335407646322,
          0.08626658649998298,
          0.08626658649998298,
          0.08665305134702248,
          0.08684628377054224,
          0.08703951619406199,
          0.08703951619406199,
          0.08703951619406199,
          0.08723274861758173,
          0.08723274861758173,
          0.08723274861758173,
          0.0874259810411015,
          0.0874259810411015,
          0.0874259810411015,
          0.0874259810411015,
          0.0874259810411015,
          0.0874259810411015,
          0.08761921346462125,
          0.08761921346462125,
          0.08761921346462125,
          0.08761921346462125,
          0.08761921346462125,
          0.08761921346462125,
          0.08761921346462125,
          0.087812445888141,
          0.087812445888141,
          0.087812445888141,
          0.087812445888141,
          0.087812445888141,
          0.087812445888141,
          0.087812445888141,
          0.087812445888141,
          0.087812445888141,
          0.087812445888141,
          0.087812445888141,
          0.087812445888141,
          0.087812445888141,
          0.08800567831166076,
          0.08800567831166076,
          0.08800567831166076,
          0.08800567831166076,
          0.08800567831166076,
          0.08800567831166076,
          0.08800567831166076,
          0.08800567831166076,
          0.08800567831166076,
          0.08800567831166076,
          0.08800567831166076,
          0.08800567831166076,
          0.08800567831166076,
          0.08800567831166076,
          0.08800567831166076,
          0.08800567831166076,
          0.08800567831166076,
          0.08800567831166076,
          0.08819891073518052,
          0.08819891073518052,
          0.08819891073518052,
          0.08819891073518052,
          0.08819891073518052,
          0.08819891073518052,
          0.08819891073518052,
          0.08819891073518052,
          0.08819891073518052,
          0.08819891073518052,
          0.08839214315870027,
          0.08839214315870027,
          0.08839214315870027,
          0.08839214315870027,
          0.08839214315870027,
          0.08839214315870027,
          0.08839214315870027,
          0.08839214315870027,
          0.08839214315870027,
          0.08839214315870027,
          0.08839214315870027,
          0.08839214315870027,
          0.08839214315870027,
          0.08839214315870027,
          0.08839214315870027,
          0.08839214315870027,
          0.08858537558222002,
          0.08858537558222002,
          0.08858537558222002,
          0.08858537558222002,
          0.08858537558222002,
          0.08858537558222002,
          0.08858537558222002,
          0.08858537558222002,
          0.08858537558222002,
          0.08858537558222002,
          0.08877860800573978,
          0.08877860800573978,
          0.08877860800573978,
          0.08877860800573978,
          0.08877860800573978,
          0.08877860800573978,
          0.08877860800573978,
          0.08877860800573978,
          0.08897184042925953,
          0.08897184042925953,
          0.08897184042925953,
          0.08897184042925953,
          0.08897184042925953,
          0.08916507285277928,
          0.08916507285277928,
          0.08935830527629902,
          0.08955153769981879,
          0.08955153769981879,
          0.08974477012333854,
          0.0899380025468583,
          0.09013123497037805,
          0.09013123497037805,
          0.0907109322409373,
          0.0907109322409373,
          0.09090416466445705,
          0.09109739708797682,
          0.09148386193501631,
          0.09167709435853608,
          0.09167709435853608,
          0.09187032678205584,
          0.09187032678205584,
          0.09187032678205584,
          0.09206355920557559,
          0.09225679162909534,
          0.09225679162909534,
          0.09225679162909534,
          0.0924500240526151,
          0.0924500240526151,
          0.0924500240526151,
          0.0924500240526151,
          0.0924500240526151,
          0.0924500240526151,
          0.0924500240526151,
          0.0924500240526151,
          0.09264325647613485,
          0.09264325647613485,
          0.09264325647613485,
          0.09264325647613485,
          0.09264325647613485,
          0.09264325647613485,
          0.09264325647613485,
          0.09264325647613485,
          0.09264325647613485,
          0.0928364888996546,
          0.0928364888996546,
          0.0928364888996546,
          0.0928364888996546,
          0.0928364888996546,
          0.0928364888996546,
          0.0928364888996546,
          0.09302972132317436,
          0.09302972132317436,
          0.09302972132317436,
          0.09302972132317436,
          0.09302972132317436,
          0.09302972132317436,
          0.09302972132317436,
          0.09302972132317436,
          0.09302972132317436,
          0.09302972132317436,
          0.09302972132317436,
          0.0932229537466941,
          0.0932229537466941,
          0.0932229537466941,
          0.0932229537466941,
          0.0932229537466941,
          0.0932229537466941,
          0.0932229537466941,
          0.0932229537466941,
          0.0932229537466941,
          0.0932229537466941,
          0.0932229537466941,
          0.09341618617021386,
          0.09341618617021386,
          0.09341618617021386,
          0.09341618617021386,
          0.09341618617021386,
          0.09341618617021386,
          0.09341618617021386,
          0.09341618617021386,
          0.09341618617021386,
          0.09341618617021386,
          0.09360941859373362,
          0.09360941859373362,
          0.09360941859373362,
          0.09360941859373362,
          0.09360941859373362,
          0.09360941859373362,
          0.09360941859373362,
          0.09360941859373362,
          0.09360941859373362,
          0.09380265101725338,
          0.09380265101725338,
          0.09380265101725338,
          0.09380265101725338,
          0.09380265101725338,
          0.09380265101725338,
          0.09380265101725338,
          0.09380265101725338,
          0.09380265101725338,
          0.09380265101725338,
          0.09399588344077311,
          0.09399588344077311,
          0.09399588344077311,
          0.09399588344077311,
          0.09399588344077311,
          0.09418911586429288,
          0.09418911586429288,
          0.09418911586429288,
          0.09438234828781264,
          0.09476881313485214,
          0.0949620455583719,
          0.09515527798189165,
          0.09573497525245091,
          0.09592820767597066,
          0.09592820767597066,
          0.09592820767597066,
          0.09650790494652992,
          0.09670113737004968,
          0.09708760221708918,
          0.09824699675820771,
          0.09844022918172746,
          0.09882669402876697,
          0.09882669402876697,
          0.09882669402876697,
          0.09921315887580648,
          0.09940639129932623,
          0.09959962372284598,
          0.09979285614636574,
          0.10017932099340524,
          0.100372553416925,
          0.10075901826396451,
          0.10075901826396451,
          0.10075901826396451,
          0.10095225068748426,
          0.10095225068748426,
          0.10133871553452377,
          0.10133871553452377,
          0.10153194795804352,
          0.10153194795804352,
          0.10153194795804352,
          0.10172518038156328,
          0.10172518038156328,
          0.10191841280508303,
          0.10191841280508303,
          0.10191841280508303,
          0.10191841280508303,
          0.10211164522860278,
          0.10211164522860278,
          0.10211164522860278,
          0.10211164522860278,
          0.10211164522860278,
          0.10230487765212254,
          0.10230487765212254,
          0.10249811007564229,
          0.10249811007564229,
          0.10249811007564229,
          0.10249811007564229,
          0.10249811007564229,
          0.10269134249916204,
          0.10269134249916204,
          0.10269134249916204,
          0.1028845749226818,
          0.1028845749226818,
          0.1028845749226818,
          0.10307780734620155,
          0.10307780734620155,
          0.10307780734620155,
          0.1032710397697213,
          0.1032710397697213,
          0.1032710397697213,
          0.1032710397697213,
          0.1032710397697213,
          0.10346427219324106,
          0.10346427219324106,
          0.10346427219324106,
          0.10346427219324106,
          0.10346427219324106,
          0.10346427219324106,
          0.10365750461676082,
          0.10365750461676082,
          0.10365750461676082,
          0.10365750461676082,
          0.10365750461676082,
          0.10385073704028056,
          0.10385073704028056,
          0.10385073704028056,
          0.10385073704028056,
          0.10404396946380032,
          0.10404396946380032,
          0.10404396946380032,
          0.10404396946380032,
          0.10404396946380032,
          0.10423720188732008,
          0.10423720188732008,
          0.10443043431083983,
          0.10443043431083983,
          0.10443043431083983,
          0.10443043431083983,
          0.10462366673435958,
          0.10462366673435958,
          0.10462366673435958,
          0.10481689915787934,
          0.10481689915787934,
          0.10481689915787934,
          0.10501013158139909,
          0.10501013158139909,
          0.10520336400491884,
          0.10520336400491884,
          0.10520336400491884,
          0.10520336400491884,
          0.1053965964284386,
          0.10558982885195835,
          0.10558982885195835,
          0.10558982885195835,
          0.10616952612251762,
          0.10616952612251762,
          0.10616952612251762,
          0.10636275854603736,
          0.10636275854603736,
          0.10674922339307688,
          0.10694245581659663,
          0.10694245581659663,
          0.10713568824011638,
          0.10713568824011638,
          0.10752215308715588,
          0.10752215308715588,
          0.13225590329768436,
          0.1446227784029486,
          0.15157914564965974,
          0.15293177261429802,
          0.15331823746133752,
          0.15351146988485728,
          0.15370470230837704,
          0.15370470230837704,
          0.15409116715541654,
          0.15486409684949556,
          0.15505732927301533,
          0.15563702654357459,
          0.15756935077877213,
          0.15834228047285112,
          0.15892197774341038,
          0.15911521016693014,
          0.15911521016693014,
          0.16008137228452893,
          0.16124076682564745,
          0.16240016136676597,
          0.16259339379028573,
          0.16278662621380546,
          0.16355955590788449,
          0.16375278833140425,
          0.16452571802548327,
          0.16452571802548327,
          0.16549188014308203,
          0.1668445071077203,
          0.16703773953124007,
          0.16800390164883883,
          0.16800390164883883,
          0.16800390164883883,
          0.16839036649587832,
          0.16877683134291785,
          0.16916329618995735,
          0.16916329618995735,
          0.16916329618995735,
          0.1693565286134771,
          0.16954976103699687,
          0.16993622588403637,
          0.17012945830755613,
          0.17090238800163512,
          0.17128885284867462,
          0.17206178254275364,
          0.17206178254275364,
          0.17283471223683267,
          0.1730279446603524,
          0.17341440950739193,
          0.17360764193091166,
          0.17360764193091166,
          0.17380087435443142,
          0.17399410677795119,
          0.17399410677795119,
          0.17496026889554994,
          0.1751535013190697,
          0.1755399661661092,
          0.1755399661661092,
          0.17573319858962896,
          0.17611966343666846,
          0.17631289586018822,
          0.17669936070722775,
          0.17747229040130674,
          0.17747229040130674,
          0.17747229040130674,
          0.17747229040130674,
          0.17747229040130674,
          0.1776655228248265,
          0.1776655228248265,
          0.17785875524834627,
          0.17824522009538576,
          0.17863168494242526,
          0.17863168494242526,
          0.17882491736594502,
          0.17959784706002405,
          0.1797910794835438,
          0.1801775443305833,
          0.1801775443305833,
          0.18037077675410307,
          0.18133693887170182,
          0.1815301712952216,
          0.18191663614226108,
          0.18210986856578085,
          0.1823031009893006,
          0.1830760306833796,
          0.18326926310689937,
          0.18346249553041913,
          0.1836557279539389,
          0.18423542522449815,
          0.1848151224950574,
          0.18539481976561667,
          0.18578128461265617,
          0.18597451703617593,
          0.1861677494596957,
          0.18674744673025495,
          0.1873271440008142,
          0.1877136088478537,
          0.1886797709654525,
          0.18925946823601175,
          0.19061209520065003,
          0.19061209520065003,
          0.1911917924712093,
          0.19138502489472906,
          0.19428351124752535,
          0.19737523002384139,
          0.19892108941199943,
          0.20549099181167105,
          0.20587745665871057,
          0.2074233160468686,
          0.21012856997614515
         ],
         "yaxis": "y"
        }
       ],
       "layout": {
        "legend": {
         "tracegroupgap": 0
        },
        "margin": {
         "t": 60
        },
        "template": {
         "data": {
          "bar": [
           {
            "error_x": {
             "color": "#2a3f5f"
            },
            "error_y": {
             "color": "#2a3f5f"
            },
            "marker": {
             "line": {
              "color": "#E5ECF6",
              "width": 0.5
             },
             "pattern": {
              "fillmode": "overlay",
              "size": 10,
              "solidity": 0.2
             }
            },
            "type": "bar"
           }
          ],
          "barpolar": [
           {
            "marker": {
             "line": {
              "color": "#E5ECF6",
              "width": 0.5
             },
             "pattern": {
              "fillmode": "overlay",
              "size": 10,
              "solidity": 0.2
             }
            },
            "type": "barpolar"
           }
          ],
          "carpet": [
           {
            "aaxis": {
             "endlinecolor": "#2a3f5f",
             "gridcolor": "white",
             "linecolor": "white",
             "minorgridcolor": "white",
             "startlinecolor": "#2a3f5f"
            },
            "baxis": {
             "endlinecolor": "#2a3f5f",
             "gridcolor": "white",
             "linecolor": "white",
             "minorgridcolor": "white",
             "startlinecolor": "#2a3f5f"
            },
            "type": "carpet"
           }
          ],
          "choropleth": [
           {
            "colorbar": {
             "outlinewidth": 0,
             "ticks": ""
            },
            "type": "choropleth"
           }
          ],
          "contour": [
           {
            "colorbar": {
             "outlinewidth": 0,
             "ticks": ""
            },
            "colorscale": [
             [
              0,
              "#0d0887"
             ],
             [
              0.1111111111111111,
              "#46039f"
             ],
             [
              0.2222222222222222,
              "#7201a8"
             ],
             [
              0.3333333333333333,
              "#9c179e"
             ],
             [
              0.4444444444444444,
              "#bd3786"
             ],
             [
              0.5555555555555556,
              "#d8576b"
             ],
             [
              0.6666666666666666,
              "#ed7953"
             ],
             [
              0.7777777777777778,
              "#fb9f3a"
             ],
             [
              0.8888888888888888,
              "#fdca26"
             ],
             [
              1,
              "#f0f921"
             ]
            ],
            "type": "contour"
           }
          ],
          "contourcarpet": [
           {
            "colorbar": {
             "outlinewidth": 0,
             "ticks": ""
            },
            "type": "contourcarpet"
           }
          ],
          "heatmap": [
           {
            "colorbar": {
             "outlinewidth": 0,
             "ticks": ""
            },
            "colorscale": [
             [
              0,
              "#0d0887"
             ],
             [
              0.1111111111111111,
              "#46039f"
             ],
             [
              0.2222222222222222,
              "#7201a8"
             ],
             [
              0.3333333333333333,
              "#9c179e"
             ],
             [
              0.4444444444444444,
              "#bd3786"
             ],
             [
              0.5555555555555556,
              "#d8576b"
             ],
             [
              0.6666666666666666,
              "#ed7953"
             ],
             [
              0.7777777777777778,
              "#fb9f3a"
             ],
             [
              0.8888888888888888,
              "#fdca26"
             ],
             [
              1,
              "#f0f921"
             ]
            ],
            "type": "heatmap"
           }
          ],
          "heatmapgl": [
           {
            "colorbar": {
             "outlinewidth": 0,
             "ticks": ""
            },
            "colorscale": [
             [
              0,
              "#0d0887"
             ],
             [
              0.1111111111111111,
              "#46039f"
             ],
             [
              0.2222222222222222,
              "#7201a8"
             ],
             [
              0.3333333333333333,
              "#9c179e"
             ],
             [
              0.4444444444444444,
              "#bd3786"
             ],
             [
              0.5555555555555556,
              "#d8576b"
             ],
             [
              0.6666666666666666,
              "#ed7953"
             ],
             [
              0.7777777777777778,
              "#fb9f3a"
             ],
             [
              0.8888888888888888,
              "#fdca26"
             ],
             [
              1,
              "#f0f921"
             ]
            ],
            "type": "heatmapgl"
           }
          ],
          "histogram": [
           {
            "marker": {
             "pattern": {
              "fillmode": "overlay",
              "size": 10,
              "solidity": 0.2
             }
            },
            "type": "histogram"
           }
          ],
          "histogram2d": [
           {
            "colorbar": {
             "outlinewidth": 0,
             "ticks": ""
            },
            "colorscale": [
             [
              0,
              "#0d0887"
             ],
             [
              0.1111111111111111,
              "#46039f"
             ],
             [
              0.2222222222222222,
              "#7201a8"
             ],
             [
              0.3333333333333333,
              "#9c179e"
             ],
             [
              0.4444444444444444,
              "#bd3786"
             ],
             [
              0.5555555555555556,
              "#d8576b"
             ],
             [
              0.6666666666666666,
              "#ed7953"
             ],
             [
              0.7777777777777778,
              "#fb9f3a"
             ],
             [
              0.8888888888888888,
              "#fdca26"
             ],
             [
              1,
              "#f0f921"
             ]
            ],
            "type": "histogram2d"
           }
          ],
          "histogram2dcontour": [
           {
            "colorbar": {
             "outlinewidth": 0,
             "ticks": ""
            },
            "colorscale": [
             [
              0,
              "#0d0887"
             ],
             [
              0.1111111111111111,
              "#46039f"
             ],
             [
              0.2222222222222222,
              "#7201a8"
             ],
             [
              0.3333333333333333,
              "#9c179e"
             ],
             [
              0.4444444444444444,
              "#bd3786"
             ],
             [
              0.5555555555555556,
              "#d8576b"
             ],
             [
              0.6666666666666666,
              "#ed7953"
             ],
             [
              0.7777777777777778,
              "#fb9f3a"
             ],
             [
              0.8888888888888888,
              "#fdca26"
             ],
             [
              1,
              "#f0f921"
             ]
            ],
            "type": "histogram2dcontour"
           }
          ],
          "mesh3d": [
           {
            "colorbar": {
             "outlinewidth": 0,
             "ticks": ""
            },
            "type": "mesh3d"
           }
          ],
          "parcoords": [
           {
            "line": {
             "colorbar": {
              "outlinewidth": 0,
              "ticks": ""
             }
            },
            "type": "parcoords"
           }
          ],
          "pie": [
           {
            "automargin": true,
            "type": "pie"
           }
          ],
          "scatter": [
           {
            "fillpattern": {
             "fillmode": "overlay",
             "size": 10,
             "solidity": 0.2
            },
            "type": "scatter"
           }
          ],
          "scatter3d": [
           {
            "line": {
             "colorbar": {
              "outlinewidth": 0,
              "ticks": ""
             }
            },
            "marker": {
             "colorbar": {
              "outlinewidth": 0,
              "ticks": ""
             }
            },
            "type": "scatter3d"
           }
          ],
          "scattercarpet": [
           {
            "marker": {
             "colorbar": {
              "outlinewidth": 0,
              "ticks": ""
             }
            },
            "type": "scattercarpet"
           }
          ],
          "scattergeo": [
           {
            "marker": {
             "colorbar": {
              "outlinewidth": 0,
              "ticks": ""
             }
            },
            "type": "scattergeo"
           }
          ],
          "scattergl": [
           {
            "marker": {
             "colorbar": {
              "outlinewidth": 0,
              "ticks": ""
             }
            },
            "type": "scattergl"
           }
          ],
          "scattermapbox": [
           {
            "marker": {
             "colorbar": {
              "outlinewidth": 0,
              "ticks": ""
             }
            },
            "type": "scattermapbox"
           }
          ],
          "scatterpolar": [
           {
            "marker": {
             "colorbar": {
              "outlinewidth": 0,
              "ticks": ""
             }
            },
            "type": "scatterpolar"
           }
          ],
          "scatterpolargl": [
           {
            "marker": {
             "colorbar": {
              "outlinewidth": 0,
              "ticks": ""
             }
            },
            "type": "scatterpolargl"
           }
          ],
          "scatterternary": [
           {
            "marker": {
             "colorbar": {
              "outlinewidth": 0,
              "ticks": ""
             }
            },
            "type": "scatterternary"
           }
          ],
          "surface": [
           {
            "colorbar": {
             "outlinewidth": 0,
             "ticks": ""
            },
            "colorscale": [
             [
              0,
              "#0d0887"
             ],
             [
              0.1111111111111111,
              "#46039f"
             ],
             [
              0.2222222222222222,
              "#7201a8"
             ],
             [
              0.3333333333333333,
              "#9c179e"
             ],
             [
              0.4444444444444444,
              "#bd3786"
             ],
             [
              0.5555555555555556,
              "#d8576b"
             ],
             [
              0.6666666666666666,
              "#ed7953"
             ],
             [
              0.7777777777777778,
              "#fb9f3a"
             ],
             [
              0.8888888888888888,
              "#fdca26"
             ],
             [
              1,
              "#f0f921"
             ]
            ],
            "type": "surface"
           }
          ],
          "table": [
           {
            "cells": {
             "fill": {
              "color": "#EBF0F8"
             },
             "line": {
              "color": "white"
             }
            },
            "header": {
             "fill": {
              "color": "#C8D4E3"
             },
             "line": {
              "color": "white"
             }
            },
            "type": "table"
           }
          ]
         },
         "layout": {
          "annotationdefaults": {
           "arrowcolor": "#2a3f5f",
           "arrowhead": 0,
           "arrowwidth": 1
          },
          "autotypenumbers": "strict",
          "coloraxis": {
           "colorbar": {
            "outlinewidth": 0,
            "ticks": ""
           }
          },
          "colorscale": {
           "diverging": [
            [
             0,
             "#8e0152"
            ],
            [
             0.1,
             "#c51b7d"
            ],
            [
             0.2,
             "#de77ae"
            ],
            [
             0.3,
             "#f1b6da"
            ],
            [
             0.4,
             "#fde0ef"
            ],
            [
             0.5,
             "#f7f7f7"
            ],
            [
             0.6,
             "#e6f5d0"
            ],
            [
             0.7,
             "#b8e186"
            ],
            [
             0.8,
             "#7fbc41"
            ],
            [
             0.9,
             "#4d9221"
            ],
            [
             1,
             "#276419"
            ]
           ],
           "sequential": [
            [
             0,
             "#0d0887"
            ],
            [
             0.1111111111111111,
             "#46039f"
            ],
            [
             0.2222222222222222,
             "#7201a8"
            ],
            [
             0.3333333333333333,
             "#9c179e"
            ],
            [
             0.4444444444444444,
             "#bd3786"
            ],
            [
             0.5555555555555556,
             "#d8576b"
            ],
            [
             0.6666666666666666,
             "#ed7953"
            ],
            [
             0.7777777777777778,
             "#fb9f3a"
            ],
            [
             0.8888888888888888,
             "#fdca26"
            ],
            [
             1,
             "#f0f921"
            ]
           ],
           "sequentialminus": [
            [
             0,
             "#0d0887"
            ],
            [
             0.1111111111111111,
             "#46039f"
            ],
            [
             0.2222222222222222,
             "#7201a8"
            ],
            [
             0.3333333333333333,
             "#9c179e"
            ],
            [
             0.4444444444444444,
             "#bd3786"
            ],
            [
             0.5555555555555556,
             "#d8576b"
            ],
            [
             0.6666666666666666,
             "#ed7953"
            ],
            [
             0.7777777777777778,
             "#fb9f3a"
            ],
            [
             0.8888888888888888,
             "#fdca26"
            ],
            [
             1,
             "#f0f921"
            ]
           ]
          },
          "colorway": [
           "#636efa",
           "#EF553B",
           "#00cc96",
           "#ab63fa",
           "#FFA15A",
           "#19d3f3",
           "#FF6692",
           "#B6E880",
           "#FF97FF",
           "#FECB52"
          ],
          "font": {
           "color": "#2a3f5f"
          },
          "geo": {
           "bgcolor": "white",
           "lakecolor": "white",
           "landcolor": "#E5ECF6",
           "showlakes": true,
           "showland": true,
           "subunitcolor": "white"
          },
          "hoverlabel": {
           "align": "left"
          },
          "hovermode": "closest",
          "mapbox": {
           "style": "light"
          },
          "paper_bgcolor": "white",
          "plot_bgcolor": "#E5ECF6",
          "polar": {
           "angularaxis": {
            "gridcolor": "white",
            "linecolor": "white",
            "ticks": ""
           },
           "bgcolor": "#E5ECF6",
           "radialaxis": {
            "gridcolor": "white",
            "linecolor": "white",
            "ticks": ""
           }
          },
          "scene": {
           "xaxis": {
            "backgroundcolor": "#E5ECF6",
            "gridcolor": "white",
            "gridwidth": 2,
            "linecolor": "white",
            "showbackground": true,
            "ticks": "",
            "zerolinecolor": "white"
           },
           "yaxis": {
            "backgroundcolor": "#E5ECF6",
            "gridcolor": "white",
            "gridwidth": 2,
            "linecolor": "white",
            "showbackground": true,
            "ticks": "",
            "zerolinecolor": "white"
           },
           "zaxis": {
            "backgroundcolor": "#E5ECF6",
            "gridcolor": "white",
            "gridwidth": 2,
            "linecolor": "white",
            "showbackground": true,
            "ticks": "",
            "zerolinecolor": "white"
           }
          },
          "shapedefaults": {
           "line": {
            "color": "#2a3f5f"
           }
          },
          "ternary": {
           "aaxis": {
            "gridcolor": "white",
            "linecolor": "white",
            "ticks": ""
           },
           "baxis": {
            "gridcolor": "white",
            "linecolor": "white",
            "ticks": ""
           },
           "bgcolor": "#E5ECF6",
           "caxis": {
            "gridcolor": "white",
            "linecolor": "white",
            "ticks": ""
           }
          },
          "title": {
           "x": 0.05
          },
          "xaxis": {
           "automargin": true,
           "gridcolor": "white",
           "linecolor": "white",
           "ticks": "",
           "title": {
            "standoff": 15
           },
           "zerolinecolor": "white",
           "zerolinewidth": 2
          },
          "yaxis": {
           "automargin": true,
           "gridcolor": "white",
           "linecolor": "white",
           "ticks": "",
           "title": {
            "standoff": 15
           },
           "zerolinecolor": "white",
           "zerolinewidth": 2
          }
         }
        },
        "xaxis": {
         "anchor": "y",
         "domain": [
          0,
          1
         ],
         "title": {
          "text": "Zero Shot Learning Sentence Mean Threshold"
         }
        },
        "yaxis": {
         "anchor": "x",
         "domain": [
          0,
          1
         ],
         "title": {
          "text": "Sentence Cosine Similarity Wiki Summarized Mean Threshold 0"
         }
        }
       }
      }
     },
     "metadata": {},
     "output_type": "display_data"
    },
    {
     "name": "stdout",
     "output_type": "stream",
     "text": [
      "                                      px_fit_results\n",
      "0  <statsmodels.regression.linear_model.Regressio...\n"
     ]
    },
    {
     "data": {
      "text/html": [
       "<table class=\"simpletable\">\n",
       "<caption>OLS Regression Results</caption>\n",
       "<tr>\n",
       "  <th>Dep. Variable:</th>            <td>y</td>        <th>  R-squared:         </th> <td>   0.576</td> \n",
       "</tr>\n",
       "<tr>\n",
       "  <th>Model:</th>                   <td>OLS</td>       <th>  Adj. R-squared:    </th> <td>   0.576</td> \n",
       "</tr>\n",
       "<tr>\n",
       "  <th>Method:</th>             <td>Least Squares</td>  <th>  F-statistic:       </th> <td>   738.6</td> \n",
       "</tr>\n",
       "<tr>\n",
       "  <th>Date:</th>             <td>Wed, 14 Dec 2022</td> <th>  Prob (F-statistic):</th> <td>2.48e-103</td>\n",
       "</tr>\n",
       "<tr>\n",
       "  <th>Time:</th>                 <td>15:57:20</td>     <th>  Log-Likelihood:    </th> <td>  1153.4</td> \n",
       "</tr>\n",
       "<tr>\n",
       "  <th>No. Observations:</th>      <td>   545</td>      <th>  AIC:               </th> <td>  -2303.</td> \n",
       "</tr>\n",
       "<tr>\n",
       "  <th>Df Residuals:</th>          <td>   543</td>      <th>  BIC:               </th> <td>  -2294.</td> \n",
       "</tr>\n",
       "<tr>\n",
       "  <th>Df Model:</th>              <td>     1</td>      <th>                     </th>     <td> </td>    \n",
       "</tr>\n",
       "<tr>\n",
       "  <th>Covariance Type:</th>      <td>nonrobust</td>    <th>                     </th>     <td> </td>    \n",
       "</tr>\n",
       "</table>\n",
       "<table class=\"simpletable\">\n",
       "<tr>\n",
       "    <td></td>       <th>coef</th>     <th>std err</th>      <th>t</th>      <th>P>|t|</th>  <th>[0.025</th>    <th>0.975]</th>  \n",
       "</tr>\n",
       "<tr>\n",
       "  <th>const</th> <td>    0.0621</td> <td>    0.002</td> <td>   29.310</td> <td> 0.000</td> <td>    0.058</td> <td>    0.066</td>\n",
       "</tr>\n",
       "<tr>\n",
       "  <th>x1</th>    <td>    0.1932</td> <td>    0.007</td> <td>   27.178</td> <td> 0.000</td> <td>    0.179</td> <td>    0.207</td>\n",
       "</tr>\n",
       "</table>\n",
       "<table class=\"simpletable\">\n",
       "<tr>\n",
       "  <th>Omnibus:</th>       <td>158.419</td> <th>  Durbin-Watson:     </th> <td>   1.331</td> \n",
       "</tr>\n",
       "<tr>\n",
       "  <th>Prob(Omnibus):</th> <td> 0.000</td>  <th>  Jarque-Bera (JB):  </th> <td>1054.494</td> \n",
       "</tr>\n",
       "<tr>\n",
       "  <th>Skew:</th>          <td> 1.099</td>  <th>  Prob(JB):          </th> <td>1.05e-229</td>\n",
       "</tr>\n",
       "<tr>\n",
       "  <th>Kurtosis:</th>      <td> 9.450</td>  <th>  Cond. No.          </th> <td>    6.02</td> \n",
       "</tr>\n",
       "</table><br/><br/>Notes:<br/>[1] Standard Errors assume that the covariance matrix of the errors is correctly specified."
      ],
      "text/plain": [
       "<class 'statsmodels.iolib.summary.Summary'>\n",
       "\"\"\"\n",
       "                            OLS Regression Results                            \n",
       "==============================================================================\n",
       "Dep. Variable:                      y   R-squared:                       0.576\n",
       "Model:                            OLS   Adj. R-squared:                  0.576\n",
       "Method:                 Least Squares   F-statistic:                     738.6\n",
       "Date:                Wed, 14 Dec 2022   Prob (F-statistic):          2.48e-103\n",
       "Time:                        15:57:20   Log-Likelihood:                 1153.4\n",
       "No. Observations:                 545   AIC:                            -2303.\n",
       "Df Residuals:                     543   BIC:                            -2294.\n",
       "Df Model:                           1                                         \n",
       "Covariance Type:            nonrobust                                         \n",
       "==============================================================================\n",
       "                 coef    std err          t      P>|t|      [0.025      0.975]\n",
       "------------------------------------------------------------------------------\n",
       "const          0.0621      0.002     29.310      0.000       0.058       0.066\n",
       "x1             0.1932      0.007     27.178      0.000       0.179       0.207\n",
       "==============================================================================\n",
       "Omnibus:                      158.419   Durbin-Watson:                   1.331\n",
       "Prob(Omnibus):                  0.000   Jarque-Bera (JB):             1054.494\n",
       "Skew:                           1.099   Prob(JB):                    1.05e-229\n",
       "Kurtosis:                       9.450   Cond. No.                         6.02\n",
       "==============================================================================\n",
       "\n",
       "Notes:\n",
       "[1] Standard Errors assume that the covariance matrix of the errors is correctly specified.\n",
       "\"\"\""
      ]
     },
     "execution_count": 16,
     "metadata": {},
     "output_type": "execute_result"
    }
   ],
   "source": [
    "fig = px.scatter(result_normal, x=\"Zero Shot Learning Sentence Mean Threshold\", y=\"Sentence Cosine Similarity Wiki Summarized Mean Threshold 0\", trendline=\"ols\")\n",
    "fig.show()\n",
    "results = px.get_trendline_results(fig)\n",
    "print(results)\n",
    "results.px_fit_results.iloc[0].summary()\n"
   ]
  },
  {
   "cell_type": "code",
   "execution_count": 11,
   "metadata": {},
   "outputs": [],
   "source": [
    "result_prep = result[[\"Sentence Cosine Similarity Wiki Summarized Mean Threshold 0\", \"Zero Shot Fulltext\", \"Label\"]]\n",
    "\n",
    "croped_results = result_prep[result_prep[\"Sentence Cosine Similarity Wiki Summarized Mean Threshold 0\"] <= 0.179]\n",
    "croped_results = croped_results[croped_results[\"Sentence Cosine Similarity Wiki Summarized Mean Threshold 0\"] >= 0.032]\n",
    "croped_results = croped_results[croped_results[\"Zero Shot Fulltext\"] <= 0.373]\n"
   ]
  },
  {
   "cell_type": "code",
   "execution_count": 12,
   "metadata": {},
   "outputs": [
    {
     "data": {
      "application/vnd.plotly.v1+json": {
       "config": {
        "plotlyServerURL": "https://plot.ly"
       },
       "data": [
        {
         "alignmentgroup": "True",
         "boxpoints": "all",
         "hovertemplate": "Data=Sentence Cosine Similarity Wiki Summarized Mean Threshold 0<br>value=%{y}<extra></extra>",
         "legendgroup": "Sentence Cosine Similarity Wiki Summarized Mean Threshold 0",
         "marker": {
          "color": "#636efa"
         },
         "name": "Sentence Cosine Similarity Wiki Summarized Mean Threshold 0",
         "notched": false,
         "offsetgroup": "Sentence Cosine Similarity Wiki Summarized Mean Threshold 0",
         "orientation": "v",
         "showlegend": true,
         "type": "box",
         "x0": " ",
         "xaxis": "x",
         "y": [
          0.104,
          0.114,
          0.106,
          0.062,
          0.095,
          0.092,
          0.103,
          0.067,
          0.142,
          0.08,
          0.123,
          0.08,
          0.071,
          0.067,
          0.141,
          0.095,
          0.091,
          0.066,
          0.069,
          0.095,
          0.068,
          0.042,
          0.047,
          0.09,
          0.088,
          0.094,
          0.107,
          0.089,
          0.067,
          0.161,
          0.068,
          0.109,
          0.115,
          0.107,
          0.076,
          0.081,
          0.125,
          0.105,
          0.09,
          0.08,
          0.099,
          0.094,
          0.097,
          0.086,
          0.108,
          0.1,
          0.114,
          0.053,
          0.163,
          0.113,
          0.1,
          0.114,
          0.05,
          0.087,
          0.118,
          0.086,
          0.054,
          0.172,
          0.092,
          0.107,
          0.118,
          0.073,
          0.178,
          0.12,
          0.098,
          0.097,
          0.062,
          0.173,
          0.113,
          0.124,
          0.126,
          0.087,
          0.111,
          0.11,
          0.131,
          0.09,
          0.06,
          0.122,
          0.113,
          0.145,
          0.087,
          0.061,
          0.102,
          0.112,
          0.114,
          0.077,
          0.177,
          0.077,
          0.072,
          0.077,
          0.068,
          0.098,
          0.172,
          0.101,
          0.098,
          0.077,
          0.156,
          0.084,
          0.073,
          0.088,
          0.054,
          0.179,
          0.093,
          0.084,
          0.105,
          0.066,
          0.171,
          0.098,
          0.115,
          0.088,
          0.077,
          0.076,
          0.078,
          0.089,
          0.042,
          0.11,
          0.103,
          0.092,
          0.077,
          0.169,
          0.092,
          0.098,
          0.097,
          0.074,
          0.164,
          0.169,
          0.088,
          0.077,
          0.05,
          0.08,
          0.123,
          0.095,
          0.113,
          0.094,
          0.077,
          0.098,
          0.087,
          0.096,
          0.052,
          0.115,
          0.083,
          0.066,
          0.087,
          0.081,
          0.085,
          0.112,
          0.092,
          0.088,
          0.047,
          0.079,
          0.099,
          0.119,
          0.049,
          0.089,
          0.103,
          0.073,
          0.089,
          0.073,
          0.052,
          0.088,
          0.11,
          0.087,
          0.053,
          0.137,
          0.073,
          0.081,
          0.078,
          0.084,
          0.152,
          0.144,
          0.109,
          0.115,
          0.077,
          0.091,
          0.142,
          0.098,
          0.08,
          0.067,
          0.119,
          0.078,
          0.069,
          0.08,
          0.069,
          0.097,
          0.033,
          0.099,
          0.1,
          0.096,
          0.15,
          0.075,
          0.096,
          0.1,
          0.068,
          0.067,
          0.088,
          0.102,
          0.051,
          0.062,
          0.064,
          0.062,
          0.035,
          0.074,
          0.098,
          0.097,
          0.04,
          0.162,
          0.045,
          0.094,
          0.099,
          0.087,
          0.042,
          0.148,
          0.083,
          0.099,
          0.083,
          0.054,
          0.132,
          0.087,
          0.09,
          0.089,
          0.076,
          0.132,
          0.095,
          0.108,
          0.066,
          0.084,
          0.056,
          0.092,
          0.089,
          0.066,
          0.052,
          0.12,
          0.083,
          0.094,
          0.12,
          0.083,
          0.168,
          0.097,
          0.103,
          0.116,
          0.071,
          0.097,
          0.1,
          0.106,
          0.065,
          0.17,
          0.101,
          0.118,
          0.113,
          0.079,
          0.134,
          0.129,
          0.129,
          0.066,
          0.101,
          0.088,
          0.085,
          0.076,
          0.05,
          0.113,
          0.132,
          0.105,
          0.074,
          0.046,
          0.083,
          0.107,
          0.051,
          0.032,
          0.075,
          0.08,
          0.042,
          0.173,
          0.113,
          0.116,
          0.126,
          0.066,
          0.12,
          0.103,
          0.098,
          0.088,
          0.064,
          0.126,
          0.121,
          0.117,
          0.152,
          0.088,
          0.126,
          0.141,
          0.087,
          0.139,
          0.15,
          0.174,
          0.107,
          0.103,
          0.073,
          0.08,
          0.077,
          0.078,
          0.123,
          0.15,
          0.091,
          0.046,
          0.132,
          0.098,
          0.116,
          0.065,
          0.124,
          0.084,
          0.054,
          0.097,
          0.098,
          0.086,
          0.097,
          0.066,
          0.093,
          0.114,
          0.067,
          0.103,
          0.082,
          0.099,
          0.094,
          0.119,
          0.065,
          0.092,
          0.079,
          0.101,
          0.041,
          0.116,
          0.164,
          0.11,
          0.108,
          0.097,
          0.15,
          0.077,
          0.088,
          0.11,
          0.059,
          0.075,
          0.122,
          0.103,
          0.083,
          0.075,
          0.05,
          0.096,
          0.095,
          0.095,
          0.085,
          0.067,
          0.079,
          0.096,
          0.079,
          0.072,
          0.134,
          0.103,
          0.119,
          0.076,
          0.105,
          0.096,
          0.091,
          0.052,
          0.177,
          0.097,
          0.126,
          0.119,
          0.075,
          0.097,
          0.098,
          0.089,
          0.059,
          0.145,
          0.136,
          0.099,
          0.123,
          0.077,
          0.093,
          0.095,
          0.069,
          0.062,
          0.139,
          0.097,
          0.098,
          0.088,
          0.065,
          0.178,
          0.111,
          0.109,
          0.072,
          0.103,
          0.116,
          0.088,
          0.096,
          0.056,
          0.097,
          0.095,
          0.076,
          0.096,
          0.056,
          0.081,
          0.05,
          0.065,
          0.058,
          0.154,
          0.113,
          0.109,
          0.096,
          0.101,
          0.104,
          0.077,
          0.075,
          0.089,
          0.062,
          0.113,
          0.08,
          0.08,
          0.078,
          0.075,
          0.095,
          0.103,
          0.066,
          0.07,
          0.062,
          0.113,
          0.095,
          0.118,
          0.085,
          0.117,
          0.158,
          0.1,
          0.091,
          0.11,
          0.11,
          0.117,
          0.076,
          0.105,
          0.12,
          0.116,
          0.055,
          0.118,
          0.112,
          0.093,
          0.064,
          0.119,
          0.11,
          0.114,
          0.062,
          0.094,
          0.121,
          0.107,
          0.073,
          0.142,
          0.121,
          0.114,
          0.071,
          0.17,
          0.115,
          0.098,
          0.125,
          0.076,
          0.098,
          0.114,
          0.106,
          0.075,
          0.109,
          0.084,
          0.099,
          0.094,
          0.111,
          0.098,
          0.111,
          0.062,
          0.084,
          0.115,
          0.125,
          0.077,
          0.141,
          0.104,
          0.098,
          0.069,
          0.056,
          0.076,
          0.12,
          0.069,
          0.092,
          0.066,
          0.129,
          0.09,
          0.089,
          0.085,
          0.076,
          0.092,
          0.125,
          0.114,
          0.069,
          0.08,
          0.106,
          0.081,
          0.069,
          0.07,
          0.143,
          0.111,
          0.127,
          0.074,
          0.159,
          0.117,
          0.12,
          0.121,
          0.061,
          0.14,
          0.092,
          0.092,
          0.088,
          0.07,
          0.092,
          0.056,
          0.049,
          0.084,
          0.157,
          0.101,
          0.093,
          0.106,
          0.062,
          0.117,
          0.091,
          0.097,
          0.074,
          0.111,
          0.088,
          0.129,
          0.066
         ],
         "y0": " ",
         "yaxis": "y"
        },
        {
         "alignmentgroup": "True",
         "boxpoints": "all",
         "hovertemplate": "Data=Zero Shot Fulltext<br>value=%{y}<extra></extra>",
         "legendgroup": "Zero Shot Fulltext",
         "marker": {
          "color": "#EF553B"
         },
         "name": "Zero Shot Fulltext",
         "notched": false,
         "offsetgroup": "Zero Shot Fulltext",
         "orientation": "v",
         "showlegend": true,
         "type": "box",
         "x0": " ",
         "xaxis": "x",
         "y": [
          0.2495380640029907,
          0.2267500907182693,
          0.2156645208597183,
          0.0832700654864311,
          0.2479164153337478,
          0.1870989948511123,
          0.107210449874401,
          0.0521210469305515,
          0.281462013721466,
          0.2567347586154938,
          0.172008141875267,
          0.1713983118534088,
          0.1183967217803001,
          0.2962532341480255,
          0.2939696311950683,
          0.192602276802063,
          0.1660996973514557,
          0.0510750822722911,
          0.1912371665239334,
          0.1618001759052276,
          0.1108394116163253,
          0.1089241877198219,
          0.3391397297382355,
          0.2345487773418426,
          0.1704703867435455,
          0.0312880724668502,
          0.341550201177597,
          0.2641184031963348,
          0.2134099304676056,
          0.1361060738563537,
          0.0448154136538505,
          0.2309527397155761,
          0.220947653055191,
          0.1790402680635452,
          0.0386990308761596,
          0.2921053171157837,
          0.2759756743907928,
          0.2260195612907409,
          0.1592053771018982,
          0.0466939993202686,
          0.2058601528406143,
          0.2022788077592849,
          0.1972105801105499,
          0.1317953765392303,
          0.2635778784751892,
          0.2174738198518753,
          0.1485055536031723,
          0.078366994857788,
          0.3589620590209961,
          0.2438621073961258,
          0.1881182938814163,
          0.1409851759672165,
          0.0680722892284393,
          0.229597732424736,
          0.2198040038347244,
          0.1947677284479141,
          0.0687350630760192,
          0.3696164488792419,
          0.2552548050880432,
          0.1822672039270401,
          0.1546910256147384,
          0.0381705202162265,
          0.2564135491847992,
          0.2331895381212234,
          0.196650892496109,
          0.1923506706953048,
          0.1213953420519828,
          0.3546679615974426,
          0.1832892000675201,
          0.1617207527160644,
          0.1544041633605957,
          0.1459179371595382,
          0.2505688965320587,
          0.2422610074281692,
          0.2262309044599533,
          0.2152930498123169,
          0.0656460970640182,
          0.2563245892524719,
          0.25536048412323,
          0.2548901438713074,
          0.1943769454956054,
          0.0390478745102882,
          0.2241653203964233,
          0.2127655744552612,
          0.1903405934572219,
          0.0920817032456398,
          0.2917154133319855,
          0.2777140438556671,
          0.1957510560750961,
          0.1549521684646606,
          0.0798672437667846,
          0.3038484454154968,
          0.2325430065393448,
          0.2296200692653656,
          0.2049544900655746,
          0.0290340203791856,
          0.2739381194114685,
          0.2328675985336303,
          0.220195785164833,
          0.1845687478780746,
          0.0884298384189605,
          0.3538145422935486,
          0.2009992450475692,
          0.182045578956604,
          0.1667288541793823,
          0.0964117720723152,
          0.2774017453193664,
          0.2732843160629272,
          0.2587129175662994,
          0.1144607216119766,
          0.0761402994394302,
          0.2289267927408218,
          0.1473801583051681,
          0.1404090374708175,
          0.1004441231489181,
          0.1969743818044662,
          0.1431017369031906,
          0.1224003061652183,
          0.0530891343951225,
          0.3226491510868072,
          0.2103051990270614,
          0.1837044358253479,
          0.157782182097435,
          0.1255590617656707,
          0.3380797207355499,
          0.2647078037261963,
          0.1769894659519195,
          0.1615283042192459,
          0.058694738894701,
          0.2437541335821151,
          0.2313641309738159,
          0.2006480097770691,
          0.1703296154737472,
          0.1539040952920913,
          0.3065283596515655,
          0.2787400782108307,
          0.1768430024385452,
          0.127303659915924,
          0.1105849742889404,
          0.3721352517604828,
          0.2610065937042236,
          0.1537331640720367,
          0.1255407035350799,
          0.0875843167304992,
          0.3019227385520935,
          0.2300601005554199,
          0.1854093223810196,
          0.1580100506544113,
          0.1245978325605392,
          0.3008913397789001,
          0.2254245430231094,
          0.207946628332138,
          0.1350813210010528,
          0.1306561231613159,
          0.2603960931301117,
          0.2315571308135986,
          0.2049978077411651,
          0.1838046908378601,
          0.119244284927845,
          0.2257553339004516,
          0.1716018170118332,
          0.12836953997612,
          0.0712952688336372,
          0.265918880701065,
          0.2618824541568756,
          0.1937536299228668,
          0.192804530262947,
          0.0856404528021812,
          0.311314970254898,
          0.2277173995971679,
          0.2056406140327453,
          0.1944018900394439,
          0.0609250962734222,
          0.2534562945365906,
          0.239758625626564,
          0.2387720793485641,
          0.2239198088645935,
          0.044093232601881,
          0.3119750618934631,
          0.2322798371315002,
          0.2043886482715606,
          0.1700950115919113,
          0.0812614113092422,
          0.2664543390274048,
          0.2645822167396545,
          0.2180371731519699,
          0.2110539823770523,
          0.0398722998797893,
          0.324118047952652,
          0.2173162996768951,
          0.2061441391706466,
          0.1750264167785644,
          0.0773950293660163,
          0.2690467536449432,
          0.2074512541294098,
          0.1695498526096344,
          0.1185489520430564,
          0.236914113163948,
          0.1644617915153503,
          0.1449477076530456,
          0.1093845069408416,
          0.2252888530492782,
          0.1919509172439575,
          0.1899312287569046,
          0.129283607006073,
          0.3082045912742615,
          0.0137458341196179,
          0.2035748958587646,
          0.1939961165189743,
          0.1800320148468017,
          0.1468869149684906,
          0.261933833360672,
          0.242390751838684,
          0.2192283123731613,
          0.1716848015785217,
          0.1047623232007026,
          0.3052448630332947,
          0.2693052291870117,
          0.1666322499513626,
          0.1654933243989944,
          0.0933243334293365,
          0.2905075848102569,
          0.2456855326890945,
          0.2042438387870788,
          0.1312061697244644,
          0.12835693359375,
          0.2712620198726654,
          0.2347771823406219,
          0.2058963030576706,
          0.2007921487092971,
          0.0872723385691642,
          0.2364151030778885,
          0.2197742313146591,
          0.2187693864107132,
          0.2103703171014785,
          0.1146709844470024,
          0.298772931098938,
          0.2102086842060089,
          0.2036190629005432,
          0.198979765176773,
          0.0884194746613502,
          0.2862432301044464,
          0.1981531977653503,
          0.1643752306699752,
          0.0898233652114868,
          0.2609411478042602,
          0.2207399010658264,
          0.1945483088493347,
          0.1782104223966598,
          0.1455601751804351,
          0.2547706365585327,
          0.2183169275522232,
          0.1508295834064483,
          0.0726864635944366,
          0.2918977439403534,
          0.2292515933513641,
          0.2257017791271209,
          0.1639510095119476,
          0.0891978219151496,
          0.2018287926912307,
          0.1985359787940979,
          0.1886506676673889,
          0.1531428545713424,
          0.1293570399284362,
          0.0925932005047798,
          0.0572017915546894,
          0.0263489112257957,
          0.1204176247119903,
          0.0459679290652275,
          0.044289544224739,
          0.0196657963097095,
          0.3092426359653473,
          0.2785590291023254,
          0.1847359240055084,
          0.1796555966138839,
          0.0478068068623542,
          0.2831907868385315,
          0.2196117788553238,
          0.1315936297178268,
          0.0575709082186222,
          0.2000907361507415,
          0.1938932836055755,
          0.1839266866445541,
          0.1694440096616745,
          0.3154234588146209,
          0.2384630292654037,
          0.2192700654268264,
          0.1751033216714859,
          0.0517401210963726,
          0.2759936153888702,
          0.2434425055980682,
          0.2165676355361938,
          0.0624621883034706,
          0.3540019690990448,
          0.1845041960477829,
          0.1696469783782959,
          0.153286337852478,
          0.1385604739189148,
          0.2651827931404114,
          0.1888178139925003,
          0.1298642605543136,
          0.104553535580635,
          0.2453497946262359,
          0.2021219879388809,
          0.1586702615022659,
          0.0510966069996356,
          0.283905953168869,
          0.2554435729980469,
          0.183852419257164,
          0.1778941452503204,
          0.098903939127922,
          0.2426569014787674,
          0.2402286231517791,
          0.0742003545165062,
          0.0663586407899856,
          0.1905619800090789,
          0.1507777422666549,
          0.1318046450614929,
          0.0677712634205818,
          0.2551839649677276,
          0.18809774518013,
          0.1800454407930374,
          0.1453533619642257,
          0.2197911143302917,
          0.2147107124328613,
          0.1478125751018524,
          0.0889642834663391,
          0.2639303505420685,
          0.2476188987493515,
          0.2046303451061248,
          0.2017716020345688,
          0.0820487663149833,
          0.3277174532413482,
          0.2215171158313751,
          0.1864126026630401,
          0.1558082848787307,
          0.1085445210337638,
          0.21580471098423,
          0.1998269259929657,
          0.2982795536518097,
          0.2380188554525375,
          0.2167284190654754,
          0.0348908938467502,
          0.2860311567783355,
          0.2774178087711334,
          0.2183452695608139,
          0.0142045998945832,
          0.2447177469730377,
          0.2318690568208694,
          0.2295010536909103,
          0.1774656623601913,
          0.1164464205503463,
          0.2401561290025711,
          0.1882913261651992,
          0.1469869762659073,
          0.1196052208542823,
          0.3033203780651092,
          0.2217833995819091,
          0.1350641399621963,
          0.087611585855484,
          0.2838029265403747,
          0.2420301884412765,
          0.2025396078824997,
          0.1774022579193115,
          0.094224989414215,
          0.2838996946811676,
          0.2194368988275528,
          0.1306955814361572,
          0.0682671964168548,
          0.2814030051231384,
          0.2562920451164245,
          0.2145079225301742,
          0.1931255906820297,
          0.0546714216470718,
          0.2543060481548309,
          0.2479011118412017,
          0.1604288667440414,
          0.0501071028411388,
          0.3659659028053283,
          0.2197176665067672,
          0.1835657954216003,
          0.1550569832324981,
          0.0756936743855476,
          0.3638359308242798,
          0.1994417905807495,
          0.1663465499877929,
          0.1377527415752411,
          0.1326229721307754,
          0.2252839803695678,
          0.2153791785240173,
          0.1554633975028991,
          0.0516640692949295,
          0.2155042737722396,
          0.2032393962144851,
          0.1551255881786346,
          0.1304021030664444,
          0.3685694932937622,
          0.2087297439575195,
          0.1581214666366577,
          0.1501937061548233,
          0.1143856197595596,
          0.3128083944320678,
          0.2282599061727523,
          0.2270803898572921,
          0.1881952434778213,
          0.0436561107635498,
          0.3011332154273987,
          0.2697272300720215,
          0.1958506107330322,
          0.1723295152187347,
          0.0609594136476516,
          0.2561188340187073,
          0.2276665419340133,
          0.2216212004423141,
          0.1931435912847519,
          0.1014498323202133,
          0.2653444111347198,
          0.257261574268341,
          0.2325137108564376,
          0.1796179413795471,
          0.0652623623609542,
          0.2271130234003067,
          0.2201541513204574,
          0.1881893575191497,
          0.059932354837656,
          0.2207388132810592,
          0.1846563220024109,
          0.1813750267028808,
          0.1195328310132026,
          0.2459336072206497,
          0.2423049509525299,
          0.2223612815141677,
          0.0414882861077785,
          0.2200469374656677,
          0.2108449637889862,
          0.2082842737436294,
          0.1110946983098983,
          0.1798262447118759,
          0.1491464525461197,
          0.1480055898427963,
          0.1421459913253784,
          0.2438423484563827,
          0.2165374457836151,
          0.1446606218814849,
          0.0940709635615348,
          0.2366943806409835,
          0.2182244807481765,
          0.1683832854032516,
          0.10578203946352,
          0.2399756908416748,
          0.1850870996713638,
          0.1328870058059692,
          0.0789025276899337,
          0.3262344598770141,
          0.2176260501146316,
          0.1899631768465042,
          0.1775659471750259,
          0.088610365986824,
          0.2651967406272888,
          0.2045854330062866,
          0.1154544800519943,
          0.0476425848901271,
          0.2121735513210296,
          0.1894236952066421,
          0.1536487489938736,
          0.0851592421531677,
          0.2657317817211151,
          0.2630229294300079,
          0.1710304468870163,
          0.0424360670149326,
          0.2729948461055755,
          0.2162742614746093,
          0.178605705499649,
          0.0734948813915252,
          0.3522094786167145,
          0.270870178937912,
          0.1621603518724441,
          0.1534124910831451,
          0.0613475739955902,
          0.2742417454719543,
          0.2686576247215271,
          0.2362363785505294,
          0.1333933621644973,
          0.0874708816409111,
          0.2776872217655182,
          0.2634859085083008,
          0.1974674016237259,
          0.1960902363061905,
          0.0652693063020706,
          0.2268993407487869,
          0.2174935936927795,
          0.1345686465501785,
          0.0646340101957321,
          0.3126868903636932,
          0.2501050531864166,
          0.1813988536596298,
          0.1285329014062881,
          0.1272762715816497,
          0.262161523103714,
          0.2108325213193893,
          0.1431590467691421,
          0.0550965368747711,
          0.2961293458938598,
          0.2624964714050293,
          0.2176629602909088,
          0.15740767121315,
          0.0663035213947296,
          0.3131616413593292,
          0.2192831635475158,
          0.183159127831459,
          0.1830106973648071,
          0.1013853177428245,
          0.2262132167816162,
          0.1981872171163559,
          0.137290820479393,
          0.1207064390182495,
          0.2579312920570373,
          0.2492201775312423,
          0.1778267174959182,
          0.1751506030559539,
          0.1398711502552032,
          0.1593820601701736,
          0.1560671329498291,
          0.1408428400754928,
          0.0435758009552955,
          0.1907578706741333,
          0.181220605969429,
          0.176645815372467,
          0.0709194242954254
         ],
         "y0": " ",
         "yaxis": "y"
        }
       ],
       "layout": {
        "boxmode": "group",
        "legend": {
         "title": {
          "text": "Data"
         },
         "tracegroupgap": 0
        },
        "margin": {
         "t": 60
        },
        "template": {
         "data": {
          "bar": [
           {
            "error_x": {
             "color": "#2a3f5f"
            },
            "error_y": {
             "color": "#2a3f5f"
            },
            "marker": {
             "line": {
              "color": "#E5ECF6",
              "width": 0.5
             },
             "pattern": {
              "fillmode": "overlay",
              "size": 10,
              "solidity": 0.2
             }
            },
            "type": "bar"
           }
          ],
          "barpolar": [
           {
            "marker": {
             "line": {
              "color": "#E5ECF6",
              "width": 0.5
             },
             "pattern": {
              "fillmode": "overlay",
              "size": 10,
              "solidity": 0.2
             }
            },
            "type": "barpolar"
           }
          ],
          "carpet": [
           {
            "aaxis": {
             "endlinecolor": "#2a3f5f",
             "gridcolor": "white",
             "linecolor": "white",
             "minorgridcolor": "white",
             "startlinecolor": "#2a3f5f"
            },
            "baxis": {
             "endlinecolor": "#2a3f5f",
             "gridcolor": "white",
             "linecolor": "white",
             "minorgridcolor": "white",
             "startlinecolor": "#2a3f5f"
            },
            "type": "carpet"
           }
          ],
          "choropleth": [
           {
            "colorbar": {
             "outlinewidth": 0,
             "ticks": ""
            },
            "type": "choropleth"
           }
          ],
          "contour": [
           {
            "colorbar": {
             "outlinewidth": 0,
             "ticks": ""
            },
            "colorscale": [
             [
              0,
              "#0d0887"
             ],
             [
              0.1111111111111111,
              "#46039f"
             ],
             [
              0.2222222222222222,
              "#7201a8"
             ],
             [
              0.3333333333333333,
              "#9c179e"
             ],
             [
              0.4444444444444444,
              "#bd3786"
             ],
             [
              0.5555555555555556,
              "#d8576b"
             ],
             [
              0.6666666666666666,
              "#ed7953"
             ],
             [
              0.7777777777777778,
              "#fb9f3a"
             ],
             [
              0.8888888888888888,
              "#fdca26"
             ],
             [
              1,
              "#f0f921"
             ]
            ],
            "type": "contour"
           }
          ],
          "contourcarpet": [
           {
            "colorbar": {
             "outlinewidth": 0,
             "ticks": ""
            },
            "type": "contourcarpet"
           }
          ],
          "heatmap": [
           {
            "colorbar": {
             "outlinewidth": 0,
             "ticks": ""
            },
            "colorscale": [
             [
              0,
              "#0d0887"
             ],
             [
              0.1111111111111111,
              "#46039f"
             ],
             [
              0.2222222222222222,
              "#7201a8"
             ],
             [
              0.3333333333333333,
              "#9c179e"
             ],
             [
              0.4444444444444444,
              "#bd3786"
             ],
             [
              0.5555555555555556,
              "#d8576b"
             ],
             [
              0.6666666666666666,
              "#ed7953"
             ],
             [
              0.7777777777777778,
              "#fb9f3a"
             ],
             [
              0.8888888888888888,
              "#fdca26"
             ],
             [
              1,
              "#f0f921"
             ]
            ],
            "type": "heatmap"
           }
          ],
          "heatmapgl": [
           {
            "colorbar": {
             "outlinewidth": 0,
             "ticks": ""
            },
            "colorscale": [
             [
              0,
              "#0d0887"
             ],
             [
              0.1111111111111111,
              "#46039f"
             ],
             [
              0.2222222222222222,
              "#7201a8"
             ],
             [
              0.3333333333333333,
              "#9c179e"
             ],
             [
              0.4444444444444444,
              "#bd3786"
             ],
             [
              0.5555555555555556,
              "#d8576b"
             ],
             [
              0.6666666666666666,
              "#ed7953"
             ],
             [
              0.7777777777777778,
              "#fb9f3a"
             ],
             [
              0.8888888888888888,
              "#fdca26"
             ],
             [
              1,
              "#f0f921"
             ]
            ],
            "type": "heatmapgl"
           }
          ],
          "histogram": [
           {
            "marker": {
             "pattern": {
              "fillmode": "overlay",
              "size": 10,
              "solidity": 0.2
             }
            },
            "type": "histogram"
           }
          ],
          "histogram2d": [
           {
            "colorbar": {
             "outlinewidth": 0,
             "ticks": ""
            },
            "colorscale": [
             [
              0,
              "#0d0887"
             ],
             [
              0.1111111111111111,
              "#46039f"
             ],
             [
              0.2222222222222222,
              "#7201a8"
             ],
             [
              0.3333333333333333,
              "#9c179e"
             ],
             [
              0.4444444444444444,
              "#bd3786"
             ],
             [
              0.5555555555555556,
              "#d8576b"
             ],
             [
              0.6666666666666666,
              "#ed7953"
             ],
             [
              0.7777777777777778,
              "#fb9f3a"
             ],
             [
              0.8888888888888888,
              "#fdca26"
             ],
             [
              1,
              "#f0f921"
             ]
            ],
            "type": "histogram2d"
           }
          ],
          "histogram2dcontour": [
           {
            "colorbar": {
             "outlinewidth": 0,
             "ticks": ""
            },
            "colorscale": [
             [
              0,
              "#0d0887"
             ],
             [
              0.1111111111111111,
              "#46039f"
             ],
             [
              0.2222222222222222,
              "#7201a8"
             ],
             [
              0.3333333333333333,
              "#9c179e"
             ],
             [
              0.4444444444444444,
              "#bd3786"
             ],
             [
              0.5555555555555556,
              "#d8576b"
             ],
             [
              0.6666666666666666,
              "#ed7953"
             ],
             [
              0.7777777777777778,
              "#fb9f3a"
             ],
             [
              0.8888888888888888,
              "#fdca26"
             ],
             [
              1,
              "#f0f921"
             ]
            ],
            "type": "histogram2dcontour"
           }
          ],
          "mesh3d": [
           {
            "colorbar": {
             "outlinewidth": 0,
             "ticks": ""
            },
            "type": "mesh3d"
           }
          ],
          "parcoords": [
           {
            "line": {
             "colorbar": {
              "outlinewidth": 0,
              "ticks": ""
             }
            },
            "type": "parcoords"
           }
          ],
          "pie": [
           {
            "automargin": true,
            "type": "pie"
           }
          ],
          "scatter": [
           {
            "fillpattern": {
             "fillmode": "overlay",
             "size": 10,
             "solidity": 0.2
            },
            "type": "scatter"
           }
          ],
          "scatter3d": [
           {
            "line": {
             "colorbar": {
              "outlinewidth": 0,
              "ticks": ""
             }
            },
            "marker": {
             "colorbar": {
              "outlinewidth": 0,
              "ticks": ""
             }
            },
            "type": "scatter3d"
           }
          ],
          "scattercarpet": [
           {
            "marker": {
             "colorbar": {
              "outlinewidth": 0,
              "ticks": ""
             }
            },
            "type": "scattercarpet"
           }
          ],
          "scattergeo": [
           {
            "marker": {
             "colorbar": {
              "outlinewidth": 0,
              "ticks": ""
             }
            },
            "type": "scattergeo"
           }
          ],
          "scattergl": [
           {
            "marker": {
             "colorbar": {
              "outlinewidth": 0,
              "ticks": ""
             }
            },
            "type": "scattergl"
           }
          ],
          "scattermapbox": [
           {
            "marker": {
             "colorbar": {
              "outlinewidth": 0,
              "ticks": ""
             }
            },
            "type": "scattermapbox"
           }
          ],
          "scatterpolar": [
           {
            "marker": {
             "colorbar": {
              "outlinewidth": 0,
              "ticks": ""
             }
            },
            "type": "scatterpolar"
           }
          ],
          "scatterpolargl": [
           {
            "marker": {
             "colorbar": {
              "outlinewidth": 0,
              "ticks": ""
             }
            },
            "type": "scatterpolargl"
           }
          ],
          "scatterternary": [
           {
            "marker": {
             "colorbar": {
              "outlinewidth": 0,
              "ticks": ""
             }
            },
            "type": "scatterternary"
           }
          ],
          "surface": [
           {
            "colorbar": {
             "outlinewidth": 0,
             "ticks": ""
            },
            "colorscale": [
             [
              0,
              "#0d0887"
             ],
             [
              0.1111111111111111,
              "#46039f"
             ],
             [
              0.2222222222222222,
              "#7201a8"
             ],
             [
              0.3333333333333333,
              "#9c179e"
             ],
             [
              0.4444444444444444,
              "#bd3786"
             ],
             [
              0.5555555555555556,
              "#d8576b"
             ],
             [
              0.6666666666666666,
              "#ed7953"
             ],
             [
              0.7777777777777778,
              "#fb9f3a"
             ],
             [
              0.8888888888888888,
              "#fdca26"
             ],
             [
              1,
              "#f0f921"
             ]
            ],
            "type": "surface"
           }
          ],
          "table": [
           {
            "cells": {
             "fill": {
              "color": "#EBF0F8"
             },
             "line": {
              "color": "white"
             }
            },
            "header": {
             "fill": {
              "color": "#C8D4E3"
             },
             "line": {
              "color": "white"
             }
            },
            "type": "table"
           }
          ]
         },
         "layout": {
          "annotationdefaults": {
           "arrowcolor": "#2a3f5f",
           "arrowhead": 0,
           "arrowwidth": 1
          },
          "autotypenumbers": "strict",
          "coloraxis": {
           "colorbar": {
            "outlinewidth": 0,
            "ticks": ""
           }
          },
          "colorscale": {
           "diverging": [
            [
             0,
             "#8e0152"
            ],
            [
             0.1,
             "#c51b7d"
            ],
            [
             0.2,
             "#de77ae"
            ],
            [
             0.3,
             "#f1b6da"
            ],
            [
             0.4,
             "#fde0ef"
            ],
            [
             0.5,
             "#f7f7f7"
            ],
            [
             0.6,
             "#e6f5d0"
            ],
            [
             0.7,
             "#b8e186"
            ],
            [
             0.8,
             "#7fbc41"
            ],
            [
             0.9,
             "#4d9221"
            ],
            [
             1,
             "#276419"
            ]
           ],
           "sequential": [
            [
             0,
             "#0d0887"
            ],
            [
             0.1111111111111111,
             "#46039f"
            ],
            [
             0.2222222222222222,
             "#7201a8"
            ],
            [
             0.3333333333333333,
             "#9c179e"
            ],
            [
             0.4444444444444444,
             "#bd3786"
            ],
            [
             0.5555555555555556,
             "#d8576b"
            ],
            [
             0.6666666666666666,
             "#ed7953"
            ],
            [
             0.7777777777777778,
             "#fb9f3a"
            ],
            [
             0.8888888888888888,
             "#fdca26"
            ],
            [
             1,
             "#f0f921"
            ]
           ],
           "sequentialminus": [
            [
             0,
             "#0d0887"
            ],
            [
             0.1111111111111111,
             "#46039f"
            ],
            [
             0.2222222222222222,
             "#7201a8"
            ],
            [
             0.3333333333333333,
             "#9c179e"
            ],
            [
             0.4444444444444444,
             "#bd3786"
            ],
            [
             0.5555555555555556,
             "#d8576b"
            ],
            [
             0.6666666666666666,
             "#ed7953"
            ],
            [
             0.7777777777777778,
             "#fb9f3a"
            ],
            [
             0.8888888888888888,
             "#fdca26"
            ],
            [
             1,
             "#f0f921"
            ]
           ]
          },
          "colorway": [
           "#636efa",
           "#EF553B",
           "#00cc96",
           "#ab63fa",
           "#FFA15A",
           "#19d3f3",
           "#FF6692",
           "#B6E880",
           "#FF97FF",
           "#FECB52"
          ],
          "font": {
           "color": "#2a3f5f"
          },
          "geo": {
           "bgcolor": "white",
           "lakecolor": "white",
           "landcolor": "#E5ECF6",
           "showlakes": true,
           "showland": true,
           "subunitcolor": "white"
          },
          "hoverlabel": {
           "align": "left"
          },
          "hovermode": "closest",
          "mapbox": {
           "style": "light"
          },
          "paper_bgcolor": "white",
          "plot_bgcolor": "#E5ECF6",
          "polar": {
           "angularaxis": {
            "gridcolor": "white",
            "linecolor": "white",
            "ticks": ""
           },
           "bgcolor": "#E5ECF6",
           "radialaxis": {
            "gridcolor": "white",
            "linecolor": "white",
            "ticks": ""
           }
          },
          "scene": {
           "xaxis": {
            "backgroundcolor": "#E5ECF6",
            "gridcolor": "white",
            "gridwidth": 2,
            "linecolor": "white",
            "showbackground": true,
            "ticks": "",
            "zerolinecolor": "white"
           },
           "yaxis": {
            "backgroundcolor": "#E5ECF6",
            "gridcolor": "white",
            "gridwidth": 2,
            "linecolor": "white",
            "showbackground": true,
            "ticks": "",
            "zerolinecolor": "white"
           },
           "zaxis": {
            "backgroundcolor": "#E5ECF6",
            "gridcolor": "white",
            "gridwidth": 2,
            "linecolor": "white",
            "showbackground": true,
            "ticks": "",
            "zerolinecolor": "white"
           }
          },
          "shapedefaults": {
           "line": {
            "color": "#2a3f5f"
           }
          },
          "ternary": {
           "aaxis": {
            "gridcolor": "white",
            "linecolor": "white",
            "ticks": ""
           },
           "baxis": {
            "gridcolor": "white",
            "linecolor": "white",
            "ticks": ""
           },
           "bgcolor": "#E5ECF6",
           "caxis": {
            "gridcolor": "white",
            "linecolor": "white",
            "ticks": ""
           }
          },
          "title": {
           "x": 0.05
          },
          "xaxis": {
           "automargin": true,
           "gridcolor": "white",
           "linecolor": "white",
           "ticks": "",
           "title": {
            "standoff": 15
           },
           "zerolinecolor": "white",
           "zerolinewidth": 2
          },
          "yaxis": {
           "automargin": true,
           "gridcolor": "white",
           "linecolor": "white",
           "ticks": "",
           "title": {
            "standoff": 15
           },
           "zerolinecolor": "white",
           "zerolinewidth": 2
          }
         }
        },
        "xaxis": {
         "anchor": "y",
         "domain": [
          0,
          1
         ]
        },
        "yaxis": {
         "anchor": "x",
         "domain": [
          0,
          1
         ],
         "title": {
          "text": "value"
         }
        }
       }
      }
     },
     "metadata": {},
     "output_type": "display_data"
    }
   ],
   "source": [
    "result_prep = croped_results[[\"Sentence Cosine Similarity Wiki Summarized Mean Threshold 0\", \"Zero Shot Fulltext\"]]\n",
    "result_prep_melt = result_prep.melt(var_name=\"Data\")\n",
    "fig = px.box(result_prep_melt, y=\"value\", points=\"all\", color = \"Data\")\n",
    "fig.show()\n",
    "\n"
   ]
  },
  {
   "cell_type": "code",
   "execution_count": 13,
   "metadata": {},
   "outputs": [
    {
     "data": {
      "application/vnd.plotly.v1+json": {
       "config": {
        "plotlyServerURL": "https://plot.ly"
       },
       "data": [
        {
         "hovertemplate": "Label=social issues<br>Sentence Cosine Similarity Wiki Summarized Mean Threshold 0=%{x}<br>Zero Shot Fulltext=%{y}<extra></extra>",
         "legendgroup": "social issues",
         "marker": {
          "color": "#636efa",
          "symbol": "circle"
         },
         "mode": "markers",
         "name": "social issues",
         "orientation": "v",
         "showlegend": true,
         "type": "scatter",
         "x": [
          0.104,
          0.103,
          0.08,
          0.095,
          0.095,
          0.09,
          0.107,
          0.107,
          0.09,
          0.097,
          0.108,
          0.114,
          0.086,
          0.118,
          0.098,
          0.113,
          0.111,
          0.087,
          0.112,
          0.077,
          0.098,
          0.088,
          0.105,
          0.098,
          0.089,
          0.11,
          0.097,
          0.088,
          0.123,
          0.087,
          0.081,
          0.088,
          0.089,
          0.073,
          0.087,
          0.081,
          0.109,
          0.091,
          0.069,
          0.099,
          0.1,
          0.088,
          0.062,
          0.098,
          0.162,
          0.094,
          0.083,
          0.087,
          0.095,
          0.092,
          0.12,
          0.103,
          0.097,
          0.101,
          0.134,
          0.085,
          0.113,
          0.083,
          0.08,
          0.113,
          0.098,
          0.117,
          0.088,
          0.139,
          0.073,
          0.15,
          0.132,
          0.098,
          0.093,
          0.114,
          0.119,
          0.101,
          0.116,
          0.077,
          0.075,
          0.075,
          0.096,
          0.096,
          0.134,
          0.096,
          0.126,
          0.098,
          0.136,
          0.095,
          0.098,
          0.109,
          0.088,
          0.097,
          0.081,
          0.096,
          0.089,
          0.078,
          0.066,
          0.118,
          0.117,
          0.117,
          0.116,
          0.112,
          0.119,
          0.121,
          0.121,
          0.125,
          0.114,
          0.109,
          0.111,
          0.125,
          0.098,
          0.092,
          0.085,
          0.125,
          0.069,
          0.143,
          0.12,
          0.092,
          0.092,
          0.101,
          0.117,
          0.129
         ],
         "xaxis": "x",
         "y": [
          0.2495380640029907,
          0.107210449874401,
          0.1713983118534088,
          0.192602276802063,
          0.1618001759052276,
          0.2345487773418426,
          0.341550201177597,
          0.1790402680635452,
          0.1592053771018982,
          0.1972105801105499,
          0.2635778784751892,
          0.1409851759672165,
          0.1947677284479141,
          0.1546910256147384,
          0.196650892496109,
          0.1832892000675201,
          0.2505688965320587,
          0.1943769454956054,
          0.2127655744552612,
          0.1549521684646606,
          0.2049544900655746,
          0.1845687478780746,
          0.1667288541793823,
          0.2732843160629272,
          0.1404090374708175,
          0.1969743818044662,
          0.157782182097435,
          0.1769894659519195,
          0.2313641309738159,
          0.1768430024385452,
          0.0875843167304992,
          0.1580100506544113,
          0.1306561231613159,
          0.1838046908378601,
          0.12836953997612,
          0.1937536299228668,
          0.2056406140327453,
          0.2534562945365906,
          0.2043886482715606,
          0.2180371731519699,
          0.1750264167785644,
          0.2074512541294098,
          0.236914113163948,
          0.1919509172439575,
          0.3082045912742615,
          0.2035748958587646,
          0.1716848015785217,
          0.2693052291870117,
          0.2456855326890945,
          0.2347771823406219,
          0.2364151030778885,
          0.2036190629005432,
          0.2862432301044464,
          0.2207399010658264,
          0.2547706365585327,
          0.2257017791271209,
          0.2018287926912307,
          0.0925932005047798,
          0.044289544224739,
          0.2785590291023254,
          0.1315936297178268,
          0.1694440096616745,
          0.2384630292654037,
          0.2759936153888702,
          0.1845041960477829,
          0.1888178139925003,
          0.2453497946262359,
          0.098903939127922,
          0.0663586407899856,
          0.1905619800090789,
          0.1800454407930374,
          0.1478125751018524,
          0.2639303505420685,
          0.2215171158313751,
          0.21580471098423,
          0.2167284190654754,
          0.2860311567783355,
          0.2295010536909103,
          0.2401561290025711,
          0.2217833995819091,
          0.2025396078824997,
          0.2194368988275528,
          0.2562920451164245,
          0.2479011118412017,
          0.1835657954216003,
          0.1663465499877929,
          0.2153791785240173,
          0.2155042737722396,
          0.2087297439575195,
          0.1881952434778213,
          0.1723295152187347,
          0.1931435912847519,
          0.2325137108564376,
          0.1881893575191497,
          0.2207388132810592,
          0.2223612815141677,
          0.2082842737436294,
          0.1491464525461197,
          0.2438423484563827,
          0.2182244807481765,
          0.1850870996713638,
          0.1775659471750259,
          0.2045854330062866,
          0.2121735513210296,
          0.2657317817211151,
          0.178605705499649,
          0.1621603518724441,
          0.1333933621644973,
          0.1960902363061905,
          0.2174935936927795,
          0.1285329014062881,
          0.262161523103714,
          0.2176629602909088,
          0.2192831635475158,
          0.2262132167816162,
          0.2492201775312423,
          0.1593820601701736,
          0.176645815372467
         ],
         "yaxis": "y"
        },
        {
         "hovertemplate": "<b>OLS trendline</b><br>Zero Shot Fulltext = 0.785006 * Sentence Cosine Similarity Wiki Summarized Mean Threshold 0 + 0.120761<br>R<sup>2</sup>=0.088529<br><br>Label=social issues<br>Sentence Cosine Similarity Wiki Summarized Mean Threshold 0=%{x}<br>Zero Shot Fulltext=%{y} <b>(trend)</b><extra></extra>",
         "legendgroup": "social issues",
         "marker": {
          "color": "#636efa",
          "symbol": "circle"
         },
         "mode": "lines",
         "name": "social issues",
         "showlegend": false,
         "type": "scatter",
         "x": [
          0.062,
          0.066,
          0.069,
          0.069,
          0.073,
          0.073,
          0.075,
          0.075,
          0.077,
          0.077,
          0.078,
          0.08,
          0.08,
          0.081,
          0.081,
          0.081,
          0.083,
          0.083,
          0.085,
          0.085,
          0.086,
          0.087,
          0.087,
          0.087,
          0.087,
          0.088,
          0.088,
          0.088,
          0.088,
          0.088,
          0.088,
          0.089,
          0.089,
          0.089,
          0.09,
          0.09,
          0.091,
          0.092,
          0.092,
          0.092,
          0.092,
          0.093,
          0.094,
          0.095,
          0.095,
          0.095,
          0.095,
          0.096,
          0.096,
          0.096,
          0.096,
          0.097,
          0.097,
          0.097,
          0.097,
          0.098,
          0.098,
          0.098,
          0.098,
          0.098,
          0.098,
          0.098,
          0.098,
          0.098,
          0.099,
          0.1,
          0.101,
          0.101,
          0.101,
          0.103,
          0.103,
          0.104,
          0.105,
          0.107,
          0.107,
          0.108,
          0.109,
          0.109,
          0.109,
          0.11,
          0.111,
          0.111,
          0.112,
          0.112,
          0.113,
          0.113,
          0.113,
          0.114,
          0.114,
          0.114,
          0.116,
          0.116,
          0.117,
          0.117,
          0.117,
          0.117,
          0.118,
          0.118,
          0.119,
          0.119,
          0.12,
          0.12,
          0.121,
          0.121,
          0.123,
          0.125,
          0.125,
          0.125,
          0.126,
          0.129,
          0.132,
          0.134,
          0.134,
          0.136,
          0.139,
          0.143,
          0.15,
          0.162
         ],
         "xaxis": "x",
         "y": [
          0.1694314345042699,
          0.17257146011111762,
          0.17492647931625344,
          0.17492647931625344,
          0.17806650492310117,
          0.17806650492310117,
          0.17963651772652503,
          0.17963651772652503,
          0.1812065305299489,
          0.1812065305299489,
          0.18199153693166084,
          0.1835615497350847,
          0.1835615497350847,
          0.18434655613679662,
          0.18434655613679662,
          0.18434655613679662,
          0.18591656894022052,
          0.18591656894022052,
          0.18748658174364438,
          0.18748658174364438,
          0.1882715881453563,
          0.18905659454706825,
          0.18905659454706825,
          0.18905659454706825,
          0.18905659454706825,
          0.18984160094878016,
          0.18984160094878016,
          0.18984160094878016,
          0.18984160094878016,
          0.18984160094878016,
          0.18984160094878016,
          0.19062660735049208,
          0.19062660735049208,
          0.19062660735049208,
          0.19141161375220406,
          0.19141161375220406,
          0.19219662015391598,
          0.1929816265556279,
          0.1929816265556279,
          0.1929816265556279,
          0.1929816265556279,
          0.19376663295733984,
          0.1945516393590518,
          0.1953366457607637,
          0.1953366457607637,
          0.1953366457607637,
          0.1953366457607637,
          0.19612165216247565,
          0.19612165216247565,
          0.19612165216247565,
          0.19612165216247565,
          0.1969066585641876,
          0.1969066585641876,
          0.1969066585641876,
          0.1969066585641876,
          0.19769166496589952,
          0.19769166496589952,
          0.19769166496589952,
          0.19769166496589952,
          0.19769166496589952,
          0.19769166496589952,
          0.19769166496589952,
          0.19769166496589952,
          0.19769166496589952,
          0.19847667136761143,
          0.19926167776932338,
          0.20004668417103533,
          0.20004668417103533,
          0.20004668417103533,
          0.20161669697445916,
          0.20161669697445916,
          0.2024017033761711,
          0.20318670977788306,
          0.20475672258130692,
          0.20475672258130692,
          0.20554172898301887,
          0.20632673538473079,
          0.20632673538473079,
          0.20632673538473079,
          0.2071117417864427,
          0.20789674818815465,
          0.20789674818815465,
          0.2086817545898666,
          0.2086817545898666,
          0.20946676099157852,
          0.20946676099157852,
          0.20946676099157852,
          0.21025176739329046,
          0.21025176739329046,
          0.21025176739329046,
          0.21182178019671433,
          0.21182178019671433,
          0.21260678659842625,
          0.21260678659842625,
          0.21260678659842625,
          0.21260678659842625,
          0.2133917930001382,
          0.2133917930001382,
          0.21417679940185014,
          0.21417679940185014,
          0.21496180580356206,
          0.21496180580356206,
          0.21574681220527397,
          0.21574681220527397,
          0.21731682500869787,
          0.21888683781212173,
          0.21888683781212173,
          0.21888683781212173,
          0.21967184421383368,
          0.2220268634189695,
          0.22438188262410527,
          0.22595189542752914,
          0.22595189542752914,
          0.22752190823095303,
          0.2298769274360888,
          0.23301695304293651,
          0.23851199785492008,
          0.2479320746754633
         ],
         "yaxis": "y"
        },
        {
         "hovertemplate": "Label=human rights<br>Sentence Cosine Similarity Wiki Summarized Mean Threshold 0=%{x}<br>Zero Shot Fulltext=%{y}<extra></extra>",
         "legendgroup": "human rights",
         "marker": {
          "color": "#EF553B",
          "symbol": "circle"
         },
         "mode": "markers",
         "name": "human rights",
         "orientation": "v",
         "showlegend": true,
         "type": "scatter",
         "x": [
          0.114,
          0.092,
          0.08,
          0.091,
          0.068,
          0.088,
          0.089,
          0.109,
          0.105,
          0.094,
          0.114,
          0.1,
          0.087,
          0.107,
          0.097,
          0.126,
          0.09,
          0.122,
          0.114,
          0.072,
          0.101,
          0.073,
          0.093,
          0.088,
          0.078,
          0.103,
          0.092,
          0.077,
          0.095,
          0.096,
          0.087,
          0.092,
          0.099,
          0.089,
          0.088,
          0.073,
          0.115,
          0.08,
          0.078,
          0.1,
          0.096,
          0.102,
          0.062,
          0.097,
          0.099,
          0.083,
          0.09,
          0.084,
          0.066,
          0.094,
          0.097,
          0.106,
          0.113,
          0.129,
          0.088,
          0.132,
          0.107,
          0.075,
          0.116,
          0.103,
          0.126,
          0.126,
          0.174,
          0.078,
          0.123,
          0.116,
          0.097,
          0.086,
          0.103,
          0.094,
          0.092,
          0.108,
          0.088,
          0.122,
          0.083,
          0.095,
          0.079,
          0.119,
          0.091,
          0.119,
          0.089,
          0.123,
          0.093,
          0.097,
          0.111,
          0.096,
          0.095,
          0.065,
          0.109,
          0.075,
          0.08,
          0.07,
          0.113,
          0.1,
          0.11,
          0.105,
          0.118,
          0.114,
          0.107,
          0.114,
          0.098,
          0.106,
          0.099,
          0.111,
          0.115,
          0.069,
          0.069,
          0.089,
          0.114,
          0.081,
          0.127,
          0.121,
          0.088,
          0.084,
          0.093,
          0.097,
          0.111
         ],
         "xaxis": "x",
         "y": [
          0.2267500907182693,
          0.1870989948511123,
          0.2567347586154938,
          0.1660996973514557,
          0.1108394116163253,
          0.1704703867435455,
          0.2641184031963348,
          0.2309527397155761,
          0.2260195612907409,
          0.2022788077592849,
          0.1485055536031723,
          0.1881182938814163,
          0.229597732424736,
          0.1822672039270401,
          0.1923506706953048,
          0.1544041633605957,
          0.2152930498123169,
          0.2563245892524719,
          0.1903405934572219,
          0.1957510560750961,
          0.2296200692653656,
          0.220195785164833,
          0.2009992450475692,
          0.1144607216119766,
          0.1473801583051681,
          0.1431017369031906,
          0.2103051990270614,
          0.1615283042192459,
          0.2006480097770691,
          0.127303659915924,
          0.1255407035350799,
          0.1854093223810196,
          0.2254245430231094,
          0.2049978077411651,
          0.2257553339004516,
          0.2618824541568756,
          0.1944018900394439,
          0.2239198088645935,
          0.2322798371315002,
          0.2110539823770523,
          0.2061441391706466,
          0.1695498526096344,
          0.1449477076530456,
          0.1899312287569046,
          0.1939961165189743,
          0.242390751838684,
          0.1666322499513626,
          0.12835693359375,
          0.2007921487092971,
          0.2187693864107132,
          0.2102086842060089,
          0.1643752306699752,
          0.1782104223966598,
          0.2183169275522232,
          0.2292515933513641,
          0.1985359787940979,
          0.0572017915546894,
          0.0459679290652275,
          0.1847359240055084,
          0.2196117788553238,
          0.1938932836055755,
          0.2192700654268264,
          0.2165676355361938,
          0.1385604739189148,
          0.2651827931404114,
          0.1586702615022659,
          0.1778941452503204,
          0.2426569014787674,
          0.1318046450614929,
          0.18809774518013,
          0.2197911143302917,
          0.2017716020345688,
          0.1864126026630401,
          0.1998269259929657,
          0.2380188554525375,
          0.2183452695608139,
          0.2318690568208694,
          0.1469869762659073,
          0.1350641399621963,
          0.1774022579193115,
          0.1306955814361572,
          0.1931255906820297,
          0.2543060481548309,
          0.2197176665067672,
          0.1994417905807495,
          0.1554633975028991,
          0.2032393962144851,
          0.1501937061548233,
          0.2270803898572921,
          0.1958506107330322,
          0.2276665419340133,
          0.1796179413795471,
          0.2271130234003067,
          0.1813750267028808,
          0.2423049509525299,
          0.2200469374656677,
          0.1798262447118759,
          0.1446606218814849,
          0.1683832854032516,
          0.1328870058059692,
          0.1899631768465042,
          0.1154544800519943,
          0.1536487489938736,
          0.1710304468870163,
          0.2162742614746093,
          0.1534124910831451,
          0.2362363785505294,
          0.1974674016237259,
          0.1345686465501785,
          0.1813988536596298,
          0.1431590467691421,
          0.15740767121315,
          0.1830106973648071,
          0.1207064390182495,
          0.1778267174959182,
          0.1408428400754928,
          0.1907578706741333
         ],
         "yaxis": "y"
        },
        {
         "hovertemplate": "<b>OLS trendline</b><br>Zero Shot Fulltext = 0.116316 * Sentence Cosine Similarity Wiki Summarized Mean Threshold 0 + 0.176569<br>R<sup>2</sup>=0.002464<br><br>Label=human rights<br>Sentence Cosine Similarity Wiki Summarized Mean Threshold 0=%{x}<br>Zero Shot Fulltext=%{y} <b>(trend)</b><extra></extra>",
         "legendgroup": "human rights",
         "marker": {
          "color": "#EF553B",
          "symbol": "circle"
         },
         "mode": "lines",
         "name": "human rights",
         "showlegend": false,
         "type": "scatter",
         "x": [
          0.062,
          0.065,
          0.066,
          0.068,
          0.069,
          0.069,
          0.07,
          0.072,
          0.073,
          0.073,
          0.075,
          0.075,
          0.077,
          0.078,
          0.078,
          0.078,
          0.079,
          0.08,
          0.08,
          0.08,
          0.081,
          0.083,
          0.083,
          0.084,
          0.084,
          0.086,
          0.087,
          0.087,
          0.088,
          0.088,
          0.088,
          0.088,
          0.088,
          0.088,
          0.089,
          0.089,
          0.089,
          0.089,
          0.09,
          0.09,
          0.091,
          0.091,
          0.092,
          0.092,
          0.092,
          0.092,
          0.093,
          0.093,
          0.093,
          0.094,
          0.094,
          0.094,
          0.095,
          0.095,
          0.095,
          0.096,
          0.096,
          0.096,
          0.097,
          0.097,
          0.097,
          0.097,
          0.097,
          0.097,
          0.098,
          0.099,
          0.099,
          0.099,
          0.1,
          0.1,
          0.1,
          0.101,
          0.102,
          0.103,
          0.103,
          0.103,
          0.105,
          0.105,
          0.106,
          0.106,
          0.107,
          0.107,
          0.107,
          0.108,
          0.109,
          0.109,
          0.11,
          0.111,
          0.111,
          0.111,
          0.113,
          0.113,
          0.114,
          0.114,
          0.114,
          0.114,
          0.114,
          0.114,
          0.115,
          0.115,
          0.116,
          0.116,
          0.118,
          0.119,
          0.119,
          0.121,
          0.122,
          0.122,
          0.123,
          0.123,
          0.126,
          0.126,
          0.126,
          0.127,
          0.129,
          0.132,
          0.174
         ],
         "xaxis": "x",
         "y": [
          0.18378043117007214,
          0.18412937993885553,
          0.1842456961951167,
          0.18447832870763894,
          0.1845946449639001,
          0.1845946449639001,
          0.18471096122016123,
          0.18494359373268351,
          0.18505990998894464,
          0.18505990998894464,
          0.18529254250146693,
          0.18529254250146693,
          0.18552517501398919,
          0.18564149127025031,
          0.18564149127025031,
          0.18564149127025031,
          0.18575780752651147,
          0.1858741237827726,
          0.1858741237827726,
          0.1858741237827726,
          0.18599044003903373,
          0.186223072551556,
          0.186223072551556,
          0.18633938880781714,
          0.18633938880781714,
          0.18657202132033943,
          0.18668833757660055,
          0.18668833757660055,
          0.18680465383286168,
          0.18680465383286168,
          0.18680465383286168,
          0.18680465383286168,
          0.18680465383286168,
          0.18680465383286168,
          0.18692097008912284,
          0.18692097008912284,
          0.18692097008912284,
          0.18692097008912284,
          0.18703728634538397,
          0.18703728634538397,
          0.1871536026016451,
          0.1871536026016451,
          0.18726991885790625,
          0.18726991885790625,
          0.18726991885790625,
          0.18726991885790625,
          0.18738623511416738,
          0.18738623511416738,
          0.18738623511416738,
          0.1875025513704285,
          0.1875025513704285,
          0.1875025513704285,
          0.18761886762668967,
          0.18761886762668967,
          0.18761886762668967,
          0.1877351838829508,
          0.1877351838829508,
          0.1877351838829508,
          0.18785150013921192,
          0.18785150013921192,
          0.18785150013921192,
          0.18785150013921192,
          0.18785150013921192,
          0.18785150013921192,
          0.18796781639547305,
          0.1880841326517342,
          0.1880841326517342,
          0.1880841326517342,
          0.18820044890799534,
          0.18820044890799534,
          0.18820044890799534,
          0.18831676516425647,
          0.18843308142051762,
          0.18854939767677875,
          0.18854939767677875,
          0.18854939767677875,
          0.188782030189301,
          0.188782030189301,
          0.18889834644556217,
          0.18889834644556217,
          0.1890146627018233,
          0.1890146627018233,
          0.1890146627018233,
          0.18913097895808442,
          0.18924729521434558,
          0.18924729521434558,
          0.1893636114706067,
          0.18947992772686784,
          0.18947992772686784,
          0.18947992772686784,
          0.18971256023939012,
          0.18971256023939012,
          0.18982887649565125,
          0.18982887649565125,
          0.18982887649565125,
          0.18982887649565125,
          0.18982887649565125,
          0.18982887649565125,
          0.1899451927519124,
          0.1899451927519124,
          0.19006150900817353,
          0.19006150900817353,
          0.1902941415206958,
          0.19041045777695695,
          0.19041045777695695,
          0.1906430902894792,
          0.19075940654574036,
          0.19075940654574036,
          0.1908757228020015,
          0.1908757228020015,
          0.1912246715707849,
          0.1912246715707849,
          0.1912246715707849,
          0.19134098782704603,
          0.19157362033956832,
          0.19192256910835173,
          0.19680785187131947
         ],
         "yaxis": "y"
        },
        {
         "hovertemplate": "Label=labour law<br>Sentence Cosine Similarity Wiki Summarized Mean Threshold 0=%{x}<br>Zero Shot Fulltext=%{y}<extra></extra>",
         "legendgroup": "labour law",
         "marker": {
          "color": "#00cc96",
          "symbol": "circle"
         },
         "mode": "markers",
         "name": "labour law",
         "orientation": "v",
         "showlegend": true,
         "type": "scatter",
         "x": [
          0.106,
          0.095,
          0.123,
          0.067,
          0.069,
          0.047,
          0.067,
          0.115,
          0.081,
          0.099,
          0.1,
          0.113,
          0.118,
          0.092,
          0.12,
          0.124,
          0.131,
          0.113,
          0.102,
          0.077,
          0.098,
          0.084,
          0.084,
          0.115,
          0.076,
          0.092,
          0.098,
          0.169,
          0.08,
          0.077,
          0.083,
          0.085,
          0.079,
          0.073,
          0.078,
          0.144,
          0.098,
          0.08,
          0.033,
          0.075,
          0.067,
          0.064,
          0.074,
          0.087,
          0.099,
          0.089,
          0.108,
          0.056,
          0.083,
          0.116,
          0.1,
          0.118,
          0.129,
          0.076,
          0.105,
          0.046,
          0.032,
          0.126,
          0.12,
          0.121,
          0.141,
          0.08,
          0.091,
          0.098,
          0.084,
          0.097,
          0.067,
          0.099,
          0.079,
          0.11,
          0.11,
          0.103,
          0.095,
          0.079,
          0.103,
          0.105,
          0.097,
          0.097,
          0.099,
          0.069,
          0.088,
          0.103,
          0.116,
          0.096,
          0.056,
          0.113,
          0.077,
          0.08,
          0.095,
          0.095,
          0.158,
          0.11,
          0.12,
          0.093,
          0.11,
          0.094,
          0.142,
          0.115,
          0.098,
          0.084,
          0.098,
          0.084,
          0.104,
          0.076,
          0.09,
          0.092,
          0.08,
          0.111,
          0.117,
          0.092,
          0.056,
          0.106,
          0.091,
          0.088
         ],
         "xaxis": "x",
         "y": [
          0.2156645208597183,
          0.2479164153337478,
          0.172008141875267,
          0.2962532341480255,
          0.1912371665239334,
          0.3391397297382355,
          0.2134099304676056,
          0.220947653055191,
          0.2921053171157837,
          0.2058601528406143,
          0.2174738198518753,
          0.2438621073961258,
          0.2198040038347244,
          0.2552548050880432,
          0.2331895381212234,
          0.1617207527160644,
          0.2262309044599533,
          0.25536048412323,
          0.2241653203964233,
          0.2777140438556671,
          0.3038484454154968,
          0.2328675985336303,
          0.182045578956604,
          0.2587129175662994,
          0.2289267927408218,
          0.1224003061652183,
          0.1837044358253479,
          0.2647078037261963,
          0.2437541335821151,
          0.3065283596515655,
          0.2610065937042236,
          0.3019227385520935,
          0.3008913397789001,
          0.2315571308135986,
          0.192804530262947,
          0.2277173995971679,
          0.2387720793485641,
          0.1700950115919113,
          0.2645822167396545,
          0.2173162996768951,
          0.2690467536449432,
          0.1644617915153503,
          0.2252888530492782,
          0.1800320148468017,
          0.2192283123731613,
          0.1654933243989944,
          0.2042438387870788,
          0.2712620198726654,
          0.2197742313146591,
          0.198979765176773,
          0.1981531977653503,
          0.1945483088493347,
          0.1508295834064483,
          0.1639510095119476,
          0.1886506676673889,
          0.1293570399284362,
          0.1204176247119903,
          0.1796555966138839,
          0.2831907868385315,
          0.1839266866445541,
          0.1751033216714859,
          0.1696469783782959,
          0.1298642605543136,
          0.2021219879388809,
          0.2554435729980469,
          0.2402286231517791,
          0.1507777422666549,
          0.2551839649677276,
          0.2147107124328613,
          0.2046303451061248,
          0.1558082848787307,
          0.2982795536518097,
          0.2774178087711334,
          0.1774656623601913,
          0.1882913261651992,
          0.3033203780651092,
          0.2420301884412765,
          0.2838996946811676,
          0.2145079225301742,
          0.1604288667440414,
          0.1550569832324981,
          0.1326229721307754,
          0.2252839803695678,
          0.1304021030664444,
          0.3685694932937622,
          0.2282599061727523,
          0.2697272300720215,
          0.2216212004423141,
          0.2653444111347198,
          0.2201541513204574,
          0.1846563220024109,
          0.2459336072206497,
          0.2108449637889862,
          0.1480055898427963,
          0.2165374457836151,
          0.2366943806409835,
          0.2399756908416748,
          0.2176260501146316,
          0.2651967406272888,
          0.1894236952066421,
          0.2630229294300079,
          0.2729948461055755,
          0.270870178937912,
          0.2742417454719543,
          0.2634859085083008,
          0.2268993407487869,
          0.3126868903636932,
          0.2108325213193893,
          0.2624964714050293,
          0.183159127831459,
          0.1981872171163559,
          0.1751506030559539,
          0.1560671329498291,
          0.181220605969429
         ],
         "yaxis": "y"
        },
        {
         "hovertemplate": "<b>OLS trendline</b><br>Zero Shot Fulltext = -0.17895 * Sentence Cosine Similarity Wiki Summarized Mean Threshold 0 + 0.238687<br>R<sup>2</sup>=0.006854<br><br>Label=labour law<br>Sentence Cosine Similarity Wiki Summarized Mean Threshold 0=%{x}<br>Zero Shot Fulltext=%{y} <b>(trend)</b><extra></extra>",
         "legendgroup": "labour law",
         "marker": {
          "color": "#00cc96",
          "symbol": "circle"
         },
         "mode": "lines",
         "name": "labour law",
         "showlegend": false,
         "type": "scatter",
         "x": [
          0.032,
          0.033,
          0.046,
          0.047,
          0.056,
          0.056,
          0.056,
          0.064,
          0.067,
          0.067,
          0.067,
          0.067,
          0.069,
          0.069,
          0.073,
          0.074,
          0.075,
          0.076,
          0.076,
          0.076,
          0.077,
          0.077,
          0.077,
          0.078,
          0.079,
          0.079,
          0.079,
          0.08,
          0.08,
          0.08,
          0.08,
          0.08,
          0.081,
          0.083,
          0.083,
          0.084,
          0.084,
          0.084,
          0.084,
          0.084,
          0.085,
          0.087,
          0.088,
          0.088,
          0.089,
          0.09,
          0.091,
          0.091,
          0.092,
          0.092,
          0.092,
          0.092,
          0.093,
          0.094,
          0.095,
          0.095,
          0.095,
          0.095,
          0.096,
          0.097,
          0.097,
          0.097,
          0.098,
          0.098,
          0.098,
          0.098,
          0.098,
          0.098,
          0.099,
          0.099,
          0.099,
          0.099,
          0.1,
          0.1,
          0.102,
          0.103,
          0.103,
          0.103,
          0.104,
          0.105,
          0.105,
          0.106,
          0.106,
          0.108,
          0.11,
          0.11,
          0.11,
          0.11,
          0.111,
          0.113,
          0.113,
          0.113,
          0.115,
          0.115,
          0.115,
          0.116,
          0.116,
          0.117,
          0.118,
          0.118,
          0.12,
          0.12,
          0.12,
          0.121,
          0.123,
          0.124,
          0.126,
          0.129,
          0.131,
          0.141,
          0.142,
          0.144,
          0.158,
          0.169
         ],
         "xaxis": "x",
         "y": [
          0.2329603900402588,
          0.23278144051220076,
          0.23045509664744612,
          0.23027614711938807,
          0.22866560136686565,
          0.22866560136686565,
          0.22866560136686565,
          0.22723400514240125,
          0.22669715655822711,
          0.22669715655822711,
          0.22669715655822711,
          0.22669715655822711,
          0.226339257502111,
          0.226339257502111,
          0.22562345938987882,
          0.22544450986182077,
          0.22526556033376272,
          0.22508661080570466,
          0.22508661080570466,
          0.22508661080570466,
          0.22490766127764664,
          0.22490766127764664,
          0.22490766127764664,
          0.22472871174958858,
          0.22454976222153053,
          0.22454976222153053,
          0.22454976222153053,
          0.22437081269347248,
          0.22437081269347248,
          0.22437081269347248,
          0.22437081269347248,
          0.22437081269347248,
          0.22419186316541442,
          0.22383396410929834,
          0.22383396410929834,
          0.2236550145812403,
          0.2236550145812403,
          0.2236550145812403,
          0.2236550145812403,
          0.2236550145812403,
          0.22347606505318224,
          0.22311816599706613,
          0.2229392164690081,
          0.2229392164690081,
          0.22276026694095005,
          0.222581317412892,
          0.22240236788483395,
          0.22240236788483395,
          0.2222234183567759,
          0.2222234183567759,
          0.2222234183567759,
          0.2222234183567759,
          0.22204446882871784,
          0.22186551930065979,
          0.22168656977260176,
          0.22168656977260176,
          0.22168656977260176,
          0.22168656977260176,
          0.2215076202445437,
          0.22132867071648565,
          0.22132867071648565,
          0.22132867071648565,
          0.2211497211884276,
          0.2211497211884276,
          0.2211497211884276,
          0.2211497211884276,
          0.2211497211884276,
          0.2211497211884276,
          0.22097077166036955,
          0.22097077166036955,
          0.22097077166036955,
          0.22097077166036955,
          0.22079182213231152,
          0.22079182213231152,
          0.22043392307619541,
          0.22025497354813736,
          0.22025497354813736,
          0.22025497354813736,
          0.2200760240200793,
          0.21989707449202128,
          0.21989707449202128,
          0.21971812496396323,
          0.21971812496396323,
          0.21936022590784712,
          0.21900232685173102,
          0.21900232685173102,
          0.21900232685173102,
          0.21900232685173102,
          0.21882337732367296,
          0.21846547826755688,
          0.21846547826755688,
          0.21846547826755688,
          0.21810757921144078,
          0.21810757921144078,
          0.21810757921144078,
          0.21792862968338272,
          0.21792862968338272,
          0.2177496801553247,
          0.21757073062726665,
          0.21757073062726665,
          0.21721283157115054,
          0.21721283157115054,
          0.21721283157115054,
          0.21703388204309249,
          0.2166759829869764,
          0.21649703345891835,
          0.21613913440280225,
          0.21560228581862811,
          0.215244386762512,
          0.21345489148193153,
          0.21327594195387348,
          0.21291804289775737,
          0.2104127495049447,
          0.20844430469630618
         ],
         "yaxis": "y"
        },
        {
         "hovertemplate": "Label=fraud<br>Sentence Cosine Similarity Wiki Summarized Mean Threshold 0=%{x}<br>Zero Shot Fulltext=%{y}<extra></extra>",
         "legendgroup": "fraud",
         "marker": {
          "color": "#ab63fa",
          "symbol": "circle"
         },
         "mode": "markers",
         "name": "fraud",
         "orientation": "v",
         "showlegend": true,
         "type": "scatter",
         "x": [
          0.062,
          0.067,
          0.071,
          0.066,
          0.042,
          0.094,
          0.068,
          0.076,
          0.08,
          0.086,
          0.053,
          0.05,
          0.054,
          0.073,
          0.062,
          0.087,
          0.06,
          0.061,
          0.077,
          0.068,
          0.077,
          0.054,
          0.066,
          0.077,
          0.042,
          0.077,
          0.074,
          0.05,
          0.094,
          0.052,
          0.066,
          0.047,
          0.049,
          0.052,
          0.053,
          0.084,
          0.077,
          0.067,
          0.069,
          0.096,
          0.068,
          0.051,
          0.035,
          0.04,
          0.045,
          0.042,
          0.054,
          0.076,
          0.066,
          0.052,
          0.083,
          0.071,
          0.065,
          0.079,
          0.066,
          0.05,
          0.074,
          0.051,
          0.042,
          0.066,
          0.088,
          0.064,
          0.087,
          0.107,
          0.077,
          0.046,
          0.065,
          0.054,
          0.066,
          0.082,
          0.065,
          0.041,
          0.097,
          0.059,
          0.05,
          0.085,
          0.072,
          0.076,
          0.052,
          0.075,
          0.059,
          0.077,
          0.062,
          0.065,
          0.072,
          0.056,
          0.076,
          0.058,
          0.101,
          0.062,
          0.075,
          0.062,
          0.085,
          0.091,
          0.076,
          0.055,
          0.064,
          0.062,
          0.073,
          0.071,
          0.076,
          0.075,
          0.094,
          0.062,
          0.077,
          0.056,
          0.066,
          0.076,
          0.069,
          0.07,
          0.074,
          0.061,
          0.07,
          0.049,
          0.062,
          0.074,
          0.066
         ],
         "xaxis": "x",
         "y": [
          0.0832700654864311,
          0.0521210469305515,
          0.1183967217803001,
          0.0510750822722911,
          0.1089241877198219,
          0.0312880724668502,
          0.0448154136538505,
          0.0386990308761596,
          0.0466939993202686,
          0.1317953765392303,
          0.078366994857788,
          0.0680722892284393,
          0.0687350630760192,
          0.0381705202162265,
          0.1213953420519828,
          0.1459179371595382,
          0.0656460970640182,
          0.0390478745102882,
          0.0920817032456398,
          0.0798672437667846,
          0.0290340203791856,
          0.0884298384189605,
          0.0964117720723152,
          0.0761402994394302,
          0.1004441231489181,
          0.0530891343951225,
          0.1255590617656707,
          0.058694738894701,
          0.1539040952920913,
          0.1105849742889404,
          0.1537331640720367,
          0.1245978325605392,
          0.1350813210010528,
          0.119244284927845,
          0.0712952688336372,
          0.0856404528021812,
          0.0609250962734222,
          0.044093232601881,
          0.0812614113092422,
          0.0398722998797893,
          0.0773950293660163,
          0.1185489520430564,
          0.1093845069408416,
          0.129283607006073,
          0.0137458341196179,
          0.1468869149684906,
          0.1047623232007026,
          0.0933243334293365,
          0.1312061697244644,
          0.0872723385691642,
          0.1146709844470024,
          0.0884194746613502,
          0.0898233652114868,
          0.1455601751804351,
          0.0726864635944366,
          0.0891978219151496,
          0.1531428545713424,
          0.0263489112257957,
          0.0196657963097095,
          0.0478068068623542,
          0.0575709082186222,
          0.2000907361507415,
          0.0517401210963726,
          0.0624621883034706,
          0.153286337852478,
          0.104553535580635,
          0.0510966069996356,
          0.183852419257164,
          0.0742003545165062,
          0.0677712634205818,
          0.1453533619642257,
          0.0889642834663391,
          0.0820487663149833,
          0.1085445210337638,
          0.0348908938467502,
          0.0142045998945832,
          0.1164464205503463,
          0.1196052208542823,
          0.087611585855484,
          0.094224989414215,
          0.0682671964168548,
          0.0546714216470718,
          0.0501071028411388,
          0.0756936743855476,
          0.1377527415752411,
          0.0516640692949295,
          0.1551255881786346,
          0.1143856197595596,
          0.0436561107635498,
          0.0609594136476516,
          0.1014498323202133,
          0.0652623623609542,
          0.059932354837656,
          0.1195328310132026,
          0.0414882861077785,
          0.1110946983098983,
          0.1421459913253784,
          0.0940709635615348,
          0.10578203946352,
          0.0789025276899337,
          0.088610365986824,
          0.0476425848901271,
          0.0851592421531677,
          0.0424360670149326,
          0.0734948813915252,
          0.0613475739955902,
          0.0874708816409111,
          0.0652693063020706,
          0.0646340101957321,
          0.1272762715816497,
          0.0550965368747711,
          0.0663035213947296,
          0.1013853177428245,
          0.137290820479393,
          0.1398711502552032,
          0.0435758009552955,
          0.0709194242954254
         ],
         "yaxis": "y"
        },
        {
         "hovertemplate": "<b>OLS trendline</b><br>Zero Shot Fulltext = -0.316029 * Sentence Cosine Similarity Wiki Summarized Mean Threshold 0 + 0.108021<br>R<sup>2</sup>=0.014143<br><br>Label=fraud<br>Sentence Cosine Similarity Wiki Summarized Mean Threshold 0=%{x}<br>Zero Shot Fulltext=%{y} <b>(trend)</b><extra></extra>",
         "legendgroup": "fraud",
         "marker": {
          "color": "#ab63fa",
          "symbol": "circle"
         },
         "mode": "lines",
         "name": "fraud",
         "showlegend": false,
         "type": "scatter",
         "x": [
          0.035,
          0.04,
          0.041,
          0.042,
          0.042,
          0.042,
          0.042,
          0.045,
          0.046,
          0.047,
          0.049,
          0.049,
          0.05,
          0.05,
          0.05,
          0.05,
          0.051,
          0.051,
          0.052,
          0.052,
          0.052,
          0.052,
          0.053,
          0.053,
          0.054,
          0.054,
          0.054,
          0.054,
          0.055,
          0.056,
          0.056,
          0.058,
          0.059,
          0.059,
          0.06,
          0.061,
          0.061,
          0.062,
          0.062,
          0.062,
          0.062,
          0.062,
          0.062,
          0.062,
          0.062,
          0.064,
          0.064,
          0.065,
          0.065,
          0.065,
          0.065,
          0.066,
          0.066,
          0.066,
          0.066,
          0.066,
          0.066,
          0.066,
          0.066,
          0.066,
          0.067,
          0.067,
          0.068,
          0.068,
          0.068,
          0.069,
          0.069,
          0.07,
          0.07,
          0.071,
          0.071,
          0.071,
          0.072,
          0.072,
          0.073,
          0.073,
          0.074,
          0.074,
          0.074,
          0.074,
          0.075,
          0.075,
          0.075,
          0.076,
          0.076,
          0.076,
          0.076,
          0.076,
          0.076,
          0.076,
          0.077,
          0.077,
          0.077,
          0.077,
          0.077,
          0.077,
          0.077,
          0.077,
          0.079,
          0.08,
          0.082,
          0.083,
          0.084,
          0.085,
          0.085,
          0.086,
          0.087,
          0.087,
          0.088,
          0.091,
          0.094,
          0.094,
          0.094,
          0.096,
          0.097,
          0.101,
          0.107
         ],
         "xaxis": "x",
         "y": [
          0.09695960943634947,
          0.0953794634132905,
          0.0950634342086787,
          0.0947474050040669,
          0.0947474050040669,
          0.0947474050040669,
          0.0947474050040669,
          0.09379931739023152,
          0.09348328818561973,
          0.09316725898100793,
          0.09253520057178434,
          0.09253520057178434,
          0.09221917136717254,
          0.09221917136717254,
          0.09221917136717254,
          0.09221917136717254,
          0.09190314216256075,
          0.09190314216256075,
          0.09158711295794895,
          0.09158711295794895,
          0.09158711295794895,
          0.09158711295794895,
          0.09127108375333716,
          0.09127108375333716,
          0.09095505454872536,
          0.09095505454872536,
          0.09095505454872536,
          0.09095505454872536,
          0.09063902534411356,
          0.09032299613950176,
          0.09032299613950176,
          0.08969093773027817,
          0.08937490852566637,
          0.08937490852566637,
          0.08905887932105458,
          0.08874285011644278,
          0.08874285011644278,
          0.08842682091183099,
          0.08842682091183099,
          0.08842682091183099,
          0.08842682091183099,
          0.08842682091183099,
          0.08842682091183099,
          0.08842682091183099,
          0.08842682091183099,
          0.0877947625026074,
          0.0877947625026074,
          0.0874787332979956,
          0.0874787332979956,
          0.0874787332979956,
          0.0874787332979956,
          0.08716270409338381,
          0.08716270409338381,
          0.08716270409338381,
          0.08716270409338381,
          0.08716270409338381,
          0.08716270409338381,
          0.08716270409338381,
          0.08716270409338381,
          0.08716270409338381,
          0.08684667488877201,
          0.08684667488877201,
          0.08653064568416022,
          0.08653064568416022,
          0.08653064568416022,
          0.08621461647954842,
          0.08621461647954842,
          0.08589858727493663,
          0.08589858727493663,
          0.08558255807032483,
          0.08558255807032483,
          0.08558255807032483,
          0.08526652886571304,
          0.08526652886571304,
          0.08495049966110124,
          0.08495049966110124,
          0.08463447045648945,
          0.08463447045648945,
          0.08463447045648945,
          0.08463447045648945,
          0.08431844125187765,
          0.08431844125187765,
          0.08431844125187765,
          0.08400241204726586,
          0.08400241204726586,
          0.08400241204726586,
          0.08400241204726586,
          0.08400241204726586,
          0.08400241204726586,
          0.08400241204726586,
          0.08368638284265406,
          0.08368638284265406,
          0.08368638284265406,
          0.08368638284265406,
          0.08368638284265406,
          0.08368638284265406,
          0.08368638284265406,
          0.08368638284265406,
          0.08305432443343047,
          0.08273829522881868,
          0.08210623681959507,
          0.08179020761498328,
          0.08147417841037148,
          0.08115814920575969,
          0.08115814920575969,
          0.08084212000114789,
          0.0805260907965361,
          0.0805260907965361,
          0.0802100615919243,
          0.07926197397808891,
          0.07831388636425353,
          0.07831388636425353,
          0.07831388636425353,
          0.07768182795502994,
          0.07736579875041814,
          0.07610168193197095,
          0.07420550670430018
         ],
         "yaxis": "y"
        },
        {
         "hovertemplate": "Label=sustainability<br>Sentence Cosine Similarity Wiki Summarized Mean Threshold 0=%{x}<br>Zero Shot Fulltext=%{y}<extra></extra>",
         "legendgroup": "sustainability",
         "marker": {
          "color": "#FFA15A",
          "symbol": "circle"
         },
         "mode": "markers",
         "name": "sustainability",
         "orientation": "v",
         "showlegend": true,
         "type": "scatter",
         "x": [
          0.142,
          0.141,
          0.161,
          0.125,
          0.163,
          0.172,
          0.178,
          0.173,
          0.11,
          0.145,
          0.177,
          0.172,
          0.156,
          0.179,
          0.171,
          0.169,
          0.164,
          0.113,
          0.098,
          0.115,
          0.112,
          0.119,
          0.103,
          0.11,
          0.137,
          0.152,
          0.142,
          0.119,
          0.097,
          0.15,
          0.148,
          0.132,
          0.132,
          0.089,
          0.12,
          0.168,
          0.17,
          0.101,
          0.173,
          0.152,
          0.15,
          0.103,
          0.124,
          0.164,
          0.15,
          0.067,
          0.177,
          0.145,
          0.139,
          0.178,
          0.05,
          0.154,
          0.104,
          0.113,
          0.103,
          0.17,
          0.141,
          0.12,
          0.129,
          0.106,
          0.159,
          0.14,
          0.157
         ],
         "xaxis": "x",
         "y": [
          0.281462013721466,
          0.2939696311950683,
          0.1361060738563537,
          0.2759756743907928,
          0.3589620590209961,
          0.3696164488792419,
          0.2564135491847992,
          0.3546679615974426,
          0.2422610074281692,
          0.2548901438713074,
          0.2917154133319855,
          0.2325430065393448,
          0.2739381194114685,
          0.3538145422935486,
          0.2774017453193664,
          0.3226491510868072,
          0.3380797207355499,
          0.1703296154737472,
          0.2787400782108307,
          0.3721352517604828,
          0.2300601005554199,
          0.207946628332138,
          0.2603960931301117,
          0.1716018170118332,
          0.265918880701065,
          0.311314970254898,
          0.239758625626564,
          0.3119750618934631,
          0.2664543390274048,
          0.324118047952652,
          0.261933833360672,
          0.3052448630332947,
          0.2905075848102569,
          0.2058963030576706,
          0.2103703171014785,
          0.298772931098938,
          0.2609411478042602,
          0.2918977439403534,
          0.3092426359653473,
          0.3154234588146209,
          0.2434425055980682,
          0.3540019690990448,
          0.283905953168869,
          0.2476188987493515,
          0.3277174532413482,
          0.2447177469730377,
          0.2838029265403747,
          0.2814030051231384,
          0.3659659028053283,
          0.3638359308242798,
          0.1581214666366577,
          0.3128083944320678,
          0.3011332154273987,
          0.2561188340187073,
          0.257261574268341,
          0.3262344598770141,
          0.3522094786167145,
          0.2686576247215271,
          0.2776872217655182,
          0.2501050531864166,
          0.2961293458938598,
          0.3131616413593292,
          0.2579312920570373
         ],
         "yaxis": "y"
        },
        {
         "hovertemplate": "<b>OLS trendline</b><br>Zero Shot Fulltext = 0.732902 * Sentence Cosine Similarity Wiki Summarized Mean Threshold 0 + 0.179814<br>R<sup>2</sup>=0.170829<br><br>Label=sustainability<br>Sentence Cosine Similarity Wiki Summarized Mean Threshold 0=%{x}<br>Zero Shot Fulltext=%{y} <b>(trend)</b><extra></extra>",
         "legendgroup": "sustainability",
         "marker": {
          "color": "#FFA15A",
          "symbol": "circle"
         },
         "mode": "lines",
         "name": "sustainability",
         "showlegend": false,
         "type": "scatter",
         "x": [
          0.05,
          0.067,
          0.089,
          0.097,
          0.098,
          0.101,
          0.103,
          0.103,
          0.103,
          0.104,
          0.106,
          0.11,
          0.11,
          0.112,
          0.113,
          0.113,
          0.115,
          0.119,
          0.119,
          0.12,
          0.12,
          0.124,
          0.125,
          0.129,
          0.132,
          0.132,
          0.137,
          0.139,
          0.14,
          0.141,
          0.141,
          0.142,
          0.142,
          0.145,
          0.145,
          0.148,
          0.15,
          0.15,
          0.15,
          0.152,
          0.152,
          0.154,
          0.156,
          0.157,
          0.159,
          0.161,
          0.163,
          0.164,
          0.164,
          0.168,
          0.169,
          0.17,
          0.17,
          0.171,
          0.172,
          0.172,
          0.173,
          0.173,
          0.177,
          0.177,
          0.178,
          0.178,
          0.179
         ],
         "xaxis": "x",
         "y": [
          0.21645943720689034,
          0.2289187655488025,
          0.24504260222657115,
          0.25090581556394154,
          0.25163871723111286,
          0.2538374222326268,
          0.2553032255669694,
          0.2553032255669694,
          0.2553032255669694,
          0.2560361272341407,
          0.25750193056848325,
          0.2604335372371685,
          0.2604335372371685,
          0.2618993405715111,
          0.2626322422386824,
          0.2626322422386824,
          0.264098045573025,
          0.2670296522417102,
          0.2670296522417102,
          0.2677625539088815,
          0.2677625539088815,
          0.27069416057756673,
          0.271427062244738,
          0.27435866891342325,
          0.2765573739149372,
          0.2765573739149372,
          0.2802218822507937,
          0.2816876855851363,
          0.28242058725230756,
          0.2831534889194789,
          0.2831534889194789,
          0.28388639058665016,
          0.28388639058665016,
          0.2860850955881641,
          0.2860850955881641,
          0.28828380058967795,
          0.2897496039240206,
          0.2897496039240206,
          0.2897496039240206,
          0.2912154072583632,
          0.2912154072583632,
          0.2926812105927058,
          0.2941470139270484,
          0.2948799155942197,
          0.2963457189285623,
          0.2978115222629049,
          0.2992773255972475,
          0.30001022726441884,
          0.30001022726441884,
          0.30294183393310403,
          0.30367473560027536,
          0.3044076372674467,
          0.3044076372674467,
          0.30514053893461796,
          0.3058734406017892,
          0.3058734406017892,
          0.30660634226896055,
          0.30660634226896055,
          0.30953794893764575,
          0.30953794893764575,
          0.31027085060481707,
          0.31027085060481707,
          0.3110037522719884
         ],
         "yaxis": "y"
        }
       ],
       "layout": {
        "legend": {
         "title": {
          "text": "Label"
         },
         "tracegroupgap": 0
        },
        "margin": {
         "t": 60
        },
        "template": {
         "data": {
          "bar": [
           {
            "error_x": {
             "color": "#2a3f5f"
            },
            "error_y": {
             "color": "#2a3f5f"
            },
            "marker": {
             "line": {
              "color": "#E5ECF6",
              "width": 0.5
             },
             "pattern": {
              "fillmode": "overlay",
              "size": 10,
              "solidity": 0.2
             }
            },
            "type": "bar"
           }
          ],
          "barpolar": [
           {
            "marker": {
             "line": {
              "color": "#E5ECF6",
              "width": 0.5
             },
             "pattern": {
              "fillmode": "overlay",
              "size": 10,
              "solidity": 0.2
             }
            },
            "type": "barpolar"
           }
          ],
          "carpet": [
           {
            "aaxis": {
             "endlinecolor": "#2a3f5f",
             "gridcolor": "white",
             "linecolor": "white",
             "minorgridcolor": "white",
             "startlinecolor": "#2a3f5f"
            },
            "baxis": {
             "endlinecolor": "#2a3f5f",
             "gridcolor": "white",
             "linecolor": "white",
             "minorgridcolor": "white",
             "startlinecolor": "#2a3f5f"
            },
            "type": "carpet"
           }
          ],
          "choropleth": [
           {
            "colorbar": {
             "outlinewidth": 0,
             "ticks": ""
            },
            "type": "choropleth"
           }
          ],
          "contour": [
           {
            "colorbar": {
             "outlinewidth": 0,
             "ticks": ""
            },
            "colorscale": [
             [
              0,
              "#0d0887"
             ],
             [
              0.1111111111111111,
              "#46039f"
             ],
             [
              0.2222222222222222,
              "#7201a8"
             ],
             [
              0.3333333333333333,
              "#9c179e"
             ],
             [
              0.4444444444444444,
              "#bd3786"
             ],
             [
              0.5555555555555556,
              "#d8576b"
             ],
             [
              0.6666666666666666,
              "#ed7953"
             ],
             [
              0.7777777777777778,
              "#fb9f3a"
             ],
             [
              0.8888888888888888,
              "#fdca26"
             ],
             [
              1,
              "#f0f921"
             ]
            ],
            "type": "contour"
           }
          ],
          "contourcarpet": [
           {
            "colorbar": {
             "outlinewidth": 0,
             "ticks": ""
            },
            "type": "contourcarpet"
           }
          ],
          "heatmap": [
           {
            "colorbar": {
             "outlinewidth": 0,
             "ticks": ""
            },
            "colorscale": [
             [
              0,
              "#0d0887"
             ],
             [
              0.1111111111111111,
              "#46039f"
             ],
             [
              0.2222222222222222,
              "#7201a8"
             ],
             [
              0.3333333333333333,
              "#9c179e"
             ],
             [
              0.4444444444444444,
              "#bd3786"
             ],
             [
              0.5555555555555556,
              "#d8576b"
             ],
             [
              0.6666666666666666,
              "#ed7953"
             ],
             [
              0.7777777777777778,
              "#fb9f3a"
             ],
             [
              0.8888888888888888,
              "#fdca26"
             ],
             [
              1,
              "#f0f921"
             ]
            ],
            "type": "heatmap"
           }
          ],
          "heatmapgl": [
           {
            "colorbar": {
             "outlinewidth": 0,
             "ticks": ""
            },
            "colorscale": [
             [
              0,
              "#0d0887"
             ],
             [
              0.1111111111111111,
              "#46039f"
             ],
             [
              0.2222222222222222,
              "#7201a8"
             ],
             [
              0.3333333333333333,
              "#9c179e"
             ],
             [
              0.4444444444444444,
              "#bd3786"
             ],
             [
              0.5555555555555556,
              "#d8576b"
             ],
             [
              0.6666666666666666,
              "#ed7953"
             ],
             [
              0.7777777777777778,
              "#fb9f3a"
             ],
             [
              0.8888888888888888,
              "#fdca26"
             ],
             [
              1,
              "#f0f921"
             ]
            ],
            "type": "heatmapgl"
           }
          ],
          "histogram": [
           {
            "marker": {
             "pattern": {
              "fillmode": "overlay",
              "size": 10,
              "solidity": 0.2
             }
            },
            "type": "histogram"
           }
          ],
          "histogram2d": [
           {
            "colorbar": {
             "outlinewidth": 0,
             "ticks": ""
            },
            "colorscale": [
             [
              0,
              "#0d0887"
             ],
             [
              0.1111111111111111,
              "#46039f"
             ],
             [
              0.2222222222222222,
              "#7201a8"
             ],
             [
              0.3333333333333333,
              "#9c179e"
             ],
             [
              0.4444444444444444,
              "#bd3786"
             ],
             [
              0.5555555555555556,
              "#d8576b"
             ],
             [
              0.6666666666666666,
              "#ed7953"
             ],
             [
              0.7777777777777778,
              "#fb9f3a"
             ],
             [
              0.8888888888888888,
              "#fdca26"
             ],
             [
              1,
              "#f0f921"
             ]
            ],
            "type": "histogram2d"
           }
          ],
          "histogram2dcontour": [
           {
            "colorbar": {
             "outlinewidth": 0,
             "ticks": ""
            },
            "colorscale": [
             [
              0,
              "#0d0887"
             ],
             [
              0.1111111111111111,
              "#46039f"
             ],
             [
              0.2222222222222222,
              "#7201a8"
             ],
             [
              0.3333333333333333,
              "#9c179e"
             ],
             [
              0.4444444444444444,
              "#bd3786"
             ],
             [
              0.5555555555555556,
              "#d8576b"
             ],
             [
              0.6666666666666666,
              "#ed7953"
             ],
             [
              0.7777777777777778,
              "#fb9f3a"
             ],
             [
              0.8888888888888888,
              "#fdca26"
             ],
             [
              1,
              "#f0f921"
             ]
            ],
            "type": "histogram2dcontour"
           }
          ],
          "mesh3d": [
           {
            "colorbar": {
             "outlinewidth": 0,
             "ticks": ""
            },
            "type": "mesh3d"
           }
          ],
          "parcoords": [
           {
            "line": {
             "colorbar": {
              "outlinewidth": 0,
              "ticks": ""
             }
            },
            "type": "parcoords"
           }
          ],
          "pie": [
           {
            "automargin": true,
            "type": "pie"
           }
          ],
          "scatter": [
           {
            "fillpattern": {
             "fillmode": "overlay",
             "size": 10,
             "solidity": 0.2
            },
            "type": "scatter"
           }
          ],
          "scatter3d": [
           {
            "line": {
             "colorbar": {
              "outlinewidth": 0,
              "ticks": ""
             }
            },
            "marker": {
             "colorbar": {
              "outlinewidth": 0,
              "ticks": ""
             }
            },
            "type": "scatter3d"
           }
          ],
          "scattercarpet": [
           {
            "marker": {
             "colorbar": {
              "outlinewidth": 0,
              "ticks": ""
             }
            },
            "type": "scattercarpet"
           }
          ],
          "scattergeo": [
           {
            "marker": {
             "colorbar": {
              "outlinewidth": 0,
              "ticks": ""
             }
            },
            "type": "scattergeo"
           }
          ],
          "scattergl": [
           {
            "marker": {
             "colorbar": {
              "outlinewidth": 0,
              "ticks": ""
             }
            },
            "type": "scattergl"
           }
          ],
          "scattermapbox": [
           {
            "marker": {
             "colorbar": {
              "outlinewidth": 0,
              "ticks": ""
             }
            },
            "type": "scattermapbox"
           }
          ],
          "scatterpolar": [
           {
            "marker": {
             "colorbar": {
              "outlinewidth": 0,
              "ticks": ""
             }
            },
            "type": "scatterpolar"
           }
          ],
          "scatterpolargl": [
           {
            "marker": {
             "colorbar": {
              "outlinewidth": 0,
              "ticks": ""
             }
            },
            "type": "scatterpolargl"
           }
          ],
          "scatterternary": [
           {
            "marker": {
             "colorbar": {
              "outlinewidth": 0,
              "ticks": ""
             }
            },
            "type": "scatterternary"
           }
          ],
          "surface": [
           {
            "colorbar": {
             "outlinewidth": 0,
             "ticks": ""
            },
            "colorscale": [
             [
              0,
              "#0d0887"
             ],
             [
              0.1111111111111111,
              "#46039f"
             ],
             [
              0.2222222222222222,
              "#7201a8"
             ],
             [
              0.3333333333333333,
              "#9c179e"
             ],
             [
              0.4444444444444444,
              "#bd3786"
             ],
             [
              0.5555555555555556,
              "#d8576b"
             ],
             [
              0.6666666666666666,
              "#ed7953"
             ],
             [
              0.7777777777777778,
              "#fb9f3a"
             ],
             [
              0.8888888888888888,
              "#fdca26"
             ],
             [
              1,
              "#f0f921"
             ]
            ],
            "type": "surface"
           }
          ],
          "table": [
           {
            "cells": {
             "fill": {
              "color": "#EBF0F8"
             },
             "line": {
              "color": "white"
             }
            },
            "header": {
             "fill": {
              "color": "#C8D4E3"
             },
             "line": {
              "color": "white"
             }
            },
            "type": "table"
           }
          ]
         },
         "layout": {
          "annotationdefaults": {
           "arrowcolor": "#2a3f5f",
           "arrowhead": 0,
           "arrowwidth": 1
          },
          "autotypenumbers": "strict",
          "coloraxis": {
           "colorbar": {
            "outlinewidth": 0,
            "ticks": ""
           }
          },
          "colorscale": {
           "diverging": [
            [
             0,
             "#8e0152"
            ],
            [
             0.1,
             "#c51b7d"
            ],
            [
             0.2,
             "#de77ae"
            ],
            [
             0.3,
             "#f1b6da"
            ],
            [
             0.4,
             "#fde0ef"
            ],
            [
             0.5,
             "#f7f7f7"
            ],
            [
             0.6,
             "#e6f5d0"
            ],
            [
             0.7,
             "#b8e186"
            ],
            [
             0.8,
             "#7fbc41"
            ],
            [
             0.9,
             "#4d9221"
            ],
            [
             1,
             "#276419"
            ]
           ],
           "sequential": [
            [
             0,
             "#0d0887"
            ],
            [
             0.1111111111111111,
             "#46039f"
            ],
            [
             0.2222222222222222,
             "#7201a8"
            ],
            [
             0.3333333333333333,
             "#9c179e"
            ],
            [
             0.4444444444444444,
             "#bd3786"
            ],
            [
             0.5555555555555556,
             "#d8576b"
            ],
            [
             0.6666666666666666,
             "#ed7953"
            ],
            [
             0.7777777777777778,
             "#fb9f3a"
            ],
            [
             0.8888888888888888,
             "#fdca26"
            ],
            [
             1,
             "#f0f921"
            ]
           ],
           "sequentialminus": [
            [
             0,
             "#0d0887"
            ],
            [
             0.1111111111111111,
             "#46039f"
            ],
            [
             0.2222222222222222,
             "#7201a8"
            ],
            [
             0.3333333333333333,
             "#9c179e"
            ],
            [
             0.4444444444444444,
             "#bd3786"
            ],
            [
             0.5555555555555556,
             "#d8576b"
            ],
            [
             0.6666666666666666,
             "#ed7953"
            ],
            [
             0.7777777777777778,
             "#fb9f3a"
            ],
            [
             0.8888888888888888,
             "#fdca26"
            ],
            [
             1,
             "#f0f921"
            ]
           ]
          },
          "colorway": [
           "#636efa",
           "#EF553B",
           "#00cc96",
           "#ab63fa",
           "#FFA15A",
           "#19d3f3",
           "#FF6692",
           "#B6E880",
           "#FF97FF",
           "#FECB52"
          ],
          "font": {
           "color": "#2a3f5f"
          },
          "geo": {
           "bgcolor": "white",
           "lakecolor": "white",
           "landcolor": "#E5ECF6",
           "showlakes": true,
           "showland": true,
           "subunitcolor": "white"
          },
          "hoverlabel": {
           "align": "left"
          },
          "hovermode": "closest",
          "mapbox": {
           "style": "light"
          },
          "paper_bgcolor": "white",
          "plot_bgcolor": "#E5ECF6",
          "polar": {
           "angularaxis": {
            "gridcolor": "white",
            "linecolor": "white",
            "ticks": ""
           },
           "bgcolor": "#E5ECF6",
           "radialaxis": {
            "gridcolor": "white",
            "linecolor": "white",
            "ticks": ""
           }
          },
          "scene": {
           "xaxis": {
            "backgroundcolor": "#E5ECF6",
            "gridcolor": "white",
            "gridwidth": 2,
            "linecolor": "white",
            "showbackground": true,
            "ticks": "",
            "zerolinecolor": "white"
           },
           "yaxis": {
            "backgroundcolor": "#E5ECF6",
            "gridcolor": "white",
            "gridwidth": 2,
            "linecolor": "white",
            "showbackground": true,
            "ticks": "",
            "zerolinecolor": "white"
           },
           "zaxis": {
            "backgroundcolor": "#E5ECF6",
            "gridcolor": "white",
            "gridwidth": 2,
            "linecolor": "white",
            "showbackground": true,
            "ticks": "",
            "zerolinecolor": "white"
           }
          },
          "shapedefaults": {
           "line": {
            "color": "#2a3f5f"
           }
          },
          "ternary": {
           "aaxis": {
            "gridcolor": "white",
            "linecolor": "white",
            "ticks": ""
           },
           "baxis": {
            "gridcolor": "white",
            "linecolor": "white",
            "ticks": ""
           },
           "bgcolor": "#E5ECF6",
           "caxis": {
            "gridcolor": "white",
            "linecolor": "white",
            "ticks": ""
           }
          },
          "title": {
           "x": 0.05
          },
          "xaxis": {
           "automargin": true,
           "gridcolor": "white",
           "linecolor": "white",
           "ticks": "",
           "title": {
            "standoff": 15
           },
           "zerolinecolor": "white",
           "zerolinewidth": 2
          },
          "yaxis": {
           "automargin": true,
           "gridcolor": "white",
           "linecolor": "white",
           "ticks": "",
           "title": {
            "standoff": 15
           },
           "zerolinecolor": "white",
           "zerolinewidth": 2
          }
         }
        },
        "xaxis": {
         "anchor": "y",
         "domain": [
          0,
          1
         ],
         "title": {
          "text": "Sentence Cosine Similarity Wiki Summarized Mean Threshold 0"
         }
        },
        "yaxis": {
         "anchor": "x",
         "domain": [
          0,
          1
         ],
         "title": {
          "text": "Zero Shot Fulltext"
         }
        }
       }
      }
     },
     "metadata": {},
     "output_type": "display_data"
    },
    {
     "name": "stdout",
     "output_type": "stream",
     "text": [
      "            Label                                     px_fit_results\n",
      "0   social issues  <statsmodels.regression.linear_model.Regressio...\n",
      "1    human rights  <statsmodels.regression.linear_model.Regressio...\n",
      "2      labour law  <statsmodels.regression.linear_model.Regressio...\n",
      "3           fraud  <statsmodels.regression.linear_model.Regressio...\n",
      "4  sustainability  <statsmodels.regression.linear_model.Regressio...\n"
     ]
    }
   ],
   "source": [
    "fig = px.scatter(croped_results, x=\"Sentence Cosine Similarity Wiki Summarized Mean Threshold 0\", y=\"Zero Shot Fulltext\", trendline=\"ols\", color = \"Label\")\n",
    "fig.show()\n",
    "results = px.get_trendline_results(fig)\n",
    "print(results)"
   ]
  },
  {
   "cell_type": "code",
   "execution_count": 14,
   "metadata": {},
   "outputs": [
    {
     "data": {
      "text/plain": [
       "F_onewayResult(statistic=array([173.5738793]), pvalue=array([4.46097502e-37]))"
      ]
     },
     "execution_count": 14,
     "metadata": {},
     "output_type": "execute_result"
    }
   ],
   "source": [
    "results.px_fit_results.iloc[0].summary()\n",
    "result_prep_melt_threshold = result[[\"Sentence Cosine Similarity Wiki Summarized Mean Threshold 0\"] ]\n",
    "result_prep_melt_no_threshold = result[[\"Sentence Cosine Similarity Wiki Summarized Mean\"] ]\n",
    "result_prep_melt_no_threshold[0:1]\n",
    "f_oneway(result_prep_melt_threshold, result_prep_melt_no_threshold)\n"
   ]
  }
 ],
 "metadata": {
  "kernelspec": {
   "display_name": "Python 3.10.1 64-bit",
   "language": "python",
   "name": "python3"
  },
  "language_info": {
   "codemirror_mode": {
    "name": "ipython",
    "version": 3
   },
   "file_extension": ".py",
   "mimetype": "text/x-python",
   "name": "python",
   "nbconvert_exporter": "python",
   "pygments_lexer": "ipython3",
   "version": "3.10.1"
  },
  "orig_nbformat": 4,
  "vscode": {
   "interpreter": {
    "hash": "5cf922369b83184eb6b2ab0a3b64d08061786420dbf1332a02b89d0aac9562ca"
   }
  }
 },
 "nbformat": 4,
 "nbformat_minor": 2
}
